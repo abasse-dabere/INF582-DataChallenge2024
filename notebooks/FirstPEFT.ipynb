{
  "cells": [
    {
      "cell_type": "markdown",
      "metadata": {
        "id": "wQnV9jW3JXWc"
      },
      "source": [
        "# `Fine-Tuning mBART MLSUM`\n"
      ]
    },
    {
      "cell_type": "code",
      "execution_count": 1,
      "metadata": {
        "id": "6K9dUb9-JXWh"
      },
      "outputs": [],
      "source": [
        "MODEL_NAME = 'lincoln/mbart-mlsum-automatic-summarization'"
      ]
    },
    {
      "cell_type": "code",
      "execution_count": 2,
      "metadata": {
        "colab": {
          "base_uri": "https://localhost:8080/"
        },
        "id": "Frjtv_HOJsNg",
        "outputId": "313b2204-feb2-4fa5-edb2-6452d5327040"
      },
      "outputs": [],
      "source": [
        "# %pip install peft\n",
        "\n",
        "# %pip install -q -U bitsandbytes\n",
        "# %pip install -q -U git+https://github.com/huggingface/transformers.git\n",
        "# %pip install -q -U git+https://github.com/huggingface/peft.git\n",
        "# %pip install -q -U git+https://github.com/huggingface/accelerate.git\n",
        "# %pip install -q datasets\n",
        "\n",
        "# %pip install rouge_score"
      ]
    },
    {
      "cell_type": "code",
      "execution_count": 3,
      "metadata": {
        "id": "OuOlwtYaJXWi"
      },
      "outputs": [],
      "source": [
        "import pandas as pd\n",
        "import datasets\n",
        "import torch\n",
        "\n",
        "from tqdm import tqdm\n",
        "\n",
        "from transformers import AutoTokenizer, AutoModelForSeq2SeqLM, SummarizationPipeline"
      ]
    },
    {
      "cell_type": "markdown",
      "metadata": {
        "id": "C0vj32xRJXWj"
      },
      "source": [
        "## `1` Data preparation\n"
      ]
    },
    {
      "cell_type": "code",
      "execution_count": 4,
      "metadata": {
        "colab": {
          "base_uri": "https://localhost:8080/",
          "height": 306
        },
        "id": "CFaaiiOMJXWj",
        "outputId": "b1077a4d-b365-4fdf-ed36-3b30180407a4"
      },
      "outputs": [
        {
          "name": "stdout",
          "output_type": "stream",
          "text": [
            "Loaded 2000 samples\n"
          ]
        },
        {
          "data": {
            "text/html": [
              "<div>\n",
              "<style scoped>\n",
              "    .dataframe tbody tr th:only-of-type {\n",
              "        vertical-align: middle;\n",
              "    }\n",
              "\n",
              "    .dataframe tbody tr th {\n",
              "        vertical-align: top;\n",
              "    }\n",
              "\n",
              "    .dataframe thead th {\n",
              "        text-align: right;\n",
              "    }\n",
              "</style>\n",
              "<table border=\"1\" class=\"dataframe\">\n",
              "  <thead>\n",
              "    <tr style=\"text-align: right;\">\n",
              "      <th></th>\n",
              "      <th>text</th>\n",
              "      <th>titles</th>\n",
              "    </tr>\n",
              "  </thead>\n",
              "  <tbody>\n",
              "    <tr>\n",
              "      <th>0</th>\n",
              "      <td>Les \"gilets jaunes\" et leurs colères font leur...</td>\n",
              "      <td>Quelques tensions ont éclaté place Wagram à Pa...</td>\n",
              "    </tr>\n",
              "    <tr>\n",
              "      <th>1</th>\n",
              "      <td>Parmi ces blessés, trois ont été hospitalisés,...</td>\n",
              "      <td>Une dizaine de personnes ont été blessées vend...</td>\n",
              "    </tr>\n",
              "    <tr>\n",
              "      <th>2</th>\n",
              "      <td>L'ancienne patronne d'EELV a, elle, raillé son...</td>\n",
              "      <td>Benoît Hamon et Cécile Duflot, tous les deux c...</td>\n",
              "    </tr>\n",
              "    <tr>\n",
              "      <th>3</th>\n",
              "      <td>« C'était comme un coup de canon », se souvien...</td>\n",
              "      <td>Selon les informations du Parisien, plusieurs ...</td>\n",
              "    </tr>\n",
              "    <tr>\n",
              "      <th>4</th>\n",
              "      <td>À 85 ans, Bernadette Chirac est obligée de se ...</td>\n",
              "      <td>L'ancienne Première dame et épouse de Jacques ...</td>\n",
              "    </tr>\n",
              "  </tbody>\n",
              "</table>\n",
              "</div>"
            ],
            "text/plain": [
              "                                                text  \\\n",
              "0  Les \"gilets jaunes\" et leurs colères font leur...   \n",
              "1  Parmi ces blessés, trois ont été hospitalisés,...   \n",
              "2  L'ancienne patronne d'EELV a, elle, raillé son...   \n",
              "3  « C'était comme un coup de canon », se souvien...   \n",
              "4  À 85 ans, Bernadette Chirac est obligée de se ...   \n",
              "\n",
              "                                              titles  \n",
              "0  Quelques tensions ont éclaté place Wagram à Pa...  \n",
              "1  Une dizaine de personnes ont été blessées vend...  \n",
              "2  Benoît Hamon et Cécile Duflot, tous les deux c...  \n",
              "3  Selon les informations du Parisien, plusieurs ...  \n",
              "4  L'ancienne Première dame et épouse de Jacques ...  "
            ]
          },
          "execution_count": 4,
          "metadata": {},
          "output_type": "execute_result"
        }
      ],
      "source": [
        "path = '../recup/'\n",
        "df = pd.read_csv(path + '2000_train_samples.csv')\n",
        "print(f'Loaded {len(df)} samples')\n",
        "df.head()"
      ]
    },
    {
      "cell_type": "markdown",
      "metadata": {},
      "source": [
        "- Tokenize text and titles\n"
      ]
    },
    {
      "cell_type": "code",
      "execution_count": 5,
      "metadata": {
        "colab": {
          "base_uri": "https://localhost:8080/"
        },
        "id": "S2c8RCtLJXWk",
        "outputId": "d7b1ba97-257b-48b5-f5a4-aaa32181ac61"
      },
      "outputs": [],
      "source": [
        "tokenizer = AutoTokenizer.from_pretrained(MODEL_NAME)\n",
        "tokenizer.eos_token = tokenizer.pad_token"
      ]
    },
    {
      "cell_type": "code",
      "execution_count": 6,
      "metadata": {
        "colab": {
          "base_uri": "https://localhost:8080/"
        },
        "id": "A0J3rKTuJXWk",
        "outputId": "a4b4c968-fb0a-4f98-b348-8d4b29a08e94"
      },
      "outputs": [
        {
          "name": "stdout",
          "output_type": "stream",
          "text": [
            "Created 2000 samples for fine-tuning\n"
          ]
        }
      ],
      "source": [
        "prompt_template = \"### Summarize: {text} \\n### Summary:\"\n",
        "finetuning_dataset = {'prompt': [], 'target': []}\n",
        "for i in range(len(df)):\n",
        "    finetuning_dataset['prompt'].append(prompt_template.format(text=df.iloc[i]['text']))\n",
        "    finetuning_dataset['target'].append(df.iloc[i]['titles'])\n",
        "\n",
        "print(f'Created {len(finetuning_dataset[\"prompt\"])} samples for fine-tuning')"
      ]
    },
    {
      "cell_type": "code",
      "execution_count": 7,
      "metadata": {
        "colab": {
          "base_uri": "https://localhost:8080/",
          "height": 49,
          "referenced_widgets": [
            "5bd1ddc303a341708cbe228619d588e1",
            "6b57a85c5afe4827ba1a90dba70f62e7",
            "6d501bdacfe6400da7084bb74b5b677b",
            "0caa70d95ff24a469ac73df44935295c",
            "b06c46b0fccc42e7810e301f87f37852",
            "8fc95ef203bf40159949e7672171d950",
            "07914598af2b490f8d9507413e03bdcf",
            "427caa6c85094242bc503202e071534e",
            "3405350634c64ec7b4fe78a40fc33166",
            "e782bf4e86154e538750bca81989c711",
            "829b81a320cc4ebb8f5c43905686c059"
          ]
        },
        "id": "XyB800rOJXWl",
        "outputId": "b83a2fc2-6d42-4209-bec0-92906592e7b1"
      },
      "outputs": [],
      "source": [
        "# tokenize function\n",
        "def tokenize_function(examples):\n",
        "    tokenizer_inputs = tokenizer(\n",
        "        examples['prompt'],\n",
        "        padding='max_length',\n",
        "        truncation=True,\n",
        "        max_length=512,\n",
        "    )\n",
        "    tokenizer_inputs['labels'] = tokenizer(\n",
        "        examples['target'],\n",
        "        padding='max_length',\n",
        "        truncation=True,\n",
        "        max_length=128,\n",
        "    )['input_ids']\n",
        "    return tokenizer_inputs"
      ]
    },
    {
      "cell_type": "code",
      "execution_count": 8,
      "metadata": {},
      "outputs": [
        {
          "data": {
            "application/vnd.jupyter.widget-view+json": {
              "model_id": "1fe47695398e439ca1e4b0ff83fb565e",
              "version_major": 2,
              "version_minor": 0
            },
            "text/plain": [
              "Map:   0%|          | 0/2000 [00:00<?, ? examples/s]"
            ]
          },
          "metadata": {},
          "output_type": "display_data"
        }
      ],
      "source": [
        "# create dataset from the list finetuning_dataset\n",
        "tokenized_datasets = datasets.Dataset.from_dict(finetuning_dataset)\n",
        "tokenized_datasets = tokenized_datasets.map(\n",
        "    tokenize_function,\n",
        "    batched=True,\n",
        "    batch_size=4,\n",
        "    drop_last_batch=True,\n",
        ")\n",
        "\n",
        "# split the dataset\n",
        "split_dataset = tokenized_datasets.train_test_split(test_size=0.3, shuffle=True, seed=42)"
      ]
    },
    {
      "cell_type": "markdown",
      "metadata": {
        "id": "0sNL92ihJXWm"
      },
      "source": [
        "## `2` PEFT with LORA\n"
      ]
    },
    {
      "cell_type": "code",
      "execution_count": 9,
      "metadata": {
        "colab": {
          "base_uri": "https://localhost:8080/"
        },
        "id": "_ZBgpzq5KBsM",
        "outputId": "9cf5094f-946f-4685-c189-1d70a8f6453f"
      },
      "outputs": [
        {
          "name": "stdout",
          "output_type": "stream",
          "text": [
            "cpu\n"
          ]
        }
      ],
      "source": [
        "device = torch.device('cuda' if torch.cuda.is_available() else 'cpu')\n",
        "print(device)"
      ]
    },
    {
      "cell_type": "code",
      "execution_count": 10,
      "metadata": {
        "id": "PzKf8bkpJXWm"
      },
      "outputs": [],
      "source": [
        "# base model\n",
        "base_model = AutoModelForSeq2SeqLM.from_pretrained(MODEL_NAME).to(device)"
      ]
    },
    {
      "cell_type": "code",
      "execution_count": 11,
      "metadata": {
        "colab": {
          "base_uri": "https://localhost:8080/"
        },
        "id": "XB40Jh0UJXWn",
        "outputId": "eabedc4e-2cd5-4d8b-875b-59cae4792345"
      },
      "outputs": [
        {
          "name": "stdout",
          "output_type": "stream",
          "text": [
            "'NoneType' object has no attribute 'cadam32bit_grad_fp32'\n",
            "trainable params: 442,368 || all params: 611,321,856 || trainable%: 0.07236253630689755\n"
          ]
        },
        {
          "name": "stderr",
          "output_type": "stream",
          "text": [
            "/Users/dabereabasse/anaconda3/envs/Py311/lib/python3.11/site-packages/bitsandbytes/cextension.py:34: UserWarning: The installed version of bitsandbytes was compiled without GPU support. 8-bit optimizers, 8-bit multiplication, and GPU quantization are unavailable.\n",
            "  warn(\"The installed version of bitsandbytes was compiled without GPU support. \"\n"
          ]
        }
      ],
      "source": [
        "from peft import LoraConfig, TaskType, get_peft_model\n",
        "\n",
        "peft_config = LoraConfig(\n",
        "    task_type=TaskType.SEQ_2_SEQ_LM,\n",
        "    inference_mode=False,\n",
        "    target_modules= ['k_proj', 'v_proj', 'q_proj'],\n",
        "    r=2,\n",
        "    lora_alpha=32,\n",
        "    lora_dropout=0.1,\n",
        "    )\n",
        "\n",
        "model = get_peft_model(base_model, peft_config)\n",
        "model.print_trainable_parameters()"
      ]
    },
    {
      "cell_type": "code",
      "execution_count": 12,
      "metadata": {
        "colab": {
          "base_uri": "https://localhost:8080/"
        },
        "id": "Ez3toQRMJXWn",
        "outputId": "96ad5810-3046-488a-9a05-f2624ecac822"
      },
      "outputs": [
        {
          "name": "stderr",
          "output_type": "stream",
          "text": [
            "/Users/dabereabasse/anaconda3/envs/Py311/lib/python3.11/site-packages/accelerate/accelerator.py:432: FutureWarning: Passing the following arguments to `Accelerator` is deprecated and will be removed in version 1.0 of Accelerate: dict_keys(['dispatch_batches', 'split_batches', 'even_batches', 'use_seedable_sampler']). Please pass an `accelerate.DataLoaderConfiguration` instead: \n",
            "dataloader_config = DataLoaderConfiguration(dispatch_batches=None, split_batches=False, even_batches=True, use_seedable_sampler=True)\n",
            "  warnings.warn(\n"
          ]
        }
      ],
      "source": [
        "from transformers import TrainingArguments, Trainer\n",
        "\n",
        "training_args = TrainingArguments(\n",
        "    output_dir=\"lora/mbart-mlsum-automatic-summarization\",\n",
        "    learning_rate=1e-3,\n",
        "    per_device_train_batch_size=2,\n",
        "    per_device_eval_batch_size=2,\n",
        "    num_train_epochs=1,\n",
        "    weight_decay=0.01,\n",
        "    evaluation_strategy=\"epoch\",\n",
        "    save_strategy=\"epoch\",\n",
        "    load_best_model_at_end=True,\n",
        ")\n",
        "\n",
        "trainer = Trainer(\n",
        "    model=model,\n",
        "    args=training_args,\n",
        "    train_dataset=split_dataset[\"train\"],\n",
        "    eval_dataset=split_dataset[\"test\"],\n",
        "    tokenizer=tokenizer,\n",
        ")"
      ]
    },
    {
      "cell_type": "markdown",
      "metadata": {},
      "source": [
        "- fine-tune the model\n"
      ]
    },
    {
      "cell_type": "code",
      "execution_count": 13,
      "metadata": {
        "colab": {
          "base_uri": "https://localhost:8080/",
          "height": 174
        },
        "id": "2xURoD1UJXWn",
        "outputId": "0f5f8eec-6ade-46aa-97cf-92523abbf5b5"
      },
      "outputs": [],
      "source": [
        "# trainer.train()"
      ]
    },
    {
      "cell_type": "markdown",
      "metadata": {},
      "source": [
        "- save the model\n"
      ]
    },
    {
      "cell_type": "code",
      "execution_count": 14,
      "metadata": {
        "id": "UCUPfyogJXWn"
      },
      "outputs": [],
      "source": [
        "# save the model\n",
        "# trainer.save_model('lora/mbart-mlsum-2000')\n",
        "# import shutil\n",
        "# shutil.make_archive('lora/mbart-mlsum-2000', 'zip', 'lora/mbart-mlsum-2000')"
      ]
    },
    {
      "cell_type": "markdown",
      "metadata": {},
      "source": [
        "## `3` Test the train_model\n"
      ]
    },
    {
      "cell_type": "markdown",
      "metadata": {},
      "source": [
        "- load the model\n"
      ]
    },
    {
      "cell_type": "code",
      "execution_count": 15,
      "metadata": {},
      "outputs": [],
      "source": [
        "# load the model\n",
        "model = AutoModelForSeq2SeqLM.from_pretrained(path + 'mbart-mlsum-2000').to(device)\n",
        "tokenizer = AutoTokenizer.from_pretrained(MODEL_NAME)\n",
        "\n",
        "# create the pipeline\n",
        "summarizer = SummarizationPipeline(model=model, tokenizer=tokenizer)"
      ]
    },
    {
      "cell_type": "markdown",
      "metadata": {},
      "source": [
        "- generate titles\n"
      ]
    },
    {
      "cell_type": "code",
      "execution_count": 16,
      "metadata": {},
      "outputs": [
        {
          "name": "stderr",
          "output_type": "stream",
          "text": [
            "100%|██████████| 13/13 [13:33<00:00, 62.55s/it]\n"
          ]
        }
      ],
      "source": [
        "# generate titles for the N first texts in the validation set\n",
        "generated_titles = []\n",
        "batch_size = 8\n",
        "N = 100\n",
        "\n",
        "for i in tqdm(range(0, min(N, len(split_dataset['test']['prompt'])), batch_size)):\n",
        "    # max length of the input text is 512 based on FirstAnalysis.ipynb\n",
        "    batch = [text[:512] for text in split_dataset['test']['prompt'][i:i+batch_size]]\n",
        "    titles = summarizer(batch, max_length=39, min_length=24, num_beams=4, length_penalty=2.0, early_stopping=True, no_repeat_ngram_size=3, top_k=50)\n",
        "    generated_titles.extend([title['summary_text'] for title in titles])"
      ]
    },
    {
      "cell_type": "markdown",
      "metadata": {},
      "source": [
        "- rouge score on test data\n"
      ]
    },
    {
      "cell_type": "code",
      "execution_count": 17,
      "metadata": {},
      "outputs": [],
      "source": [
        "from rouge_score import rouge_scorer\n",
        "scorer = rouge_scorer.RougeScorer(['rougeL'])"
      ]
    },
    {
      "cell_type": "code",
      "execution_count": 18,
      "metadata": {},
      "outputs": [
        {
          "name": "stdout",
          "output_type": "stream",
          "text": [
            "Average Rouge-L F-Score with mBART-MLSUM-2000: 0.20661475710424512\n"
          ]
        }
      ],
      "source": [
        "# calculate ROUGE scores between the generated titles and the true titles\n",
        "mbart_mlsum_2000_rouge = []\n",
        "for i in range(N):\n",
        "    rouge_score = scorer.score(generated_titles[i], split_dataset['test']['target'][i])['rougeL'][2]\n",
        "    mbart_mlsum_2000_rouge.append(rouge_score)\n",
        "\n",
        "avg_rouge_score_mbart_mlsum_2000 = sum(mbart_mlsum_2000_rouge) / len(mbart_mlsum_2000_rouge)\n",
        "print(\"Average Rouge-L F-Score with mBART-MLSUM-2000:\", avg_rouge_score_mbart_mlsum_2000)"
      ]
    },
    {
      "cell_type": "markdown",
      "metadata": {},
      "source": [
        "<span style=\"color: red;\"> Next ? Train for many data and many epochs </span>\n"
      ]
    },
    {
      "cell_type": "markdown",
      "metadata": {},
      "source": []
    }
  ],
  "metadata": {
    "accelerator": "GPU",
    "colab": {
      "gpuType": "T4",
      "provenance": []
    },
    "kernelspec": {
      "display_name": "Python 3",
      "name": "python3"
    },
    "language_info": {
      "codemirror_mode": {
        "name": "ipython",
        "version": 3
      },
      "file_extension": ".py",
      "mimetype": "text/x-python",
      "name": "python",
      "nbconvert_exporter": "python",
      "pygments_lexer": "ipython3",
      "version": "3.11.7"
    },
    "widgets": {
      "application/vnd.jupyter.widget-state+json": {
        "07914598af2b490f8d9507413e03bdcf": {
          "model_module": "@jupyter-widgets/controls",
          "model_module_version": "1.5.0",
          "model_name": "DescriptionStyleModel",
          "state": {
            "_model_module": "@jupyter-widgets/controls",
            "_model_module_version": "1.5.0",
            "_model_name": "DescriptionStyleModel",
            "_view_count": null,
            "_view_module": "@jupyter-widgets/base",
            "_view_module_version": "1.2.0",
            "_view_name": "StyleView",
            "description_width": ""
          }
        },
        "0caa70d95ff24a469ac73df44935295c": {
          "model_module": "@jupyter-widgets/controls",
          "model_module_version": "1.5.0",
          "model_name": "HTMLModel",
          "state": {
            "_dom_classes": [],
            "_model_module": "@jupyter-widgets/controls",
            "_model_module_version": "1.5.0",
            "_model_name": "HTMLModel",
            "_view_count": null,
            "_view_module": "@jupyter-widgets/controls",
            "_view_module_version": "1.5.0",
            "_view_name": "HTMLView",
            "description": "",
            "description_tooltip": null,
            "layout": "IPY_MODEL_e782bf4e86154e538750bca81989c711",
            "placeholder": "​",
            "style": "IPY_MODEL_829b81a320cc4ebb8f5c43905686c059",
            "value": " 2000/2000 [00:07&lt;00:00, 446.83 examples/s]"
          }
        },
        "3405350634c64ec7b4fe78a40fc33166": {
          "model_module": "@jupyter-widgets/controls",
          "model_module_version": "1.5.0",
          "model_name": "ProgressStyleModel",
          "state": {
            "_model_module": "@jupyter-widgets/controls",
            "_model_module_version": "1.5.0",
            "_model_name": "ProgressStyleModel",
            "_view_count": null,
            "_view_module": "@jupyter-widgets/base",
            "_view_module_version": "1.2.0",
            "_view_name": "StyleView",
            "bar_color": null,
            "description_width": ""
          }
        },
        "427caa6c85094242bc503202e071534e": {
          "model_module": "@jupyter-widgets/base",
          "model_module_version": "1.2.0",
          "model_name": "LayoutModel",
          "state": {
            "_model_module": "@jupyter-widgets/base",
            "_model_module_version": "1.2.0",
            "_model_name": "LayoutModel",
            "_view_count": null,
            "_view_module": "@jupyter-widgets/base",
            "_view_module_version": "1.2.0",
            "_view_name": "LayoutView",
            "align_content": null,
            "align_items": null,
            "align_self": null,
            "border": null,
            "bottom": null,
            "display": null,
            "flex": null,
            "flex_flow": null,
            "grid_area": null,
            "grid_auto_columns": null,
            "grid_auto_flow": null,
            "grid_auto_rows": null,
            "grid_column": null,
            "grid_gap": null,
            "grid_row": null,
            "grid_template_areas": null,
            "grid_template_columns": null,
            "grid_template_rows": null,
            "height": null,
            "justify_content": null,
            "justify_items": null,
            "left": null,
            "margin": null,
            "max_height": null,
            "max_width": null,
            "min_height": null,
            "min_width": null,
            "object_fit": null,
            "object_position": null,
            "order": null,
            "overflow": null,
            "overflow_x": null,
            "overflow_y": null,
            "padding": null,
            "right": null,
            "top": null,
            "visibility": null,
            "width": null
          }
        },
        "5bd1ddc303a341708cbe228619d588e1": {
          "model_module": "@jupyter-widgets/controls",
          "model_module_version": "1.5.0",
          "model_name": "HBoxModel",
          "state": {
            "_dom_classes": [],
            "_model_module": "@jupyter-widgets/controls",
            "_model_module_version": "1.5.0",
            "_model_name": "HBoxModel",
            "_view_count": null,
            "_view_module": "@jupyter-widgets/controls",
            "_view_module_version": "1.5.0",
            "_view_name": "HBoxView",
            "box_style": "",
            "children": [
              "IPY_MODEL_6b57a85c5afe4827ba1a90dba70f62e7",
              "IPY_MODEL_6d501bdacfe6400da7084bb74b5b677b",
              "IPY_MODEL_0caa70d95ff24a469ac73df44935295c"
            ],
            "layout": "IPY_MODEL_b06c46b0fccc42e7810e301f87f37852"
          }
        },
        "6b57a85c5afe4827ba1a90dba70f62e7": {
          "model_module": "@jupyter-widgets/controls",
          "model_module_version": "1.5.0",
          "model_name": "HTMLModel",
          "state": {
            "_dom_classes": [],
            "_model_module": "@jupyter-widgets/controls",
            "_model_module_version": "1.5.0",
            "_model_name": "HTMLModel",
            "_view_count": null,
            "_view_module": "@jupyter-widgets/controls",
            "_view_module_version": "1.5.0",
            "_view_name": "HTMLView",
            "description": "",
            "description_tooltip": null,
            "layout": "IPY_MODEL_8fc95ef203bf40159949e7672171d950",
            "placeholder": "​",
            "style": "IPY_MODEL_07914598af2b490f8d9507413e03bdcf",
            "value": "Map: 100%"
          }
        },
        "6d501bdacfe6400da7084bb74b5b677b": {
          "model_module": "@jupyter-widgets/controls",
          "model_module_version": "1.5.0",
          "model_name": "FloatProgressModel",
          "state": {
            "_dom_classes": [],
            "_model_module": "@jupyter-widgets/controls",
            "_model_module_version": "1.5.0",
            "_model_name": "FloatProgressModel",
            "_view_count": null,
            "_view_module": "@jupyter-widgets/controls",
            "_view_module_version": "1.5.0",
            "_view_name": "ProgressView",
            "bar_style": "success",
            "description": "",
            "description_tooltip": null,
            "layout": "IPY_MODEL_427caa6c85094242bc503202e071534e",
            "max": 2000,
            "min": 0,
            "orientation": "horizontal",
            "style": "IPY_MODEL_3405350634c64ec7b4fe78a40fc33166",
            "value": 2000
          }
        },
        "829b81a320cc4ebb8f5c43905686c059": {
          "model_module": "@jupyter-widgets/controls",
          "model_module_version": "1.5.0",
          "model_name": "DescriptionStyleModel",
          "state": {
            "_model_module": "@jupyter-widgets/controls",
            "_model_module_version": "1.5.0",
            "_model_name": "DescriptionStyleModel",
            "_view_count": null,
            "_view_module": "@jupyter-widgets/base",
            "_view_module_version": "1.2.0",
            "_view_name": "StyleView",
            "description_width": ""
          }
        },
        "8fc95ef203bf40159949e7672171d950": {
          "model_module": "@jupyter-widgets/base",
          "model_module_version": "1.2.0",
          "model_name": "LayoutModel",
          "state": {
            "_model_module": "@jupyter-widgets/base",
            "_model_module_version": "1.2.0",
            "_model_name": "LayoutModel",
            "_view_count": null,
            "_view_module": "@jupyter-widgets/base",
            "_view_module_version": "1.2.0",
            "_view_name": "LayoutView",
            "align_content": null,
            "align_items": null,
            "align_self": null,
            "border": null,
            "bottom": null,
            "display": null,
            "flex": null,
            "flex_flow": null,
            "grid_area": null,
            "grid_auto_columns": null,
            "grid_auto_flow": null,
            "grid_auto_rows": null,
            "grid_column": null,
            "grid_gap": null,
            "grid_row": null,
            "grid_template_areas": null,
            "grid_template_columns": null,
            "grid_template_rows": null,
            "height": null,
            "justify_content": null,
            "justify_items": null,
            "left": null,
            "margin": null,
            "max_height": null,
            "max_width": null,
            "min_height": null,
            "min_width": null,
            "object_fit": null,
            "object_position": null,
            "order": null,
            "overflow": null,
            "overflow_x": null,
            "overflow_y": null,
            "padding": null,
            "right": null,
            "top": null,
            "visibility": null,
            "width": null
          }
        },
        "b06c46b0fccc42e7810e301f87f37852": {
          "model_module": "@jupyter-widgets/base",
          "model_module_version": "1.2.0",
          "model_name": "LayoutModel",
          "state": {
            "_model_module": "@jupyter-widgets/base",
            "_model_module_version": "1.2.0",
            "_model_name": "LayoutModel",
            "_view_count": null,
            "_view_module": "@jupyter-widgets/base",
            "_view_module_version": "1.2.0",
            "_view_name": "LayoutView",
            "align_content": null,
            "align_items": null,
            "align_self": null,
            "border": null,
            "bottom": null,
            "display": null,
            "flex": null,
            "flex_flow": null,
            "grid_area": null,
            "grid_auto_columns": null,
            "grid_auto_flow": null,
            "grid_auto_rows": null,
            "grid_column": null,
            "grid_gap": null,
            "grid_row": null,
            "grid_template_areas": null,
            "grid_template_columns": null,
            "grid_template_rows": null,
            "height": null,
            "justify_content": null,
            "justify_items": null,
            "left": null,
            "margin": null,
            "max_height": null,
            "max_width": null,
            "min_height": null,
            "min_width": null,
            "object_fit": null,
            "object_position": null,
            "order": null,
            "overflow": null,
            "overflow_x": null,
            "overflow_y": null,
            "padding": null,
            "right": null,
            "top": null,
            "visibility": null,
            "width": null
          }
        },
        "e782bf4e86154e538750bca81989c711": {
          "model_module": "@jupyter-widgets/base",
          "model_module_version": "1.2.0",
          "model_name": "LayoutModel",
          "state": {
            "_model_module": "@jupyter-widgets/base",
            "_model_module_version": "1.2.0",
            "_model_name": "LayoutModel",
            "_view_count": null,
            "_view_module": "@jupyter-widgets/base",
            "_view_module_version": "1.2.0",
            "_view_name": "LayoutView",
            "align_content": null,
            "align_items": null,
            "align_self": null,
            "border": null,
            "bottom": null,
            "display": null,
            "flex": null,
            "flex_flow": null,
            "grid_area": null,
            "grid_auto_columns": null,
            "grid_auto_flow": null,
            "grid_auto_rows": null,
            "grid_column": null,
            "grid_gap": null,
            "grid_row": null,
            "grid_template_areas": null,
            "grid_template_columns": null,
            "grid_template_rows": null,
            "height": null,
            "justify_content": null,
            "justify_items": null,
            "left": null,
            "margin": null,
            "max_height": null,
            "max_width": null,
            "min_height": null,
            "min_width": null,
            "object_fit": null,
            "object_position": null,
            "order": null,
            "overflow": null,
            "overflow_x": null,
            "overflow_y": null,
            "padding": null,
            "right": null,
            "top": null,
            "visibility": null,
            "width": null
          }
        }
      }
    }
  },
  "nbformat": 4,
  "nbformat_minor": 0
}
