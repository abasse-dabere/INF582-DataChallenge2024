{
  "nbformat": 4,
  "nbformat_minor": 0,
  "metadata": {
    "colab": {
      "provenance": []
    },
    "kernelspec": {
      "name": "python3",
      "display_name": "Python 3"
    },
    "language_info": {
      "name": "python"
    },
    "accelerator": "TPU"
  },
  "cells": [
    {
      "cell_type": "code",
      "execution_count": 1,
      "metadata": {
        "colab": {
          "base_uri": "https://localhost:8080/"
        },
        "id": "7RTGKZY9Yel7",
        "outputId": "7b0c9842-2435-45a5-847f-819591030f0e"
      },
      "outputs": [
        {
          "output_type": "stream",
          "name": "stdout",
          "text": [
            "Drive already mounted at /content/drive; to attempt to forcibly remount, call drive.mount(\"/content/drive\", force_remount=True).\n"
          ]
        }
      ],
      "source": [
        "from google.colab import drive\n",
        "drive.mount('/content/drive')"
      ]
    },
    {
      "cell_type": "code",
      "source": [
        "!pip install rouge-score"
      ],
      "metadata": {
        "colab": {
          "base_uri": "https://localhost:8080/"
        },
        "id": "layD5BO5Zvnz",
        "outputId": "03fe3516-4f6b-4731-c9c8-3e573f0e6ada"
      },
      "execution_count": 2,
      "outputs": [
        {
          "output_type": "stream",
          "name": "stdout",
          "text": [
            "Requirement already satisfied: rouge-score in /usr/local/lib/python3.10/dist-packages (0.1.2)\n",
            "Requirement already satisfied: absl-py in /usr/local/lib/python3.10/dist-packages (from rouge-score) (1.4.0)\n",
            "Requirement already satisfied: nltk in /usr/local/lib/python3.10/dist-packages (from rouge-score) (3.8.1)\n",
            "Requirement already satisfied: numpy in /usr/local/lib/python3.10/dist-packages (from rouge-score) (1.23.5)\n",
            "Requirement already satisfied: six>=1.14.0 in /usr/local/lib/python3.10/dist-packages (from rouge-score) (1.16.0)\n",
            "Requirement already satisfied: click in /usr/local/lib/python3.10/dist-packages (from nltk->rouge-score) (8.1.7)\n",
            "Requirement already satisfied: joblib in /usr/local/lib/python3.10/dist-packages (from nltk->rouge-score) (1.3.2)\n",
            "Requirement already satisfied: regex>=2021.8.3 in /usr/local/lib/python3.10/dist-packages (from nltk->rouge-score) (2023.12.25)\n",
            "Requirement already satisfied: tqdm in /usr/local/lib/python3.10/dist-packages (from nltk->rouge-score) (4.66.2)\n"
          ]
        }
      ]
    },
    {
      "cell_type": "code",
      "source": [
        "import pandas as pd\n",
        "from transformers import BartForConditionalGeneration, BartTokenizer, Trainer, TrainingArguments\n",
        "from rouge_score import rouge_scorer\n",
        "import torch"
      ],
      "metadata": {
        "id": "nekYwvMTY_rz"
      },
      "execution_count": 3,
      "outputs": []
    },
    {
      "cell_type": "code",
      "source": [
        "# Load data\n",
        "path = '/content/drive/My Drive/Colab Notebooks/11_DataAI_INF582_TextMining_NLP/Challenge/data/'\n",
        "train_df = pd.read_csv(path + 'train.csv')\n",
        "validation_df = pd.read_csv(path + 'validation.csv')\n",
        "test_df = pd.read_csv(path + 'test_text.csv')"
      ],
      "metadata": {
        "id": "TbMjm6bnYsGj"
      },
      "execution_count": 4,
      "outputs": []
    },
    {
      "cell_type": "code",
      "source": [
        "# Load BART tokenizer and model\n",
        "tokenizer = BartTokenizer.from_pretrained('facebook/bart-large')\n",
        "model = BartForConditionalGeneration.from_pretrained('facebook/bart-large')"
      ],
      "metadata": {
        "colab": {
          "base_uri": "https://localhost:8080/"
        },
        "id": "xUa6-DVkY116",
        "outputId": "d8d0332f-f491-41a7-f6b6-edbe1a18baed"
      },
      "execution_count": 5,
      "outputs": [
        {
          "output_type": "stream",
          "name": "stderr",
          "text": [
            "/usr/local/lib/python3.10/dist-packages/huggingface_hub/utils/_token.py:88: UserWarning: \n",
            "The secret `HF_TOKEN` does not exist in your Colab secrets.\n",
            "To authenticate with the Hugging Face Hub, create a token in your settings tab (https://huggingface.co/settings/tokens), set it as secret in your Google Colab and restart your session.\n",
            "You will be able to reuse this secret in all of your notebooks.\n",
            "Please note that authentication is recommended but still optional to access public models or datasets.\n",
            "  warnings.warn(\n"
          ]
        }
      ]
    },
    {
      "cell_type": "code",
      "source": [
        "train_df.tail(5)"
      ],
      "metadata": {
        "colab": {
          "base_uri": "https://localhost:8080/",
          "height": 206
        },
        "id": "f6zUv7VraJ2L",
        "outputId": "d391b34a-c178-4c0a-8417-6aa348802033"
      },
      "execution_count": 6,
      "outputs": [
        {
          "output_type": "execute_result",
          "data": {
            "text/plain": [
              "                                                    text  \\\n",
              "21396  Une \"main tendue\" que refuse de saisir l'eurod...   \n",
              "21397  Venue présenter son dernier spectacle, Elektri...   \n",
              "21398  Mauvaise nouvelle pour les amateurs de chasse ...   \n",
              "21399  \"Ce n'est pas une question de simple voile, c'...   \n",
              "21400  C'est le montant total encaissé par l'État l'a...   \n",
              "\n",
              "                                                  titles  \n",
              "21396  POLITIQUE. La présidente du Front national a s...  \n",
              "21397  Que serait un dimanche matin sans un passage e...  \n",
              "21398  La chasse à la glu sera interdite cette année,...  \n",
              "21399  Bruno Le Maire, candidat à la primaire de la d...  \n",
              "21400  En 2019, les sommes recouvrées par l'État au t...  "
            ],
            "text/html": [
              "\n",
              "  <div id=\"df-5e0f1aae-9a01-4081-b7be-f4728925771b\" class=\"colab-df-container\">\n",
              "    <div>\n",
              "<style scoped>\n",
              "    .dataframe tbody tr th:only-of-type {\n",
              "        vertical-align: middle;\n",
              "    }\n",
              "\n",
              "    .dataframe tbody tr th {\n",
              "        vertical-align: top;\n",
              "    }\n",
              "\n",
              "    .dataframe thead th {\n",
              "        text-align: right;\n",
              "    }\n",
              "</style>\n",
              "<table border=\"1\" class=\"dataframe\">\n",
              "  <thead>\n",
              "    <tr style=\"text-align: right;\">\n",
              "      <th></th>\n",
              "      <th>text</th>\n",
              "      <th>titles</th>\n",
              "    </tr>\n",
              "  </thead>\n",
              "  <tbody>\n",
              "    <tr>\n",
              "      <th>21396</th>\n",
              "      <td>Une \"main tendue\" que refuse de saisir l'eurod...</td>\n",
              "      <td>POLITIQUE. La présidente du Front national a s...</td>\n",
              "    </tr>\n",
              "    <tr>\n",
              "      <th>21397</th>\n",
              "      <td>Venue présenter son dernier spectacle, Elektri...</td>\n",
              "      <td>Que serait un dimanche matin sans un passage e...</td>\n",
              "    </tr>\n",
              "    <tr>\n",
              "      <th>21398</th>\n",
              "      <td>Mauvaise nouvelle pour les amateurs de chasse ...</td>\n",
              "      <td>La chasse à la glu sera interdite cette année,...</td>\n",
              "    </tr>\n",
              "    <tr>\n",
              "      <th>21399</th>\n",
              "      <td>\"Ce n'est pas une question de simple voile, c'...</td>\n",
              "      <td>Bruno Le Maire, candidat à la primaire de la d...</td>\n",
              "    </tr>\n",
              "    <tr>\n",
              "      <th>21400</th>\n",
              "      <td>C'est le montant total encaissé par l'État l'a...</td>\n",
              "      <td>En 2019, les sommes recouvrées par l'État au t...</td>\n",
              "    </tr>\n",
              "  </tbody>\n",
              "</table>\n",
              "</div>\n",
              "    <div class=\"colab-df-buttons\">\n",
              "\n",
              "  <div class=\"colab-df-container\">\n",
              "    <button class=\"colab-df-convert\" onclick=\"convertToInteractive('df-5e0f1aae-9a01-4081-b7be-f4728925771b')\"\n",
              "            title=\"Convert this dataframe to an interactive table.\"\n",
              "            style=\"display:none;\">\n",
              "\n",
              "  <svg xmlns=\"http://www.w3.org/2000/svg\" height=\"24px\" viewBox=\"0 -960 960 960\">\n",
              "    <path d=\"M120-120v-720h720v720H120Zm60-500h600v-160H180v160Zm220 220h160v-160H400v160Zm0 220h160v-160H400v160ZM180-400h160v-160H180v160Zm440 0h160v-160H620v160ZM180-180h160v-160H180v160Zm440 0h160v-160H620v160Z\"/>\n",
              "  </svg>\n",
              "    </button>\n",
              "\n",
              "  <style>\n",
              "    .colab-df-container {\n",
              "      display:flex;\n",
              "      gap: 12px;\n",
              "    }\n",
              "\n",
              "    .colab-df-convert {\n",
              "      background-color: #E8F0FE;\n",
              "      border: none;\n",
              "      border-radius: 50%;\n",
              "      cursor: pointer;\n",
              "      display: none;\n",
              "      fill: #1967D2;\n",
              "      height: 32px;\n",
              "      padding: 0 0 0 0;\n",
              "      width: 32px;\n",
              "    }\n",
              "\n",
              "    .colab-df-convert:hover {\n",
              "      background-color: #E2EBFA;\n",
              "      box-shadow: 0px 1px 2px rgba(60, 64, 67, 0.3), 0px 1px 3px 1px rgba(60, 64, 67, 0.15);\n",
              "      fill: #174EA6;\n",
              "    }\n",
              "\n",
              "    .colab-df-buttons div {\n",
              "      margin-bottom: 4px;\n",
              "    }\n",
              "\n",
              "    [theme=dark] .colab-df-convert {\n",
              "      background-color: #3B4455;\n",
              "      fill: #D2E3FC;\n",
              "    }\n",
              "\n",
              "    [theme=dark] .colab-df-convert:hover {\n",
              "      background-color: #434B5C;\n",
              "      box-shadow: 0px 1px 3px 1px rgba(0, 0, 0, 0.15);\n",
              "      filter: drop-shadow(0px 1px 2px rgba(0, 0, 0, 0.3));\n",
              "      fill: #FFFFFF;\n",
              "    }\n",
              "  </style>\n",
              "\n",
              "    <script>\n",
              "      const buttonEl =\n",
              "        document.querySelector('#df-5e0f1aae-9a01-4081-b7be-f4728925771b button.colab-df-convert');\n",
              "      buttonEl.style.display =\n",
              "        google.colab.kernel.accessAllowed ? 'block' : 'none';\n",
              "\n",
              "      async function convertToInteractive(key) {\n",
              "        const element = document.querySelector('#df-5e0f1aae-9a01-4081-b7be-f4728925771b');\n",
              "        const dataTable =\n",
              "          await google.colab.kernel.invokeFunction('convertToInteractive',\n",
              "                                                    [key], {});\n",
              "        if (!dataTable) return;\n",
              "\n",
              "        const docLinkHtml = 'Like what you see? Visit the ' +\n",
              "          '<a target=\"_blank\" href=https://colab.research.google.com/notebooks/data_table.ipynb>data table notebook</a>'\n",
              "          + ' to learn more about interactive tables.';\n",
              "        element.innerHTML = '';\n",
              "        dataTable['output_type'] = 'display_data';\n",
              "        await google.colab.output.renderOutput(dataTable, element);\n",
              "        const docLink = document.createElement('div');\n",
              "        docLink.innerHTML = docLinkHtml;\n",
              "        element.appendChild(docLink);\n",
              "      }\n",
              "    </script>\n",
              "  </div>\n",
              "\n",
              "\n",
              "<div id=\"df-127e68e2-67bb-4e80-a70e-a70564367a39\">\n",
              "  <button class=\"colab-df-quickchart\" onclick=\"quickchart('df-127e68e2-67bb-4e80-a70e-a70564367a39')\"\n",
              "            title=\"Suggest charts\"\n",
              "            style=\"display:none;\">\n",
              "\n",
              "<svg xmlns=\"http://www.w3.org/2000/svg\" height=\"24px\"viewBox=\"0 0 24 24\"\n",
              "     width=\"24px\">\n",
              "    <g>\n",
              "        <path d=\"M19 3H5c-1.1 0-2 .9-2 2v14c0 1.1.9 2 2 2h14c1.1 0 2-.9 2-2V5c0-1.1-.9-2-2-2zM9 17H7v-7h2v7zm4 0h-2V7h2v10zm4 0h-2v-4h2v4z\"/>\n",
              "    </g>\n",
              "</svg>\n",
              "  </button>\n",
              "\n",
              "<style>\n",
              "  .colab-df-quickchart {\n",
              "      --bg-color: #E8F0FE;\n",
              "      --fill-color: #1967D2;\n",
              "      --hover-bg-color: #E2EBFA;\n",
              "      --hover-fill-color: #174EA6;\n",
              "      --disabled-fill-color: #AAA;\n",
              "      --disabled-bg-color: #DDD;\n",
              "  }\n",
              "\n",
              "  [theme=dark] .colab-df-quickchart {\n",
              "      --bg-color: #3B4455;\n",
              "      --fill-color: #D2E3FC;\n",
              "      --hover-bg-color: #434B5C;\n",
              "      --hover-fill-color: #FFFFFF;\n",
              "      --disabled-bg-color: #3B4455;\n",
              "      --disabled-fill-color: #666;\n",
              "  }\n",
              "\n",
              "  .colab-df-quickchart {\n",
              "    background-color: var(--bg-color);\n",
              "    border: none;\n",
              "    border-radius: 50%;\n",
              "    cursor: pointer;\n",
              "    display: none;\n",
              "    fill: var(--fill-color);\n",
              "    height: 32px;\n",
              "    padding: 0;\n",
              "    width: 32px;\n",
              "  }\n",
              "\n",
              "  .colab-df-quickchart:hover {\n",
              "    background-color: var(--hover-bg-color);\n",
              "    box-shadow: 0 1px 2px rgba(60, 64, 67, 0.3), 0 1px 3px 1px rgba(60, 64, 67, 0.15);\n",
              "    fill: var(--button-hover-fill-color);\n",
              "  }\n",
              "\n",
              "  .colab-df-quickchart-complete:disabled,\n",
              "  .colab-df-quickchart-complete:disabled:hover {\n",
              "    background-color: var(--disabled-bg-color);\n",
              "    fill: var(--disabled-fill-color);\n",
              "    box-shadow: none;\n",
              "  }\n",
              "\n",
              "  .colab-df-spinner {\n",
              "    border: 2px solid var(--fill-color);\n",
              "    border-color: transparent;\n",
              "    border-bottom-color: var(--fill-color);\n",
              "    animation:\n",
              "      spin 1s steps(1) infinite;\n",
              "  }\n",
              "\n",
              "  @keyframes spin {\n",
              "    0% {\n",
              "      border-color: transparent;\n",
              "      border-bottom-color: var(--fill-color);\n",
              "      border-left-color: var(--fill-color);\n",
              "    }\n",
              "    20% {\n",
              "      border-color: transparent;\n",
              "      border-left-color: var(--fill-color);\n",
              "      border-top-color: var(--fill-color);\n",
              "    }\n",
              "    30% {\n",
              "      border-color: transparent;\n",
              "      border-left-color: var(--fill-color);\n",
              "      border-top-color: var(--fill-color);\n",
              "      border-right-color: var(--fill-color);\n",
              "    }\n",
              "    40% {\n",
              "      border-color: transparent;\n",
              "      border-right-color: var(--fill-color);\n",
              "      border-top-color: var(--fill-color);\n",
              "    }\n",
              "    60% {\n",
              "      border-color: transparent;\n",
              "      border-right-color: var(--fill-color);\n",
              "    }\n",
              "    80% {\n",
              "      border-color: transparent;\n",
              "      border-right-color: var(--fill-color);\n",
              "      border-bottom-color: var(--fill-color);\n",
              "    }\n",
              "    90% {\n",
              "      border-color: transparent;\n",
              "      border-bottom-color: var(--fill-color);\n",
              "    }\n",
              "  }\n",
              "</style>\n",
              "\n",
              "  <script>\n",
              "    async function quickchart(key) {\n",
              "      const quickchartButtonEl =\n",
              "        document.querySelector('#' + key + ' button');\n",
              "      quickchartButtonEl.disabled = true;  // To prevent multiple clicks.\n",
              "      quickchartButtonEl.classList.add('colab-df-spinner');\n",
              "      try {\n",
              "        const charts = await google.colab.kernel.invokeFunction(\n",
              "            'suggestCharts', [key], {});\n",
              "      } catch (error) {\n",
              "        console.error('Error during call to suggestCharts:', error);\n",
              "      }\n",
              "      quickchartButtonEl.classList.remove('colab-df-spinner');\n",
              "      quickchartButtonEl.classList.add('colab-df-quickchart-complete');\n",
              "    }\n",
              "    (() => {\n",
              "      let quickchartButtonEl =\n",
              "        document.querySelector('#df-127e68e2-67bb-4e80-a70e-a70564367a39 button');\n",
              "      quickchartButtonEl.style.display =\n",
              "        google.colab.kernel.accessAllowed ? 'block' : 'none';\n",
              "    })();\n",
              "  </script>\n",
              "</div>\n",
              "    </div>\n",
              "  </div>\n"
            ],
            "application/vnd.google.colaboratory.intrinsic+json": {
              "type": "dataframe",
              "summary": "{\n  \"name\": \"train_df\",\n  \"rows\": 5,\n  \"fields\": [\n    {\n      \"column\": \"text\",\n      \"properties\": {\n        \"dtype\": \"string\",\n        \"num_unique_values\": 5,\n        \"samples\": [\n          \"Venue pr\\u00e9senter son dernier spectacle, Elektrik, elle ne s'attendait probablement pas \\u00e0 recevoir des fleurs mais elle n'avait peut-\\u00eatre pas pr\\u00e9vu de s'en prendre plein la t\\u00eate non plus. Car, manque de bol, ni Yann Moix ni Christine Angot n'ont aim\\u00e9 son spectacle. Du tout. Les deux chroniqueurs ont d\\u00e9vers\\u00e9 des torrents de critiques sur la chor\\u00e9graphe, jugeant que son spectacle \\u00e9tait trop \\\"id\\u00e9ologique\\\" et que les mouvements de danse mettaient \\\"mal \\u00e0 l'aise\\\". Yann Moix a d'ailleurs compar\\u00e9 son spectacle \\u00e0 \\\"un McDonald pour la danse\\\".C'\\u00e9tait toutefois sans compter le franc-parler de Blanca Li. La jeune femme ne s'est pas laiss\\u00e9e d\\u00e9monter par les critiques et s'est autoris\\u00e9e \\u00e0 renvoyer les deux chroniqueurs dans leur but, mimant m\\u00eame un endormissement profond pendant le discours - long, est-il besoin de le pr\\u00e9ciser ? - de Christine Angot. \\\"Vous n'aimez pas, il n'y a pas de probl\\u00e8mes, moi je fais ce spectacle pour les gens qui aiment. L'important c'est que moi je l'aime, que le public l'aime. Il y a des gens qui pr\\u00e9f\\u00e8rent aller au McDonald\\\", a l\\u00e2ch\\u00e9 la chor\\u00e9graphe.\",\n          \"C'est le montant total encaiss\\u00e9 par l'\\u00c9tat l'an dernier, dans le cadre de la lutte contre la fraude fiscale. Les contr\\u00f4les fiscaux r\\u00e9alis\\u00e9s aupr\\u00e8s des particuliers et des entreprises ont permis de r\\u00e9cup\\u00e9rer 9 milliards d'euros. C'est 16,3% de plus qu'en 2018. Plus de la moiti\\u00e9 de ce montant (5,9 milliards) provient des fraudes \\u00e0 la TVA, \\u00e0 l'imp\\u00f4t sur les soci\\u00e9t\\u00e9s, aux droits d'enregistrement, \\u00e0 l'imp\\u00f4t sur la fortune (ISF) et \\u00e0 l'imp\\u00f4t sur la fortune immobili\\u00e8re (IFI). Les montants recouvr\\u00e9s au titre de l'imp\\u00f4t sur le revenu et des pr\\u00e9l\\u00e8vements sociaux s'\\u00e9l\\u00e8vent \\u00e0 2,3 milliards d'euros. 530 millions d'euros d'amendes p\\u00e9nales ont \\u00e9galement \\u00e9t\\u00e9 encaiss\\u00e9es dans le cadre du nouveau dispositif permettant \\u00e0 une entreprise de n\\u00e9gocier une amende sans proc\\u00e8s. Par exemple, Google a d\\u00fb verser 500 millions d'euros, en plus des 465 millions de droits recouvr\\u00e9s par le fisc. Enfin, le service de traitement des d\\u00e9clarations rectificatives, qui g\\u00e8re notamment la r\\u00e9gularisation des comptes \\u00e0 l'\\u00e9tranger, a encaiss\\u00e9 358 millions d'euros.Le ratio de recouvrement entre les sommes mises en recouvrement et l'argent effectivement encaiss\\u00e9 a atteint 67% l'an dernier, contre 51% en 2018.Le \\\"data mining\\\" porte ses fruits Ce proc\\u00e9d\\u00e9 d'exploration de donn\\u00e9es, qui consiste \\u00e0 croiser les informations entre divers fichiers et services afin de mieux cibler les contr\\u00f4les fiscaux, monte en puissance. L'an dernier, le fisc a r\\u00e9cup\\u00e9r\\u00e9 plus de deux fois plus d'argent qu'en 2018 gr\\u00e2ce \\u00e0 cet outil, soit au total 785 millions d'euros de droits et p\\u00e9nalit\\u00e9s.L'intelligence artificielle a permis d'orienter vers les contr\\u00f4leurs environ 100.000 dossiers, soit 16% de plus qu'en 2018. Pr\\u00e8s d'un quart des contr\\u00f4les (22%) visant les entreprises sont d\\u00e9sormais issus de ce ciblage. Le gouvernement vise 50% en 2022. Ce proc\\u00e9d\\u00e9 est aussi \\u00e0 l'origine de 11% des contr\\u00f4les relatifs aux particuliers et termin\\u00e9s en 2019. Fin du \\\"verrou de Bercy\\\"Le nombre de dossiers transmis \\u00e0 la justice a \\u00e9t\\u00e9 multipli\\u00e9 par deux en un an. Ainsi, 1.678 dossiers fiscaux ont conduit \\u00e0 une saisine de l'autorit\\u00e9 judiciaire, dont 965 via le dispositif de d\\u00e9nonciation obligatoire, c'est-\\u00e0-dire l'assouplissement du verrou de Bercy instaur\\u00e9 par la loi anti-fraude de 2018. L'administration fiscale a aussi d\\u00e9pos\\u00e9 672 plaintes apr\\u00e8s avis favorable de la Commission des infractions fiscales, et 41 plaintes ont \\u00e9t\\u00e9 d\\u00e9pos\\u00e9es pour pr\\u00e9somptions caract\\u00e9ris\\u00e9es de fraude fiscale, dont 18 en lien avec l'affaire des Panama Papers.La proc\\u00e9dure de \\\"plaider coupable\\\" rapporte plus de 3 millions d'euros Elargie aux fraudes fiscales dans la loi de 2018, la proc\\u00e9dure de plaider coupable, dite comparution sur reconnaissance pr\\u00e9alable de culpabilit\\u00e9 (CRPC), a \\u00e9t\\u00e9 mise en \\u0153uvre dans 13 affaires, donnant lieu \\u00e0 15 d\\u00e9cisions de condamnation, dont des amendes d'un montant total de 323.500 euros. Outre les amendes, 4,38 millions d'euros de droits fraud\\u00e9s ont \\u00e9t\\u00e9 r\\u00e9gl\\u00e9s par les contribuables concern\\u00e9s.Droit \\u00e0 l'erreur Instaur\\u00e9 par la loi Essoc de 2018 sur le droit \\u00e0 l'erreur, le guichet de r\\u00e9gularisation pour les entreprises n'a attir\\u00e9 que 17 entreprises depuis d\\u00e9but 2019. Moins de contr\\u00f4les, mais mieux cibl\\u00e9s L'administration a r\\u00e9alis\\u00e9 53.600 op\\u00e9rations de v\\u00e9rifications, tous types de contr\\u00f4les confondus, contre 54.000 en 2018. Le nombre de v\\u00e9rifications g\\u00e9n\\u00e9rales aupr\\u00e8s des entreprises a baiss\\u00e9 de 14% l'an dernier, tout comme le nombre de contr\\u00f4les sur place (30.776 contre 35.932) qui recule depuis plusieurs ann\\u00e9es. Mais le gouvernement met en avant la hausse des contr\\u00f4les sur place cibl\\u00e9s (+48%).\",\n          \"Mauvaise nouvelle pour les amateurs de chasse \\u00e0 la glu. Jeudi 27 ao\\u00fbt, l'\\u00c9lys\\u00e9e a annonc\\u00e9 la suspension de cette pratique qui consiste \\u00e0 enduire les branches de colle pour pi\\u00e9ger des oiseaux, notamment des merles et des grives. Emmanuel Macron a d\\u00e9cid\\u00e9 d'interdire cette technique de chasse pour cette ann\\u00e9e \\u00e0 l'issue d'une r\\u00e9union entre la ministre de la Transition \\u00e9cologique, Barbara Pompili, et le patron de la F\\u00e9d\\u00e9ration nationale des chasseurs (FNC), Willy Schraen. La France \\u00e9tait le dernier pays europ\\u00e9en \\u00e0 autoriser la chasse \\u00e0 la glu dans cinq d\\u00e9partements (Alpes-de-Haute-Provence, Alpes-Maritimes, Bouches-du-Rh\\u00f4ne, Var et Vaucluse). Si des quotas \\u00e9taient pourtant d\\u00e9finis, la pratique ulc\\u00e9rait les d\\u00e9fenseurs des animaux. \\\"Pratique cruelle et non s\\u00e9lective\\\"Apr\\u00e8s l'annonce de l'ex\\u00e9cutif, ces derniers ne cachaient donc pas leur satisfaction. \\\"La France se d\\u00e9cide enfin \\u00e0 respecter le droit europ\\u00e9en et interdire la chasse \\u00e0 la glu, pratique cruelle et non s\\u00e9lective\\\", s'est par exemple f\\u00e9licit\\u00e9e la Ligue de protection des oiseaux (LPO) sur Twitter. L'association 30 Millions d'amis a quant \\u00e0 elle d\\u00e9plor\\u00e9 que la chasse \\u00e0 la glu ne soit pas compl\\u00e8tement interdite. \\\"Le pr\\u00e9sident Emmanuel Macron interdit la chasse \\u00e0 la glu... pour un an ! Pourquoi ne pas aller au bout de la d\\u00e9marche et interdire d\\u00e9finitivement cette barbarie ?\\\" En juillet, la Commission europ\\u00e9enne avait adress\\u00e9 \\u00e0 la France un avis motiv\\u00e9 dans lequel elle lui demandait de \\\"r\\u00e9examiner ses m\\u00e9thodes de capture d'oiseaux\\\", rappelle Le Monde. L'instance a visiblement \\u00e9t\\u00e9 entendue.\"\n        ],\n        \"semantic_type\": \"\",\n        \"description\": \"\"\n      }\n    },\n    {\n      \"column\": \"titles\",\n      \"properties\": {\n        \"dtype\": \"string\",\n        \"num_unique_values\": 5,\n        \"samples\": [\n          \"Que serait un dimanche matin sans un passage en revue des critiques acerbes de Yann Moix et Christine Angot sur le plateau d'On n'est pas couch\\u00e9 ? Un dimanche matin plus serein, sans le moindre doute. Samedi 7 avril, la chor\\u00e9graphe Blanca Li \\u00e9tait parmi les invit\\u00e9es de l'\\u00e9mission de Laurent Ruquier.\",\n          \"En 2019, les sommes recouvr\\u00e9es par l'\\u00c9tat au titre de la lutte contre la fraude fiscale ont augment\\u00e9. Voici les principaux r\\u00e9sultats du bilan dress\\u00e9 cette semaine par le gouvernement.10 milliards d'euros\",\n          \"La chasse \\u00e0 la glu sera interdite cette ann\\u00e9e, a annonc\\u00e9 l'\\u00c9lys\\u00e9e. Cette technique est d\\u00e9nonc\\u00e9e depuis longtemps par les \\u00e9cologistes et d\\u00e9fenseurs des animaux.\"\n        ],\n        \"semantic_type\": \"\",\n        \"description\": \"\"\n      }\n    }\n  ]\n}"
            }
          },
          "metadata": {},
          "execution_count": 6
        }
      ]
    },
    {
      "cell_type": "code",
      "source": [
        "# Tokenize and format training data\n",
        "train_texts = train_df['text'].tolist()\n",
        "train_titles = train_df['titles'].tolist()\n",
        "\n",
        "train_encodings = tokenizer(train_texts, truncation=True, padding=True, return_tensors=\"pt\")\n",
        "train_labels = tokenizer(train_titles, truncation=True, padding=True, return_tensors=\"pt\")"
      ],
      "metadata": {
        "id": "flA0NCRmaCor"
      },
      "execution_count": 7,
      "outputs": []
    },
    {
      "cell_type": "code",
      "source": [
        "train_encodings"
      ],
      "metadata": {
        "colab": {
          "base_uri": "https://localhost:8080/"
        },
        "id": "S9a2WnEiaM8i",
        "outputId": "782bff41-7545-4cce-d17c-9e75c7d013cc"
      },
      "execution_count": 12,
      "outputs": [
        {
          "output_type": "execute_result",
          "data": {
            "text/plain": [
              "{'input_ids': tensor([[    0, 11329,   906,  ...,     1,     1,     1],\n",
              "        [    0,   347,   108,  ...,     1,     1,     1],\n",
              "        [    0, 10766, 10969,  ...,  5739,  8009,     2],\n",
              "        ...,\n",
              "        [    0,   448,  1180,  ...,     1,     1,     1],\n",
              "        [    0,   113,   347,  ...,     1,     1,     1],\n",
              "        [    0,   347,   108,  ...,  6534,   784,     2]]), 'attention_mask': tensor([[1, 1, 1,  ..., 0, 0, 0],\n",
              "        [1, 1, 1,  ..., 0, 0, 0],\n",
              "        [1, 1, 1,  ..., 1, 1, 1],\n",
              "        ...,\n",
              "        [1, 1, 1,  ..., 0, 0, 0],\n",
              "        [1, 1, 1,  ..., 0, 0, 0],\n",
              "        [1, 1, 1,  ..., 1, 1, 1]])}"
            ]
          },
          "metadata": {},
          "execution_count": 12
        }
      ]
    },
    {
      "cell_type": "code",
      "source": [
        "train_labels"
      ],
      "metadata": {
        "colab": {
          "base_uri": "https://localhost:8080/"
        },
        "id": "p4ECTf80aSbL",
        "outputId": "33e5ad75-5069-4f67-d8a3-3427b603f655"
      },
      "execution_count": 13,
      "outputs": [
        {
          "output_type": "execute_result",
          "data": {
            "text/plain": [
              "{'input_ids': tensor([[    0,   574,   108,  ...,     1,     1,     1],\n",
              "        [    0, 10350,   475,  ...,     1,     1,     1],\n",
              "        [    0, 16040,  2760,  ...,     1,     1,     1],\n",
              "        ...,\n",
              "        [    0, 10766,  1855,  ...,     1,     1,     1],\n",
              "        [    0,   387,  2962,  ...,     1,     1,     1],\n",
              "        [    0, 16040,   954,  ...,     1,     1,     1]]), 'attention_mask': tensor([[1, 1, 1,  ..., 0, 0, 0],\n",
              "        [1, 1, 1,  ..., 0, 0, 0],\n",
              "        [1, 1, 1,  ..., 0, 0, 0],\n",
              "        ...,\n",
              "        [1, 1, 1,  ..., 0, 0, 0],\n",
              "        [1, 1, 1,  ..., 0, 0, 0],\n",
              "        [1, 1, 1,  ..., 0, 0, 0]])}"
            ]
          },
          "metadata": {},
          "execution_count": 13
        }
      ]
    },
    {
      "cell_type": "code",
      "source": [
        "# Tokenize and format validation data\n",
        "validation_texts = validation_df['text'].tolist()\n",
        "validation_titles = validation_df['titles'].tolist()\n",
        "\n",
        "validation_encodings = tokenizer(validation_texts, truncation=True, padding=True, return_tensors=\"pt\")\n",
        "validation_labels = tokenizer(validation_titles, truncation=True, padding=True, return_tensors=\"pt\")"
      ],
      "metadata": {
        "id": "9LKZBGF2aTdg"
      },
      "execution_count": 8,
      "outputs": []
    },
    {
      "cell_type": "code",
      "source": [
        "validation_encodings"
      ],
      "metadata": {
        "colab": {
          "base_uri": "https://localhost:8080/"
        },
        "id": "qKsuJroXaWSX",
        "outputId": "b0e6c15b-6657-4621-9546-5bf0642b7e1f"
      },
      "execution_count": 16,
      "outputs": [
        {
          "output_type": "execute_result",
          "data": {
            "text/plain": [
              "{'input_ids': tensor([[    0, 27526,  7427,  ...,     1,     1,     1],\n",
              "        [    0, 10766,   748,  ...,     1,     1,     1],\n",
              "        [    0, 29774,   257,  ...,     1,     1,     1],\n",
              "        ...,\n",
              "        [    0,   113,   510,  ...,     1,     1,     1],\n",
              "        [    0, 41872,  8025,  ...,  1140,  7085,     2],\n",
              "        [    0,   347,   108,  ...,     1,     1,     1]]), 'attention_mask': tensor([[1, 1, 1,  ..., 0, 0, 0],\n",
              "        [1, 1, 1,  ..., 0, 0, 0],\n",
              "        [1, 1, 1,  ..., 0, 0, 0],\n",
              "        ...,\n",
              "        [1, 1, 1,  ..., 0, 0, 0],\n",
              "        [1, 1, 1,  ..., 1, 1, 1],\n",
              "        [1, 1, 1,  ..., 0, 0, 0]])}"
            ]
          },
          "metadata": {},
          "execution_count": 16
        }
      ]
    },
    {
      "cell_type": "code",
      "source": [
        "validation_labels"
      ],
      "metadata": {
        "colab": {
          "base_uri": "https://localhost:8080/"
        },
        "id": "zzi0rKExaXjo",
        "outputId": "51271e35-8e94-4bd5-f57f-cbec4b7851fb"
      },
      "execution_count": 17,
      "outputs": [
        {
          "output_type": "execute_result",
          "data": {
            "text/plain": [
              "{'input_ids': tensor([[    0, 10350,   741,  ...,     1,     1,     1],\n",
              "        [    0, 10350,  2242,  ...,     1,     1,     1],\n",
              "        [    0,  3849,  7471,  ...,     1,     1,     1],\n",
              "        ...,\n",
              "        [    0, 45344,   811,  ...,     1,     1,     1],\n",
              "        [    0, 13365,   979,  ...,     1,     1,     1],\n",
              "        [    0,   347,   108,  ...,     1,     1,     1]]), 'attention_mask': tensor([[1, 1, 1,  ..., 0, 0, 0],\n",
              "        [1, 1, 1,  ..., 0, 0, 0],\n",
              "        [1, 1, 1,  ..., 0, 0, 0],\n",
              "        ...,\n",
              "        [1, 1, 1,  ..., 0, 0, 0],\n",
              "        [1, 1, 1,  ..., 0, 0, 0],\n",
              "        [1, 1, 1,  ..., 0, 0, 0]])}"
            ]
          },
          "metadata": {},
          "execution_count": 17
        }
      ]
    },
    {
      "cell_type": "code",
      "source": [
        "# !pip install accelerate>=0.21.0"
      ],
      "metadata": {
        "id": "PQ5GZTqWbes0"
      },
      "execution_count": 28,
      "outputs": []
    },
    {
      "cell_type": "code",
      "source": [
        "# # Fine-tune model\n",
        "# training_args = TrainingArguments(\n",
        "#     output_dir='./output_dir',\n",
        "#     per_device_train_batch_size=4,\n",
        "#     per_device_eval_batch_size=4,\n",
        "#     num_train_epochs=3,\n",
        "#     logging_dir='./logs',\n",
        "# )\n",
        "\n",
        "# trainer = Trainer(\n",
        "#     model=model,\n",
        "#     args=training_args,\n",
        "#     train_dataset=train_encodings,\n",
        "#     eval_dataset=validation_encodings,\n",
        "# )\n",
        "\n",
        "# trainer.train()"
      ],
      "metadata": {
        "id": "476xLQdCdQWj"
      },
      "execution_count": null,
      "outputs": []
    },
    {
      "cell_type": "code",
      "source": [
        "print(train_encodings.keys())\n",
        "print(validation_encodings.keys())"
      ],
      "metadata": {
        "colab": {
          "base_uri": "https://localhost:8080/"
        },
        "id": "9IaqQ2G-iDZP",
        "outputId": "a5ea01a0-fd95-4c7e-c25a-23b678363019"
      },
      "execution_count": 13,
      "outputs": [
        {
          "output_type": "stream",
          "name": "stdout",
          "text": [
            "dict_keys(['input_ids', 'attention_mask'])\n",
            "dict_keys(['input_ids', 'attention_mask'])\n"
          ]
        }
      ]
    },
    {
      "cell_type": "code",
      "source": [
        "print(train_labels)\n",
        "print(validation_labels)"
      ],
      "metadata": {
        "colab": {
          "base_uri": "https://localhost:8080/"
        },
        "id": "wg2j2T5YiuXu",
        "outputId": "5a14f2bf-cc8c-48d9-a57b-4c4818f19eea"
      },
      "execution_count": 17,
      "outputs": [
        {
          "output_type": "stream",
          "name": "stdout",
          "text": [
            "{'input_ids': tensor([[    0,   574,   108,  ...,     1,     1,     1],\n",
            "        [    0, 10350,   475,  ...,     1,     1,     1],\n",
            "        [    0, 16040,  2760,  ...,     1,     1,     1],\n",
            "        ...,\n",
            "        [    0, 10766,  1855,  ...,     1,     1,     1],\n",
            "        [    0,   387,  2962,  ...,     1,     1,     1],\n",
            "        [    0, 16040,   954,  ...,     1,     1,     1]]), 'attention_mask': tensor([[1, 1, 1,  ..., 0, 0, 0],\n",
            "        [1, 1, 1,  ..., 0, 0, 0],\n",
            "        [1, 1, 1,  ..., 0, 0, 0],\n",
            "        ...,\n",
            "        [1, 1, 1,  ..., 0, 0, 0],\n",
            "        [1, 1, 1,  ..., 0, 0, 0],\n",
            "        [1, 1, 1,  ..., 0, 0, 0]])}\n",
            "{'input_ids': tensor([[    0, 10350,   741,  ...,     1,     1,     1],\n",
            "        [    0, 10350,  2242,  ...,     1,     1,     1],\n",
            "        [    0,  3849,  7471,  ...,     1,     1,     1],\n",
            "        ...,\n",
            "        [    0, 45344,   811,  ...,     1,     1,     1],\n",
            "        [    0, 13365,   979,  ...,     1,     1,     1],\n",
            "        [    0,   347,   108,  ...,     1,     1,     1]]), 'attention_mask': tensor([[1, 1, 1,  ..., 0, 0, 0],\n",
            "        [1, 1, 1,  ..., 0, 0, 0],\n",
            "        [1, 1, 1,  ..., 0, 0, 0],\n",
            "        ...,\n",
            "        [1, 1, 1,  ..., 0, 0, 0],\n",
            "        [1, 1, 1,  ..., 0, 0, 0],\n",
            "        [1, 1, 1,  ..., 0, 0, 0]])}\n"
          ]
        }
      ]
    },
    {
      "cell_type": "code",
      "source": [
        "!pip install datasets"
      ],
      "metadata": {
        "colab": {
          "base_uri": "https://localhost:8080/"
        },
        "id": "aooIEaHvj9mA",
        "outputId": "a7e0c470-7f23-44de-fc6d-57260ac6f2b7"
      },
      "execution_count": 21,
      "outputs": [
        {
          "output_type": "stream",
          "name": "stdout",
          "text": [
            "Collecting datasets\n",
            "  Downloading datasets-2.18.0-py3-none-any.whl (510 kB)\n",
            "\u001b[2K     \u001b[90m━━━━━━━━━━━━━━━━━━━━━━━━━━━━━━━━━━━━━━━━\u001b[0m \u001b[32m510.5/510.5 kB\u001b[0m \u001b[31m3.5 MB/s\u001b[0m eta \u001b[36m0:00:00\u001b[0m\n",
            "\u001b[?25hRequirement already satisfied: filelock in /usr/local/lib/python3.10/dist-packages (from datasets) (3.13.1)\n",
            "Requirement already satisfied: numpy>=1.17 in /usr/local/lib/python3.10/dist-packages (from datasets) (1.23.5)\n",
            "Requirement already satisfied: pyarrow>=12.0.0 in /usr/local/lib/python3.10/dist-packages (from datasets) (14.0.2)\n",
            "Requirement already satisfied: pyarrow-hotfix in /usr/local/lib/python3.10/dist-packages (from datasets) (0.6)\n",
            "Collecting dill<0.3.9,>=0.3.0 (from datasets)\n",
            "  Downloading dill-0.3.8-py3-none-any.whl (116 kB)\n",
            "\u001b[2K     \u001b[90m━━━━━━━━━━━━━━━━━━━━━━━━━━━━━━━━━━━━━━━━\u001b[0m \u001b[32m116.3/116.3 kB\u001b[0m \u001b[31m9.6 MB/s\u001b[0m eta \u001b[36m0:00:00\u001b[0m\n",
            "\u001b[?25hRequirement already satisfied: pandas in /usr/local/lib/python3.10/dist-packages (from datasets) (1.5.3)\n",
            "Requirement already satisfied: requests>=2.19.0 in /usr/local/lib/python3.10/dist-packages (from datasets) (2.31.0)\n",
            "Requirement already satisfied: tqdm>=4.62.1 in /usr/local/lib/python3.10/dist-packages (from datasets) (4.66.2)\n",
            "Collecting xxhash (from datasets)\n",
            "  Downloading xxhash-3.4.1-cp310-cp310-manylinux_2_17_x86_64.manylinux2014_x86_64.whl (194 kB)\n",
            "\u001b[2K     \u001b[90m━━━━━━━━━━━━━━━━━━━━━━━━━━━━━━━━━━━━━━━━\u001b[0m \u001b[32m194.1/194.1 kB\u001b[0m \u001b[31m11.0 MB/s\u001b[0m eta \u001b[36m0:00:00\u001b[0m\n",
            "\u001b[?25hCollecting multiprocess (from datasets)\n",
            "  Downloading multiprocess-0.70.16-py310-none-any.whl (134 kB)\n",
            "\u001b[2K     \u001b[90m━━━━━━━━━━━━━━━━━━━━━━━━━━━━━━━━━━━━━━━━\u001b[0m \u001b[32m134.8/134.8 kB\u001b[0m \u001b[31m10.1 MB/s\u001b[0m eta \u001b[36m0:00:00\u001b[0m\n",
            "\u001b[?25hRequirement already satisfied: fsspec[http]<=2024.2.0,>=2023.1.0 in /usr/local/lib/python3.10/dist-packages (from datasets) (2023.6.0)\n",
            "Requirement already satisfied: aiohttp in /usr/local/lib/python3.10/dist-packages (from datasets) (3.9.3)\n",
            "Requirement already satisfied: huggingface-hub>=0.19.4 in /usr/local/lib/python3.10/dist-packages (from datasets) (0.20.3)\n",
            "Requirement already satisfied: packaging in /usr/local/lib/python3.10/dist-packages (from datasets) (24.0)\n",
            "Requirement already satisfied: pyyaml>=5.1 in /usr/local/lib/python3.10/dist-packages (from datasets) (6.0.1)\n",
            "Requirement already satisfied: aiosignal>=1.1.2 in /usr/local/lib/python3.10/dist-packages (from aiohttp->datasets) (1.3.1)\n",
            "Requirement already satisfied: attrs>=17.3.0 in /usr/local/lib/python3.10/dist-packages (from aiohttp->datasets) (23.2.0)\n",
            "Requirement already satisfied: frozenlist>=1.1.1 in /usr/local/lib/python3.10/dist-packages (from aiohttp->datasets) (1.4.1)\n",
            "Requirement already satisfied: multidict<7.0,>=4.5 in /usr/local/lib/python3.10/dist-packages (from aiohttp->datasets) (6.0.5)\n",
            "Requirement already satisfied: yarl<2.0,>=1.0 in /usr/local/lib/python3.10/dist-packages (from aiohttp->datasets) (1.9.4)\n",
            "Requirement already satisfied: async-timeout<5.0,>=4.0 in /usr/local/lib/python3.10/dist-packages (from aiohttp->datasets) (4.0.3)\n",
            "Requirement already satisfied: typing-extensions>=3.7.4.3 in /usr/local/lib/python3.10/dist-packages (from huggingface-hub>=0.19.4->datasets) (4.10.0)\n",
            "Requirement already satisfied: charset-normalizer<4,>=2 in /usr/local/lib/python3.10/dist-packages (from requests>=2.19.0->datasets) (3.3.2)\n",
            "Requirement already satisfied: idna<4,>=2.5 in /usr/local/lib/python3.10/dist-packages (from requests>=2.19.0->datasets) (3.6)\n",
            "Requirement already satisfied: urllib3<3,>=1.21.1 in /usr/local/lib/python3.10/dist-packages (from requests>=2.19.0->datasets) (2.0.7)\n",
            "Requirement already satisfied: certifi>=2017.4.17 in /usr/local/lib/python3.10/dist-packages (from requests>=2.19.0->datasets) (2024.2.2)\n",
            "Requirement already satisfied: python-dateutil>=2.8.1 in /usr/local/lib/python3.10/dist-packages (from pandas->datasets) (2.8.2)\n",
            "Requirement already satisfied: pytz>=2020.1 in /usr/local/lib/python3.10/dist-packages (from pandas->datasets) (2023.4)\n",
            "Requirement already satisfied: six>=1.5 in /usr/local/lib/python3.10/dist-packages (from python-dateutil>=2.8.1->pandas->datasets) (1.16.0)\n",
            "Installing collected packages: xxhash, dill, multiprocess, datasets\n",
            "Successfully installed datasets-2.18.0 dill-0.3.8 multiprocess-0.70.16 xxhash-3.4.1\n"
          ]
        }
      ]
    },
    {
      "cell_type": "code",
      "source": [
        "from datasets import Dataset\n",
        "\n",
        "train_dataset = Dataset.from_dict({\"input_ids\": train_encodings[\"input_ids\"],\n",
        "                                   \"attention_mask\": train_encodings[\"attention_mask\"],\n",
        "                                   \"labels\": train_labels[\"input_ids\"]})\n",
        "\n",
        "eval_dataset = Dataset.from_dict({\"input_ids\": validation_encodings[\"input_ids\"],\n",
        "                                  \"attention_mask\": validation_encodings[\"attention_mask\"],\n",
        "                                  \"labels\": validation_labels[\"input_ids\"]})"
      ],
      "metadata": {
        "id": "IMD5hugskOf3"
      },
      "execution_count": 23,
      "outputs": []
    },
    {
      "cell_type": "code",
      "source": [
        "from tqdm import tqdm\n",
        "\n",
        "# Fine-tune model with tqdm progress bar\n",
        "training_args = TrainingArguments(\n",
        "    output_dir='./output_dir',\n",
        "    per_device_train_batch_size=4,\n",
        "    per_device_eval_batch_size=4,\n",
        "    num_train_epochs=3,\n",
        "    logging_dir='./logs',\n",
        ")\n",
        "\n",
        "# Create Trainer instance\n",
        "trainer = Trainer(\n",
        "    model=model,\n",
        "    args=training_args,\n",
        "    train_dataset=train_dataset,\n",
        "    eval_dataset=eval_dataset,\n",
        ")\n",
        "\n",
        "# Train model with tqdm progress bar\n",
        "progress_bar = tqdm(range(training_args.num_train_epochs), desc=\"Training\")\n",
        "for epoch in progress_bar:\n",
        "    trainer.train()\n",
        "    progress_bar.set_description(f\"Epoch {epoch+1}\")"
      ],
      "metadata": {
        "colab": {
          "base_uri": "https://localhost:8080/"
        },
        "id": "iMX2R6LwkSTu",
        "outputId": "dcacf1a9-42e6-4ac8-8925-1bba23f4c8a5"
      },
      "execution_count": null,
      "outputs": [
        {
          "output_type": "stream",
          "name": "stderr",
          "text": [
            "\rTraining:   0%|          | 0/3 [00:00<?, ?it/s]"
          ]
        }
      ]
    },
    {
      "cell_type": "code",
      "source": [
        "# from datasets import Dataset\n",
        "\n",
        "# train_dataset = Dataset.from_dict({\"input_ids\": train_encodings[\"input_ids\"],\n",
        "#                                    \"attention_mask\": train_encodings[\"attention_mask\"],\n",
        "#                                    \"labels\": train_labels[\"input_ids\"]})\n",
        "\n",
        "# eval_dataset = Dataset.from_dict({\"input_ids\": validation_encodings[\"input_ids\"],\n",
        "#                                   \"attention_mask\": validation_encodings[\"attention_mask\"],\n",
        "#                                   \"labels\": validation_labels[\"input_ids\"]})\n",
        "\n",
        "# # Create Trainer instance\n",
        "# trainer = Trainer(\n",
        "#     model=model,\n",
        "#     args=training_args,\n",
        "#     train_dataset=train_dataset,\n",
        "#     eval_dataset=eval_dataset,\n",
        "# )\n",
        "\n",
        "# # Train model\n",
        "# trainer.train()"
      ],
      "metadata": {
        "id": "6Tk8YyK5j5fA"
      },
      "execution_count": null,
      "outputs": []
    },
    {
      "cell_type": "code",
      "source": [
        "# Generate predictions for test data\n",
        "test_texts = test_df['text'].tolist()\n",
        "test_encodings = tokenizer(test_texts, truncation=True, padding=True, return_tensors=\"pt\")\n",
        "\n",
        "outputs = model.generate(input_ids=test_encodings.input_ids, attention_mask=test_encodings.attention_mask)\n",
        "predicted_titles = tokenizer.batch_decode(outputs, skip_special_tokens=True)"
      ],
      "metadata": {
        "id": "8O852nVbbNX8"
      },
      "execution_count": null,
      "outputs": []
    },
    {
      "cell_type": "code",
      "source": [
        "# Save predictions\n",
        "test_df['predicted_title'] = predicted_titles\n",
        "test_df.to_csv(path + 'test_predicted.csv', index=False)"
      ],
      "metadata": {
        "id": "9MU6CNZJbzi7"
      },
      "execution_count": null,
      "outputs": []
    },
    {
      "cell_type": "code",
      "source": [
        "# Evaluate model using ROUGE metric\n",
        "scorer = rouge_scorer.RougeScorer(['rougeL'])\n",
        "validation_predictions = model.generate(input_ids=validation_encodings.input_ids, attention_mask=validation_encodings.attention_mask)\n",
        "predicted_validation_titles = tokenizer.batch_decode(validation_predictions, skip_special_tokens=True)\n",
        "\n",
        "scores = scorer.score(validation_df['title'], predicted_validation_titles)\n",
        "\n",
        "print(\"ROUGE scores:\", scores)"
      ],
      "metadata": {
        "id": "1W533TMib4SO"
      },
      "execution_count": null,
      "outputs": []
    }
  ]
}