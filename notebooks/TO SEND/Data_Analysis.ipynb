{
 "cells": [
  {
   "cell_type": "markdown",
   "metadata": {},
   "source": [
    "<center>\n",
    "<h1><br/></h1>\n",
    "<h1>INF 582: Introduction To Text Mining And NLP</h1>\n",
    "<h2>Challenge: News Articles Title Generation</h2>\n",
    "<h4>Students Name: <br>\n",
    "<b>DABERE Abasse<br>\n",
    "FUERTES PANIZO Cynthia Yacel</b> </h4>\n",
    "<br>\n",
    "</center>"
   ]
  },
  {
   "cell_type": "markdown",
   "metadata": {},
   "source": [
    "### `a.` Installing the libraries"
   ]
  },
  {
   "cell_type": "code",
   "execution_count": 3,
   "metadata": {},
   "outputs": [
    {
     "name": "stdout",
     "output_type": "stream",
     "text": [
      "^C\n",
      "Note: you may need to restart the kernel to use updated packages.\n"
     ]
    },
    {
     "name": "stdout",
     "output_type": "stream",
     "text": [
      "Collecting pandas\n",
      "  Downloading pandas-2.2.1-cp310-cp310-win_amd64.whl.metadata (19 kB)\n",
      "Requirement already satisfied: numpy<2,>=1.22.4 in c:\\users\\cynthia\\appdata\\local\\programs\\python\\python310\\lib\\site-packages (from pandas) (1.26.4)\n",
      "Requirement already satisfied: python-dateutil>=2.8.2 in c:\\users\\cynthia\\appdata\\roaming\\python\\python310\\site-packages (from pandas) (2.8.2)\n",
      "Collecting pytz>=2020.1 (from pandas)\n",
      "  Downloading pytz-2024.1-py2.py3-none-any.whl.metadata (22 kB)\n",
      "Collecting tzdata>=2022.7 (from pandas)\n",
      "  Downloading tzdata-2024.1-py2.py3-none-any.whl.metadata (1.4 kB)\n",
      "Requirement already satisfied: six>=1.5 in c:\\users\\cynthia\\appdata\\roaming\\python\\python310\\site-packages (from python-dateutil>=2.8.2->pandas) (1.16.0)\n",
      "Downloading pandas-2.2.1-cp310-cp310-win_amd64.whl (11.6 MB)\n",
      "   ---------------------------------------- 0.0/11.6 MB ? eta -:--:--\n",
      "   - -------------------------------------- 0.5/11.6 MB 13.8 MB/s eta 0:00:01\n",
      "   --- ------------------------------------ 1.0/11.6 MB 12.5 MB/s eta 0:00:01\n",
      "   ----- ---------------------------------- 1.5/11.6 MB 12.1 MB/s eta 0:00:01\n",
      "   ------ --------------------------------- 1.9/11.6 MB 11.1 MB/s eta 0:00:01\n",
      "   -------- ------------------------------- 2.4/11.6 MB 10.8 MB/s eta 0:00:01\n",
      "   --------- ------------------------------ 2.9/11.6 MB 10.8 MB/s eta 0:00:01\n",
      "   ----------- ---------------------------- 3.2/11.6 MB 10.9 MB/s eta 0:00:01\n",
      "   ----------- ---------------------------- 3.4/11.6 MB 9.3 MB/s eta 0:00:01\n",
      "   ------------ --------------------------- 3.7/11.6 MB 9.2 MB/s eta 0:00:01\n",
      "   -------------- ------------------------- 4.2/11.6 MB 9.3 MB/s eta 0:00:01\n",
      "   ---------------- ----------------------- 4.7/11.6 MB 9.4 MB/s eta 0:00:01\n",
      "   ------------------ --------------------- 5.3/11.6 MB 9.6 MB/s eta 0:00:01\n",
      "   -------------------- ------------------- 5.8/11.6 MB 9.8 MB/s eta 0:00:01\n",
      "   --------------------- ------------------ 6.3/11.6 MB 9.8 MB/s eta 0:00:01\n",
      "   ----------------------- ---------------- 6.8/11.6 MB 9.9 MB/s eta 0:00:01\n",
      "   ------------------------- -------------- 7.3/11.6 MB 9.9 MB/s eta 0:00:01\n",
      "   -------------------------- ------------- 7.7/11.6 MB 9.9 MB/s eta 0:00:01\n",
      "   ---------------------------- ----------- 8.3/11.6 MB 10.0 MB/s eta 0:00:01\n",
      "   ------------------------------ --------- 8.8/11.6 MB 10.0 MB/s eta 0:00:01\n",
      "   -------------------------------- ------- 9.3/11.6 MB 10.1 MB/s eta 0:00:01\n",
      "   --------------------------------- ------ 9.8/11.6 MB 10.1 MB/s eta 0:00:01\n",
      "   ----------------------------------- ---- 10.3/11.6 MB 10.1 MB/s eta 0:00:01\n",
      "   ------------------------------------- -- 10.8/11.6 MB 10.1 MB/s eta 0:00:01\n",
      "   ---------------------------------------  11.4/11.6 MB 10.1 MB/s eta 0:00:01\n",
      "   ---------------------------------------  11.6/11.6 MB 10.1 MB/s eta 0:00:01\n",
      "   ---------------------------------------- 11.6/11.6 MB 9.6 MB/s eta 0:00:00\n",
      "Downloading pytz-2024.1-py2.py3-none-any.whl (505 kB)\n",
      "   ---------------------------------------- 0.0/505.5 kB ? eta -:--:--\n",
      "   ---------------------------------- ---- 450.6/505.5 kB 14.2 MB/s eta 0:00:01\n",
      "   ---------------------------------------- 505.5/505.5 kB 8.0 MB/s eta 0:00:00\n",
      "Downloading tzdata-2024.1-py2.py3-none-any.whl (345 kB)\n",
      "   ---------------------------------------- 0.0/345.4 kB ? eta -:--:--\n",
      "   --------------------------------------- 345.4/345.4 kB 10.8 MB/s eta 0:00:00\n",
      "Installing collected packages: pytz, tzdata, pandas\n",
      "Successfully installed pandas-2.2.1 pytz-2024.1 tzdata-2024.1\n"
     ]
    }
   ],
   "source": [
    "pip install pandas"
   ]
  },
  {
   "cell_type": "code",
   "execution_count": 5,
   "metadata": {},
   "outputs": [
    {
     "name": "stdout",
     "output_type": "stream",
     "text": [
      "Collecting seaborn\n",
      "  Downloading seaborn-0.13.2-py3-none-any.whl.metadata (5.4 kB)\n",
      "Requirement already satisfied: numpy!=1.24.0,>=1.20 in c:\\users\\cynthia\\appdata\\local\\programs\\python\\python310\\lib\\site-packages (from seaborn) (1.26.4)\n",
      "Requirement already satisfied: pandas>=1.2 in c:\\users\\cynthia\\appdata\\local\\programs\\python\\python310\\lib\\site-packages (from seaborn) (2.2.1)\n",
      "Requirement already satisfied: matplotlib!=3.6.1,>=3.4 in c:\\users\\cynthia\\appdata\\local\\programs\\python\\python310\\lib\\site-packages (from seaborn) (3.8.3)\n",
      "Requirement already satisfied: contourpy>=1.0.1 in c:\\users\\cynthia\\appdata\\local\\programs\\python\\python310\\lib\\site-packages (from matplotlib!=3.6.1,>=3.4->seaborn) (1.2.0)\n",
      "Requirement already satisfied: cycler>=0.10 in c:\\users\\cynthia\\appdata\\local\\programs\\python\\python310\\lib\\site-packages (from matplotlib!=3.6.1,>=3.4->seaborn) (0.12.1)\n",
      "Requirement already satisfied: fonttools>=4.22.0 in c:\\users\\cynthia\\appdata\\local\\programs\\python\\python310\\lib\\site-packages (from matplotlib!=3.6.1,>=3.4->seaborn) (4.49.0)\n",
      "Requirement already satisfied: kiwisolver>=1.3.1 in c:\\users\\cynthia\\appdata\\local\\programs\\python\\python310\\lib\\site-packages (from matplotlib!=3.6.1,>=3.4->seaborn) (1.4.5)\n",
      "Requirement already satisfied: packaging>=20.0 in c:\\users\\cynthia\\appdata\\roaming\\python\\python310\\site-packages (from matplotlib!=3.6.1,>=3.4->seaborn) (23.2)\n",
      "Requirement already satisfied: pillow>=8 in c:\\users\\cynthia\\appdata\\local\\programs\\python\\python310\\lib\\site-packages (from matplotlib!=3.6.1,>=3.4->seaborn) (10.2.0)\n",
      "Requirement already satisfied: pyparsing>=2.3.1 in c:\\users\\cynthia\\appdata\\local\\programs\\python\\python310\\lib\\site-packages (from matplotlib!=3.6.1,>=3.4->seaborn) (3.1.1)\n",
      "Requirement already satisfied: python-dateutil>=2.7 in c:\\users\\cynthia\\appdata\\roaming\\python\\python310\\site-packages (from matplotlib!=3.6.1,>=3.4->seaborn) (2.8.2)\n",
      "Requirement already satisfied: pytz>=2020.1 in c:\\users\\cynthia\\appdata\\local\\programs\\python\\python310\\lib\\site-packages (from pandas>=1.2->seaborn) (2024.1)\n",
      "Requirement already satisfied: tzdata>=2022.7 in c:\\users\\cynthia\\appdata\\local\\programs\\python\\python310\\lib\\site-packages (from pandas>=1.2->seaborn) (2024.1)\n",
      "Requirement already satisfied: six>=1.5 in c:\\users\\cynthia\\appdata\\roaming\\python\\python310\\site-packages (from python-dateutil>=2.7->matplotlib!=3.6.1,>=3.4->seaborn) (1.16.0)\n",
      "Downloading seaborn-0.13.2-py3-none-any.whl (294 kB)\n",
      "   ---------------------------------------- 0.0/294.9 kB ? eta -:--:--\n",
      "   -------------------------------------- - 286.7/294.9 kB 8.9 MB/s eta 0:00:01\n",
      "   ---------------------------------------- 294.9/294.9 kB 6.1 MB/s eta 0:00:00\n",
      "Installing collected packages: seaborn\n",
      "Successfully installed seaborn-0.13.2\n",
      "Note: you may need to restart the kernel to use updated packages.\n"
     ]
    }
   ],
   "source": [
    "pip install seaborn"
   ]
  },
  {
   "cell_type": "code",
   "execution_count": 7,
   "metadata": {},
   "outputs": [
    {
     "name": "stdout",
     "output_type": "stream",
     "text": [
      "Collecting nltk\n",
      "  Downloading nltk-3.8.1-py3-none-any.whl.metadata (2.8 kB)\n",
      "Collecting click (from nltk)\n",
      "  Downloading click-8.1.7-py3-none-any.whl.metadata (3.0 kB)\n",
      "Collecting joblib (from nltk)\n",
      "  Downloading joblib-1.3.2-py3-none-any.whl.metadata (5.4 kB)\n",
      "Collecting regex>=2021.8.3 (from nltk)\n",
      "  Downloading regex-2023.12.25-cp310-cp310-win_amd64.whl.metadata (41 kB)\n",
      "     ---------------------------------------- 0.0/42.0 kB ? eta -:--:--\n",
      "     ---------------------------------------- 42.0/42.0 kB ? eta 0:00:00\n",
      "Requirement already satisfied: tqdm in c:\\users\\cynthia\\appdata\\local\\programs\\python\\python310\\lib\\site-packages (from nltk) (4.66.2)\n",
      "Requirement already satisfied: colorama in c:\\users\\cynthia\\appdata\\roaming\\python\\python310\\site-packages (from click->nltk) (0.4.6)\n",
      "Downloading nltk-3.8.1-py3-none-any.whl (1.5 MB)\n",
      "   ---------------------------------------- 0.0/1.5 MB ? eta -:--:--\n",
      "   ---------- ----------------------------- 0.4/1.5 MB 8.1 MB/s eta 0:00:01\n",
      "   -------------------- ------------------- 0.8/1.5 MB 9.5 MB/s eta 0:00:01\n",
      "   ------------------------ --------------- 0.9/1.5 MB 6.5 MB/s eta 0:00:01\n",
      "   ---------------------------- ----------- 1.1/1.5 MB 5.6 MB/s eta 0:00:01\n",
      "   ------------------------------- -------- 1.2/1.5 MB 5.1 MB/s eta 0:00:01\n",
      "   ------------------------------------- -- 1.4/1.5 MB 5.3 MB/s eta 0:00:01\n",
      "   ---------------------------------------- 1.5/1.5 MB 4.8 MB/s eta 0:00:00\n",
      "Downloading regex-2023.12.25-cp310-cp310-win_amd64.whl (269 kB)\n",
      "   ---------------------------------------- 0.0/269.5 kB ? eta -:--:--\n",
      "   ---------------------------------------  266.2/269.5 kB 8.3 MB/s eta 0:00:01\n",
      "   ---------------------------------------- 269.5/269.5 kB 5.6 MB/s eta 0:00:00\n",
      "Downloading click-8.1.7-py3-none-any.whl (97 kB)\n",
      "   ---------------------------------------- 0.0/97.9 kB ? eta -:--:--\n",
      "   ---------------------------------------- 97.9/97.9 kB 5.5 MB/s eta 0:00:00\n",
      "Downloading joblib-1.3.2-py3-none-any.whl (302 kB)\n",
      "   ---------------------------------------- 0.0/302.2 kB ? eta -:--:--\n",
      "   ------------------------------------- -- 286.7/302.2 kB 8.9 MB/s eta 0:00:01\n",
      "   ---------------------------------------- 302.2/302.2 kB 6.2 MB/s eta 0:00:00\n",
      "Installing collected packages: regex, joblib, click, nltk\n",
      "Successfully installed click-8.1.7 joblib-1.3.2 nltk-3.8.1 regex-2023.12.25\n",
      "Note: you may need to restart the kernel to use updated packages.\n"
     ]
    }
   ],
   "source": [
    "pip install nltk"
   ]
  },
  {
   "cell_type": "code",
   "execution_count": 9,
   "metadata": {},
   "outputs": [
    {
     "name": "stdout",
     "output_type": "stream",
     "text": [
      "Collecting wordcloud\n",
      "  Downloading wordcloud-1.9.3-cp310-cp310-win_amd64.whl.metadata (3.5 kB)\n",
      "Requirement already satisfied: numpy>=1.6.1 in c:\\users\\cynthia\\appdata\\local\\programs\\python\\python310\\lib\\site-packages (from wordcloud) (1.26.4)\n",
      "Requirement already satisfied: pillow in c:\\users\\cynthia\\appdata\\local\\programs\\python\\python310\\lib\\site-packages (from wordcloud) (10.2.0)\n",
      "Requirement already satisfied: matplotlib in c:\\users\\cynthia\\appdata\\local\\programs\\python\\python310\\lib\\site-packages (from wordcloud) (3.8.3)\n",
      "Requirement already satisfied: contourpy>=1.0.1 in c:\\users\\cynthia\\appdata\\local\\programs\\python\\python310\\lib\\site-packages (from matplotlib->wordcloud) (1.2.0)\n",
      "Requirement already satisfied: cycler>=0.10 in c:\\users\\cynthia\\appdata\\local\\programs\\python\\python310\\lib\\site-packages (from matplotlib->wordcloud) (0.12.1)\n",
      "Requirement already satisfied: fonttools>=4.22.0 in c:\\users\\cynthia\\appdata\\local\\programs\\python\\python310\\lib\\site-packages (from matplotlib->wordcloud) (4.49.0)\n",
      "Requirement already satisfied: kiwisolver>=1.3.1 in c:\\users\\cynthia\\appdata\\local\\programs\\python\\python310\\lib\\site-packages (from matplotlib->wordcloud) (1.4.5)\n",
      "Requirement already satisfied: packaging>=20.0 in c:\\users\\cynthia\\appdata\\roaming\\python\\python310\\site-packages (from matplotlib->wordcloud) (23.2)\n",
      "Requirement already satisfied: pyparsing>=2.3.1 in c:\\users\\cynthia\\appdata\\local\\programs\\python\\python310\\lib\\site-packages (from matplotlib->wordcloud) (3.1.1)\n",
      "Requirement already satisfied: python-dateutil>=2.7 in c:\\users\\cynthia\\appdata\\roaming\\python\\python310\\site-packages (from matplotlib->wordcloud) (2.8.2)\n",
      "Requirement already satisfied: six>=1.5 in c:\\users\\cynthia\\appdata\\roaming\\python\\python310\\site-packages (from python-dateutil>=2.7->matplotlib->wordcloud) (1.16.0)\n",
      "Downloading wordcloud-1.9.3-cp310-cp310-win_amd64.whl (299 kB)\n",
      "   ---------------------------------------- 0.0/300.0 kB ? eta -:--:--\n",
      "   ---------------------------------------  297.0/300.0 kB 6.1 MB/s eta 0:00:01\n",
      "   ---------------------------------------- 300.0/300.0 kB 4.6 MB/s eta 0:00:00\n",
      "Installing collected packages: wordcloud\n",
      "Successfully installed wordcloud-1.9.3\n",
      "Note: you may need to restart the kernel to use updated packages.\n"
     ]
    }
   ],
   "source": [
    "pip install wordcloud"
   ]
  },
  {
   "cell_type": "code",
   "execution_count": 11,
   "metadata": {},
   "outputs": [
    {
     "name": "stdout",
     "output_type": "stream",
     "text": [
      "Collecting spacyNote: you may need to restart the kernel to use updated packages.\n",
      "\n",
      "  Downloading spacy-3.7.4-cp310-cp310-win_amd64.whl.metadata (27 kB)\n",
      "Collecting spacy-legacy<3.1.0,>=3.0.11 (from spacy)\n",
      "  Downloading spacy_legacy-3.0.12-py2.py3-none-any.whl.metadata (2.8 kB)\n",
      "Collecting spacy-loggers<2.0.0,>=1.0.0 (from spacy)\n",
      "  Downloading spacy_loggers-1.0.5-py3-none-any.whl.metadata (23 kB)\n",
      "Collecting murmurhash<1.1.0,>=0.28.0 (from spacy)\n",
      "  Downloading murmurhash-1.0.10-cp310-cp310-win_amd64.whl.metadata (2.0 kB)\n",
      "Collecting cymem<2.1.0,>=2.0.2 (from spacy)\n",
      "  Downloading cymem-2.0.8-cp310-cp310-win_amd64.whl.metadata (8.6 kB)\n",
      "Collecting preshed<3.1.0,>=3.0.2 (from spacy)\n",
      "  Downloading preshed-3.0.9-cp310-cp310-win_amd64.whl.metadata (2.2 kB)\n",
      "Collecting thinc<8.3.0,>=8.2.2 (from spacy)\n",
      "  Downloading thinc-8.2.3-cp310-cp310-win_amd64.whl.metadata (15 kB)\n",
      "Collecting wasabi<1.2.0,>=0.9.1 (from spacy)\n",
      "  Downloading wasabi-1.1.2-py3-none-any.whl.metadata (28 kB)\n",
      "Collecting srsly<3.0.0,>=2.4.3 (from spacy)\n",
      "  Downloading srsly-2.4.8-cp310-cp310-win_amd64.whl.metadata (20 kB)\n",
      "Collecting catalogue<2.1.0,>=2.0.6 (from spacy)\n",
      "  Downloading catalogue-2.0.10-py3-none-any.whl.metadata (14 kB)\n",
      "Collecting weasel<0.4.0,>=0.1.0 (from spacy)\n",
      "  Downloading weasel-0.3.4-py3-none-any.whl.metadata (4.7 kB)\n",
      "Collecting typer<0.10.0,>=0.3.0 (from spacy)\n",
      "  Downloading typer-0.9.4-py3-none-any.whl.metadata (14 kB)\n",
      "Collecting smart-open<7.0.0,>=5.2.1 (from spacy)\n",
      "  Downloading smart_open-6.4.0-py3-none-any.whl.metadata (21 kB)\n",
      "Requirement already satisfied: tqdm<5.0.0,>=4.38.0 in c:\\users\\cynthia\\appdata\\local\\programs\\python\\python310\\lib\\site-packages (from spacy) (4.66.2)\n",
      "Requirement already satisfied: requests<3.0.0,>=2.13.0 in c:\\users\\cynthia\\appdata\\local\\programs\\python\\python310\\lib\\site-packages (from spacy) (2.31.0)\n",
      "Collecting pydantic!=1.8,!=1.8.1,<3.0.0,>=1.7.4 (from spacy)\n",
      "  Downloading pydantic-2.6.4-py3-none-any.whl.metadata (85 kB)\n",
      "     ---------------------------------------- 0.0/85.1 kB ? eta -:--:--\n",
      "     ---------------------------------------- 85.1/85.1 kB 5.0 MB/s eta 0:00:00\n",
      "Requirement already satisfied: jinja2 in c:\\users\\cynthia\\appdata\\local\\programs\\python\\python310\\lib\\site-packages (from spacy) (3.1.3)\n",
      "Requirement already satisfied: setuptools in c:\\users\\cynthia\\appdata\\local\\programs\\python\\python310\\lib\\site-packages (from spacy) (58.1.0)\n",
      "Requirement already satisfied: packaging>=20.0 in c:\\users\\cynthia\\appdata\\roaming\\python\\python310\\site-packages (from spacy) (23.2)\n",
      "Collecting langcodes<4.0.0,>=3.2.0 (from spacy)\n",
      "  Downloading langcodes-3.3.0-py3-none-any.whl.metadata (29 kB)\n",
      "Requirement already satisfied: numpy>=1.19.0 in c:\\users\\cynthia\\appdata\\local\\programs\\python\\python310\\lib\\site-packages (from spacy) (1.26.4)\n",
      "Collecting annotated-types>=0.4.0 (from pydantic!=1.8,!=1.8.1,<3.0.0,>=1.7.4->spacy)\n",
      "  Downloading annotated_types-0.6.0-py3-none-any.whl.metadata (12 kB)\n",
      "Collecting pydantic-core==2.16.3 (from pydantic!=1.8,!=1.8.1,<3.0.0,>=1.7.4->spacy)\n",
      "  Downloading pydantic_core-2.16.3-cp310-none-win_amd64.whl.metadata (6.6 kB)\n",
      "Requirement already satisfied: typing-extensions>=4.6.1 in c:\\users\\cynthia\\appdata\\local\\programs\\python\\python310\\lib\\site-packages (from pydantic!=1.8,!=1.8.1,<3.0.0,>=1.7.4->spacy) (4.10.0)\n",
      "Requirement already satisfied: charset-normalizer<4,>=2 in c:\\users\\cynthia\\appdata\\local\\programs\\python\\python310\\lib\\site-packages (from requests<3.0.0,>=2.13.0->spacy) (3.3.2)\n",
      "Requirement already satisfied: idna<4,>=2.5 in c:\\users\\cynthia\\appdata\\local\\programs\\python\\python310\\lib\\site-packages (from requests<3.0.0,>=2.13.0->spacy) (3.6)\n",
      "Requirement already satisfied: urllib3<3,>=1.21.1 in c:\\users\\cynthia\\appdata\\local\\programs\\python\\python310\\lib\\site-packages (from requests<3.0.0,>=2.13.0->spacy) (2.2.1)\n",
      "Requirement already satisfied: certifi>=2017.4.17 in c:\\users\\cynthia\\appdata\\local\\programs\\python\\python310\\lib\\site-packages (from requests<3.0.0,>=2.13.0->spacy) (2024.2.2)\n",
      "Collecting blis<0.8.0,>=0.7.8 (from thinc<8.3.0,>=8.2.2->spacy)\n",
      "  Downloading blis-0.7.11-cp310-cp310-win_amd64.whl.metadata (7.6 kB)\n",
      "Collecting confection<1.0.0,>=0.0.1 (from thinc<8.3.0,>=8.2.2->spacy)\n",
      "  Downloading confection-0.1.4-py3-none-any.whl.metadata (19 kB)\n",
      "Requirement already satisfied: colorama in c:\\users\\cynthia\\appdata\\roaming\\python\\python310\\site-packages (from tqdm<5.0.0,>=4.38.0->spacy) (0.4.6)\n",
      "Requirement already satisfied: click<9.0.0,>=7.1.1 in c:\\users\\cynthia\\appdata\\local\\programs\\python\\python310\\lib\\site-packages (from typer<0.10.0,>=0.3.0->spacy) (8.1.7)\n",
      "Collecting cloudpathlib<0.17.0,>=0.7.0 (from weasel<0.4.0,>=0.1.0->spacy)\n",
      "  Downloading cloudpathlib-0.16.0-py3-none-any.whl.metadata (14 kB)\n",
      "Requirement already satisfied: MarkupSafe>=2.0 in c:\\users\\cynthia\\appdata\\local\\programs\\python\\python310\\lib\\site-packages (from jinja2->spacy) (2.1.5)\n",
      "Downloading spacy-3.7.4-cp310-cp310-win_amd64.whl (12.1 MB)\n",
      "   ---------------------------------------- 0.0/12.1 MB ? eta -:--:--\n",
      "    --------------------------------------- 0.2/12.1 MB 6.3 MB/s eta 0:00:02\n",
      "   - -------------------------------------- 0.4/12.1 MB 5.5 MB/s eta 0:00:03\n",
      "   - -------------------------------------- 0.6/12.1 MB 5.2 MB/s eta 0:00:03\n",
      "   -- ------------------------------------- 0.7/12.1 MB 4.0 MB/s eta 0:00:03\n",
      "   -- ------------------------------------- 0.8/12.1 MB 3.7 MB/s eta 0:00:04\n",
      "   --- ------------------------------------ 0.9/12.1 MB 3.4 MB/s eta 0:00:04\n",
      "   --- ------------------------------------ 1.0/12.1 MB 3.3 MB/s eta 0:00:04\n",
      "   ---- ----------------------------------- 1.2/12.1 MB 3.3 MB/s eta 0:00:04\n",
      "   ---- ----------------------------------- 1.3/12.1 MB 3.3 MB/s eta 0:00:04\n",
      "   ---- ----------------------------------- 1.4/12.1 MB 3.1 MB/s eta 0:00:04\n",
      "   ----- ---------------------------------- 1.5/12.1 MB 3.0 MB/s eta 0:00:04\n",
      "   ----- ---------------------------------- 1.7/12.1 MB 3.0 MB/s eta 0:00:04\n",
      "   ----- ---------------------------------- 1.8/12.1 MB 2.9 MB/s eta 0:00:04\n",
      "   ------ --------------------------------- 1.9/12.1 MB 3.0 MB/s eta 0:00:04\n",
      "   ------ --------------------------------- 2.1/12.1 MB 3.0 MB/s eta 0:00:04\n",
      "   ------- -------------------------------- 2.2/12.1 MB 3.0 MB/s eta 0:00:04\n",
      "   ------- -------------------------------- 2.4/12.1 MB 3.0 MB/s eta 0:00:04\n",
      "   -------- ------------------------------- 2.5/12.1 MB 3.1 MB/s eta 0:00:04\n",
      "   -------- ------------------------------- 2.7/12.1 MB 3.0 MB/s eta 0:00:04\n",
      "   --------- ------------------------------ 2.8/12.1 MB 3.0 MB/s eta 0:00:04\n",
      "   --------- ------------------------------ 2.9/12.1 MB 3.0 MB/s eta 0:00:04\n",
      "   ---------- ----------------------------- 3.1/12.1 MB 3.0 MB/s eta 0:00:03\n",
      "   ---------- ----------------------------- 3.2/12.1 MB 3.0 MB/s eta 0:00:03\n",
      "   ----------- ---------------------------- 3.4/12.1 MB 3.0 MB/s eta 0:00:03\n",
      "   ----------- ---------------------------- 3.5/12.1 MB 3.0 MB/s eta 0:00:03\n",
      "   ------------ --------------------------- 3.6/12.1 MB 3.0 MB/s eta 0:00:03\n",
      "   ------------ --------------------------- 3.8/12.1 MB 3.0 MB/s eta 0:00:03\n",
      "   ------------ --------------------------- 3.9/12.1 MB 3.0 MB/s eta 0:00:03\n",
      "   ------------- -------------------------- 4.2/12.1 MB 3.1 MB/s eta 0:00:03\n",
      "   -------------- ------------------------- 4.4/12.1 MB 3.2 MB/s eta 0:00:03\n",
      "   --------------- ------------------------ 4.8/12.1 MB 3.3 MB/s eta 0:00:03\n",
      "   ---------------- ----------------------- 5.1/12.1 MB 3.4 MB/s eta 0:00:03\n",
      "   ------------------ --------------------- 5.5/12.1 MB 3.6 MB/s eta 0:00:02\n",
      "   ------------------- -------------------- 5.8/12.1 MB 3.7 MB/s eta 0:00:02\n",
      "   -------------------- ------------------- 6.1/12.1 MB 3.7 MB/s eta 0:00:02\n",
      "   --------------------- ------------------ 6.5/12.1 MB 3.9 MB/s eta 0:00:02\n",
      "   ---------------------- ----------------- 6.7/12.1 MB 3.9 MB/s eta 0:00:02\n",
      "   ----------------------- ---------------- 7.1/12.1 MB 4.0 MB/s eta 0:00:02\n",
      "   ------------------------ --------------- 7.5/12.1 MB 4.2 MB/s eta 0:00:02\n",
      "   -------------------------- ------------- 7.9/12.1 MB 4.3 MB/s eta 0:00:01\n",
      "   --------------------------- ------------ 8.4/12.1 MB 4.4 MB/s eta 0:00:01\n",
      "   ----------------------------- ---------- 8.8/12.1 MB 4.5 MB/s eta 0:00:01\n",
      "   ------------------------------ --------- 9.2/12.1 MB 4.6 MB/s eta 0:00:01\n",
      "   ------------------------------- -------- 9.5/12.1 MB 4.7 MB/s eta 0:00:01\n",
      "   -------------------------------- ------- 9.9/12.1 MB 4.7 MB/s eta 0:00:01\n",
      "   ---------------------------------- ----- 10.3/12.1 MB 4.8 MB/s eta 0:00:01\n",
      "   ----------------------------------- ---- 10.7/12.1 MB 4.9 MB/s eta 0:00:01\n",
      "   ------------------------------------ --- 11.1/12.1 MB 5.2 MB/s eta 0:00:01\n",
      "   -------------------------------------- - 11.6/12.1 MB 5.5 MB/s eta 0:00:01\n",
      "   ---------------------------------------  11.9/12.1 MB 5.7 MB/s eta 0:00:01\n",
      "   ---------------------------------------  12.1/12.1 MB 5.9 MB/s eta 0:00:01\n",
      "   ---------------------------------------- 12.1/12.1 MB 5.7 MB/s eta 0:00:00\n",
      "Downloading catalogue-2.0.10-py3-none-any.whl (17 kB)\n",
      "Downloading cymem-2.0.8-cp310-cp310-win_amd64.whl (39 kB)\n",
      "Downloading langcodes-3.3.0-py3-none-any.whl (181 kB)\n",
      "   ---------------------------------------- 0.0/181.6 kB ? eta -:--:--\n",
      "   ---------------------------------------- 181.6/181.6 kB 5.4 MB/s eta 0:00:00\n",
      "Downloading murmurhash-1.0.10-cp310-cp310-win_amd64.whl (25 kB)\n",
      "Downloading preshed-3.0.9-cp310-cp310-win_amd64.whl (122 kB)\n",
      "   ---------------------------------------- 0.0/122.2 kB ? eta -:--:--\n",
      "   ---------------------------------------- 122.2/122.2 kB 3.5 MB/s eta 0:00:00\n",
      "Downloading pydantic-2.6.4-py3-none-any.whl (394 kB)\n",
      "   ---------------------------------------- 0.0/394.9 kB ? eta -:--:--\n",
      "   ------------------------------------ --- 358.4/394.9 kB 7.4 MB/s eta 0:00:01\n",
      "   ---------------------------------------- 394.9/394.9 kB 6.1 MB/s eta 0:00:00\n",
      "Downloading pydantic_core-2.16.3-cp310-none-win_amd64.whl (1.9 MB)\n",
      "   ---------------------------------------- 0.0/1.9 MB ? eta -:--:--\n",
      "   ----- ---------------------------------- 0.2/1.9 MB 4.8 MB/s eta 0:00:01\n",
      "   ----------- ---------------------------- 0.5/1.9 MB 5.6 MB/s eta 0:00:01\n",
      "   ----------------- ---------------------- 0.8/1.9 MB 5.8 MB/s eta 0:00:01\n",
      "   ----------------------- ---------------- 1.1/1.9 MB 5.9 MB/s eta 0:00:01\n",
      "   ------------------------------- -------- 1.5/1.9 MB 6.2 MB/s eta 0:00:01\n",
      "   -------------------------------------- - 1.8/1.9 MB 6.4 MB/s eta 0:00:01\n",
      "   ---------------------------------------- 1.9/1.9 MB 6.3 MB/s eta 0:00:00\n",
      "Downloading smart_open-6.4.0-py3-none-any.whl (57 kB)\n",
      "   ---------------------------------------- 0.0/57.0 kB ? eta -:--:--\n",
      "   ---------------------------------------- 57.0/57.0 kB 3.1 MB/s eta 0:00:00\n",
      "Downloading spacy_legacy-3.0.12-py2.py3-none-any.whl (29 kB)\n",
      "Downloading spacy_loggers-1.0.5-py3-none-any.whl (22 kB)\n",
      "Downloading srsly-2.4.8-cp310-cp310-win_amd64.whl (481 kB)\n",
      "   ---------------------------------------- 0.0/481.9 kB ? eta -:--:--\n",
      "   --------------------------------------  481.3/481.9 kB 14.7 MB/s eta 0:00:01\n",
      "   ---------------------------------------- 481.9/481.9 kB 7.5 MB/s eta 0:00:00\n",
      "Downloading thinc-8.2.3-cp310-cp310-win_amd64.whl (1.5 MB)\n",
      "   ---------------------------------------- 0.0/1.5 MB ? eta -:--:--\n",
      "   --------- ------------------------------ 0.4/1.5 MB 7.6 MB/s eta 0:00:01\n",
      "   ------------------- -------------------- 0.7/1.5 MB 7.7 MB/s eta 0:00:01\n",
      "   ----------------------------- ---------- 1.1/1.5 MB 7.6 MB/s eta 0:00:01\n",
      "   -------------------------------------- - 1.4/1.5 MB 8.3 MB/s eta 0:00:01\n",
      "   ---------------------------------------- 1.5/1.5 MB 6.7 MB/s eta 0:00:00\n",
      "Downloading typer-0.9.4-py3-none-any.whl (45 kB)\n",
      "   ---------------------------------------- 0.0/46.0 kB ? eta -:--:--\n",
      "   ---------------------------------------- 46.0/46.0 kB 1.2 MB/s eta 0:00:00\n",
      "Downloading wasabi-1.1.2-py3-none-any.whl (27 kB)\n",
      "Downloading weasel-0.3.4-py3-none-any.whl (50 kB)\n",
      "   ---------------------------------------- 0.0/50.1 kB ? eta -:--:--\n",
      "   ---------------------------------------- 50.1/50.1 kB 2.5 MB/s eta 0:00:00\n",
      "Downloading annotated_types-0.6.0-py3-none-any.whl (12 kB)\n",
      "Downloading blis-0.7.11-cp310-cp310-win_amd64.whl (6.6 MB)\n",
      "   ---------------------------------------- 0.0/6.6 MB ? eta -:--:--\n",
      "   -- ------------------------------------- 0.4/6.6 MB 8.5 MB/s eta 0:00:01\n",
      "   ---- ----------------------------------- 0.7/6.6 MB 7.3 MB/s eta 0:00:01\n",
      "   ------ --------------------------------- 1.0/6.6 MB 7.2 MB/s eta 0:00:01\n",
      "   -------- ------------------------------- 1.4/6.6 MB 7.4 MB/s eta 0:00:01\n",
      "   ---------- ----------------------------- 1.8/6.6 MB 7.5 MB/s eta 0:00:01\n",
      "   ------------ --------------------------- 2.0/6.6 MB 7.2 MB/s eta 0:00:01\n",
      "   -------------- ------------------------- 2.4/6.6 MB 7.2 MB/s eta 0:00:01\n",
      "   ---------------- ----------------------- 2.7/6.6 MB 7.2 MB/s eta 0:00:01\n",
      "   ------------------- -------------------- 3.2/6.6 MB 7.5 MB/s eta 0:00:01\n",
      "   -------------------- ------------------- 3.4/6.6 MB 7.2 MB/s eta 0:00:01\n",
      "   --------------------- ------------------ 3.5/6.6 MB 7.0 MB/s eta 0:00:01\n",
      "   --------------------- ------------------ 3.6/6.6 MB 6.4 MB/s eta 0:00:01\n",
      "   ---------------------- ----------------- 3.7/6.6 MB 6.1 MB/s eta 0:00:01\n",
      "   ---------------------- ----------------- 3.7/6.6 MB 5.8 MB/s eta 0:00:01\n",
      "   ----------------------- ---------------- 3.8/6.6 MB 5.5 MB/s eta 0:00:01\n",
      "   ----------------------- ---------------- 4.0/6.6 MB 5.4 MB/s eta 0:00:01\n",
      "   ------------------------- -------------- 4.2/6.6 MB 5.3 MB/s eta 0:00:01\n",
      "   -------------------------- ------------- 4.5/6.6 MB 5.4 MB/s eta 0:00:01\n",
      "   ---------------------------- ----------- 4.8/6.6 MB 5.4 MB/s eta 0:00:01\n",
      "   ------------------------------ --------- 5.1/6.6 MB 5.5 MB/s eta 0:00:01\n",
      "   -------------------------------- ------- 5.4/6.6 MB 5.6 MB/s eta 0:00:01\n",
      "   ---------------------------------- ----- 5.8/6.6 MB 5.7 MB/s eta 0:00:01\n",
      "   ------------------------------------- -- 6.2/6.6 MB 5.8 MB/s eta 0:00:01\n",
      "   -------------------------------------- - 6.3/6.6 MB 5.6 MB/s eta 0:00:01\n",
      "   -------------------------------------- - 6.4/6.6 MB 5.6 MB/s eta 0:00:01\n",
      "   ---------------------------------------  6.5/6.6 MB 5.4 MB/s eta 0:00:01\n",
      "   ---------------------------------------- 6.6/6.6 MB 5.3 MB/s eta 0:00:00\n",
      "Downloading cloudpathlib-0.16.0-py3-none-any.whl (45 kB)\n",
      "   ---------------------------------------- 0.0/45.0 kB ? eta -:--:--\n",
      "   ---------------------------------------- 45.0/45.0 kB 1.1 MB/s eta 0:00:00\n",
      "Downloading confection-0.1.4-py3-none-any.whl (35 kB)\n",
      "Installing collected packages: cymem, wasabi, spacy-loggers, spacy-legacy, smart-open, pydantic-core, murmurhash, langcodes, cloudpathlib, catalogue, blis, annotated-types, typer, srsly, pydantic, preshed, confection, weasel, thinc, spacy\n",
      "Successfully installed annotated-types-0.6.0 blis-0.7.11 catalogue-2.0.10 cloudpathlib-0.16.0 confection-0.1.4 cymem-2.0.8 langcodes-3.3.0 murmurhash-1.0.10 preshed-3.0.9 pydantic-2.6.4 pydantic-core-2.16.3 smart-open-6.4.0 spacy-3.7.4 spacy-legacy-3.0.12 spacy-loggers-1.0.5 srsly-2.4.8 thinc-8.2.3 typer-0.9.4 wasabi-1.1.2 weasel-0.3.4\n"
     ]
    }
   ],
   "source": [
    "pip install spacy"
   ]
  },
  {
   "cell_type": "code",
   "execution_count": 16,
   "metadata": {},
   "outputs": [
    {
     "name": "stdout",
     "output_type": "stream",
     "text": [
      "Collecting sklearn\n",
      "  Downloading sklearn-0.0.post12.tar.gz (2.6 kB)\n",
      "  Installing build dependencies: started\n",
      "  Installing build dependencies: finished with status 'done'\n",
      "  Getting requirements to build wheel: started\n",
      "  Getting requirements to build wheel: finished with status 'error'\n",
      "Note: you may need to restart the kernel to use updated packages.\n"
     ]
    },
    {
     "name": "stderr",
     "output_type": "stream",
     "text": [
      "  error: subprocess-exited-with-error\n",
      "  \n",
      "  × Getting requirements to build wheel did not run successfully.\n",
      "  │ exit code: 1\n",
      "  ╰─> [15 lines of output]\n",
      "      The 'sklearn' PyPI package is deprecated, use 'scikit-learn'\n",
      "      rather than 'sklearn' for pip commands.\n",
      "      \n",
      "      Here is how to fix this error in the main use cases:\n",
      "      - use 'pip install scikit-learn' rather than 'pip install sklearn'\n",
      "      - replace 'sklearn' by 'scikit-learn' in your pip requirements files\n",
      "        (requirements.txt, setup.py, setup.cfg, Pipfile, etc ...)\n",
      "      - if the 'sklearn' package is used by one of your dependencies,\n",
      "        it would be great if you take some time to track which package uses\n",
      "        'sklearn' instead of 'scikit-learn' and report it to their issue tracker\n",
      "      - as a last resort, set the environment variable\n",
      "        SKLEARN_ALLOW_DEPRECATED_SKLEARN_PACKAGE_INSTALL=True to avoid this error\n",
      "      \n",
      "      More information is available at\n",
      "      https://github.com/scikit-learn/sklearn-pypi-package\n",
      "      [end of output]\n",
      "  \n",
      "  note: This error originates from a subprocess, and is likely not a problem with pip.\n",
      "error: subprocess-exited-with-error\n",
      "\n",
      "× Getting requirements to build wheel did not run successfully.\n",
      "│ exit code: 1\n",
      "╰─> See above for output.\n",
      "\n",
      "note: This error originates from a subprocess, and is likely not a problem with pip.\n"
     ]
    }
   ],
   "source": [
    "pip install sklearn"
   ]
  },
  {
   "cell_type": "code",
   "execution_count": 20,
   "metadata": {},
   "outputs": [
    {
     "name": "stdout",
     "output_type": "stream",
     "text": [
      "Collecting scikit-learn\n",
      "  Downloading scikit_learn-1.4.1.post1-cp310-cp310-win_amd64.whl.metadata (11 kB)\n",
      "Requirement already satisfied: numpy<2.0,>=1.19.5 in c:\\users\\cynthia\\appdata\\local\\programs\\python\\python310\\lib\\site-packages (from scikit-learn) (1.26.4)\n",
      "Collecting scipy>=1.6.0 (from scikit-learn)\n",
      "  Downloading scipy-1.12.0-cp310-cp310-win_amd64.whl.metadata (60 kB)\n",
      "     ---------------------------------------- 0.0/60.4 kB ? eta -:--:--\n",
      "     ---------------------------------------- 60.4/60.4 kB 3.3 MB/s eta 0:00:00\n",
      "Requirement already satisfied: joblib>=1.2.0 in c:\\users\\cynthia\\appdata\\local\\programs\\python\\python310\\lib\\site-packages (from scikit-learn) (1.3.2)\n",
      "Collecting threadpoolctl>=2.0.0 (from scikit-learn)\n",
      "  Downloading threadpoolctl-3.4.0-py3-none-any.whl.metadata (13 kB)\n",
      "Downloading scikit_learn-1.4.1.post1-cp310-cp310-win_amd64.whl (10.6 MB)\n",
      "   ---------------------------------------- 0.0/10.6 MB ? eta -:--:--\n",
      "    --------------------------------------- 0.2/10.6 MB 6.9 MB/s eta 0:00:02\n",
      "   -- ------------------------------------- 0.7/10.6 MB 8.3 MB/s eta 0:00:02\n",
      "   --- ------------------------------------ 1.0/10.6 MB 9.3 MB/s eta 0:00:02\n",
      "   ----- ---------------------------------- 1.4/10.6 MB 8.0 MB/s eta 0:00:02\n",
      "   ------ --------------------------------- 1.6/10.6 MB 7.5 MB/s eta 0:00:02\n",
      "   ------- -------------------------------- 1.9/10.6 MB 7.2 MB/s eta 0:00:02\n",
      "   -------- ------------------------------- 2.3/10.6 MB 7.3 MB/s eta 0:00:02\n",
      "   --------- ------------------------------ 2.5/10.6 MB 7.0 MB/s eta 0:00:02\n",
      "   ---------- ----------------------------- 2.8/10.6 MB 7.1 MB/s eta 0:00:02\n",
      "   ----------- ---------------------------- 3.1/10.6 MB 6.8 MB/s eta 0:00:02\n",
      "   ------------- -------------------------- 3.5/10.6 MB 6.9 MB/s eta 0:00:02\n",
      "   -------------- ------------------------- 3.8/10.6 MB 6.9 MB/s eta 0:00:01\n",
      "   --------------- ------------------------ 4.0/10.6 MB 6.8 MB/s eta 0:00:01\n",
      "   ---------------- ----------------------- 4.4/10.6 MB 6.9 MB/s eta 0:00:01\n",
      "   ----------------- ---------------------- 4.7/10.6 MB 6.9 MB/s eta 0:00:01\n",
      "   ------------------- -------------------- 5.1/10.6 MB 6.9 MB/s eta 0:00:01\n",
      "   -------------------- ------------------- 5.4/10.6 MB 6.9 MB/s eta 0:00:01\n",
      "   --------------------- ------------------ 5.6/10.6 MB 6.8 MB/s eta 0:00:01\n",
      "   ---------------------- ----------------- 5.8/10.6 MB 6.7 MB/s eta 0:00:01\n",
      "   ---------------------- ----------------- 6.1/10.6 MB 6.7 MB/s eta 0:00:01\n",
      "   ----------------------- ---------------- 6.3/10.6 MB 6.6 MB/s eta 0:00:01\n",
      "   ------------------------ --------------- 6.6/10.6 MB 6.5 MB/s eta 0:00:01\n",
      "   ------------------------- -------------- 6.8/10.6 MB 6.5 MB/s eta 0:00:01\n",
      "   -------------------------- ------------- 7.0/10.6 MB 6.4 MB/s eta 0:00:01\n",
      "   --------------------------- ------------ 7.3/10.6 MB 6.4 MB/s eta 0:00:01\n",
      "   ---------------------------- ----------- 7.6/10.6 MB 6.4 MB/s eta 0:00:01\n",
      "   ------------------------------ --------- 8.0/10.6 MB 6.4 MB/s eta 0:00:01\n",
      "   ------------------------------ --------- 8.2/10.6 MB 6.4 MB/s eta 0:00:01\n",
      "   -------------------------------- ------- 8.5/10.6 MB 6.3 MB/s eta 0:00:01\n",
      "   --------------------------------- ------ 8.8/10.6 MB 6.4 MB/s eta 0:00:01\n",
      "   ---------------------------------- ----- 9.1/10.6 MB 6.3 MB/s eta 0:00:01\n",
      "   ----------------------------------- ---- 9.3/10.6 MB 6.3 MB/s eta 0:00:01\n",
      "   ----------------------------------- ---- 9.5/10.6 MB 6.3 MB/s eta 0:00:01\n",
      "   ------------------------------------- -- 9.8/10.6 MB 6.3 MB/s eta 0:00:01\n",
      "   ------------------------------------- -- 10.1/10.6 MB 6.2 MB/s eta 0:00:01\n",
      "   ---------------------------------------  10.3/10.6 MB 6.2 MB/s eta 0:00:01\n",
      "   ---------------------------------------  10.6/10.6 MB 6.1 MB/s eta 0:00:01\n",
      "   ---------------------------------------  10.6/10.6 MB 6.1 MB/s eta 0:00:01\n",
      "   ---------------------------------------- 10.6/10.6 MB 5.8 MB/s eta 0:00:00\n",
      "Downloading scipy-1.12.0-cp310-cp310-win_amd64.whl (46.2 MB)\n",
      "   ---------------------------------------- 0.0/46.2 MB ? eta -:--:--\n",
      "   ---------------------------------------- 0.4/46.2 MB 12.2 MB/s eta 0:00:04\n",
      "    --------------------------------------- 0.7/46.2 MB 8.7 MB/s eta 0:00:06\n",
      "    --------------------------------------- 1.0/46.2 MB 7.8 MB/s eta 0:00:06\n",
      "   - -------------------------------------- 1.2/46.2 MB 7.1 MB/s eta 0:00:07\n",
      "   - -------------------------------------- 1.6/46.2 MB 7.1 MB/s eta 0:00:07\n",
      "   - -------------------------------------- 1.8/46.2 MB 6.8 MB/s eta 0:00:07\n",
      "   - -------------------------------------- 2.1/46.2 MB 6.6 MB/s eta 0:00:07\n",
      "   -- ------------------------------------- 2.3/46.2 MB 6.5 MB/s eta 0:00:07\n",
      "   -- ------------------------------------- 2.6/46.2 MB 6.5 MB/s eta 0:00:07\n",
      "   -- ------------------------------------- 3.0/46.2 MB 6.5 MB/s eta 0:00:07\n",
      "   -- ------------------------------------- 3.2/46.2 MB 6.3 MB/s eta 0:00:07\n",
      "   -- ------------------------------------- 3.5/46.2 MB 6.3 MB/s eta 0:00:07\n",
      "   --- ------------------------------------ 3.7/46.2 MB 6.2 MB/s eta 0:00:07\n",
      "   --- ------------------------------------ 3.9/46.2 MB 6.1 MB/s eta 0:00:07\n",
      "   --- ------------------------------------ 4.1/46.2 MB 6.0 MB/s eta 0:00:08\n",
      "   --- ------------------------------------ 4.4/46.2 MB 5.9 MB/s eta 0:00:08\n",
      "   --- ------------------------------------ 4.6/46.2 MB 5.9 MB/s eta 0:00:08\n",
      "   ---- ----------------------------------- 4.8/46.2 MB 5.8 MB/s eta 0:00:08\n",
      "   ---- ----------------------------------- 5.2/46.2 MB 5.9 MB/s eta 0:00:07\n",
      "   ---- ----------------------------------- 5.4/46.2 MB 5.9 MB/s eta 0:00:07\n",
      "   ---- ----------------------------------- 5.7/46.2 MB 5.9 MB/s eta 0:00:07\n",
      "   ----- ---------------------------------- 5.9/46.2 MB 5.8 MB/s eta 0:00:07\n",
      "   ----- ---------------------------------- 6.1/46.2 MB 5.7 MB/s eta 0:00:07\n",
      "   ----- ---------------------------------- 6.4/46.2 MB 5.8 MB/s eta 0:00:07\n",
      "   ----- ---------------------------------- 6.7/46.2 MB 5.7 MB/s eta 0:00:07\n",
      "   ------ --------------------------------- 7.0/46.2 MB 5.8 MB/s eta 0:00:07\n",
      "   ------ --------------------------------- 7.2/46.2 MB 5.8 MB/s eta 0:00:07\n",
      "   ------ --------------------------------- 7.6/46.2 MB 5.9 MB/s eta 0:00:07\n",
      "   ------ --------------------------------- 7.9/46.2 MB 5.9 MB/s eta 0:00:07\n",
      "   ------- -------------------------------- 8.2/46.2 MB 5.9 MB/s eta 0:00:07\n",
      "   ------- -------------------------------- 8.4/46.2 MB 5.9 MB/s eta 0:00:07\n",
      "   ------- -------------------------------- 8.8/46.2 MB 5.9 MB/s eta 0:00:07\n",
      "   ------- -------------------------------- 9.1/46.2 MB 5.9 MB/s eta 0:00:07\n",
      "   -------- ------------------------------- 9.3/46.2 MB 5.9 MB/s eta 0:00:07\n",
      "   -------- ------------------------------- 9.5/46.2 MB 5.9 MB/s eta 0:00:07\n",
      "   -------- ------------------------------- 9.8/46.2 MB 5.8 MB/s eta 0:00:07\n",
      "   -------- ------------------------------- 10.0/46.2 MB 5.8 MB/s eta 0:00:07\n",
      "   -------- ------------------------------- 10.3/46.2 MB 5.8 MB/s eta 0:00:07\n",
      "   --------- ------------------------------ 10.5/46.2 MB 5.7 MB/s eta 0:00:07\n",
      "   --------- ------------------------------ 10.7/46.2 MB 5.7 MB/s eta 0:00:07\n",
      "   --------- ------------------------------ 11.0/46.2 MB 5.6 MB/s eta 0:00:07\n",
      "   --------- ------------------------------ 11.3/46.2 MB 5.6 MB/s eta 0:00:07\n",
      "   --------- ------------------------------ 11.5/46.2 MB 5.6 MB/s eta 0:00:07\n",
      "   --------- ------------------------------ 11.5/46.2 MB 5.5 MB/s eta 0:00:07\n",
      "   ---------- ----------------------------- 11.6/46.2 MB 5.4 MB/s eta 0:00:07\n",
      "   ---------- ----------------------------- 11.7/46.2 MB 5.3 MB/s eta 0:00:07\n",
      "   ---------- ----------------------------- 12.0/46.2 MB 5.3 MB/s eta 0:00:07\n",
      "   ---------- ----------------------------- 12.2/46.2 MB 5.3 MB/s eta 0:00:07\n",
      "   ---------- ----------------------------- 12.4/46.2 MB 5.3 MB/s eta 0:00:07\n",
      "   ---------- ----------------------------- 12.6/46.2 MB 5.3 MB/s eta 0:00:07\n",
      "   ----------- ---------------------------- 12.9/46.2 MB 5.2 MB/s eta 0:00:07\n",
      "   ----------- ---------------------------- 13.2/46.2 MB 5.2 MB/s eta 0:00:07\n",
      "   ----------- ---------------------------- 13.5/46.2 MB 5.2 MB/s eta 0:00:07\n",
      "   ----------- ---------------------------- 13.8/46.2 MB 5.2 MB/s eta 0:00:07\n",
      "   ------------ --------------------------- 14.2/46.2 MB 5.3 MB/s eta 0:00:07\n",
      "   ------------ --------------------------- 14.6/46.2 MB 5.5 MB/s eta 0:00:06\n",
      "   ------------ --------------------------- 14.9/46.2 MB 5.5 MB/s eta 0:00:06\n",
      "   ------------- -------------------------- 15.2/46.2 MB 5.5 MB/s eta 0:00:06\n",
      "   ------------- -------------------------- 15.5/46.2 MB 5.5 MB/s eta 0:00:06\n",
      "   ------------- -------------------------- 15.8/46.2 MB 5.5 MB/s eta 0:00:06\n",
      "   ------------- -------------------------- 16.0/46.2 MB 5.5 MB/s eta 0:00:06\n",
      "   -------------- ------------------------- 16.4/46.2 MB 5.6 MB/s eta 0:00:06\n",
      "   -------------- ------------------------- 16.8/46.2 MB 5.7 MB/s eta 0:00:06\n",
      "   -------------- ------------------------- 17.0/46.2 MB 5.7 MB/s eta 0:00:06\n",
      "   -------------- ------------------------- 17.3/46.2 MB 5.6 MB/s eta 0:00:06\n",
      "   --------------- ------------------------ 17.5/46.2 MB 5.6 MB/s eta 0:00:06\n",
      "   --------------- ------------------------ 17.9/46.2 MB 5.6 MB/s eta 0:00:06\n",
      "   --------------- ------------------------ 18.2/46.2 MB 5.6 MB/s eta 0:00:05\n",
      "   ---------------- ----------------------- 18.6/46.2 MB 5.7 MB/s eta 0:00:05\n",
      "   ---------------- ----------------------- 19.0/46.2 MB 5.7 MB/s eta 0:00:05\n",
      "   ---------------- ----------------------- 19.4/46.2 MB 5.8 MB/s eta 0:00:05\n",
      "   ---------------- ----------------------- 19.6/46.2 MB 5.7 MB/s eta 0:00:05\n",
      "   ----------------- ---------------------- 19.8/46.2 MB 5.7 MB/s eta 0:00:05\n",
      "   ----------------- ---------------------- 20.1/46.2 MB 5.8 MB/s eta 0:00:05\n",
      "   ----------------- ---------------------- 20.4/46.2 MB 5.8 MB/s eta 0:00:05\n",
      "   ----------------- ---------------------- 20.7/46.2 MB 5.8 MB/s eta 0:00:05\n",
      "   ------------------ --------------------- 20.9/46.2 MB 5.8 MB/s eta 0:00:05\n",
      "   ------------------ --------------------- 21.2/46.2 MB 6.0 MB/s eta 0:00:05\n",
      "   ------------------ --------------------- 21.5/46.2 MB 5.9 MB/s eta 0:00:05\n",
      "   ------------------ --------------------- 21.9/46.2 MB 6.3 MB/s eta 0:00:04\n",
      "   ------------------- -------------------- 22.2/46.2 MB 6.5 MB/s eta 0:00:04\n",
      "   ------------------- -------------------- 22.5/46.2 MB 6.5 MB/s eta 0:00:04\n",
      "   ------------------- -------------------- 22.8/46.2 MB 6.6 MB/s eta 0:00:04\n",
      "   ------------------- -------------------- 23.0/46.2 MB 6.5 MB/s eta 0:00:04\n",
      "   -------------------- ------------------- 23.3/46.2 MB 6.5 MB/s eta 0:00:04\n",
      "   -------------------- ------------------- 23.5/46.2 MB 6.5 MB/s eta 0:00:04\n",
      "   -------------------- ------------------- 23.7/46.2 MB 6.5 MB/s eta 0:00:04\n",
      "   -------------------- ------------------- 24.0/46.2 MB 6.5 MB/s eta 0:00:04\n",
      "   --------------------- ------------------ 24.3/46.2 MB 6.4 MB/s eta 0:00:04\n",
      "   --------------------- ------------------ 24.5/46.2 MB 6.4 MB/s eta 0:00:04\n",
      "   --------------------- ------------------ 24.8/46.2 MB 6.3 MB/s eta 0:00:04\n",
      "   --------------------- ------------------ 25.0/46.2 MB 6.2 MB/s eta 0:00:04\n",
      "   --------------------- ------------------ 25.3/46.2 MB 6.2 MB/s eta 0:00:04\n",
      "   ---------------------- ----------------- 25.5/46.2 MB 6.1 MB/s eta 0:00:04\n",
      "   ---------------------- ----------------- 25.8/46.2 MB 6.1 MB/s eta 0:00:04\n",
      "   ---------------------- ----------------- 26.1/46.2 MB 6.2 MB/s eta 0:00:04\n",
      "   ---------------------- ----------------- 26.2/46.2 MB 6.1 MB/s eta 0:00:04\n",
      "   ---------------------- ----------------- 26.3/46.2 MB 6.0 MB/s eta 0:00:04\n",
      "   ---------------------- ----------------- 26.4/46.2 MB 5.7 MB/s eta 0:00:04\n",
      "   ---------------------- ----------------- 26.4/46.2 MB 5.6 MB/s eta 0:00:04\n",
      "   ----------------------- ---------------- 26.6/46.2 MB 5.5 MB/s eta 0:00:04\n",
      "   ----------------------- ---------------- 26.7/46.2 MB 5.4 MB/s eta 0:00:04\n",
      "   ----------------------- ---------------- 26.8/46.2 MB 5.3 MB/s eta 0:00:04\n",
      "   ----------------------- ---------------- 27.0/46.2 MB 5.3 MB/s eta 0:00:04\n",
      "   ----------------------- ---------------- 27.2/46.2 MB 5.2 MB/s eta 0:00:04\n",
      "   ----------------------- ---------------- 27.4/46.2 MB 5.2 MB/s eta 0:00:04\n",
      "   ----------------------- ---------------- 27.6/46.2 MB 5.2 MB/s eta 0:00:04\n",
      "   ------------------------ --------------- 27.8/46.2 MB 5.2 MB/s eta 0:00:04\n",
      "   ------------------------ --------------- 28.1/46.2 MB 5.1 MB/s eta 0:00:04\n",
      "   ------------------------ --------------- 28.3/46.2 MB 5.1 MB/s eta 0:00:04\n",
      "   ------------------------ --------------- 28.5/46.2 MB 5.1 MB/s eta 0:00:04\n",
      "   ------------------------ --------------- 28.6/46.2 MB 5.0 MB/s eta 0:00:04\n",
      "   ------------------------ --------------- 28.8/46.2 MB 4.9 MB/s eta 0:00:04\n",
      "   ------------------------- -------------- 29.0/46.2 MB 4.9 MB/s eta 0:00:04\n",
      "   ------------------------- -------------- 29.2/46.2 MB 4.8 MB/s eta 0:00:04\n",
      "   ------------------------- -------------- 29.6/46.2 MB 4.8 MB/s eta 0:00:04\n",
      "   ------------------------- -------------- 29.8/46.2 MB 4.8 MB/s eta 0:00:04\n",
      "   ------------------------- -------------- 29.9/46.2 MB 4.7 MB/s eta 0:00:04\n",
      "   ------------------------- -------------- 30.0/46.2 MB 4.7 MB/s eta 0:00:04\n",
      "   -------------------------- ------------- 30.2/46.2 MB 4.6 MB/s eta 0:00:04\n",
      "   -------------------------- ------------- 30.3/46.2 MB 4.6 MB/s eta 0:00:04\n",
      "   -------------------------- ------------- 30.5/46.2 MB 4.5 MB/s eta 0:00:04\n",
      "   -------------------------- ------------- 30.6/46.2 MB 4.5 MB/s eta 0:00:04\n",
      "   -------------------------- ------------- 30.8/46.2 MB 4.5 MB/s eta 0:00:04\n",
      "   -------------------------- ------------- 30.9/46.2 MB 4.4 MB/s eta 0:00:04\n",
      "   -------------------------- ------------- 31.1/46.2 MB 4.4 MB/s eta 0:00:04\n",
      "   --------------------------- ------------ 31.2/46.2 MB 4.3 MB/s eta 0:00:04\n",
      "   --------------------------- ------------ 31.4/46.2 MB 4.3 MB/s eta 0:00:04\n",
      "   --------------------------- ------------ 31.5/46.2 MB 4.3 MB/s eta 0:00:04\n",
      "   --------------------------- ------------ 31.5/46.2 MB 4.3 MB/s eta 0:00:04\n",
      "   --------------------------- ------------ 31.5/46.2 MB 4.3 MB/s eta 0:00:04\n",
      "   --------------------------- ------------ 31.6/46.2 MB 4.0 MB/s eta 0:00:04\n",
      "   --------------------------- ------------ 31.8/46.2 MB 4.0 MB/s eta 0:00:04\n",
      "   --------------------------- ------------ 32.0/46.2 MB 3.9 MB/s eta 0:00:04\n",
      "   --------------------------- ------------ 32.2/46.2 MB 3.9 MB/s eta 0:00:04\n",
      "   ---------------------------- ----------- 32.4/46.2 MB 3.9 MB/s eta 0:00:04\n",
      "   ---------------------------- ----------- 32.7/46.2 MB 3.9 MB/s eta 0:00:04\n",
      "   ---------------------------- ----------- 33.0/46.2 MB 3.9 MB/s eta 0:00:04\n",
      "   ---------------------------- ----------- 33.4/46.2 MB 3.9 MB/s eta 0:00:04\n",
      "   ----------------------------- ---------- 33.7/46.2 MB 3.9 MB/s eta 0:00:04\n",
      "   ----------------------------- ---------- 34.0/46.2 MB 4.0 MB/s eta 0:00:04\n",
      "   ----------------------------- ---------- 34.3/46.2 MB 3.9 MB/s eta 0:00:04\n",
      "   ----------------------------- ---------- 34.6/46.2 MB 3.9 MB/s eta 0:00:03\n",
      "   ------------------------------ --------- 34.8/46.2 MB 3.9 MB/s eta 0:00:03\n",
      "   ------------------------------ --------- 35.0/46.2 MB 3.8 MB/s eta 0:00:03\n",
      "   ------------------------------ --------- 35.3/46.2 MB 3.8 MB/s eta 0:00:03\n",
      "   ------------------------------ --------- 35.5/46.2 MB 3.8 MB/s eta 0:00:03\n",
      "   ------------------------------ --------- 35.7/46.2 MB 3.8 MB/s eta 0:00:03\n",
      "   ------------------------------- -------- 36.0/46.2 MB 3.8 MB/s eta 0:00:03\n",
      "   ------------------------------- -------- 36.3/46.2 MB 3.8 MB/s eta 0:00:03\n",
      "   ------------------------------- -------- 36.6/46.2 MB 3.9 MB/s eta 0:00:03\n",
      "   ------------------------------- -------- 36.9/46.2 MB 4.1 MB/s eta 0:00:03\n",
      "   -------------------------------- ------- 37.1/46.2 MB 4.1 MB/s eta 0:00:03\n",
      "   -------------------------------- ------- 37.3/46.2 MB 4.2 MB/s eta 0:00:03\n",
      "   -------------------------------- ------- 37.7/46.2 MB 4.2 MB/s eta 0:00:03\n",
      "   -------------------------------- ------- 37.9/46.2 MB 4.2 MB/s eta 0:00:02\n",
      "   --------------------------------- ------ 38.2/46.2 MB 4.2 MB/s eta 0:00:02\n",
      "   --------------------------------- ------ 38.4/46.2 MB 4.3 MB/s eta 0:00:02\n",
      "   --------------------------------- ------ 38.7/46.2 MB 4.3 MB/s eta 0:00:02\n",
      "   --------------------------------- ------ 39.0/46.2 MB 4.3 MB/s eta 0:00:02\n",
      "   ---------------------------------- ----- 39.4/46.2 MB 4.4 MB/s eta 0:00:02\n",
      "   ---------------------------------- ----- 39.6/46.2 MB 4.4 MB/s eta 0:00:02\n",
      "   ---------------------------------- ----- 39.8/46.2 MB 4.4 MB/s eta 0:00:02\n",
      "   ---------------------------------- ----- 40.1/46.2 MB 4.4 MB/s eta 0:00:02\n",
      "   ---------------------------------- ----- 40.3/46.2 MB 4.5 MB/s eta 0:00:02\n",
      "   ----------------------------------- ---- 40.7/46.2 MB 4.6 MB/s eta 0:00:02\n",
      "   ----------------------------------- ---- 40.9/46.2 MB 4.7 MB/s eta 0:00:02\n",
      "   ----------------------------------- ---- 41.2/46.2 MB 4.8 MB/s eta 0:00:02\n",
      "   ----------------------------------- ---- 41.4/46.2 MB 4.8 MB/s eta 0:00:01\n",
      "   ------------------------------------ --- 41.7/46.2 MB 4.9 MB/s eta 0:00:01\n",
      "   ------------------------------------ --- 41.9/46.2 MB 5.3 MB/s eta 0:00:01\n",
      "   ------------------------------------ --- 42.2/46.2 MB 5.4 MB/s eta 0:00:01\n",
      "   ------------------------------------ --- 42.4/46.2 MB 5.4 MB/s eta 0:00:01\n",
      "   ------------------------------------ --- 42.6/46.2 MB 5.4 MB/s eta 0:00:01\n",
      "   ------------------------------------- -- 43.0/46.2 MB 5.5 MB/s eta 0:00:01\n",
      "   ------------------------------------- -- 43.2/46.2 MB 5.5 MB/s eta 0:00:01\n",
      "   ------------------------------------- -- 43.4/46.2 MB 5.4 MB/s eta 0:00:01\n",
      "   ------------------------------------- -- 43.7/46.2 MB 5.4 MB/s eta 0:00:01\n",
      "   -------------------------------------- - 43.9/46.2 MB 5.3 MB/s eta 0:00:01\n",
      "   -------------------------------------- - 44.2/46.2 MB 5.3 MB/s eta 0:00:01\n",
      "   -------------------------------------- - 44.5/46.2 MB 5.3 MB/s eta 0:00:01\n",
      "   -------------------------------------- - 44.7/46.2 MB 5.3 MB/s eta 0:00:01\n",
      "   -------------------------------------- - 44.9/46.2 MB 5.4 MB/s eta 0:00:01\n",
      "   -------------------------------------- - 45.0/46.2 MB 5.4 MB/s eta 0:00:01\n",
      "   -------------------------------------- - 45.0/46.2 MB 5.4 MB/s eta 0:00:01\n",
      "   -------------------------------------- - 45.0/46.2 MB 5.4 MB/s eta 0:00:01\n",
      "   ---------------------------------------  45.1/46.2 MB 5.1 MB/s eta 0:00:01\n",
      "   ---------------------------------------  45.3/46.2 MB 5.0 MB/s eta 0:00:01\n",
      "   ---------------------------------------  45.4/46.2 MB 5.1 MB/s eta 0:00:01\n",
      "   ---------------------------------------  45.4/46.2 MB 5.1 MB/s eta 0:00:01\n",
      "   ---------------------------------------  45.5/46.2 MB 4.9 MB/s eta 0:00:01\n",
      "   ---------------------------------------  45.5/46.2 MB 4.8 MB/s eta 0:00:01\n",
      "   ---------------------------------------  45.7/46.2 MB 4.8 MB/s eta 0:00:01\n",
      "   ---------------------------------------  46.0/46.2 MB 4.8 MB/s eta 0:00:01\n",
      "   ---------------------------------------  46.1/46.2 MB 4.8 MB/s eta 0:00:01\n",
      "   ---------------------------------------  46.2/46.2 MB 4.6 MB/s eta 0:00:01\n",
      "   ---------------------------------------  46.2/46.2 MB 4.6 MB/s eta 0:00:01\n",
      "   ---------------------------------------  46.2/46.2 MB 4.6 MB/s eta 0:00:01\n",
      "   ---------------------------------------- 46.2/46.2 MB 4.5 MB/s eta 0:00:00\n",
      "Downloading threadpoolctl-3.4.0-py3-none-any.whl (17 kB)\n",
      "Installing collected packages: threadpoolctl, scipy, scikit-learn\n",
      "Successfully installed scikit-learn-1.4.1.post1 scipy-1.12.0 threadpoolctl-3.4.0\n",
      "Note: you may need to restart the kernel to use updated packages.\n"
     ]
    }
   ],
   "source": [
    "pip install scikit-learn"
   ]
  },
  {
   "cell_type": "markdown",
   "metadata": {},
   "source": [
    "### `b.` Loading the data"
   ]
  },
  {
   "cell_type": "code",
   "execution_count": 5,
   "metadata": {},
   "outputs": [],
   "source": [
    "import pandas as pd\n",
    "import numpy as np\n",
    "import seaborn as sns\n",
    "\n",
    "import matplotlib.pyplot as plt\n",
    "import matplotlib.pyplot as plt\n",
    "import matplotlib.ticker as mtick\n",
    "\n",
    "import nltk\n",
    "from nltk.corpus import stopwords\n",
    "from nltk.tokenize import word_tokenize\n",
    "from nltk import ngrams\n",
    "\n",
    "from wordcloud import WordCloud\n",
    "from collections import Counter\n",
    "\n",
    "from sklearn.feature_extraction.text import TfidfVectorizer\n",
    "\n",
    "import textwrap\n",
    "import spacy\n",
    "\n",
    "import torch"
   ]
  },
  {
   "cell_type": "code",
   "execution_count": 3,
   "metadata": {},
   "outputs": [
    {
     "name": "stderr",
     "output_type": "stream",
     "text": [
      "[nltk_data] Downloading package stopwords to\n",
      "[nltk_data]     C:\\Users\\Cynthia\\AppData\\Roaming\\nltk_data...\n",
      "[nltk_data]   Package stopwords is already up-to-date!\n",
      "[nltk_data] Downloading package punkt to\n",
      "[nltk_data]     C:\\Users\\Cynthia\\AppData\\Roaming\\nltk_data...\n",
      "[nltk_data]   Package punkt is already up-to-date!\n"
     ]
    }
   ],
   "source": [
    "nltk.download('stopwords')\n",
    "nltk.download('punkt')\n",
    "stop_words = set(stopwords.words('french'))"
   ]
  },
  {
   "cell_type": "code",
   "execution_count": 6,
   "metadata": {},
   "outputs": [
    {
     "name": "stdout",
     "output_type": "stream",
     "text": [
      "Using GPU\n"
     ]
    }
   ],
   "source": [
    "print(\"Using GPU\" if torch.cuda.is_available() else \"Using CPU\")"
   ]
  },
  {
   "cell_type": "code",
   "execution_count": 4,
   "metadata": {},
   "outputs": [],
   "source": [
    "train_df = pd.read_csv('../../data/train.csv')\n",
    "test_df = pd.read_csv('../../data/test_text.csv')\n",
    "validation_df = pd.read_csv('../../data/validation.csv')"
   ]
  },
  {
   "cell_type": "code",
   "execution_count": 6,
   "metadata": {},
   "outputs": [
    {
     "data": {
      "text/html": [
       "<div>\n",
       "<style scoped>\n",
       "    .dataframe tbody tr th:only-of-type {\n",
       "        vertical-align: middle;\n",
       "    }\n",
       "\n",
       "    .dataframe tbody tr th {\n",
       "        vertical-align: top;\n",
       "    }\n",
       "\n",
       "    .dataframe thead th {\n",
       "        text-align: right;\n",
       "    }\n",
       "</style>\n",
       "<table border=\"1\" class=\"dataframe\">\n",
       "  <thead>\n",
       "    <tr style=\"text-align: right;\">\n",
       "      <th></th>\n",
       "      <th>text</th>\n",
       "      <th>titles</th>\n",
       "    </tr>\n",
       "  </thead>\n",
       "  <tbody>\n",
       "    <tr>\n",
       "      <th>21396</th>\n",
       "      <td>Une \"main tendue\" que refuse de saisir l'eurod...</td>\n",
       "      <td>POLITIQUE. La présidente du Front national a s...</td>\n",
       "    </tr>\n",
       "    <tr>\n",
       "      <th>21397</th>\n",
       "      <td>Venue présenter son dernier spectacle, Elektri...</td>\n",
       "      <td>Que serait un dimanche matin sans un passage e...</td>\n",
       "    </tr>\n",
       "    <tr>\n",
       "      <th>21398</th>\n",
       "      <td>Mauvaise nouvelle pour les amateurs de chasse ...</td>\n",
       "      <td>La chasse à la glu sera interdite cette année,...</td>\n",
       "    </tr>\n",
       "    <tr>\n",
       "      <th>21399</th>\n",
       "      <td>\"Ce n'est pas une question de simple voile, c'...</td>\n",
       "      <td>Bruno Le Maire, candidat à la primaire de la d...</td>\n",
       "    </tr>\n",
       "    <tr>\n",
       "      <th>21400</th>\n",
       "      <td>C'est le montant total encaissé par l'État l'a...</td>\n",
       "      <td>En 2019, les sommes recouvrées par l'État au t...</td>\n",
       "    </tr>\n",
       "  </tbody>\n",
       "</table>\n",
       "</div>"
      ],
      "text/plain": [
       "                                                    text  \\\n",
       "21396  Une \"main tendue\" que refuse de saisir l'eurod...   \n",
       "21397  Venue présenter son dernier spectacle, Elektri...   \n",
       "21398  Mauvaise nouvelle pour les amateurs de chasse ...   \n",
       "21399  \"Ce n'est pas une question de simple voile, c'...   \n",
       "21400  C'est le montant total encaissé par l'État l'a...   \n",
       "\n",
       "                                                  titles  \n",
       "21396  POLITIQUE. La présidente du Front national a s...  \n",
       "21397  Que serait un dimanche matin sans un passage e...  \n",
       "21398  La chasse à la glu sera interdite cette année,...  \n",
       "21399  Bruno Le Maire, candidat à la primaire de la d...  \n",
       "21400  En 2019, les sommes recouvrées par l'État au t...  "
      ]
     },
     "execution_count": 6,
     "metadata": {},
     "output_type": "execute_result"
    }
   ],
   "source": [
    "train_df.tail(5)"
   ]
  },
  {
   "cell_type": "code",
   "execution_count": 7,
   "metadata": {},
   "outputs": [
    {
     "data": {
      "text/plain": [
       "\"L'information n'a pas été confirmée par l'intéressé qui déclare toutefois étudier la question.\""
      ]
     },
     "execution_count": 7,
     "metadata": {},
     "output_type": "execute_result"
    }
   ],
   "source": [
    "train_df.iloc[0]['titles']"
   ]
  },
  {
   "cell_type": "code",
   "execution_count": 8,
   "metadata": {},
   "outputs": [
    {
     "name": "stdout",
     "output_type": "stream",
     "text": [
      "Thierry Mariani sur la liste du Rassemblement national (RN, ex-FN) aux\n",
      "européennes ? C'est ce qu'affirme mardi 11 septembre Chez Pol, la\n",
      "nouvelle newsletter politique de Libération. L'ancien député Les\n",
      "Républicain et ministre de Nicolas Sarkozy serait sur le point de\n",
      "rejoindre les troupes de Marine Le Pen pour le élections européennes\n",
      "de 2019. \"Ça va se faire. Ce n'est plus qu'une question de calendrier.\n",
      "On n'est pas obligé de l'annoncer tout de suite, à huit mois des\n",
      "européennes\", aurait ainsi assuré un membre influent du RN. Contacté\n",
      "par Franceinfo, M. Mariani n'a pas confirmé l'information. \"Les\n",
      "élections sont en juin, je ne sais même pas qui sera numéro 1 sur la\n",
      "liste\", a répondu l'ancien ministre des Transports. Il reconnaît\n",
      "toutefois, toujours cité par Franceinfo, que son nom sur la liste du\n",
      "RN \"fait partie des possibilités\". \"Fréjus est une ville sympathique\n",
      "mais je n'ai pas prévu de m'y rendre ce week_end\", a-t-il par ailleurs\n",
      "commenté sur Twitter alors que Marine Le Pen réunit les cadres de son\n",
      "parti ce week-end dans la cité varoise. Une proximité connue avec le\n",
      "FNLa proximité de Thierry Mariani avec le parti frontiste n'est pas\n",
      "nouvelle. \"Sans alliés, nous allons rester dans l'opposition pour\n",
      "longtemps. Il est temps de renverser la table. Le Front national a\n",
      "évolué. Regardons si un accord ou un rapprochement sont possibles\",\n",
      "avait-il déclaré dans une interview donnée au Journal du Dimanche en\n",
      "mars dernier. Puis, en avril, avait bruissé la rumeur d'un rencontre\n",
      "entre l'ex-député et Marine Le Pen, qui lui aurait proposé de figurer\n",
      "en position éligible sur la liste de son parti aux européennes. \"Pas\n",
      "de conclusion hâtive\", avait-il à l'époque écrit sur Twitter. Le même\n",
      "mois, Thierry Mariani avait cosigné une tribune publiée dans Valeurs\n",
      "actuelles aux côté d'élus frontistes appelant à une union des droites.\n"
     ]
    }
   ],
   "source": [
    "for i in textwrap.wrap(train_df.iloc[0]['text']):\n",
    "    print(i)"
   ]
  },
  {
   "cell_type": "markdown",
   "metadata": {},
   "source": [
    "### `c.` Relevant functions"
   ]
  },
  {
   "cell_type": "markdown",
   "metadata": {},
   "source": [
    "Useful functions that will be used throughout this notebook."
   ]
  },
  {
   "cell_type": "code",
   "execution_count": 9,
   "metadata": {},
   "outputs": [],
   "source": [
    "def tokenize_text(text, n):\n",
    "    tokens = nltk.word_tokenize(text.lower())\n",
    "    cleaned_tokens = [token for token in tokens if token.isalnum()]\n",
    "    return list(ngrams(cleaned_tokens, n))"
   ]
  },
  {
   "cell_type": "code",
   "execution_count": 8,
   "metadata": {},
   "outputs": [],
   "source": [
    "def remove_stopwords(tokens):\n",
    "    return [token for token in tokens if token not in stop_words]"
   ]
  },
  {
   "cell_type": "markdown",
   "metadata": {},
   "source": [
    "### `d.` Text Length Analysis"
   ]
  },
  {
   "cell_type": "markdown",
   "metadata": {},
   "source": [
    "First, we are going to analyze the lengths of the news we have, including both the text and the titles."
   ]
  },
  {
   "cell_type": "markdown",
   "metadata": {},
   "source": [
    "#### `d.1.` Text Length - Tokens"
   ]
  },
  {
   "cell_type": "code",
   "execution_count": 10,
   "metadata": {},
   "outputs": [
    {
     "data": {
      "text/html": [
       "<div>\n",
       "<style scoped>\n",
       "    .dataframe tbody tr th:only-of-type {\n",
       "        vertical-align: middle;\n",
       "    }\n",
       "\n",
       "    .dataframe tbody tr th {\n",
       "        vertical-align: top;\n",
       "    }\n",
       "\n",
       "    .dataframe thead th {\n",
       "        text-align: right;\n",
       "    }\n",
       "</style>\n",
       "<table border=\"1\" class=\"dataframe\">\n",
       "  <thead>\n",
       "    <tr style=\"text-align: right;\">\n",
       "      <th></th>\n",
       "      <th>text</th>\n",
       "      <th>titles</th>\n",
       "      <th>text_tokens</th>\n",
       "      <th>titles_tokens</th>\n",
       "    </tr>\n",
       "  </thead>\n",
       "  <tbody>\n",
       "    <tr>\n",
       "      <th>21396</th>\n",
       "      <td>Une \"main tendue\" que refuse de saisir l'eurod...</td>\n",
       "      <td>POLITIQUE. La présidente du Front national a s...</td>\n",
       "      <td>[(une,), (main,), (tendue,), (que,), (refuse,)...</td>\n",
       "      <td>[(politique,), (la,), (présidente,), (du,), (f...</td>\n",
       "    </tr>\n",
       "    <tr>\n",
       "      <th>21397</th>\n",
       "      <td>Venue présenter son dernier spectacle, Elektri...</td>\n",
       "      <td>Que serait un dimanche matin sans un passage e...</td>\n",
       "      <td>[(venue,), (présenter,), (son,), (dernier,), (...</td>\n",
       "      <td>[(que,), (serait,), (un,), (dimanche,), (matin...</td>\n",
       "    </tr>\n",
       "    <tr>\n",
       "      <th>21398</th>\n",
       "      <td>Mauvaise nouvelle pour les amateurs de chasse ...</td>\n",
       "      <td>La chasse à la glu sera interdite cette année,...</td>\n",
       "      <td>[(mauvaise,), (nouvelle,), (pour,), (les,), (a...</td>\n",
       "      <td>[(la,), (chasse,), (à,), (la,), (glu,), (sera,...</td>\n",
       "    </tr>\n",
       "    <tr>\n",
       "      <th>21399</th>\n",
       "      <td>\"Ce n'est pas une question de simple voile, c'...</td>\n",
       "      <td>Bruno Le Maire, candidat à la primaire de la d...</td>\n",
       "      <td>[(ce,), (pas,), (une,), (question,), (de,), (s...</td>\n",
       "      <td>[(bruno,), (le,), (maire,), (candidat,), (à,),...</td>\n",
       "    </tr>\n",
       "    <tr>\n",
       "      <th>21400</th>\n",
       "      <td>C'est le montant total encaissé par l'État l'a...</td>\n",
       "      <td>En 2019, les sommes recouvrées par l'État au t...</td>\n",
       "      <td>[(le,), (montant,), (total,), (encaissé,), (pa...</td>\n",
       "      <td>[(en,), (2019,), (les,), (sommes,), (recouvrée...</td>\n",
       "    </tr>\n",
       "  </tbody>\n",
       "</table>\n",
       "</div>"
      ],
      "text/plain": [
       "                                                    text  \\\n",
       "21396  Une \"main tendue\" que refuse de saisir l'eurod...   \n",
       "21397  Venue présenter son dernier spectacle, Elektri...   \n",
       "21398  Mauvaise nouvelle pour les amateurs de chasse ...   \n",
       "21399  \"Ce n'est pas une question de simple voile, c'...   \n",
       "21400  C'est le montant total encaissé par l'État l'a...   \n",
       "\n",
       "                                                  titles  \\\n",
       "21396  POLITIQUE. La présidente du Front national a s...   \n",
       "21397  Que serait un dimanche matin sans un passage e...   \n",
       "21398  La chasse à la glu sera interdite cette année,...   \n",
       "21399  Bruno Le Maire, candidat à la primaire de la d...   \n",
       "21400  En 2019, les sommes recouvrées par l'État au t...   \n",
       "\n",
       "                                             text_tokens  \\\n",
       "21396  [(une,), (main,), (tendue,), (que,), (refuse,)...   \n",
       "21397  [(venue,), (présenter,), (son,), (dernier,), (...   \n",
       "21398  [(mauvaise,), (nouvelle,), (pour,), (les,), (a...   \n",
       "21399  [(ce,), (pas,), (une,), (question,), (de,), (s...   \n",
       "21400  [(le,), (montant,), (total,), (encaissé,), (pa...   \n",
       "\n",
       "                                           titles_tokens  \n",
       "21396  [(politique,), (la,), (présidente,), (du,), (f...  \n",
       "21397  [(que,), (serait,), (un,), (dimanche,), (matin...  \n",
       "21398  [(la,), (chasse,), (à,), (la,), (glu,), (sera,...  \n",
       "21399  [(bruno,), (le,), (maire,), (candidat,), (à,),...  \n",
       "21400  [(en,), (2019,), (les,), (sommes,), (recouvrée...  "
      ]
     },
     "execution_count": 10,
     "metadata": {},
     "output_type": "execute_result"
    }
   ],
   "source": [
    "train_df['text_tokens'] = train_df['text'].apply(lambda x: tokenize_text(x,1))\n",
    "train_df['titles_tokens'] = train_df['titles'].apply(lambda x:tokenize_text(x,1))\n",
    "train_df.tail(5)"
   ]
  },
  {
   "cell_type": "code",
   "execution_count": 20,
   "metadata": {},
   "outputs": [
    {
     "name": "stdout",
     "output_type": "stream",
     "text": [
      "\"Text\" Tokens Length Description:\n",
      "count    21401.00\n",
      "mean       322.46\n",
      "std        156.75\n",
      "min         28.00\n",
      "25%        213.00\n",
      "50%        288.00\n",
      "75%        390.00\n",
      "max       2894.00\n",
      "Name: text_tokens, dtype: float64\n",
      "\n",
      "\"Titles\" Tokens Length Description:\n",
      "count    21401.00\n",
      "mean        29.87\n",
      "std         10.80\n",
      "min          3.00\n",
      "25%         22.00\n",
      "50%         30.00\n",
      "75%         37.00\n",
      "max        139.00\n",
      "Name: titles_tokens, dtype: float64\n"
     ]
    }
   ],
   "source": [
    "print('\"Text\" Tokens Length Description:')\n",
    "print(train_df['text_tokens'].apply(lambda i:len(i)).describe().round(2))\n",
    "print('\\n\"Titles\" Tokens Length Description:')\n",
    "print(train_df['titles_tokens'].apply(lambda i:len(i)).describe().round(2))"
   ]
  },
  {
   "cell_type": "code",
   "execution_count": 23,
   "metadata": {},
   "outputs": [
    {
     "data": {
      "image/png": "[encoded data removed]",
      "text/plain": [
       "<Figure size 1000x500 with 2 Axes>"
      ]
     },
     "metadata": {},
     "output_type": "display_data"
    }
   ],
   "source": [
    "fig, ax = plt.subplots(1, 2, figsize=(10, 5))\n",
    "sns.histplot(train_df['text_tokens'].apply(lambda x: len(x)), kde=True, ax=ax[0])\n",
    "ax[0].set_title('Text Tokens Length Distribution')\n",
    "ax[0].set_xlabel('Text Tokens Length')\n",
    "ax[0].set_ylabel('Frequency')\n",
    "\n",
    "sns.histplot(train_df['titles_tokens'].apply(lambda x: len(x)), kde=True, ax=ax[1])\n",
    "ax[1].set_title('Titles Tokens Length Distribution')\n",
    "ax[1].set_xlabel('Titles Tokens Length')\n",
    "ax[1].set_ylabel('Frequency')\n",
    "\n",
    "plt.show()"
   ]
  },
  {
   "cell_type": "markdown",
   "metadata": {},
   "source": [
    "#### `d.2.` Text Length - Words"
   ]
  },
  {
   "cell_type": "markdown",
   "metadata": {},
   "source": [
    "In this section, we are going to analyze \"words\". A word will be define as sequence separated by space \" \"."
   ]
  },
  {
   "cell_type": "code",
   "execution_count": 25,
   "metadata": {},
   "outputs": [
    {
     "name": "stdout",
     "output_type": "stream",
     "text": [
      "Text Length Description:\n",
      "count    21401.00\n",
      "mean       350.34\n",
      "std        170.75\n",
      "min         33.00\n",
      "25%        231.00\n",
      "50%        313.00\n",
      "75%        423.00\n",
      "max       3163.00\n",
      "Name: text, dtype: float64\n",
      "\n",
      "Title Length Description:\n",
      "count    21401.00\n",
      "mean        32.10\n",
      "std         11.48\n",
      "min          6.00\n",
      "25%         24.00\n",
      "50%         32.00\n",
      "75%         39.00\n",
      "max        155.00\n",
      "Name: titles, dtype: float64\n"
     ]
    }
   ],
   "source": [
    "print('Text Length Description:')\n",
    "print(train_df['text'].apply(lambda x: len(x.split())).describe().round(2))\n",
    "print('\\nTitle Length Description:')\n",
    "print(train_df['titles'].apply(lambda x: len(x.split())).describe().round(2))"
   ]
  },
  {
   "cell_type": "code",
   "execution_count": 37,
   "metadata": {},
   "outputs": [
    {
     "data": {
      "text/html": [
       "<div>\n",
       "<style scoped>\n",
       "    .dataframe tbody tr th:only-of-type {\n",
       "        vertical-align: middle;\n",
       "    }\n",
       "\n",
       "    .dataframe tbody tr th {\n",
       "        vertical-align: top;\n",
       "    }\n",
       "\n",
       "    .dataframe thead th {\n",
       "        text-align: right;\n",
       "    }\n",
       "</style>\n",
       "<table border=\"1\" class=\"dataframe\">\n",
       "  <thead>\n",
       "    <tr style=\"text-align: right;\">\n",
       "      <th></th>\n",
       "      <th>text</th>\n",
       "      <th>titles</th>\n",
       "      <th>text_tokens</th>\n",
       "      <th>titles_tokens</th>\n",
       "    </tr>\n",
       "  </thead>\n",
       "  <tbody>\n",
       "    <tr>\n",
       "      <th>6139</th>\n",
       "      <td>Les plus importantes compétitions de foot de l...</td>\n",
       "      <td>- Qui a quoi ? -</td>\n",
       "      <td>[(les,), (plus,), (importantes,), (compétition...</td>\n",
       "      <td>[(qui,), (a,), (quoi,)]</td>\n",
       "    </tr>\n",
       "    <tr>\n",
       "      <th>8932</th>\n",
       "      <td>les Bouches-du-Rhône, le Var, le Vaucluse et l...</td>\n",
       "      <td>Les Pyrénées-Orientales, l'Hérault, le Gard, l...</td>\n",
       "      <td>[(les,), (le,), (var,), (le,), (vaucluse,), (e...</td>\n",
       "      <td>[(les,), (le,), (gard,)]</td>\n",
       "    </tr>\n",
       "    <tr>\n",
       "      <th>10281</th>\n",
       "      <td>Les Etats-Unis sont coiffés au poteau par l'UR...</td>\n",
       "      <td>- Premier Américain dans l'espace -</td>\n",
       "      <td>[(les,), (sont,), (coiffés,), (au,), (poteau,)...</td>\n",
       "      <td>[(premier,), (américain,), (dans,)]</td>\n",
       "    </tr>\n",
       "  </tbody>\n",
       "</table>\n",
       "</div>"
      ],
      "text/plain": [
       "                                                    text  \\\n",
       "6139   Les plus importantes compétitions de foot de l...   \n",
       "8932   les Bouches-du-Rhône, le Var, le Vaucluse et l...   \n",
       "10281  Les Etats-Unis sont coiffés au poteau par l'UR...   \n",
       "\n",
       "                                                  titles  \\\n",
       "6139                                    - Qui a quoi ? -   \n",
       "8932   Les Pyrénées-Orientales, l'Hérault, le Gard, l...   \n",
       "10281                - Premier Américain dans l'espace -   \n",
       "\n",
       "                                             text_tokens  \\\n",
       "6139   [(les,), (plus,), (importantes,), (compétition...   \n",
       "8932   [(les,), (le,), (var,), (le,), (vaucluse,), (e...   \n",
       "10281  [(les,), (sont,), (coiffés,), (au,), (poteau,)...   \n",
       "\n",
       "                             titles_tokens  \n",
       "6139               [(qui,), (a,), (quoi,)]  \n",
       "8932              [(les,), (le,), (gard,)]  \n",
       "10281  [(premier,), (américain,), (dans,)]  "
      ]
     },
     "execution_count": 37,
     "metadata": {},
     "output_type": "execute_result"
    }
   ],
   "source": [
    "train_df[train_df['titles_tokens'].apply(len) == 3]"
   ]
  },
  {
   "cell_type": "markdown",
   "metadata": {},
   "source": [
    "We can observe that the number of words is very similar to the number of tokens. \n",
    "Instances where the counts of tokens and words differ are often due to the presence of special characters (?, -, !, etc.) in the titles. \n",
    "For example, the title \"- Qui a quoi ? -\" contains 3 tokens (`qui`, `a`, `qui`) and 6 words (`-`, `qui`, `a`, `qui`, `?`, `-`)."
   ]
  },
  {
   "cell_type": "markdown",
   "metadata": {},
   "source": [
    "#### `d.3.` Text Length - Insight"
   ]
  },
  {
   "cell_type": "markdown",
   "metadata": {},
   "source": [
    "We observe a close similarity between the counts of tokens and words. For our analysis, we will focus on tokens. A token serves as a fundamental unit of lexical representation in natural language processing (NLP), typically corresponding to a word.\n",
    "\n",
    "In the models developed for the challenge, we will limit our analysis to the first `512 tokens` of the text in order to generate titles. We chose 512 because it is the nearest power of 2 to the total number of tokens: 546 tokens = 390 tokens (which is the 75th percentile) + 156 tokens (one standard deviation)."
   ]
  },
  {
   "cell_type": "markdown",
   "metadata": {},
   "source": [
    "#### `d.4.` Text Length - Correlation"
   ]
  },
  {
   "cell_type": "code",
   "execution_count": 11,
   "metadata": {},
   "outputs": [
    {
     "name": "stdout",
     "output_type": "stream",
     "text": [
      "Correlation between text length and title length:\n"
     ]
    },
    {
     "data": {
      "text/plain": [
       "array([[1.        , 0.23824749],\n",
       "       [0.23824749, 1.        ]])"
      ]
     },
     "execution_count": 11,
     "metadata": {},
     "output_type": "execute_result"
    }
   ],
   "source": [
    "print('Correlation between text length and title length:')\n",
    "correlation_matrix = np.corrcoef(   [len(tokens) for tokens in train_df['text_tokens']], \n",
    "                                    [len(tokens) for tokens in train_df['titles_tokens']] )\n",
    "\n",
    "correlation_matrix"
   ]
  },
  {
   "cell_type": "code",
   "execution_count": 12,
   "metadata": {},
   "outputs": [
    {
     "data": {
      "image/png": "[encoded data removed]",
      "text/plain": [
       "<Figure size 600x400 with 2 Axes>"
      ]
     },
     "metadata": {},
     "output_type": "display_data"
    }
   ],
   "source": [
    "plt.figure(figsize=(6, 4))\n",
    "sns.heatmap(correlation_matrix, annot=True, cmap='RdBu', vmin=-1, vmax=1,\n",
    "            xticklabels=['Text Length', 'Title Length'], yticklabels=['Text Length', 'Title Length'],\n",
    "            cbar_kws={'label': 'Correlation'})\n",
    "plt.title('Correlation between Text Length and Title Length')\n",
    "#plt.xlabel('Variable')\n",
    "#plt.ylabel('Variable')\n",
    "plt.show()"
   ]
  },
  {
   "cell_type": "markdown",
   "metadata": {},
   "source": [
    "The correlation matrix indicates a positive correlation, although it's not a strong correlation, of approximately 0.24 between the lengths of the text and titles in the dataset. This suggests that as the length of the text increases, there tends to be a slightly larger length in the corresponding titles."
   ]
  },
  {
   "cell_type": "code",
   "execution_count": null,
   "metadata": {},
   "outputs": [],
   "source": []
  }
 ],
 "metadata": {
  "kernelspec": {
   "display_name": "Py311",
   "language": "python",
   "name": "python3"
  },
  "language_info": {
   "codemirror_mode": {
    "name": "ipython",
    "version": 3
   },
   "file_extension": ".py",
   "mimetype": "text/x-python",
   "name": "python",
   "nbconvert_exporter": "python",
   "pygments_lexer": "ipython3",
   "version": "3.11.4"
  }
 },
 "nbformat": 4,
 "nbformat_minor": 2
}
