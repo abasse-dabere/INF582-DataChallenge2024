{
  "nbformat": 4,
  "nbformat_minor": 0,
  "metadata": {
    "colab": {
      "provenance": []
    },
    "kernelspec": {
      "name": "python3",
      "display_name": "Python 3"
    },
    "language_info": {
      "name": "python"
    }
  },
  "cells": [
    {
      "cell_type": "markdown",
      "source": [
        "<center>\n",
        "<h1><br/></h1>\n",
        "<h1>INF 582: Introduction To Text Mining And NLP</h1>\n",
        "<h2>Challenge: News Articles Title Generation</h2>\n",
        "<h3>Notebook: Grammar correction of the text in the news</h3>\n",
        "<h4>Students Name: <br>\n",
        "<b>DABERE Abasse<br>\n",
        "FUERTES PANIZO Cynthia Yacel</b> </h4>\n",
        "<br>\n",
        "</center>"
      ],
      "metadata": {
        "id": "TBiaO16hzp4s"
      }
    },
    {
      "cell_type": "markdown",
      "source": [
        "During our exploratory analysis, we discovered instances of sentences within the text lacking spaces in the training dataset. For instance, in the phrase \"Un membre incontournableEt ce n'est autre,\" we observed a missing space between \"incontournable\" and \"Et,\" which should be \"incontournable Et.\" Consequently, we aim to enhance the grammar."
      ],
      "metadata": {
        "id": "lS9YUhrE3UF1"
      }
    },
    {
      "cell_type": "markdown",
      "source": [
        "## `a.` Installing the libraries"
      ],
      "metadata": {
        "id": "tN4ct1CFCE0I"
      }
    },
    {
      "cell_type": "code",
      "source": [
        "pip install wordninja"
      ],
      "metadata": {
        "colab": {
          "base_uri": "https://localhost:8080/"
        },
        "id": "SdSARy19zJMQ",
        "outputId": "45e1906b-6507-4375-de50-8f4c9654536b"
      },
      "execution_count": null,
      "outputs": [
        {
          "output_type": "stream",
          "name": "stdout",
          "text": [
            "Collecting wordninja\n",
            "  Downloading wordninja-2.0.0.tar.gz (541 kB)\n",
            "\u001b[2K     \u001b[90m━━━━━━━━━━━━━━━━━━━━━━━━━━━━━━━━━━━━━━━━\u001b[0m \u001b[32m541.6/541.6 kB\u001b[0m \u001b[31m3.5 MB/s\u001b[0m eta \u001b[36m0:00:00\u001b[0m\n",
            "\u001b[?25h  Preparing metadata (setup.py) ... \u001b[?25l\u001b[?25hdone\n",
            "Building wheels for collected packages: wordninja\n",
            "  Building wheel for wordninja (setup.py) ... \u001b[?25l\u001b[?25hdone\n",
            "  Created wheel for wordninja: filename=wordninja-2.0.0-py3-none-any.whl size=541530 sha256=f3fe1b3438baa60f5c4b58881d01a6a2fd3c98d008a5b32bd0550feb43c3db5b\n",
            "  Stored in directory: /root/.cache/pip/wheels/aa/44/3a/f2a5c1859b8b541ded969b4cd12d0a58897f12408f4f51e084\n",
            "Successfully built wordninja\n",
            "Installing collected packages: wordninja\n",
            "Successfully installed wordninja-2.0.0\n"
          ]
        }
      ]
    },
    {
      "cell_type": "code",
      "source": [
        "!python -m spacy download fr_core_news_sm"
      ],
      "metadata": {
        "colab": {
          "base_uri": "https://localhost:8080/"
        },
        "id": "i4jwi5b_CBNK",
        "outputId": "c02abfc8-e2dc-43ea-b50d-5058f118cd15"
      },
      "execution_count": null,
      "outputs": [
        {
          "output_type": "stream",
          "name": "stdout",
          "text": [
            "Collecting fr-core-news-sm==3.7.0\n",
            "  Downloading https://github.com/explosion/spacy-models/releases/download/fr_core_news_sm-3.7.0/fr_core_news_sm-3.7.0-py3-none-any.whl (16.3 MB)\n",
            "\u001b[2K     \u001b[90m━━━━━━━━━━━━━━━━━━━━━━━━━━━━━━━━━━━━━━━━\u001b[0m \u001b[32m16.3/16.3 MB\u001b[0m \u001b[31m30.3 MB/s\u001b[0m eta \u001b[36m0:00:00\u001b[0m\n",
            "\u001b[?25hRequirement already satisfied: spacy<3.8.0,>=3.7.0 in /usr/local/lib/python3.10/dist-packages (from fr-core-news-sm==3.7.0) (3.7.4)\n",
            "Requirement already satisfied: spacy-legacy<3.1.0,>=3.0.11 in /usr/local/lib/python3.10/dist-packages (from spacy<3.8.0,>=3.7.0->fr-core-news-sm==3.7.0) (3.0.12)\n",
            "Requirement already satisfied: spacy-loggers<2.0.0,>=1.0.0 in /usr/local/lib/python3.10/dist-packages (from spacy<3.8.0,>=3.7.0->fr-core-news-sm==3.7.0) (1.0.5)\n",
            "Requirement already satisfied: murmurhash<1.1.0,>=0.28.0 in /usr/local/lib/python3.10/dist-packages (from spacy<3.8.0,>=3.7.0->fr-core-news-sm==3.7.0) (1.0.10)\n",
            "Requirement already satisfied: cymem<2.1.0,>=2.0.2 in /usr/local/lib/python3.10/dist-packages (from spacy<3.8.0,>=3.7.0->fr-core-news-sm==3.7.0) (2.0.8)\n",
            "Requirement already satisfied: preshed<3.1.0,>=3.0.2 in /usr/local/lib/python3.10/dist-packages (from spacy<3.8.0,>=3.7.0->fr-core-news-sm==3.7.0) (3.0.9)\n",
            "Requirement already satisfied: thinc<8.3.0,>=8.2.2 in /usr/local/lib/python3.10/dist-packages (from spacy<3.8.0,>=3.7.0->fr-core-news-sm==3.7.0) (8.2.3)\n",
            "Requirement already satisfied: wasabi<1.2.0,>=0.9.1 in /usr/local/lib/python3.10/dist-packages (from spacy<3.8.0,>=3.7.0->fr-core-news-sm==3.7.0) (1.1.2)\n",
            "Requirement already satisfied: srsly<3.0.0,>=2.4.3 in /usr/local/lib/python3.10/dist-packages (from spacy<3.8.0,>=3.7.0->fr-core-news-sm==3.7.0) (2.4.8)\n",
            "Requirement already satisfied: catalogue<2.1.0,>=2.0.6 in /usr/local/lib/python3.10/dist-packages (from spacy<3.8.0,>=3.7.0->fr-core-news-sm==3.7.0) (2.0.10)\n",
            "Requirement already satisfied: weasel<0.4.0,>=0.1.0 in /usr/local/lib/python3.10/dist-packages (from spacy<3.8.0,>=3.7.0->fr-core-news-sm==3.7.0) (0.3.4)\n",
            "Requirement already satisfied: typer<0.10.0,>=0.3.0 in /usr/local/lib/python3.10/dist-packages (from spacy<3.8.0,>=3.7.0->fr-core-news-sm==3.7.0) (0.9.4)\n",
            "Requirement already satisfied: smart-open<7.0.0,>=5.2.1 in /usr/local/lib/python3.10/dist-packages (from spacy<3.8.0,>=3.7.0->fr-core-news-sm==3.7.0) (6.4.0)\n",
            "Requirement already satisfied: tqdm<5.0.0,>=4.38.0 in /usr/local/lib/python3.10/dist-packages (from spacy<3.8.0,>=3.7.0->fr-core-news-sm==3.7.0) (4.66.2)\n",
            "Requirement already satisfied: requests<3.0.0,>=2.13.0 in /usr/local/lib/python3.10/dist-packages (from spacy<3.8.0,>=3.7.0->fr-core-news-sm==3.7.0) (2.31.0)\n",
            "Requirement already satisfied: pydantic!=1.8,!=1.8.1,<3.0.0,>=1.7.4 in /usr/local/lib/python3.10/dist-packages (from spacy<3.8.0,>=3.7.0->fr-core-news-sm==3.7.0) (2.6.4)\n",
            "Requirement already satisfied: jinja2 in /usr/local/lib/python3.10/dist-packages (from spacy<3.8.0,>=3.7.0->fr-core-news-sm==3.7.0) (3.1.3)\n",
            "Requirement already satisfied: setuptools in /usr/local/lib/python3.10/dist-packages (from spacy<3.8.0,>=3.7.0->fr-core-news-sm==3.7.0) (67.7.2)\n",
            "Requirement already satisfied: packaging>=20.0 in /usr/local/lib/python3.10/dist-packages (from spacy<3.8.0,>=3.7.0->fr-core-news-sm==3.7.0) (24.0)\n",
            "Requirement already satisfied: langcodes<4.0.0,>=3.2.0 in /usr/local/lib/python3.10/dist-packages (from spacy<3.8.0,>=3.7.0->fr-core-news-sm==3.7.0) (3.3.0)\n",
            "Requirement already satisfied: numpy>=1.19.0 in /usr/local/lib/python3.10/dist-packages (from spacy<3.8.0,>=3.7.0->fr-core-news-sm==3.7.0) (1.25.2)\n",
            "Requirement already satisfied: annotated-types>=0.4.0 in /usr/local/lib/python3.10/dist-packages (from pydantic!=1.8,!=1.8.1,<3.0.0,>=1.7.4->spacy<3.8.0,>=3.7.0->fr-core-news-sm==3.7.0) (0.6.0)\n",
            "Requirement already satisfied: pydantic-core==2.16.3 in /usr/local/lib/python3.10/dist-packages (from pydantic!=1.8,!=1.8.1,<3.0.0,>=1.7.4->spacy<3.8.0,>=3.7.0->fr-core-news-sm==3.7.0) (2.16.3)\n",
            "Requirement already satisfied: typing-extensions>=4.6.1 in /usr/local/lib/python3.10/dist-packages (from pydantic!=1.8,!=1.8.1,<3.0.0,>=1.7.4->spacy<3.8.0,>=3.7.0->fr-core-news-sm==3.7.0) (4.10.0)\n",
            "Requirement already satisfied: charset-normalizer<4,>=2 in /usr/local/lib/python3.10/dist-packages (from requests<3.0.0,>=2.13.0->spacy<3.8.0,>=3.7.0->fr-core-news-sm==3.7.0) (3.3.2)\n",
            "Requirement already satisfied: idna<4,>=2.5 in /usr/local/lib/python3.10/dist-packages (from requests<3.0.0,>=2.13.0->spacy<3.8.0,>=3.7.0->fr-core-news-sm==3.7.0) (3.6)\n",
            "Requirement already satisfied: urllib3<3,>=1.21.1 in /usr/local/lib/python3.10/dist-packages (from requests<3.0.0,>=2.13.0->spacy<3.8.0,>=3.7.0->fr-core-news-sm==3.7.0) (2.0.7)\n",
            "Requirement already satisfied: certifi>=2017.4.17 in /usr/local/lib/python3.10/dist-packages (from requests<3.0.0,>=2.13.0->spacy<3.8.0,>=3.7.0->fr-core-news-sm==3.7.0) (2024.2.2)\n",
            "Requirement already satisfied: blis<0.8.0,>=0.7.8 in /usr/local/lib/python3.10/dist-packages (from thinc<8.3.0,>=8.2.2->spacy<3.8.0,>=3.7.0->fr-core-news-sm==3.7.0) (0.7.11)\n",
            "Requirement already satisfied: confection<1.0.0,>=0.0.1 in /usr/local/lib/python3.10/dist-packages (from thinc<8.3.0,>=8.2.2->spacy<3.8.0,>=3.7.0->fr-core-news-sm==3.7.0) (0.1.4)\n",
            "Requirement already satisfied: click<9.0.0,>=7.1.1 in /usr/local/lib/python3.10/dist-packages (from typer<0.10.0,>=0.3.0->spacy<3.8.0,>=3.7.0->fr-core-news-sm==3.7.0) (8.1.7)\n",
            "Requirement already satisfied: cloudpathlib<0.17.0,>=0.7.0 in /usr/local/lib/python3.10/dist-packages (from weasel<0.4.0,>=0.1.0->spacy<3.8.0,>=3.7.0->fr-core-news-sm==3.7.0) (0.16.0)\n",
            "Requirement already satisfied: MarkupSafe>=2.0 in /usr/local/lib/python3.10/dist-packages (from jinja2->spacy<3.8.0,>=3.7.0->fr-core-news-sm==3.7.0) (2.1.5)\n",
            "Installing collected packages: fr-core-news-sm\n",
            "Successfully installed fr-core-news-sm-3.7.0\n",
            "\u001b[38;5;2m✔ Download and installation successful\u001b[0m\n",
            "You can now load the package via spacy.load('fr_core_news_sm')\n",
            "\u001b[38;5;3m⚠ Restart to reload dependencies\u001b[0m\n",
            "If you are in a Jupyter or Colab notebook, you may need to restart Python in\n",
            "order to load all the package's dependencies. You can do this by selecting the\n",
            "'Restart kernel' or 'Restart runtime' option.\n"
          ]
        }
      ]
    },
    {
      "cell_type": "code",
      "source": [
        "pip install language-tool-python requests"
      ],
      "metadata": {
        "colab": {
          "base_uri": "https://localhost:8080/"
        },
        "id": "nwncAhM2t7Ns",
        "outputId": "1497a1b0-7972-4350-f25b-3e671796067b"
      },
      "execution_count": null,
      "outputs": [
        {
          "output_type": "stream",
          "name": "stdout",
          "text": [
            "Collecting language-tool-python\n",
            "  Downloading language_tool_python-2.7.3-py3-none-any.whl (34 kB)\n",
            "Requirement already satisfied: requests in /usr/local/lib/python3.10/dist-packages (2.31.0)\n",
            "Requirement already satisfied: tqdm in /usr/local/lib/python3.10/dist-packages (from language-tool-python) (4.66.2)\n",
            "Requirement already satisfied: charset-normalizer<4,>=2 in /usr/local/lib/python3.10/dist-packages (from requests) (3.3.2)\n",
            "Requirement already satisfied: idna<4,>=2.5 in /usr/local/lib/python3.10/dist-packages (from requests) (3.6)\n",
            "Requirement already satisfied: urllib3<3,>=1.21.1 in /usr/local/lib/python3.10/dist-packages (from requests) (2.0.7)\n",
            "Requirement already satisfied: certifi>=2017.4.17 in /usr/local/lib/python3.10/dist-packages (from requests) (2024.2.2)\n",
            "Installing collected packages: language-tool-python\n",
            "Successfully installed language-tool-python-2.7.3\n"
          ]
        }
      ]
    },
    {
      "cell_type": "markdown",
      "source": [
        "## `b.` Methods that were attempted (prior to achieving successful outcomes) but did not yield favorable results."
      ],
      "metadata": {
        "id": "nfkZlWY-_E4p"
      }
    },
    {
      "cell_type": "markdown",
      "source": [
        "### `b.1.` Using <i>import re</i>"
      ],
      "metadata": {
        "id": "XXEKg_qnAFSK"
      }
    },
    {
      "cell_type": "code",
      "execution_count": null,
      "metadata": {
        "id": "Nzm_g6HKoc20"
      },
      "outputs": [],
      "source": [
        "import re\n",
        "\n",
        "def fix_spaces(text):\n",
        "    corrected_text = re.sub(r'([a-z])([A-Z])', r'\\1 \\2', text)\n",
        "    return corrected_text"
      ]
    },
    {
      "cell_type": "code",
      "source": [
        "fix_spaces(\"Parisest lacapitale de laFrance\")"
      ],
      "metadata": {
        "colab": {
          "base_uri": "https://localhost:8080/",
          "height": 35
        },
        "id": "EDndxGc3fr6r",
        "outputId": "468b16d0-247f-4b64-ee11-d7dd6283a57f"
      },
      "execution_count": null,
      "outputs": [
        {
          "output_type": "execute_result",
          "data": {
            "text/plain": [
              "'Parisest lacapitale de la France'"
            ],
            "application/vnd.google.colaboratory.intrinsic+json": {
              "type": "string"
            }
          },
          "metadata": {},
          "execution_count": 43
        }
      ]
    },
    {
      "cell_type": "markdown",
      "source": [
        "We can observe that using regex is not an efficient method for properly separating the words."
      ],
      "metadata": {
        "id": "Vogxwxi6ASyz"
      }
    },
    {
      "cell_type": "markdown",
      "source": [
        "### `b.2.` Using <i>import spacy</i>"
      ],
      "metadata": {
        "id": "aPQvBjmfA3NQ"
      }
    },
    {
      "cell_type": "code",
      "source": [
        "import spacy\n",
        "import fr_core_news_sm\n",
        "\n",
        "def correct_spacing(text):\n",
        "    nlp = spacy.load(\"fr_core_news_sm\")\n",
        "    doc = nlp(text)\n",
        "    corrected_text = \" \".join([token.text_with_ws for token in doc])\n",
        "    return corrected_text"
      ],
      "metadata": {
        "id": "l3FWnYFhBNzn"
      },
      "execution_count": null,
      "outputs": []
    },
    {
      "cell_type": "code",
      "source": [
        "correct_spacing(\"Parisest lacapitale de laFrance\")"
      ],
      "metadata": {
        "colab": {
          "base_uri": "https://localhost:8080/",
          "height": 35
        },
        "id": "BLPsdumVfhPp",
        "outputId": "d0aeaff5-e7bf-46a8-836c-5006d8e055f7"
      },
      "execution_count": null,
      "outputs": [
        {
          "output_type": "execute_result",
          "data": {
            "text/plain": [
              "'Parisest  lacapitale  de  laFrance'"
            ],
            "application/vnd.google.colaboratory.intrinsic+json": {
              "type": "string"
            }
          },
          "metadata": {},
          "execution_count": 42
        }
      ]
    },
    {
      "cell_type": "markdown",
      "source": [
        "Using `spacy` for grammar correction proves ineffective as it fails to insert any spaces in our example."
      ],
      "metadata": {
        "id": "kl3MW8eYA_m3"
      }
    },
    {
      "cell_type": "markdown",
      "source": [
        "### `b.3.` Using <i>import wordninja</i>"
      ],
      "metadata": {
        "id": "hZK7AtA7JQ3u"
      }
    },
    {
      "cell_type": "code",
      "source": [
        "import wordninja\n",
        "\n",
        "def correct_wordninja(text):\n",
        "    words = wordninja.split(text)\n",
        "    corrected_text = \" \".join(words)\n",
        "    return corrected_text"
      ],
      "metadata": {
        "id": "cO62Afq7pddF"
      },
      "execution_count": null,
      "outputs": []
    },
    {
      "cell_type": "code",
      "source": [
        "correct_wordninja(\"Parisest lacapitale de laFrance\")"
      ],
      "metadata": {
        "colab": {
          "base_uri": "https://localhost:8080/",
          "height": 35
        },
        "id": "TWIEDZNMfXvs",
        "outputId": "ba3e6a1d-0375-4e17-e118-9b63ad021cbe"
      },
      "execution_count": null,
      "outputs": [
        {
          "output_type": "execute_result",
          "data": {
            "text/plain": [
              "'Paris est la capitale de la France'"
            ],
            "application/vnd.google.colaboratory.intrinsic+json": {
              "type": "string"
            }
          },
          "metadata": {},
          "execution_count": 41
        }
      ]
    },
    {
      "cell_type": "code",
      "source": [
        "df = pd.read_csv(\"data/train.csv\")\n",
        "df['corrected_news'] = df['text'].apply(correct_wordninja)\n",
        "df.to_csv(\"data/train_spaceChecked.csv\", index=False)\n",
        "\n",
        "# Calculate how many news articles were corrected and their percentage\n",
        "total_news = len(df)\n",
        "corrected_news_count = df['corrected_news'].notna().sum()\n",
        "percentage_corrected = (corrected_news_count / total_news) * 100\n",
        "\n",
        "print(\"Number of news articles corrected:\", corrected_news_count)\n",
        "print(\"Percentage of news articles corrected:\", percentage_corrected)"
      ],
      "metadata": {
        "colab": {
          "base_uri": "https://localhost:8080/"
        },
        "id": "6alDLwHjqYHL",
        "outputId": "16f979b9-b5a2-4c44-88a3-f24119bac2e0"
      },
      "execution_count": null,
      "outputs": [
        {
          "output_type": "stream",
          "name": "stdout",
          "text": [
            "Number of news articles corrected: 21401\n",
            "Percentage of news articles corrected: 100.0\n"
          ]
        }
      ]
    },
    {
      "cell_type": "code",
      "source": [
        "df"
      ],
      "metadata": {
        "colab": {
          "base_uri": "https://localhost:8080/",
          "height": 423
        },
        "id": "O2XpBZthr84n",
        "outputId": "1b28136b-f484-45cf-da4d-822c99089c45"
      },
      "execution_count": null,
      "outputs": [
        {
          "output_type": "execute_result",
          "data": {
            "text/plain": [
              "                                                    text  \\\n",
              "0      Thierry Mariani sur la liste du Rassemblement ...   \n",
              "1      C'est désormais officiel : Alain Juppé n'est p...   \n",
              "2      La mesure est décriée par les avocats et les m...   \n",
              "3      Dans une interview accordée au Figaro mercredi...   \n",
              "4      Le préjudice est estimé à 2 millions d'euros. ...   \n",
              "...                                                  ...   \n",
              "21396  Une \"main tendue\" que refuse de saisir l'eurod...   \n",
              "21397  Venue présenter son dernier spectacle, Elektri...   \n",
              "21398  Mauvaise nouvelle pour les amateurs de chasse ...   \n",
              "21399  \"Ce n'est pas une question de simple voile, c'...   \n",
              "21400  C'est le montant total encaissé par l'État l'a...   \n",
              "\n",
              "                                                  titles  \\\n",
              "0      L'information n'a pas été confirmée par l'inté...   \n",
              "1      Le maire de Bordeaux ne fait plus partie des R...   \n",
              "2      En 2020, les tribunaux d'instance fusionnent a...   \n",
              "3      Les médecins jugés \"gros prescripteurs d'arrêt...   \n",
              "4      Il aura fallu mobiliser 90 gendarmes pour cett...   \n",
              "...                                                  ...   \n",
              "21396  POLITIQUE. La présidente du Front national a s...   \n",
              "21397  Que serait un dimanche matin sans un passage e...   \n",
              "21398  La chasse à la glu sera interdite cette année,...   \n",
              "21399  Bruno Le Maire, candidat à la primaire de la d...   \n",
              "21400  En 2019, les sommes recouvrées par l'État au t...   \n",
              "\n",
              "                                          corrected_news  \n",
              "0      Thierry Mariani sur la list e du Rassemblement...  \n",
              "1      C'est d so rma is of fi ciel Alain Jupp n ' es...  \n",
              "2      La mesure est d cri e par les avoca ts et les ...  \n",
              "3      Dans une interview accord e au Figaro mer c re...  \n",
              "4      Le pr jud ice est es tim 2 millions d ' euros ...  \n",
              "...                                                  ...  \n",
              "21396  Une main ten due que refuse de sai sir l ' eur...  \n",
              "21397  Venue pr s enter son dernier spectacle Ele kt ...  \n",
              "21398  Mau v aise nouvelle pour les amateurs de chass...  \n",
              "21399  Ce n ' est pas une question de simple voile c'...  \n",
              "21400  C'est le mont ant total enc a is s par l ' tat...  \n",
              "\n",
              "[21401 rows x 3 columns]"
            ],
            "text/html": [
              "\n",
              "  <div id=\"df-6122c40f-dcd2-4604-bc7d-fbce9c79df22\" class=\"colab-df-container\">\n",
              "    <div>\n",
              "<style scoped>\n",
              "    .dataframe tbody tr th:only-of-type {\n",
              "        vertical-align: middle;\n",
              "    }\n",
              "\n",
              "    .dataframe tbody tr th {\n",
              "        vertical-align: top;\n",
              "    }\n",
              "\n",
              "    .dataframe thead th {\n",
              "        text-align: right;\n",
              "    }\n",
              "</style>\n",
              "<table border=\"1\" class=\"dataframe\">\n",
              "  <thead>\n",
              "    <tr style=\"text-align: right;\">\n",
              "      <th></th>\n",
              "      <th>text</th>\n",
              "      <th>titles</th>\n",
              "      <th>corrected_news</th>\n",
              "    </tr>\n",
              "  </thead>\n",
              "  <tbody>\n",
              "    <tr>\n",
              "      <th>0</th>\n",
              "      <td>Thierry Mariani sur la liste du Rassemblement ...</td>\n",
              "      <td>L'information n'a pas été confirmée par l'inté...</td>\n",
              "      <td>Thierry Mariani sur la list e du Rassemblement...</td>\n",
              "    </tr>\n",
              "    <tr>\n",
              "      <th>1</th>\n",
              "      <td>C'est désormais officiel : Alain Juppé n'est p...</td>\n",
              "      <td>Le maire de Bordeaux ne fait plus partie des R...</td>\n",
              "      <td>C'est d so rma is of fi ciel Alain Jupp n ' es...</td>\n",
              "    </tr>\n",
              "    <tr>\n",
              "      <th>2</th>\n",
              "      <td>La mesure est décriée par les avocats et les m...</td>\n",
              "      <td>En 2020, les tribunaux d'instance fusionnent a...</td>\n",
              "      <td>La mesure est d cri e par les avoca ts et les ...</td>\n",
              "    </tr>\n",
              "    <tr>\n",
              "      <th>3</th>\n",
              "      <td>Dans une interview accordée au Figaro mercredi...</td>\n",
              "      <td>Les médecins jugés \"gros prescripteurs d'arrêt...</td>\n",
              "      <td>Dans une interview accord e au Figaro mer c re...</td>\n",
              "    </tr>\n",
              "    <tr>\n",
              "      <th>4</th>\n",
              "      <td>Le préjudice est estimé à 2 millions d'euros. ...</td>\n",
              "      <td>Il aura fallu mobiliser 90 gendarmes pour cett...</td>\n",
              "      <td>Le pr jud ice est es tim 2 millions d ' euros ...</td>\n",
              "    </tr>\n",
              "    <tr>\n",
              "      <th>...</th>\n",
              "      <td>...</td>\n",
              "      <td>...</td>\n",
              "      <td>...</td>\n",
              "    </tr>\n",
              "    <tr>\n",
              "      <th>21396</th>\n",
              "      <td>Une \"main tendue\" que refuse de saisir l'eurod...</td>\n",
              "      <td>POLITIQUE. La présidente du Front national a s...</td>\n",
              "      <td>Une main ten due que refuse de sai sir l ' eur...</td>\n",
              "    </tr>\n",
              "    <tr>\n",
              "      <th>21397</th>\n",
              "      <td>Venue présenter son dernier spectacle, Elektri...</td>\n",
              "      <td>Que serait un dimanche matin sans un passage e...</td>\n",
              "      <td>Venue pr s enter son dernier spectacle Ele kt ...</td>\n",
              "    </tr>\n",
              "    <tr>\n",
              "      <th>21398</th>\n",
              "      <td>Mauvaise nouvelle pour les amateurs de chasse ...</td>\n",
              "      <td>La chasse à la glu sera interdite cette année,...</td>\n",
              "      <td>Mau v aise nouvelle pour les amateurs de chass...</td>\n",
              "    </tr>\n",
              "    <tr>\n",
              "      <th>21399</th>\n",
              "      <td>\"Ce n'est pas une question de simple voile, c'...</td>\n",
              "      <td>Bruno Le Maire, candidat à la primaire de la d...</td>\n",
              "      <td>Ce n ' est pas une question de simple voile c'...</td>\n",
              "    </tr>\n",
              "    <tr>\n",
              "      <th>21400</th>\n",
              "      <td>C'est le montant total encaissé par l'État l'a...</td>\n",
              "      <td>En 2019, les sommes recouvrées par l'État au t...</td>\n",
              "      <td>C'est le mont ant total enc a is s par l ' tat...</td>\n",
              "    </tr>\n",
              "  </tbody>\n",
              "</table>\n",
              "<p>21401 rows × 3 columns</p>\n",
              "</div>\n",
              "    <div class=\"colab-df-buttons\">\n",
              "\n",
              "  <div class=\"colab-df-container\">\n",
              "    <button class=\"colab-df-convert\" onclick=\"convertToInteractive('df-6122c40f-dcd2-4604-bc7d-fbce9c79df22')\"\n",
              "            title=\"Convert this dataframe to an interactive table.\"\n",
              "            style=\"display:none;\">\n",
              "\n",
              "  <svg xmlns=\"http://www.w3.org/2000/svg\" height=\"24px\" viewBox=\"0 -960 960 960\">\n",
              "    <path d=\"M120-120v-720h720v720H120Zm60-500h600v-160H180v160Zm220 220h160v-160H400v160Zm0 220h160v-160H400v160ZM180-400h160v-160H180v160Zm440 0h160v-160H620v160ZM180-180h160v-160H180v160Zm440 0h160v-160H620v160Z\"/>\n",
              "  </svg>\n",
              "    </button>\n",
              "\n",
              "  <style>\n",
              "    .colab-df-container {\n",
              "      display:flex;\n",
              "      gap: 12px;\n",
              "    }\n",
              "\n",
              "    .colab-df-convert {\n",
              "      background-color: #E8F0FE;\n",
              "      border: none;\n",
              "      border-radius: 50%;\n",
              "      cursor: pointer;\n",
              "      display: none;\n",
              "      fill: #1967D2;\n",
              "      height: 32px;\n",
              "      padding: 0 0 0 0;\n",
              "      width: 32px;\n",
              "    }\n",
              "\n",
              "    .colab-df-convert:hover {\n",
              "      background-color: #E2EBFA;\n",
              "      box-shadow: 0px 1px 2px rgba(60, 64, 67, 0.3), 0px 1px 3px 1px rgba(60, 64, 67, 0.15);\n",
              "      fill: #174EA6;\n",
              "    }\n",
              "\n",
              "    .colab-df-buttons div {\n",
              "      margin-bottom: 4px;\n",
              "    }\n",
              "\n",
              "    [theme=dark] .colab-df-convert {\n",
              "      background-color: #3B4455;\n",
              "      fill: #D2E3FC;\n",
              "    }\n",
              "\n",
              "    [theme=dark] .colab-df-convert:hover {\n",
              "      background-color: #434B5C;\n",
              "      box-shadow: 0px 1px 3px 1px rgba(0, 0, 0, 0.15);\n",
              "      filter: drop-shadow(0px 1px 2px rgba(0, 0, 0, 0.3));\n",
              "      fill: #FFFFFF;\n",
              "    }\n",
              "  </style>\n",
              "\n",
              "    <script>\n",
              "      const buttonEl =\n",
              "        document.querySelector('#df-6122c40f-dcd2-4604-bc7d-fbce9c79df22 button.colab-df-convert');\n",
              "      buttonEl.style.display =\n",
              "        google.colab.kernel.accessAllowed ? 'block' : 'none';\n",
              "\n",
              "      async function convertToInteractive(key) {\n",
              "        const element = document.querySelector('#df-6122c40f-dcd2-4604-bc7d-fbce9c79df22');\n",
              "        const dataTable =\n",
              "          await google.colab.kernel.invokeFunction('convertToInteractive',\n",
              "                                                    [key], {});\n",
              "        if (!dataTable) return;\n",
              "\n",
              "        const docLinkHtml = 'Like what you see? Visit the ' +\n",
              "          '<a target=\"_blank\" href=https://colab.research.google.com/notebooks/data_table.ipynb>data table notebook</a>'\n",
              "          + ' to learn more about interactive tables.';\n",
              "        element.innerHTML = '';\n",
              "        dataTable['output_type'] = 'display_data';\n",
              "        await google.colab.output.renderOutput(dataTable, element);\n",
              "        const docLink = document.createElement('div');\n",
              "        docLink.innerHTML = docLinkHtml;\n",
              "        element.appendChild(docLink);\n",
              "      }\n",
              "    </script>\n",
              "  </div>\n",
              "\n",
              "\n",
              "<div id=\"df-5c9d8c0d-880f-4b5a-8579-55b76dfb9888\">\n",
              "  <button class=\"colab-df-quickchart\" onclick=\"quickchart('df-5c9d8c0d-880f-4b5a-8579-55b76dfb9888')\"\n",
              "            title=\"Suggest charts\"\n",
              "            style=\"display:none;\">\n",
              "\n",
              "<svg xmlns=\"http://www.w3.org/2000/svg\" height=\"24px\"viewBox=\"0 0 24 24\"\n",
              "     width=\"24px\">\n",
              "    <g>\n",
              "        <path d=\"M19 3H5c-1.1 0-2 .9-2 2v14c0 1.1.9 2 2 2h14c1.1 0 2-.9 2-2V5c0-1.1-.9-2-2-2zM9 17H7v-7h2v7zm4 0h-2V7h2v10zm4 0h-2v-4h2v4z\"/>\n",
              "    </g>\n",
              "</svg>\n",
              "  </button>\n",
              "\n",
              "<style>\n",
              "  .colab-df-quickchart {\n",
              "      --bg-color: #E8F0FE;\n",
              "      --fill-color: #1967D2;\n",
              "      --hover-bg-color: #E2EBFA;\n",
              "      --hover-fill-color: #174EA6;\n",
              "      --disabled-fill-color: #AAA;\n",
              "      --disabled-bg-color: #DDD;\n",
              "  }\n",
              "\n",
              "  [theme=dark] .colab-df-quickchart {\n",
              "      --bg-color: #3B4455;\n",
              "      --fill-color: #D2E3FC;\n",
              "      --hover-bg-color: #434B5C;\n",
              "      --hover-fill-color: #FFFFFF;\n",
              "      --disabled-bg-color: #3B4455;\n",
              "      --disabled-fill-color: #666;\n",
              "  }\n",
              "\n",
              "  .colab-df-quickchart {\n",
              "    background-color: var(--bg-color);\n",
              "    border: none;\n",
              "    border-radius: 50%;\n",
              "    cursor: pointer;\n",
              "    display: none;\n",
              "    fill: var(--fill-color);\n",
              "    height: 32px;\n",
              "    padding: 0;\n",
              "    width: 32px;\n",
              "  }\n",
              "\n",
              "  .colab-df-quickchart:hover {\n",
              "    background-color: var(--hover-bg-color);\n",
              "    box-shadow: 0 1px 2px rgba(60, 64, 67, 0.3), 0 1px 3px 1px rgba(60, 64, 67, 0.15);\n",
              "    fill: var(--button-hover-fill-color);\n",
              "  }\n",
              "\n",
              "  .colab-df-quickchart-complete:disabled,\n",
              "  .colab-df-quickchart-complete:disabled:hover {\n",
              "    background-color: var(--disabled-bg-color);\n",
              "    fill: var(--disabled-fill-color);\n",
              "    box-shadow: none;\n",
              "  }\n",
              "\n",
              "  .colab-df-spinner {\n",
              "    border: 2px solid var(--fill-color);\n",
              "    border-color: transparent;\n",
              "    border-bottom-color: var(--fill-color);\n",
              "    animation:\n",
              "      spin 1s steps(1) infinite;\n",
              "  }\n",
              "\n",
              "  @keyframes spin {\n",
              "    0% {\n",
              "      border-color: transparent;\n",
              "      border-bottom-color: var(--fill-color);\n",
              "      border-left-color: var(--fill-color);\n",
              "    }\n",
              "    20% {\n",
              "      border-color: transparent;\n",
              "      border-left-color: var(--fill-color);\n",
              "      border-top-color: var(--fill-color);\n",
              "    }\n",
              "    30% {\n",
              "      border-color: transparent;\n",
              "      border-left-color: var(--fill-color);\n",
              "      border-top-color: var(--fill-color);\n",
              "      border-right-color: var(--fill-color);\n",
              "    }\n",
              "    40% {\n",
              "      border-color: transparent;\n",
              "      border-right-color: var(--fill-color);\n",
              "      border-top-color: var(--fill-color);\n",
              "    }\n",
              "    60% {\n",
              "      border-color: transparent;\n",
              "      border-right-color: var(--fill-color);\n",
              "    }\n",
              "    80% {\n",
              "      border-color: transparent;\n",
              "      border-right-color: var(--fill-color);\n",
              "      border-bottom-color: var(--fill-color);\n",
              "    }\n",
              "    90% {\n",
              "      border-color: transparent;\n",
              "      border-bottom-color: var(--fill-color);\n",
              "    }\n",
              "  }\n",
              "</style>\n",
              "\n",
              "  <script>\n",
              "    async function quickchart(key) {\n",
              "      const quickchartButtonEl =\n",
              "        document.querySelector('#' + key + ' button');\n",
              "      quickchartButtonEl.disabled = true;  // To prevent multiple clicks.\n",
              "      quickchartButtonEl.classList.add('colab-df-spinner');\n",
              "      try {\n",
              "        const charts = await google.colab.kernel.invokeFunction(\n",
              "            'suggestCharts', [key], {});\n",
              "      } catch (error) {\n",
              "        console.error('Error during call to suggestCharts:', error);\n",
              "      }\n",
              "      quickchartButtonEl.classList.remove('colab-df-spinner');\n",
              "      quickchartButtonEl.classList.add('colab-df-quickchart-complete');\n",
              "    }\n",
              "    (() => {\n",
              "      let quickchartButtonEl =\n",
              "        document.querySelector('#df-5c9d8c0d-880f-4b5a-8579-55b76dfb9888 button');\n",
              "      quickchartButtonEl.style.display =\n",
              "        google.colab.kernel.accessAllowed ? 'block' : 'none';\n",
              "    })();\n",
              "  </script>\n",
              "</div>\n",
              "    </div>\n",
              "  </div>\n"
            ],
            "application/vnd.google.colaboratory.intrinsic+json": {
              "type": "dataframe",
              "variable_name": "df",
              "summary": "{\n  \"name\": \"df\",\n  \"rows\": 21401,\n  \"fields\": [\n    {\n      \"column\": \"text\",\n      \"properties\": {\n        \"dtype\": \"string\",\n        \"num_unique_values\": 21401,\n        \"samples\": [\n          \"Les \\\"gilets jaunes\\\" et leurs col\\u00e8res font leur retour samedi 12 septembre dans les rues pour une s\\u00e9rie d'actions \\u00e0 travers la France. Pr\\u00e8s de deux ans apr\\u00e8s la naissance du mouvement, des rassemblements ont lieu en province (Marseille, Toulouse, Lyon, Lille, Nantes, Nice, Bordeaux ou Strasbourg) et \\u00e0 Paris. Un premier cort\\u00e8ge est parti d\\u00e9filer vers midi depuis place de la Bourse, dans le centre de la capitale, vers la Porte de Champerret, au nord-ouest de la ville. Arriv\\u00e9 peu apr\\u00e8s 10H00, l'humoriste Jean-Marie Bigard a \\u00e9t\\u00e9 fra\\u00eechement accueilli par des hu\\u00e9es \\\"Bigard collabo!\\\". Ce soutien m\\u00e9diatique des \\\"gilets jaunes\\\" s'est d\\u00e9solidaris\\u00e9 cette semaine d'une des figures du mouvement, J\\u00e9r\\u00f4me Rodrigues, qui avait assimil\\u00e9 les policiers \\u00e0 \\\"une bande de nazis\\\".Quelques tensions ont \\u00e9clat\\u00e9 place Wagram \\u00e0 Paris, lieu de d\\u00e9part d'une seconde manifestation. Selon BFMTV, une partie des manifestants est parti d\\u00e8s 12h15 alors que le cort\\u00e8ge devait s'\\u00e9lancer \\u00e0 partir de 13 heures. Il a aussi emprunt\\u00e9 un autre parcours que celui initialement pr\\u00e9vu, se dirigeant vers l'Arc de triomphe. Ils ont \\u00e9t\\u00e9 rapidement intercept\\u00e9s par les forces de l'ordre qui a utilis\\u00e9 des gaz lacrymog\\u00e8nes.A la mi-journ\\u00e9e, la pr\\u00e9fecture de police de Paris a annonc\\u00e9 193 interpellations et 54 gardes \\u00e0 vue.Manifestations interdites sur les Champs-Elys\\u00e9es et \\u00e0 ToulouseSur les Champs-Elys\\u00e9es, o\\u00f9 deux manifestations ont \\u00e9t\\u00e9 interdites par la pr\\u00e9fecture de police, un important dispositif policier a \\u00e9t\\u00e9 d\\u00e9ploy\\u00e9 pour proc\\u00e9der \\u00e0 des contr\\u00f4les d'identit\\u00e9 et des fouilles des sacs sur l'avenue et dans les rues adjacentes, bien en amont. De nombreux commer\\u00e7ants ont \\u00e9galement barricad\\u00e9 leurs vitrines, mais aucun rassemblement de \\\"gilets jaunes\\\" n'\\u00e9tait observ\\u00e9 en milieu de matin\\u00e9e.\\\"Il ne peut pas y avoir de destructions, de chaos sur les Champs-Elys\\u00e9es\\\", a pr\\u00e9venu le pr\\u00e9fet de police Didier Lallement lors d'un point presse en haut de l'avenue en tout d\\u00e9but de matin\\u00e9e. De source polici\\u00e8re, 4.000 \\u00e0 5.000 manifestants sont attendus \\u00e0 Paris, dont 1.000 personnes potentiellement violentes. D\\u00e9j\\u00e0 81 personnes avaient \\u00e9t\\u00e9 interpell\\u00e9es \\u00e0 11H15 depuis le d\\u00e9but de la journ\\u00e9e, notamment car ils se trouvaient en possession d'objet qui \\\"n'ont pas leur place dans une manifestation - tournevis, piolet, pince coupante, couteaux - a annonc\\u00e9 la pr\\u00e9fecture de police sur Twitter.Sans donner de chiffres globaux sur les effectifs mobilis\\u00e9s, le pr\\u00e9fet a \\u00e9voqu\\u00e9 un dispositif \\\"appropri\\u00e9\\\", \\\"important\\\", avec notamment le d\\u00e9ploiement de 160 motards des brigades de la r\\u00e9pression de l'action violente (BRAV-M).Didier Lallement a confirm\\u00e9 l'assistance, d\\u00e8s ce samedi, d'un \\\"superviseur\\\" pour chaque porteur de LBD afin d'aider \\\"\\u00e0 la ma\\u00eetrise et au bon usage\\\" de cette arme, et le retrait des anciennes grenades \\u00e0 main de d\\u00e9sencerclement (GMD) remplac\\u00e9es par un nouveau mod\\u00e8le, r\\u00e9put\\u00e9 moins dangereux, conform\\u00e9ment aux annonces du ministre de l'Int\\u00e9rieur G\\u00e9rald Darmanin vendredi.D'autres rassemblements sont pr\\u00e9vus tout au long de la journ\\u00e9e dans des grandes villes de France (Marseille, Toulouse, Lyon, Lille, Nantes, Nice, Bordeaux ou Strasbourg...). A Toulouse (sud-ouest), qui a \\u00e9t\\u00e9 un des bastions du mouvement dans le pays, la manifestation a \\u00e9t\\u00e9 interdite par les autorit\\u00e9s locales notamment en raison \\\"des taux \\u00e9lev\\u00e9s de propagation de la Covid-19\\\".\",\n          \"Parmi ces bless\\u00e9s, trois ont \\u00e9t\\u00e9 hospitalis\\u00e9s, notamment pour des br\\u00fblures. Toutefois, aucun pronostic vital n'est engag\\u00e9, selon les pompiers. Selon les premiers \\u00e9l\\u00e9ments, une fus\\u00e9e du feu d'artifice serait partie \\u00e0 l'horizontale, d'une barge flottante, en direction de la foule.L'engin pyrotechnique aurait explos\\u00e9 au milieu d'un groupe de personnes mass\\u00e9es sur la plage de la commune, tr\\u00e8s touristique, au sud de Perpignan. Selon le quotidien L'Ind\\u00e9pendant, plusieurs milliers de personnes assistaient \\u00e0 ce feu d'artifice et que des d\\u00e9bris ont \\u00e9t\\u00e9 projet\\u00e9s jusqu'\\u00e0 quarante m\\u00e8tres de distance.Une enqu\\u00eate devrait \\u00eatre ouverte par les services de gendarmerie pour d\\u00e9terminer les causes et circonstances exactes de cet accident.\",\n          \"L'ancienne patronne d'EELV a, elle, raill\\u00e9 son allusion \\u00e0 \\\"la Marianne aux seins nus\\\".La mise en garde de Manuel Valls n'a pas \\u00e9t\\u00e9 entendue. \\\"Si nous partons divis\\u00e9s, nous perdrons \\u00e0 coup s\\u00fbr\\\", a d\\u00e9clar\\u00e9 le Premier ministre lundi soir \\u00e0 Colomiers (Haute-Garonne), critiquant sans les nommer Arnaud Montebourg, Beno\\u00eet Hamon et la \\\"surench\\u00e8re des diviseurs qui n'ont qu'un seul objectif : punir la gauche de gouvernement\\\".Pour Beno\\u00eet Hamon, cette d\\u00e9claration est \\\"une forme de contrition de la part de Manuel Valls\\\". Selon lui, le Premier ministre \\\"a beaucoup contribu\\u00e9 cet \\u00e9t\\u00e9, une fois de plus, \\u00e0 diviser le pays notamment sur la question de l'islam\\\". \\\"Je vois l\\u00e0, [de la part de Manuel Valls], quelque chose d'assez curieux, une diversion un peu ridicule, \\u00e0 vouloir expliquer que ceux qui se sentent mal, quand on ne parle que d'islam, sont les diviseurs\\\", a-t-il ajout\\u00e9 sur France 2, comparant le Premier ministre \\u00e0 \\\"Christian Estrosi, Nicolas Sarkozy et l'armada des Le Pen\\\".\\\"VALLS AURAIT MIEUX FAIT D'EN RESTER \\u00c0 SON DISCOURS \\u00c9CRIT\\\"L'actualit\\u00e9 politique du mois d'ao\\u00fbt a \\u00e9t\\u00e9 domin\\u00e9e par la pol\\u00e9mique sur le burkini, \\u00e0 laquelle Manuel Valls a rappel\\u00e9 son soutien aux maires interdisant le port du costume de bain sur les plages, et confirm\\u00e9 sa posture apr\\u00e8s la suspension de l'arr\\u00eat\\u00e9 par le Conseil d'Etat, ainsi qu'\\u00e0 Colomiers lundi. \\\"Marianne, le symbole de la R\\u00e9publique, elle a le sein nu parce qu'elle nourrit le peuple, elle n'est pas voil\\u00e9e parce qu'elle est libre. C'est \\u00e7a, la R\\u00e9publique\\\", avait r\\u00e9pliqu\\u00e9 lundi le Premier ministre. Une allusion \\u00e0 Marianne raill\\u00e9e par C\\u00e9cile Duflot : sur France inter, la candidate \\u00e9cologiste a estim\\u00e9 ce mardi que Manuel Valls \\\"aurait mieux fait d'en rester \\u00e0 son discours \\u00e9crit parce que quand il se lance dans des digressions il se prend les pieds dans le tapis\\\". Une citation qui selon elle, r\\u00e9v\\u00e8le \\\"deux choses fausses\\\", notamment \\\"le lien entre Marianne et la femme alors que Marianne est une all\\u00e9gorie de la R\\u00e9publique\\\".\\\"Quand on sait que la repr\\u00e9sentation la plus r\\u00e9publicaine de Marianne porte le bonnet phrygien c'est quand m\\u00eame assez cocasse et par ailleurs cette id\\u00e9e que la femme ne serait pas voil\\u00e9e parce que libre, le sein nu parce que nourrici\\u00e8re, l\\u00e0 aussi \\u00e7a donne quand m\\u00eame une petite image de l'id\\u00e9e que certains de ces messieurs de la politique ont des femmes\\\", poursuit-elle.\"\n        ],\n        \"semantic_type\": \"\",\n        \"description\": \"\"\n      }\n    },\n    {\n      \"column\": \"titles\",\n      \"properties\": {\n        \"dtype\": \"string\",\n        \"num_unique_values\": 21401,\n        \"samples\": [\n          \"Quelques tensions ont \\u00e9clat\\u00e9 place Wagram \\u00e0 Paris, lieu de d\\u00e9part d'une des manifestations des \\\"gilets jaunes\\\", o\\u00f9 une partie des manifestants est partie plus t\\u00f4t que pr\\u00e9vu. A la mi-journ\\u00e9e, la pr\\u00e9fecture de police de Paris a annonc\\u00e9 193 interpellations et 54 gardes.\",\n          \"Une dizaine de personnes ont \\u00e9t\\u00e9 bless\\u00e9es vendredi soir \\u00e0 Collioure (Pyr\\u00e9n\\u00e9es-Orientales) par une fus\\u00e9e de feu d'artifice dont la trajectoire a \\u00e9t\\u00e9 d\\u00e9vi\\u00e9e. L'engin a atterri au milieu de la foule, a-t-on appris samedi aupr\\u00e8s des pompiers.\",\n          \"Beno\\u00eet Hamon et C\\u00e9cile Duflot, tous les deux candidats \\u00e0 la primaire de leur parti, ont vivement critiqu\\u00e9 Manuel Valls ce mardi. Pour l'ancien ministre de l'\\u00c9ducation, le Premier ministre a \\\"beaucoup contribu\\u00e9 cet \\u00e9t\\u00e9 \\u00e0 diviser le pays notamment sur l'islam\\\".\"\n        ],\n        \"semantic_type\": \"\",\n        \"description\": \"\"\n      }\n    },\n    {\n      \"column\": \"corrected_news\",\n      \"properties\": {\n        \"dtype\": \"string\",\n        \"num_unique_values\": 21401,\n        \"samples\": [\n          \"Les gi lets jaune s et le urs col res font le ur re tour same di 12 sept em bre dans les rues pour une s rie d ' actions travers la France Pr s de deux an s apr s la na is s ance du mouvement des rassemblement s on t lieu en province Marseille Toulouse Lyon Lille Nantes Nice Bordeaux ou Strasbourg et Paris Un premier cort ge est parti d filer vers midi de pu is place de la Bourse dans le centre de la capitale vers la Porte de Cham perret au nord ouest de la ville Arriv pe u apr s 10 H 00 l ' humorist e Jean Marie Big ard a t fra che ment acc uei lli par des hu es Big ard colla bo Ce s out ien m dia ti que des gi lets jaune s s ' est d solid aris cet te se maine d ' une des figures du mouvement J r me Rodrigues qui ava it as simi l les poli ciers une bande de nazis Que l ques tensions on t cl at place Wa gram Paris lieu de d part d ' une second e manifestation Sel on BF MTV une partie des manifest ants est parti d s 12 h 15 alor s que le cort ge deva it s ' lancer part ir de 13 heures Il a a uss i emp runt un aut re par cours que ce lui initial e ment pr vu se dirige ant vers l ' Arc de triomphe Il s on t t rapid e ment intercept s par les forces de l ' ordre qui a util is des gaz lac rym og nes A la mi journ e la pr fecture de police de Paris a an non c 193 inter pell at ions et 54 garde s vue Manifestations inter d ites sur les Champs Elys es et Toulouse Sur les Champs Elys es o deux manifestations on t t inter d ites par la pr fecture de police un important d is positif pol icier a t d ploy pour proc der des con tr les d ' ident it et des f ou ille s des sacs sur l ' avenue et dans les rues adjacent es bien en a mont De no mbr eux commer ants on t gale ment bar rica d le urs vitr in es ma is a uc un rassemblement de gi lets jaune s n ' tait ob ser v en milieu de matin e Il ne pe ut pas y a voir de destructions de chaos sur les Champs Elys es a pr ven u le pr fet de police Didier La lle ment lor s d ' un point presse en haut de l ' avenue en tout d but de matin e De source pol ici re 4 000 5 000 manifest ants sont attend us Paris dont 1 000 person nes potenti elle ment violent es D j 81 person nes a vai ent t inter pell es 11 H 15 de pu is le d but de la journ e not am ment car il s se trouv a i ent en possession d ' obj et qui n ' on t pas le ur place dans une manifestation tour nevis pio let pin ce coup ante cou teaux a an non c la pr fecture de police sur Twitter Sans donner de chi ff res glob aux sur les effect if s mobil is s le pr fet a vo qu un d is positif appr opr i important avec not am ment le d ploie ment de 160 mot ard s des brigades de la r press ion de l ' action violent e B RAV M Didier La lle ment a confirm l ' assistance d s ce same di d ' un supervise ur pour cha que port eur de LB D a fin d ' a ider la ma t rise et au bon usage de cet te arme et le re trait des ancienne s grenades main de d sence r clement GM D rem plac es par un nouveau mod le r put mo in s danger eux conform ment aux annonce s du minis tre de l ' In t rieur G ral d Dar man in vend redi D ' autres rassemblement s sont pr v us tout au long de la journ e dans des grandes villes de France Marseille Toulouse Lyon Lille Nantes Nice Bordeaux ou Strasbourg A Toulouse sud ouest qui a t un des bastions du mouvement dans le pays la manifestation a t inter d it e par les aut or it s locales not am ment en raison des t aux lev s de propagation de la C ovid 19\",\n          \"Parmi ces bless s trois on t t hospital is s not am ment pour des br lures To ute fo is a uc un pro no stic vital n ' est en gag sel on les pom piers Sel on les premiers l ment s une fu s e du feu d ' artifice sera it partie l ' horizontal e d ' une barge f lott ante en direction de la foul e L ' eng in pyro technique aura it exp los au milieu d ' un groupe de person nes mass es sur la plage de la commune tr s tourist i que au sud de Perpignan Sel on le quo ti dien L ' In d pendant plusieurs milli ers de person nes assist a i ent ce feu d ' artifice et que des d bris on t t pro jet s jus qu ' qua ran te m tres de distance Une en qu te dev ra it tre ou verte par les services de gendarme rie pour d term in er les causes et circo n stances exact es de cet accident\",\n          \"L ' ancienne patron ne d ' EEL V a elle rail l son allusion la Marianne aux sein s nus La mise en garde de Manuel Vall s n ' a pas t en ten due Si nous part on s div is s nous per dr on s coup s r a d clar le Premier minis tre lund i so ir Colo mi ers Haute Garonne crit i quant sans les no mmer Arnaud Monte bourg Be no t Hamon et la sure nch re des div is eur s qui n ' on t qu ' un seu l object if pun ir la gauche de gou verne ment Pour Be no t Hamon cet te d clara tion est une forme de contrition de la part de Manuel Vall s Sel on lui le Premier minis tre a beau coup contrib u cet t une fo is de plus divi ser le pays not am ment sur la question de l ' islam Je vois l de la part de Manuel Vall s que l que chose d ' as s ez curie ux une diversion un pe u ridicule vo u loir exp li quer que c eux qui se sent ent mal quand on ne par le que d ' islam sont les div is eur s a t il a j out sur France 2 com paran t le Premier minis tre Christian Est rosi Nicolas Sarkozy et l ' armada des Le Pen VALL S AURA IT MIEUX FAIT D ' EN REST ER SON DISC OURS CRIT L ' actualit politique du mo is d ' ao t a t dom in e par la pol mi que sur le burk in i la quelle Manuel Vall s a r appel son s out ien aux m aires inter di sant le port du costume de bain sur les plage s et confirm s a posture apr s la suspension de l ' arr t par le Conseil d ' Etat a in si qu ' Colo mi ers lund i Marianne le symbol e de la R publique elle a le sein nu parce qu ' elle n our rit le peuple elle n ' est pas v oil e parce qu ' elle est libre C'est a la R publique ava it r pli qu lund i le Premier minis tre Une allusion Marianne rail l e par C cile Du f lot sur France inter la candidate colo gist e a es tim ce mardi que Manuel Vall s aura it mieux fait d ' en rest er son disc ours crit parce que quand il se lance dans des digressions il se pr end les pieds dans le tap is Une citation qui sel on elle r v le deux choses fau sse s not am ment le lien entre Marianne et la femme alor s que Marianne est une all go rie de la R publique Quand on s a it que la re pr sent ation la plus r publicain e de Marianne porte le bonnet phr yg ien c'est quand m me as s ez coca sse et par a ille urs cet te id e que la femme ne sera it pas v oil e parce que libre le sein nu parce que n our ric i re l a uss i a donne quand m me une petite image de l ' id e que certain s de ces messieurs de la politique on t des femme s pour suit elle\"\n        ],\n        \"semantic_type\": \"\",\n        \"description\": \"\"\n      }\n    }\n  ]\n}"
            }
          },
          "metadata": {},
          "execution_count": 13
        }
      ]
    },
    {
      "cell_type": "markdown",
      "source": [
        "In the begining, it seems like `import wordninja` properly separates the words from \"ParisestlacapitaledelaFrance\" to \"Paris est la capital edel a France\". Therefore, we applied this function across the training dataset. However, this approach yields unsatisfactory results when applied to the entire training dataset. For example, \"La mesure est décriée par\" is converted to \"La mesure est d cri e par\", which is clearly incorrect."
      ],
      "metadata": {
        "id": "j4Qn5cFwLlCl"
      }
    },
    {
      "cell_type": "markdown",
      "source": [
        "### `b.4.` Using <i>import nltk</i>"
      ],
      "metadata": {
        "id": "9EVN8NsTRb0L"
      }
    },
    {
      "cell_type": "code",
      "source": [
        "import pandas as pd\n",
        "import nltk\n",
        "from nltk.tokenize import word_tokenize\n",
        "\n",
        "nltk.download('punkt')\n",
        "\n",
        "def correct_nltk(text):\n",
        "    words = word_tokenize(text)\n",
        "    corrected_news = \" \".join(words)\n",
        "    return corrected_news"
      ],
      "metadata": {
        "colab": {
          "base_uri": "https://localhost:8080/"
        },
        "id": "Yt6trrRhLqg7",
        "outputId": "f5f76a2f-7ae3-4ed1-b3a1-0b6df2b48e0b"
      },
      "execution_count": null,
      "outputs": [
        {
          "output_type": "stream",
          "name": "stderr",
          "text": [
            "[nltk_data] Downloading package punkt to /root/nltk_data...\n",
            "[nltk_data]   Package punkt is already up-to-date!\n"
          ]
        }
      ]
    },
    {
      "cell_type": "code",
      "source": [
        "correct_nltk(\"Parisest lacapitale de laFrance\")"
      ],
      "metadata": {
        "colab": {
          "base_uri": "https://localhost:8080/",
          "height": 35
        },
        "id": "K_Odq0KZgUYR",
        "outputId": "ab0131fc-5221-4cb3-8e1d-b04eb23749fd"
      },
      "execution_count": null,
      "outputs": [
        {
          "output_type": "execute_result",
          "data": {
            "text/plain": [
              "'Parisest lacapitale de laFrance'"
            ],
            "application/vnd.google.colaboratory.intrinsic+json": {
              "type": "string"
            }
          },
          "metadata": {},
          "execution_count": 50
        }
      ]
    },
    {
      "cell_type": "markdown",
      "source": [
        "Using `nltk` for grammar correction proves ineffective as it fails to insert any spaces in our example."
      ],
      "metadata": {
        "id": "TE0_ayFMSo4z"
      }
    },
    {
      "cell_type": "markdown",
      "source": [
        "## `c.` Method considered successful for correcting grammatical errors."
      ],
      "metadata": {
        "id": "Ptb3ThbYmV99"
      }
    },
    {
      "cell_type": "markdown",
      "source": [
        "### `c.1.` Using <i>import language_tool_python</i>"
      ],
      "metadata": {
        "id": "7NErxexxgncF"
      }
    },
    {
      "cell_type": "code",
      "source": [
        "import pandas as pd\n",
        "import language_tool_python\n",
        "from tqdm import tqdm\n",
        "\n",
        "# Initialize LanguageTool in French\n",
        "tool = language_tool_python.LanguageTool('fr')"
      ],
      "metadata": {
        "id": "igLcWF0SUPC_",
        "colab": {
          "base_uri": "https://localhost:8080/"
        },
        "outputId": "c1139db5-fad4-4422-cca8-322ac317fe0e"
      },
      "execution_count": null,
      "outputs": [
        {
          "output_type": "stream",
          "name": "stderr",
          "text": [
            "Downloading LanguageTool 6.2: 100%|██████████| 233M/233M [00:05<00:00, 46.2MB/s]\n",
            "INFO:language_tool_python.download_lt:Unzipping /tmp/tmpcp70zgpo.zip to /root/.cache/language_tool_python.\n",
            "INFO:language_tool_python.download_lt:Downloaded https://www.languagetool.org/download/LanguageTool-6.2.zip to /root/.cache/language_tool_python.\n"
          ]
        }
      ]
    },
    {
      "cell_type": "code",
      "source": [
        "def correct_grammar(text):\n",
        "    corrected_text = tool.correct(text)\n",
        "    return corrected_text"
      ],
      "metadata": {
        "id": "64FQqm-SVDZ_"
      },
      "execution_count": null,
      "outputs": []
    },
    {
      "cell_type": "code",
      "source": [
        "correct_grammar(\"Parisest lacapitale de laFrance\")"
      ],
      "metadata": {
        "colab": {
          "base_uri": "https://localhost:8080/",
          "height": 35
        },
        "id": "8P8wnLKAeQF9",
        "outputId": "4ad3bc83-58ab-4f8d-9306-5c05e1d4f2b2"
      },
      "execution_count": null,
      "outputs": [
        {
          "output_type": "execute_result",
          "data": {
            "text/plain": [
              "'Paris est la capitale de la France'"
            ],
            "application/vnd.google.colaboratory.intrinsic+json": {
              "type": "string"
            }
          },
          "metadata": {},
          "execution_count": 49
        }
      ]
    },
    {
      "cell_type": "markdown",
      "source": [
        "It appears that using `language_tool_python.LanguageTool('fr')` for grammar correction is a promising approach. We'll now apply it across the entire training dataset to evaluate its effectiveness."
      ],
      "metadata": {
        "id": "5PYEcV9Hmers"
      }
    },
    {
      "cell_type": "markdown",
      "source": [
        "### `c.2.` Apply the function to the training set"
      ],
      "metadata": {
        "id": "aGcw6vxMmeKo"
      }
    },
    {
      "cell_type": "code",
      "source": [
        "from google.colab import drive\n",
        "\n",
        "# Mount Google Drive\n",
        "drive.mount('/content/drive')"
      ],
      "metadata": {
        "colab": {
          "base_uri": "https://localhost:8080/"
        },
        "id": "Ka6ZfcapUDmw",
        "outputId": "4dd5ed32-5a4a-47b6-c3e5-89da5bc844a2"
      },
      "execution_count": null,
      "outputs": [
        {
          "output_type": "stream",
          "name": "stdout",
          "text": [
            "Mounted at /content/drive\n"
          ]
        }
      ]
    },
    {
      "cell_type": "code",
      "source": [
        "path_train = \"/content/drive/My Drive/Colab Notebooks/11_DataAI_INF582_TextMining_NLP/Challenge/data/train.csv\"\n",
        "df_train = pd.read_csv(path_train)\n",
        "df_train"
      ],
      "metadata": {
        "colab": {
          "base_uri": "https://localhost:8080/",
          "height": 423
        },
        "id": "b-4HyswwBDZv",
        "outputId": "0ad20580-193c-4e34-ec7d-b302ae4f910c"
      },
      "execution_count": null,
      "outputs": [
        {
          "output_type": "execute_result",
          "data": {
            "text/plain": [
              "                                                    text  \\\n",
              "0      Thierry Mariani sur la liste du Rassemblement ...   \n",
              "1      C'est désormais officiel : Alain Juppé n'est p...   \n",
              "2      La mesure est décriée par les avocats et les m...   \n",
              "3      Dans une interview accordée au Figaro mercredi...   \n",
              "4      Le préjudice est estimé à 2 millions d'euros. ...   \n",
              "...                                                  ...   \n",
              "21396  Une \"main tendue\" que refuse de saisir l'eurod...   \n",
              "21397  Venue présenter son dernier spectacle, Elektri...   \n",
              "21398  Mauvaise nouvelle pour les amateurs de chasse ...   \n",
              "21399  \"Ce n'est pas une question de simple voile, c'...   \n",
              "21400  C'est le montant total encaissé par l'État l'a...   \n",
              "\n",
              "                                                  titles  \n",
              "0      L'information n'a pas été confirmée par l'inté...  \n",
              "1      Le maire de Bordeaux ne fait plus partie des R...  \n",
              "2      En 2020, les tribunaux d'instance fusionnent a...  \n",
              "3      Les médecins jugés \"gros prescripteurs d'arrêt...  \n",
              "4      Il aura fallu mobiliser 90 gendarmes pour cett...  \n",
              "...                                                  ...  \n",
              "21396  POLITIQUE. La présidente du Front national a s...  \n",
              "21397  Que serait un dimanche matin sans un passage e...  \n",
              "21398  La chasse à la glu sera interdite cette année,...  \n",
              "21399  Bruno Le Maire, candidat à la primaire de la d...  \n",
              "21400  En 2019, les sommes recouvrées par l'État au t...  \n",
              "\n",
              "[21401 rows x 2 columns]"
            ],
            "text/html": [
              "\n",
              "  <div id=\"df-228e0250-3aae-4c8d-b16b-2aee594dc9ce\" class=\"colab-df-container\">\n",
              "    <div>\n",
              "<style scoped>\n",
              "    .dataframe tbody tr th:only-of-type {\n",
              "        vertical-align: middle;\n",
              "    }\n",
              "\n",
              "    .dataframe tbody tr th {\n",
              "        vertical-align: top;\n",
              "    }\n",
              "\n",
              "    .dataframe thead th {\n",
              "        text-align: right;\n",
              "    }\n",
              "</style>\n",
              "<table border=\"1\" class=\"dataframe\">\n",
              "  <thead>\n",
              "    <tr style=\"text-align: right;\">\n",
              "      <th></th>\n",
              "      <th>text</th>\n",
              "      <th>titles</th>\n",
              "    </tr>\n",
              "  </thead>\n",
              "  <tbody>\n",
              "    <tr>\n",
              "      <th>0</th>\n",
              "      <td>Thierry Mariani sur la liste du Rassemblement ...</td>\n",
              "      <td>L'information n'a pas été confirmée par l'inté...</td>\n",
              "    </tr>\n",
              "    <tr>\n",
              "      <th>1</th>\n",
              "      <td>C'est désormais officiel : Alain Juppé n'est p...</td>\n",
              "      <td>Le maire de Bordeaux ne fait plus partie des R...</td>\n",
              "    </tr>\n",
              "    <tr>\n",
              "      <th>2</th>\n",
              "      <td>La mesure est décriée par les avocats et les m...</td>\n",
              "      <td>En 2020, les tribunaux d'instance fusionnent a...</td>\n",
              "    </tr>\n",
              "    <tr>\n",
              "      <th>3</th>\n",
              "      <td>Dans une interview accordée au Figaro mercredi...</td>\n",
              "      <td>Les médecins jugés \"gros prescripteurs d'arrêt...</td>\n",
              "    </tr>\n",
              "    <tr>\n",
              "      <th>4</th>\n",
              "      <td>Le préjudice est estimé à 2 millions d'euros. ...</td>\n",
              "      <td>Il aura fallu mobiliser 90 gendarmes pour cett...</td>\n",
              "    </tr>\n",
              "    <tr>\n",
              "      <th>...</th>\n",
              "      <td>...</td>\n",
              "      <td>...</td>\n",
              "    </tr>\n",
              "    <tr>\n",
              "      <th>21396</th>\n",
              "      <td>Une \"main tendue\" que refuse de saisir l'eurod...</td>\n",
              "      <td>POLITIQUE. La présidente du Front national a s...</td>\n",
              "    </tr>\n",
              "    <tr>\n",
              "      <th>21397</th>\n",
              "      <td>Venue présenter son dernier spectacle, Elektri...</td>\n",
              "      <td>Que serait un dimanche matin sans un passage e...</td>\n",
              "    </tr>\n",
              "    <tr>\n",
              "      <th>21398</th>\n",
              "      <td>Mauvaise nouvelle pour les amateurs de chasse ...</td>\n",
              "      <td>La chasse à la glu sera interdite cette année,...</td>\n",
              "    </tr>\n",
              "    <tr>\n",
              "      <th>21399</th>\n",
              "      <td>\"Ce n'est pas une question de simple voile, c'...</td>\n",
              "      <td>Bruno Le Maire, candidat à la primaire de la d...</td>\n",
              "    </tr>\n",
              "    <tr>\n",
              "      <th>21400</th>\n",
              "      <td>C'est le montant total encaissé par l'État l'a...</td>\n",
              "      <td>En 2019, les sommes recouvrées par l'État au t...</td>\n",
              "    </tr>\n",
              "  </tbody>\n",
              "</table>\n",
              "<p>21401 rows × 2 columns</p>\n",
              "</div>\n",
              "    <div class=\"colab-df-buttons\">\n",
              "\n",
              "  <div class=\"colab-df-container\">\n",
              "    <button class=\"colab-df-convert\" onclick=\"convertToInteractive('df-228e0250-3aae-4c8d-b16b-2aee594dc9ce')\"\n",
              "            title=\"Convert this dataframe to an interactive table.\"\n",
              "            style=\"display:none;\">\n",
              "\n",
              "  <svg xmlns=\"http://www.w3.org/2000/svg\" height=\"24px\" viewBox=\"0 -960 960 960\">\n",
              "    <path d=\"M120-120v-720h720v720H120Zm60-500h600v-160H180v160Zm220 220h160v-160H400v160Zm0 220h160v-160H400v160ZM180-400h160v-160H180v160Zm440 0h160v-160H620v160ZM180-180h160v-160H180v160Zm440 0h160v-160H620v160Z\"/>\n",
              "  </svg>\n",
              "    </button>\n",
              "\n",
              "  <style>\n",
              "    .colab-df-container {\n",
              "      display:flex;\n",
              "      gap: 12px;\n",
              "    }\n",
              "\n",
              "    .colab-df-convert {\n",
              "      background-color: #E8F0FE;\n",
              "      border: none;\n",
              "      border-radius: 50%;\n",
              "      cursor: pointer;\n",
              "      display: none;\n",
              "      fill: #1967D2;\n",
              "      height: 32px;\n",
              "      padding: 0 0 0 0;\n",
              "      width: 32px;\n",
              "    }\n",
              "\n",
              "    .colab-df-convert:hover {\n",
              "      background-color: #E2EBFA;\n",
              "      box-shadow: 0px 1px 2px rgba(60, 64, 67, 0.3), 0px 1px 3px 1px rgba(60, 64, 67, 0.15);\n",
              "      fill: #174EA6;\n",
              "    }\n",
              "\n",
              "    .colab-df-buttons div {\n",
              "      margin-bottom: 4px;\n",
              "    }\n",
              "\n",
              "    [theme=dark] .colab-df-convert {\n",
              "      background-color: #3B4455;\n",
              "      fill: #D2E3FC;\n",
              "    }\n",
              "\n",
              "    [theme=dark] .colab-df-convert:hover {\n",
              "      background-color: #434B5C;\n",
              "      box-shadow: 0px 1px 3px 1px rgba(0, 0, 0, 0.15);\n",
              "      filter: drop-shadow(0px 1px 2px rgba(0, 0, 0, 0.3));\n",
              "      fill: #FFFFFF;\n",
              "    }\n",
              "  </style>\n",
              "\n",
              "    <script>\n",
              "      const buttonEl =\n",
              "        document.querySelector('#df-228e0250-3aae-4c8d-b16b-2aee594dc9ce button.colab-df-convert');\n",
              "      buttonEl.style.display =\n",
              "        google.colab.kernel.accessAllowed ? 'block' : 'none';\n",
              "\n",
              "      async function convertToInteractive(key) {\n",
              "        const element = document.querySelector('#df-228e0250-3aae-4c8d-b16b-2aee594dc9ce');\n",
              "        const dataTable =\n",
              "          await google.colab.kernel.invokeFunction('convertToInteractive',\n",
              "                                                    [key], {});\n",
              "        if (!dataTable) return;\n",
              "\n",
              "        const docLinkHtml = 'Like what you see? Visit the ' +\n",
              "          '<a target=\"_blank\" href=https://colab.research.google.com/notebooks/data_table.ipynb>data table notebook</a>'\n",
              "          + ' to learn more about interactive tables.';\n",
              "        element.innerHTML = '';\n",
              "        dataTable['output_type'] = 'display_data';\n",
              "        await google.colab.output.renderOutput(dataTable, element);\n",
              "        const docLink = document.createElement('div');\n",
              "        docLink.innerHTML = docLinkHtml;\n",
              "        element.appendChild(docLink);\n",
              "      }\n",
              "    </script>\n",
              "  </div>\n",
              "\n",
              "\n",
              "<div id=\"df-65720eb8-e7be-40c0-b310-bdbe372a706d\">\n",
              "  <button class=\"colab-df-quickchart\" onclick=\"quickchart('df-65720eb8-e7be-40c0-b310-bdbe372a706d')\"\n",
              "            title=\"Suggest charts\"\n",
              "            style=\"display:none;\">\n",
              "\n",
              "<svg xmlns=\"http://www.w3.org/2000/svg\" height=\"24px\"viewBox=\"0 0 24 24\"\n",
              "     width=\"24px\">\n",
              "    <g>\n",
              "        <path d=\"M19 3H5c-1.1 0-2 .9-2 2v14c0 1.1.9 2 2 2h14c1.1 0 2-.9 2-2V5c0-1.1-.9-2-2-2zM9 17H7v-7h2v7zm4 0h-2V7h2v10zm4 0h-2v-4h2v4z\"/>\n",
              "    </g>\n",
              "</svg>\n",
              "  </button>\n",
              "\n",
              "<style>\n",
              "  .colab-df-quickchart {\n",
              "      --bg-color: #E8F0FE;\n",
              "      --fill-color: #1967D2;\n",
              "      --hover-bg-color: #E2EBFA;\n",
              "      --hover-fill-color: #174EA6;\n",
              "      --disabled-fill-color: #AAA;\n",
              "      --disabled-bg-color: #DDD;\n",
              "  }\n",
              "\n",
              "  [theme=dark] .colab-df-quickchart {\n",
              "      --bg-color: #3B4455;\n",
              "      --fill-color: #D2E3FC;\n",
              "      --hover-bg-color: #434B5C;\n",
              "      --hover-fill-color: #FFFFFF;\n",
              "      --disabled-bg-color: #3B4455;\n",
              "      --disabled-fill-color: #666;\n",
              "  }\n",
              "\n",
              "  .colab-df-quickchart {\n",
              "    background-color: var(--bg-color);\n",
              "    border: none;\n",
              "    border-radius: 50%;\n",
              "    cursor: pointer;\n",
              "    display: none;\n",
              "    fill: var(--fill-color);\n",
              "    height: 32px;\n",
              "    padding: 0;\n",
              "    width: 32px;\n",
              "  }\n",
              "\n",
              "  .colab-df-quickchart:hover {\n",
              "    background-color: var(--hover-bg-color);\n",
              "    box-shadow: 0 1px 2px rgba(60, 64, 67, 0.3), 0 1px 3px 1px rgba(60, 64, 67, 0.15);\n",
              "    fill: var(--button-hover-fill-color);\n",
              "  }\n",
              "\n",
              "  .colab-df-quickchart-complete:disabled,\n",
              "  .colab-df-quickchart-complete:disabled:hover {\n",
              "    background-color: var(--disabled-bg-color);\n",
              "    fill: var(--disabled-fill-color);\n",
              "    box-shadow: none;\n",
              "  }\n",
              "\n",
              "  .colab-df-spinner {\n",
              "    border: 2px solid var(--fill-color);\n",
              "    border-color: transparent;\n",
              "    border-bottom-color: var(--fill-color);\n",
              "    animation:\n",
              "      spin 1s steps(1) infinite;\n",
              "  }\n",
              "\n",
              "  @keyframes spin {\n",
              "    0% {\n",
              "      border-color: transparent;\n",
              "      border-bottom-color: var(--fill-color);\n",
              "      border-left-color: var(--fill-color);\n",
              "    }\n",
              "    20% {\n",
              "      border-color: transparent;\n",
              "      border-left-color: var(--fill-color);\n",
              "      border-top-color: var(--fill-color);\n",
              "    }\n",
              "    30% {\n",
              "      border-color: transparent;\n",
              "      border-left-color: var(--fill-color);\n",
              "      border-top-color: var(--fill-color);\n",
              "      border-right-color: var(--fill-color);\n",
              "    }\n",
              "    40% {\n",
              "      border-color: transparent;\n",
              "      border-right-color: var(--fill-color);\n",
              "      border-top-color: var(--fill-color);\n",
              "    }\n",
              "    60% {\n",
              "      border-color: transparent;\n",
              "      border-right-color: var(--fill-color);\n",
              "    }\n",
              "    80% {\n",
              "      border-color: transparent;\n",
              "      border-right-color: var(--fill-color);\n",
              "      border-bottom-color: var(--fill-color);\n",
              "    }\n",
              "    90% {\n",
              "      border-color: transparent;\n",
              "      border-bottom-color: var(--fill-color);\n",
              "    }\n",
              "  }\n",
              "</style>\n",
              "\n",
              "  <script>\n",
              "    async function quickchart(key) {\n",
              "      const quickchartButtonEl =\n",
              "        document.querySelector('#' + key + ' button');\n",
              "      quickchartButtonEl.disabled = true;  // To prevent multiple clicks.\n",
              "      quickchartButtonEl.classList.add('colab-df-spinner');\n",
              "      try {\n",
              "        const charts = await google.colab.kernel.invokeFunction(\n",
              "            'suggestCharts', [key], {});\n",
              "      } catch (error) {\n",
              "        console.error('Error during call to suggestCharts:', error);\n",
              "      }\n",
              "      quickchartButtonEl.classList.remove('colab-df-spinner');\n",
              "      quickchartButtonEl.classList.add('colab-df-quickchart-complete');\n",
              "    }\n",
              "    (() => {\n",
              "      let quickchartButtonEl =\n",
              "        document.querySelector('#df-65720eb8-e7be-40c0-b310-bdbe372a706d button');\n",
              "      quickchartButtonEl.style.display =\n",
              "        google.colab.kernel.accessAllowed ? 'block' : 'none';\n",
              "    })();\n",
              "  </script>\n",
              "</div>\n",
              "    </div>\n",
              "  </div>\n"
            ],
            "application/vnd.google.colaboratory.intrinsic+json": {
              "type": "dataframe",
              "variable_name": "df_train",
              "summary": "{\n  \"name\": \"df_train\",\n  \"rows\": 21401,\n  \"fields\": [\n    {\n      \"column\": \"text\",\n      \"properties\": {\n        \"dtype\": \"string\",\n        \"num_unique_values\": 21401,\n        \"samples\": [\n          \"Les \\\"gilets jaunes\\\" et leurs col\\u00e8res font leur retour samedi 12 septembre dans les rues pour une s\\u00e9rie d'actions \\u00e0 travers la France. Pr\\u00e8s de deux ans apr\\u00e8s la naissance du mouvement, des rassemblements ont lieu en province (Marseille, Toulouse, Lyon, Lille, Nantes, Nice, Bordeaux ou Strasbourg) et \\u00e0 Paris. Un premier cort\\u00e8ge est parti d\\u00e9filer vers midi depuis place de la Bourse, dans le centre de la capitale, vers la Porte de Champerret, au nord-ouest de la ville. Arriv\\u00e9 peu apr\\u00e8s 10H00, l'humoriste Jean-Marie Bigard a \\u00e9t\\u00e9 fra\\u00eechement accueilli par des hu\\u00e9es \\\"Bigard collabo!\\\". Ce soutien m\\u00e9diatique des \\\"gilets jaunes\\\" s'est d\\u00e9solidaris\\u00e9 cette semaine d'une des figures du mouvement, J\\u00e9r\\u00f4me Rodrigues, qui avait assimil\\u00e9 les policiers \\u00e0 \\\"une bande de nazis\\\".Quelques tensions ont \\u00e9clat\\u00e9 place Wagram \\u00e0 Paris, lieu de d\\u00e9part d'une seconde manifestation. Selon BFMTV, une partie des manifestants est parti d\\u00e8s 12h15 alors que le cort\\u00e8ge devait s'\\u00e9lancer \\u00e0 partir de 13 heures. Il a aussi emprunt\\u00e9 un autre parcours que celui initialement pr\\u00e9vu, se dirigeant vers l'Arc de triomphe. Ils ont \\u00e9t\\u00e9 rapidement intercept\\u00e9s par les forces de l'ordre qui a utilis\\u00e9 des gaz lacrymog\\u00e8nes.A la mi-journ\\u00e9e, la pr\\u00e9fecture de police de Paris a annonc\\u00e9 193 interpellations et 54 gardes \\u00e0 vue.Manifestations interdites sur les Champs-Elys\\u00e9es et \\u00e0 ToulouseSur les Champs-Elys\\u00e9es, o\\u00f9 deux manifestations ont \\u00e9t\\u00e9 interdites par la pr\\u00e9fecture de police, un important dispositif policier a \\u00e9t\\u00e9 d\\u00e9ploy\\u00e9 pour proc\\u00e9der \\u00e0 des contr\\u00f4les d'identit\\u00e9 et des fouilles des sacs sur l'avenue et dans les rues adjacentes, bien en amont. De nombreux commer\\u00e7ants ont \\u00e9galement barricad\\u00e9 leurs vitrines, mais aucun rassemblement de \\\"gilets jaunes\\\" n'\\u00e9tait observ\\u00e9 en milieu de matin\\u00e9e.\\\"Il ne peut pas y avoir de destructions, de chaos sur les Champs-Elys\\u00e9es\\\", a pr\\u00e9venu le pr\\u00e9fet de police Didier Lallement lors d'un point presse en haut de l'avenue en tout d\\u00e9but de matin\\u00e9e. De source polici\\u00e8re, 4.000 \\u00e0 5.000 manifestants sont attendus \\u00e0 Paris, dont 1.000 personnes potentiellement violentes. D\\u00e9j\\u00e0 81 personnes avaient \\u00e9t\\u00e9 interpell\\u00e9es \\u00e0 11H15 depuis le d\\u00e9but de la journ\\u00e9e, notamment car ils se trouvaient en possession d'objet qui \\\"n'ont pas leur place dans une manifestation - tournevis, piolet, pince coupante, couteaux - a annonc\\u00e9 la pr\\u00e9fecture de police sur Twitter.Sans donner de chiffres globaux sur les effectifs mobilis\\u00e9s, le pr\\u00e9fet a \\u00e9voqu\\u00e9 un dispositif \\\"appropri\\u00e9\\\", \\\"important\\\", avec notamment le d\\u00e9ploiement de 160 motards des brigades de la r\\u00e9pression de l'action violente (BRAV-M).Didier Lallement a confirm\\u00e9 l'assistance, d\\u00e8s ce samedi, d'un \\\"superviseur\\\" pour chaque porteur de LBD afin d'aider \\\"\\u00e0 la ma\\u00eetrise et au bon usage\\\" de cette arme, et le retrait des anciennes grenades \\u00e0 main de d\\u00e9sencerclement (GMD) remplac\\u00e9es par un nouveau mod\\u00e8le, r\\u00e9put\\u00e9 moins dangereux, conform\\u00e9ment aux annonces du ministre de l'Int\\u00e9rieur G\\u00e9rald Darmanin vendredi.D'autres rassemblements sont pr\\u00e9vus tout au long de la journ\\u00e9e dans des grandes villes de France (Marseille, Toulouse, Lyon, Lille, Nantes, Nice, Bordeaux ou Strasbourg...). A Toulouse (sud-ouest), qui a \\u00e9t\\u00e9 un des bastions du mouvement dans le pays, la manifestation a \\u00e9t\\u00e9 interdite par les autorit\\u00e9s locales notamment en raison \\\"des taux \\u00e9lev\\u00e9s de propagation de la Covid-19\\\".\",\n          \"Parmi ces bless\\u00e9s, trois ont \\u00e9t\\u00e9 hospitalis\\u00e9s, notamment pour des br\\u00fblures. Toutefois, aucun pronostic vital n'est engag\\u00e9, selon les pompiers. Selon les premiers \\u00e9l\\u00e9ments, une fus\\u00e9e du feu d'artifice serait partie \\u00e0 l'horizontale, d'une barge flottante, en direction de la foule.L'engin pyrotechnique aurait explos\\u00e9 au milieu d'un groupe de personnes mass\\u00e9es sur la plage de la commune, tr\\u00e8s touristique, au sud de Perpignan. Selon le quotidien L'Ind\\u00e9pendant, plusieurs milliers de personnes assistaient \\u00e0 ce feu d'artifice et que des d\\u00e9bris ont \\u00e9t\\u00e9 projet\\u00e9s jusqu'\\u00e0 quarante m\\u00e8tres de distance.Une enqu\\u00eate devrait \\u00eatre ouverte par les services de gendarmerie pour d\\u00e9terminer les causes et circonstances exactes de cet accident.\",\n          \"L'ancienne patronne d'EELV a, elle, raill\\u00e9 son allusion \\u00e0 \\\"la Marianne aux seins nus\\\".La mise en garde de Manuel Valls n'a pas \\u00e9t\\u00e9 entendue. \\\"Si nous partons divis\\u00e9s, nous perdrons \\u00e0 coup s\\u00fbr\\\", a d\\u00e9clar\\u00e9 le Premier ministre lundi soir \\u00e0 Colomiers (Haute-Garonne), critiquant sans les nommer Arnaud Montebourg, Beno\\u00eet Hamon et la \\\"surench\\u00e8re des diviseurs qui n'ont qu'un seul objectif : punir la gauche de gouvernement\\\".Pour Beno\\u00eet Hamon, cette d\\u00e9claration est \\\"une forme de contrition de la part de Manuel Valls\\\". Selon lui, le Premier ministre \\\"a beaucoup contribu\\u00e9 cet \\u00e9t\\u00e9, une fois de plus, \\u00e0 diviser le pays notamment sur la question de l'islam\\\". \\\"Je vois l\\u00e0, [de la part de Manuel Valls], quelque chose d'assez curieux, une diversion un peu ridicule, \\u00e0 vouloir expliquer que ceux qui se sentent mal, quand on ne parle que d'islam, sont les diviseurs\\\", a-t-il ajout\\u00e9 sur France 2, comparant le Premier ministre \\u00e0 \\\"Christian Estrosi, Nicolas Sarkozy et l'armada des Le Pen\\\".\\\"VALLS AURAIT MIEUX FAIT D'EN RESTER \\u00c0 SON DISCOURS \\u00c9CRIT\\\"L'actualit\\u00e9 politique du mois d'ao\\u00fbt a \\u00e9t\\u00e9 domin\\u00e9e par la pol\\u00e9mique sur le burkini, \\u00e0 laquelle Manuel Valls a rappel\\u00e9 son soutien aux maires interdisant le port du costume de bain sur les plages, et confirm\\u00e9 sa posture apr\\u00e8s la suspension de l'arr\\u00eat\\u00e9 par le Conseil d'Etat, ainsi qu'\\u00e0 Colomiers lundi. \\\"Marianne, le symbole de la R\\u00e9publique, elle a le sein nu parce qu'elle nourrit le peuple, elle n'est pas voil\\u00e9e parce qu'elle est libre. C'est \\u00e7a, la R\\u00e9publique\\\", avait r\\u00e9pliqu\\u00e9 lundi le Premier ministre. Une allusion \\u00e0 Marianne raill\\u00e9e par C\\u00e9cile Duflot : sur France inter, la candidate \\u00e9cologiste a estim\\u00e9 ce mardi que Manuel Valls \\\"aurait mieux fait d'en rester \\u00e0 son discours \\u00e9crit parce que quand il se lance dans des digressions il se prend les pieds dans le tapis\\\". Une citation qui selon elle, r\\u00e9v\\u00e8le \\\"deux choses fausses\\\", notamment \\\"le lien entre Marianne et la femme alors que Marianne est une all\\u00e9gorie de la R\\u00e9publique\\\".\\\"Quand on sait que la repr\\u00e9sentation la plus r\\u00e9publicaine de Marianne porte le bonnet phrygien c'est quand m\\u00eame assez cocasse et par ailleurs cette id\\u00e9e que la femme ne serait pas voil\\u00e9e parce que libre, le sein nu parce que nourrici\\u00e8re, l\\u00e0 aussi \\u00e7a donne quand m\\u00eame une petite image de l'id\\u00e9e que certains de ces messieurs de la politique ont des femmes\\\", poursuit-elle.\"\n        ],\n        \"semantic_type\": \"\",\n        \"description\": \"\"\n      }\n    },\n    {\n      \"column\": \"titles\",\n      \"properties\": {\n        \"dtype\": \"string\",\n        \"num_unique_values\": 21401,\n        \"samples\": [\n          \"Quelques tensions ont \\u00e9clat\\u00e9 place Wagram \\u00e0 Paris, lieu de d\\u00e9part d'une des manifestations des \\\"gilets jaunes\\\", o\\u00f9 une partie des manifestants est partie plus t\\u00f4t que pr\\u00e9vu. A la mi-journ\\u00e9e, la pr\\u00e9fecture de police de Paris a annonc\\u00e9 193 interpellations et 54 gardes.\",\n          \"Une dizaine de personnes ont \\u00e9t\\u00e9 bless\\u00e9es vendredi soir \\u00e0 Collioure (Pyr\\u00e9n\\u00e9es-Orientales) par une fus\\u00e9e de feu d'artifice dont la trajectoire a \\u00e9t\\u00e9 d\\u00e9vi\\u00e9e. L'engin a atterri au milieu de la foule, a-t-on appris samedi aupr\\u00e8s des pompiers.\",\n          \"Beno\\u00eet Hamon et C\\u00e9cile Duflot, tous les deux candidats \\u00e0 la primaire de leur parti, ont vivement critiqu\\u00e9 Manuel Valls ce mardi. Pour l'ancien ministre de l'\\u00c9ducation, le Premier ministre a \\\"beaucoup contribu\\u00e9 cet \\u00e9t\\u00e9 \\u00e0 diviser le pays notamment sur l'islam\\\".\"\n        ],\n        \"semantic_type\": \"\",\n        \"description\": \"\"\n      }\n    }\n  ]\n}"
            }
          },
          "metadata": {},
          "execution_count": 6
        }
      ]
    },
    {
      "cell_type": "code",
      "source": [
        "# Apply grammar correction to all news articles in the DataFrame\n",
        "tqdm.pandas()\n",
        "df_train['text_grammar'] = df_train['text'].progress_apply(correct_grammar)\n",
        "file_path = \"/content/drive/My Drive/Colab Notebooks/11_DataAI_INF582_TextMining_NLP/Challenge/data/processed/train_grammar_correction.csv\"\n",
        "df_train.to_csv(file_path, index=False)\n",
        "\n",
        "print(\"File saved to Google Drive at:\", file_path)"
      ],
      "metadata": {
        "colab": {
          "base_uri": "https://localhost:8080/"
        },
        "id": "QviQXkUDG6Ll",
        "outputId": "28347808-3825-4c4e-a801-6379a046249d"
      },
      "execution_count": null,
      "outputs": [
        {
          "output_type": "stream",
          "name": "stderr",
          "text": [
            "100%|██████████| 21401/21401 [4:47:09<00:00,  1.24it/s]\n"
          ]
        },
        {
          "output_type": "stream",
          "name": "stdout",
          "text": [
            "File saved to Google Drive at: /content/drive/My Drive/Colab Notebooks/11_DataAI_INF582_TextMining_NLP/Challenge/data/processed/train_grammar_correction.csv\n"
          ]
        }
      ]
    },
    {
      "cell_type": "code",
      "source": [
        "import pandas as pd\n",
        "path_train_grammar = \"/content/drive/My Drive/Colab Notebooks/11_DataAI_INF582_TextMining_NLP/Challenge/data/processed/train_grammar_correction.csv\"\n",
        "df_train_grammar = pd.read_csv(path_train_grammar)\n",
        "df_train_grammar"
      ],
      "metadata": {
        "colab": {
          "base_uri": "https://localhost:8080/",
          "height": 423
        },
        "id": "vh0fNim4BDXN",
        "outputId": "5256e91f-37a0-4088-b782-0586ef66058a"
      },
      "execution_count": null,
      "outputs": [
        {
          "output_type": "execute_result",
          "data": {
            "text/plain": [
              "                                                    text  \\\n",
              "0      Thierry Mariani sur la liste du Rassemblement ...   \n",
              "1      C'est désormais officiel : Alain Juppé n'est p...   \n",
              "2      La mesure est décriée par les avocats et les m...   \n",
              "3      Dans une interview accordée au Figaro mercredi...   \n",
              "4      Le préjudice est estimé à 2 millions d'euros. ...   \n",
              "...                                                  ...   \n",
              "21396  Une \"main tendue\" que refuse de saisir l'eurod...   \n",
              "21397  Venue présenter son dernier spectacle, Elektri...   \n",
              "21398  Mauvaise nouvelle pour les amateurs de chasse ...   \n",
              "21399  \"Ce n'est pas une question de simple voile, c'...   \n",
              "21400  C'est le montant total encaissé par l'État l'a...   \n",
              "\n",
              "                                                  titles  \\\n",
              "0      L'information n'a pas été confirmée par l'inté...   \n",
              "1      Le maire de Bordeaux ne fait plus partie des R...   \n",
              "2      En 2020, les tribunaux d'instance fusionnent a...   \n",
              "3      Les médecins jugés \"gros prescripteurs d'arrêt...   \n",
              "4      Il aura fallu mobiliser 90 gendarmes pour cett...   \n",
              "...                                                  ...   \n",
              "21396  POLITIQUE. La présidente du Front national a s...   \n",
              "21397  Que serait un dimanche matin sans un passage e...   \n",
              "21398  La chasse à la glu sera interdite cette année,...   \n",
              "21399  Bruno Le Maire, candidat à la primaire de la d...   \n",
              "21400  En 2019, les sommes recouvrées par l'État au t...   \n",
              "\n",
              "                                            text_grammar  \n",
              "0      Thierry Marianne sur la liste du Rassemblement...  \n",
              "1      C'est désormais officiel : Alain Juppé n'est p...  \n",
              "2      La mesure est décriée par les avocats et les m...  \n",
              "3      Dans une interview accordée au Figaro mercredi...  \n",
              "4      Le préjudice est estimé à 2 millions d'euros. ...  \n",
              "...                                                  ...  \n",
              "21396  Une \"main tendue\" que refuse de saisir l'eurod...  \n",
              "21397  Venue présenter son dernier spectacle, Électri...  \n",
              "21398  Mauvaise nouvelle pour les amateurs de chasse ...  \n",
              "21399  \"Ce n'est pas une question de simple voile, c'...  \n",
              "21400  C'est le montant total encaissé par l'État l'a...  \n",
              "\n",
              "[21401 rows x 3 columns]"
            ],
            "text/html": [
              "\n",
              "  <div id=\"df-e2b8eb1a-8ec4-47a9-8952-8988c6fbf6be\" class=\"colab-df-container\">\n",
              "    <div>\n",
              "<style scoped>\n",
              "    .dataframe tbody tr th:only-of-type {\n",
              "        vertical-align: middle;\n",
              "    }\n",
              "\n",
              "    .dataframe tbody tr th {\n",
              "        vertical-align: top;\n",
              "    }\n",
              "\n",
              "    .dataframe thead th {\n",
              "        text-align: right;\n",
              "    }\n",
              "</style>\n",
              "<table border=\"1\" class=\"dataframe\">\n",
              "  <thead>\n",
              "    <tr style=\"text-align: right;\">\n",
              "      <th></th>\n",
              "      <th>text</th>\n",
              "      <th>titles</th>\n",
              "      <th>text_grammar</th>\n",
              "    </tr>\n",
              "  </thead>\n",
              "  <tbody>\n",
              "    <tr>\n",
              "      <th>0</th>\n",
              "      <td>Thierry Mariani sur la liste du Rassemblement ...</td>\n",
              "      <td>L'information n'a pas été confirmée par l'inté...</td>\n",
              "      <td>Thierry Marianne sur la liste du Rassemblement...</td>\n",
              "    </tr>\n",
              "    <tr>\n",
              "      <th>1</th>\n",
              "      <td>C'est désormais officiel : Alain Juppé n'est p...</td>\n",
              "      <td>Le maire de Bordeaux ne fait plus partie des R...</td>\n",
              "      <td>C'est désormais officiel : Alain Juppé n'est p...</td>\n",
              "    </tr>\n",
              "    <tr>\n",
              "      <th>2</th>\n",
              "      <td>La mesure est décriée par les avocats et les m...</td>\n",
              "      <td>En 2020, les tribunaux d'instance fusionnent a...</td>\n",
              "      <td>La mesure est décriée par les avocats et les m...</td>\n",
              "    </tr>\n",
              "    <tr>\n",
              "      <th>3</th>\n",
              "      <td>Dans une interview accordée au Figaro mercredi...</td>\n",
              "      <td>Les médecins jugés \"gros prescripteurs d'arrêt...</td>\n",
              "      <td>Dans une interview accordée au Figaro mercredi...</td>\n",
              "    </tr>\n",
              "    <tr>\n",
              "      <th>4</th>\n",
              "      <td>Le préjudice est estimé à 2 millions d'euros. ...</td>\n",
              "      <td>Il aura fallu mobiliser 90 gendarmes pour cett...</td>\n",
              "      <td>Le préjudice est estimé à 2 millions d'euros. ...</td>\n",
              "    </tr>\n",
              "    <tr>\n",
              "      <th>...</th>\n",
              "      <td>...</td>\n",
              "      <td>...</td>\n",
              "      <td>...</td>\n",
              "    </tr>\n",
              "    <tr>\n",
              "      <th>21396</th>\n",
              "      <td>Une \"main tendue\" que refuse de saisir l'eurod...</td>\n",
              "      <td>POLITIQUE. La présidente du Front national a s...</td>\n",
              "      <td>Une \"main tendue\" que refuse de saisir l'eurod...</td>\n",
              "    </tr>\n",
              "    <tr>\n",
              "      <th>21397</th>\n",
              "      <td>Venue présenter son dernier spectacle, Elektri...</td>\n",
              "      <td>Que serait un dimanche matin sans un passage e...</td>\n",
              "      <td>Venue présenter son dernier spectacle, Électri...</td>\n",
              "    </tr>\n",
              "    <tr>\n",
              "      <th>21398</th>\n",
              "      <td>Mauvaise nouvelle pour les amateurs de chasse ...</td>\n",
              "      <td>La chasse à la glu sera interdite cette année,...</td>\n",
              "      <td>Mauvaise nouvelle pour les amateurs de chasse ...</td>\n",
              "    </tr>\n",
              "    <tr>\n",
              "      <th>21399</th>\n",
              "      <td>\"Ce n'est pas une question de simple voile, c'...</td>\n",
              "      <td>Bruno Le Maire, candidat à la primaire de la d...</td>\n",
              "      <td>\"Ce n'est pas une question de simple voile, c'...</td>\n",
              "    </tr>\n",
              "    <tr>\n",
              "      <th>21400</th>\n",
              "      <td>C'est le montant total encaissé par l'État l'a...</td>\n",
              "      <td>En 2019, les sommes recouvrées par l'État au t...</td>\n",
              "      <td>C'est le montant total encaissé par l'État l'a...</td>\n",
              "    </tr>\n",
              "  </tbody>\n",
              "</table>\n",
              "<p>21401 rows × 3 columns</p>\n",
              "</div>\n",
              "    <div class=\"colab-df-buttons\">\n",
              "\n",
              "  <div class=\"colab-df-container\">\n",
              "    <button class=\"colab-df-convert\" onclick=\"convertToInteractive('df-e2b8eb1a-8ec4-47a9-8952-8988c6fbf6be')\"\n",
              "            title=\"Convert this dataframe to an interactive table.\"\n",
              "            style=\"display:none;\">\n",
              "\n",
              "  <svg xmlns=\"http://www.w3.org/2000/svg\" height=\"24px\" viewBox=\"0 -960 960 960\">\n",
              "    <path d=\"M120-120v-720h720v720H120Zm60-500h600v-160H180v160Zm220 220h160v-160H400v160Zm0 220h160v-160H400v160ZM180-400h160v-160H180v160Zm440 0h160v-160H620v160ZM180-180h160v-160H180v160Zm440 0h160v-160H620v160Z\"/>\n",
              "  </svg>\n",
              "    </button>\n",
              "\n",
              "  <style>\n",
              "    .colab-df-container {\n",
              "      display:flex;\n",
              "      gap: 12px;\n",
              "    }\n",
              "\n",
              "    .colab-df-convert {\n",
              "      background-color: #E8F0FE;\n",
              "      border: none;\n",
              "      border-radius: 50%;\n",
              "      cursor: pointer;\n",
              "      display: none;\n",
              "      fill: #1967D2;\n",
              "      height: 32px;\n",
              "      padding: 0 0 0 0;\n",
              "      width: 32px;\n",
              "    }\n",
              "\n",
              "    .colab-df-convert:hover {\n",
              "      background-color: #E2EBFA;\n",
              "      box-shadow: 0px 1px 2px rgba(60, 64, 67, 0.3), 0px 1px 3px 1px rgba(60, 64, 67, 0.15);\n",
              "      fill: #174EA6;\n",
              "    }\n",
              "\n",
              "    .colab-df-buttons div {\n",
              "      margin-bottom: 4px;\n",
              "    }\n",
              "\n",
              "    [theme=dark] .colab-df-convert {\n",
              "      background-color: #3B4455;\n",
              "      fill: #D2E3FC;\n",
              "    }\n",
              "\n",
              "    [theme=dark] .colab-df-convert:hover {\n",
              "      background-color: #434B5C;\n",
              "      box-shadow: 0px 1px 3px 1px rgba(0, 0, 0, 0.15);\n",
              "      filter: drop-shadow(0px 1px 2px rgba(0, 0, 0, 0.3));\n",
              "      fill: #FFFFFF;\n",
              "    }\n",
              "  </style>\n",
              "\n",
              "    <script>\n",
              "      const buttonEl =\n",
              "        document.querySelector('#df-e2b8eb1a-8ec4-47a9-8952-8988c6fbf6be button.colab-df-convert');\n",
              "      buttonEl.style.display =\n",
              "        google.colab.kernel.accessAllowed ? 'block' : 'none';\n",
              "\n",
              "      async function convertToInteractive(key) {\n",
              "        const element = document.querySelector('#df-e2b8eb1a-8ec4-47a9-8952-8988c6fbf6be');\n",
              "        const dataTable =\n",
              "          await google.colab.kernel.invokeFunction('convertToInteractive',\n",
              "                                                    [key], {});\n",
              "        if (!dataTable) return;\n",
              "\n",
              "        const docLinkHtml = 'Like what you see? Visit the ' +\n",
              "          '<a target=\"_blank\" href=https://colab.research.google.com/notebooks/data_table.ipynb>data table notebook</a>'\n",
              "          + ' to learn more about interactive tables.';\n",
              "        element.innerHTML = '';\n",
              "        dataTable['output_type'] = 'display_data';\n",
              "        await google.colab.output.renderOutput(dataTable, element);\n",
              "        const docLink = document.createElement('div');\n",
              "        docLink.innerHTML = docLinkHtml;\n",
              "        element.appendChild(docLink);\n",
              "      }\n",
              "    </script>\n",
              "  </div>\n",
              "\n",
              "\n",
              "<div id=\"df-de0a9384-be2a-4c1f-b921-8263ed27b3cc\">\n",
              "  <button class=\"colab-df-quickchart\" onclick=\"quickchart('df-de0a9384-be2a-4c1f-b921-8263ed27b3cc')\"\n",
              "            title=\"Suggest charts\"\n",
              "            style=\"display:none;\">\n",
              "\n",
              "<svg xmlns=\"http://www.w3.org/2000/svg\" height=\"24px\"viewBox=\"0 0 24 24\"\n",
              "     width=\"24px\">\n",
              "    <g>\n",
              "        <path d=\"M19 3H5c-1.1 0-2 .9-2 2v14c0 1.1.9 2 2 2h14c1.1 0 2-.9 2-2V5c0-1.1-.9-2-2-2zM9 17H7v-7h2v7zm4 0h-2V7h2v10zm4 0h-2v-4h2v4z\"/>\n",
              "    </g>\n",
              "</svg>\n",
              "  </button>\n",
              "\n",
              "<style>\n",
              "  .colab-df-quickchart {\n",
              "      --bg-color: #E8F0FE;\n",
              "      --fill-color: #1967D2;\n",
              "      --hover-bg-color: #E2EBFA;\n",
              "      --hover-fill-color: #174EA6;\n",
              "      --disabled-fill-color: #AAA;\n",
              "      --disabled-bg-color: #DDD;\n",
              "  }\n",
              "\n",
              "  [theme=dark] .colab-df-quickchart {\n",
              "      --bg-color: #3B4455;\n",
              "      --fill-color: #D2E3FC;\n",
              "      --hover-bg-color: #434B5C;\n",
              "      --hover-fill-color: #FFFFFF;\n",
              "      --disabled-bg-color: #3B4455;\n",
              "      --disabled-fill-color: #666;\n",
              "  }\n",
              "\n",
              "  .colab-df-quickchart {\n",
              "    background-color: var(--bg-color);\n",
              "    border: none;\n",
              "    border-radius: 50%;\n",
              "    cursor: pointer;\n",
              "    display: none;\n",
              "    fill: var(--fill-color);\n",
              "    height: 32px;\n",
              "    padding: 0;\n",
              "    width: 32px;\n",
              "  }\n",
              "\n",
              "  .colab-df-quickchart:hover {\n",
              "    background-color: var(--hover-bg-color);\n",
              "    box-shadow: 0 1px 2px rgba(60, 64, 67, 0.3), 0 1px 3px 1px rgba(60, 64, 67, 0.15);\n",
              "    fill: var(--button-hover-fill-color);\n",
              "  }\n",
              "\n",
              "  .colab-df-quickchart-complete:disabled,\n",
              "  .colab-df-quickchart-complete:disabled:hover {\n",
              "    background-color: var(--disabled-bg-color);\n",
              "    fill: var(--disabled-fill-color);\n",
              "    box-shadow: none;\n",
              "  }\n",
              "\n",
              "  .colab-df-spinner {\n",
              "    border: 2px solid var(--fill-color);\n",
              "    border-color: transparent;\n",
              "    border-bottom-color: var(--fill-color);\n",
              "    animation:\n",
              "      spin 1s steps(1) infinite;\n",
              "  }\n",
              "\n",
              "  @keyframes spin {\n",
              "    0% {\n",
              "      border-color: transparent;\n",
              "      border-bottom-color: var(--fill-color);\n",
              "      border-left-color: var(--fill-color);\n",
              "    }\n",
              "    20% {\n",
              "      border-color: transparent;\n",
              "      border-left-color: var(--fill-color);\n",
              "      border-top-color: var(--fill-color);\n",
              "    }\n",
              "    30% {\n",
              "      border-color: transparent;\n",
              "      border-left-color: var(--fill-color);\n",
              "      border-top-color: var(--fill-color);\n",
              "      border-right-color: var(--fill-color);\n",
              "    }\n",
              "    40% {\n",
              "      border-color: transparent;\n",
              "      border-right-color: var(--fill-color);\n",
              "      border-top-color: var(--fill-color);\n",
              "    }\n",
              "    60% {\n",
              "      border-color: transparent;\n",
              "      border-right-color: var(--fill-color);\n",
              "    }\n",
              "    80% {\n",
              "      border-color: transparent;\n",
              "      border-right-color: var(--fill-color);\n",
              "      border-bottom-color: var(--fill-color);\n",
              "    }\n",
              "    90% {\n",
              "      border-color: transparent;\n",
              "      border-bottom-color: var(--fill-color);\n",
              "    }\n",
              "  }\n",
              "</style>\n",
              "\n",
              "  <script>\n",
              "    async function quickchart(key) {\n",
              "      const quickchartButtonEl =\n",
              "        document.querySelector('#' + key + ' button');\n",
              "      quickchartButtonEl.disabled = true;  // To prevent multiple clicks.\n",
              "      quickchartButtonEl.classList.add('colab-df-spinner');\n",
              "      try {\n",
              "        const charts = await google.colab.kernel.invokeFunction(\n",
              "            'suggestCharts', [key], {});\n",
              "      } catch (error) {\n",
              "        console.error('Error during call to suggestCharts:', error);\n",
              "      }\n",
              "      quickchartButtonEl.classList.remove('colab-df-spinner');\n",
              "      quickchartButtonEl.classList.add('colab-df-quickchart-complete');\n",
              "    }\n",
              "    (() => {\n",
              "      let quickchartButtonEl =\n",
              "        document.querySelector('#df-de0a9384-be2a-4c1f-b921-8263ed27b3cc button');\n",
              "      quickchartButtonEl.style.display =\n",
              "        google.colab.kernel.accessAllowed ? 'block' : 'none';\n",
              "    })();\n",
              "  </script>\n",
              "</div>\n",
              "    </div>\n",
              "  </div>\n"
            ],
            "application/vnd.google.colaboratory.intrinsic+json": {
              "type": "dataframe",
              "variable_name": "df_train_grammar",
              "summary": "{\n  \"name\": \"df_train_grammar\",\n  \"rows\": 21401,\n  \"fields\": [\n    {\n      \"column\": \"text\",\n      \"properties\": {\n        \"dtype\": \"string\",\n        \"num_unique_values\": 21401,\n        \"samples\": [\n          \"Les \\\"gilets jaunes\\\" et leurs col\\u00e8res font leur retour samedi 12 septembre dans les rues pour une s\\u00e9rie d'actions \\u00e0 travers la France. Pr\\u00e8s de deux ans apr\\u00e8s la naissance du mouvement, des rassemblements ont lieu en province (Marseille, Toulouse, Lyon, Lille, Nantes, Nice, Bordeaux ou Strasbourg) et \\u00e0 Paris. Un premier cort\\u00e8ge est parti d\\u00e9filer vers midi depuis place de la Bourse, dans le centre de la capitale, vers la Porte de Champerret, au nord-ouest de la ville. Arriv\\u00e9 peu apr\\u00e8s 10H00, l'humoriste Jean-Marie Bigard a \\u00e9t\\u00e9 fra\\u00eechement accueilli par des hu\\u00e9es \\\"Bigard collabo!\\\". Ce soutien m\\u00e9diatique des \\\"gilets jaunes\\\" s'est d\\u00e9solidaris\\u00e9 cette semaine d'une des figures du mouvement, J\\u00e9r\\u00f4me Rodrigues, qui avait assimil\\u00e9 les policiers \\u00e0 \\\"une bande de nazis\\\".Quelques tensions ont \\u00e9clat\\u00e9 place Wagram \\u00e0 Paris, lieu de d\\u00e9part d'une seconde manifestation. Selon BFMTV, une partie des manifestants est parti d\\u00e8s 12h15 alors que le cort\\u00e8ge devait s'\\u00e9lancer \\u00e0 partir de 13 heures. Il a aussi emprunt\\u00e9 un autre parcours que celui initialement pr\\u00e9vu, se dirigeant vers l'Arc de triomphe. Ils ont \\u00e9t\\u00e9 rapidement intercept\\u00e9s par les forces de l'ordre qui a utilis\\u00e9 des gaz lacrymog\\u00e8nes.A la mi-journ\\u00e9e, la pr\\u00e9fecture de police de Paris a annonc\\u00e9 193 interpellations et 54 gardes \\u00e0 vue.Manifestations interdites sur les Champs-Elys\\u00e9es et \\u00e0 ToulouseSur les Champs-Elys\\u00e9es, o\\u00f9 deux manifestations ont \\u00e9t\\u00e9 interdites par la pr\\u00e9fecture de police, un important dispositif policier a \\u00e9t\\u00e9 d\\u00e9ploy\\u00e9 pour proc\\u00e9der \\u00e0 des contr\\u00f4les d'identit\\u00e9 et des fouilles des sacs sur l'avenue et dans les rues adjacentes, bien en amont. De nombreux commer\\u00e7ants ont \\u00e9galement barricad\\u00e9 leurs vitrines, mais aucun rassemblement de \\\"gilets jaunes\\\" n'\\u00e9tait observ\\u00e9 en milieu de matin\\u00e9e.\\\"Il ne peut pas y avoir de destructions, de chaos sur les Champs-Elys\\u00e9es\\\", a pr\\u00e9venu le pr\\u00e9fet de police Didier Lallement lors d'un point presse en haut de l'avenue en tout d\\u00e9but de matin\\u00e9e. De source polici\\u00e8re, 4.000 \\u00e0 5.000 manifestants sont attendus \\u00e0 Paris, dont 1.000 personnes potentiellement violentes. D\\u00e9j\\u00e0 81 personnes avaient \\u00e9t\\u00e9 interpell\\u00e9es \\u00e0 11H15 depuis le d\\u00e9but de la journ\\u00e9e, notamment car ils se trouvaient en possession d'objet qui \\\"n'ont pas leur place dans une manifestation - tournevis, piolet, pince coupante, couteaux - a annonc\\u00e9 la pr\\u00e9fecture de police sur Twitter.Sans donner de chiffres globaux sur les effectifs mobilis\\u00e9s, le pr\\u00e9fet a \\u00e9voqu\\u00e9 un dispositif \\\"appropri\\u00e9\\\", \\\"important\\\", avec notamment le d\\u00e9ploiement de 160 motards des brigades de la r\\u00e9pression de l'action violente (BRAV-M).Didier Lallement a confirm\\u00e9 l'assistance, d\\u00e8s ce samedi, d'un \\\"superviseur\\\" pour chaque porteur de LBD afin d'aider \\\"\\u00e0 la ma\\u00eetrise et au bon usage\\\" de cette arme, et le retrait des anciennes grenades \\u00e0 main de d\\u00e9sencerclement (GMD) remplac\\u00e9es par un nouveau mod\\u00e8le, r\\u00e9put\\u00e9 moins dangereux, conform\\u00e9ment aux annonces du ministre de l'Int\\u00e9rieur G\\u00e9rald Darmanin vendredi.D'autres rassemblements sont pr\\u00e9vus tout au long de la journ\\u00e9e dans des grandes villes de France (Marseille, Toulouse, Lyon, Lille, Nantes, Nice, Bordeaux ou Strasbourg...). A Toulouse (sud-ouest), qui a \\u00e9t\\u00e9 un des bastions du mouvement dans le pays, la manifestation a \\u00e9t\\u00e9 interdite par les autorit\\u00e9s locales notamment en raison \\\"des taux \\u00e9lev\\u00e9s de propagation de la Covid-19\\\".\",\n          \"Parmi ces bless\\u00e9s, trois ont \\u00e9t\\u00e9 hospitalis\\u00e9s, notamment pour des br\\u00fblures. Toutefois, aucun pronostic vital n'est engag\\u00e9, selon les pompiers. Selon les premiers \\u00e9l\\u00e9ments, une fus\\u00e9e du feu d'artifice serait partie \\u00e0 l'horizontale, d'une barge flottante, en direction de la foule.L'engin pyrotechnique aurait explos\\u00e9 au milieu d'un groupe de personnes mass\\u00e9es sur la plage de la commune, tr\\u00e8s touristique, au sud de Perpignan. Selon le quotidien L'Ind\\u00e9pendant, plusieurs milliers de personnes assistaient \\u00e0 ce feu d'artifice et que des d\\u00e9bris ont \\u00e9t\\u00e9 projet\\u00e9s jusqu'\\u00e0 quarante m\\u00e8tres de distance.Une enqu\\u00eate devrait \\u00eatre ouverte par les services de gendarmerie pour d\\u00e9terminer les causes et circonstances exactes de cet accident.\",\n          \"L'ancienne patronne d'EELV a, elle, raill\\u00e9 son allusion \\u00e0 \\\"la Marianne aux seins nus\\\".La mise en garde de Manuel Valls n'a pas \\u00e9t\\u00e9 entendue. \\\"Si nous partons divis\\u00e9s, nous perdrons \\u00e0 coup s\\u00fbr\\\", a d\\u00e9clar\\u00e9 le Premier ministre lundi soir \\u00e0 Colomiers (Haute-Garonne), critiquant sans les nommer Arnaud Montebourg, Beno\\u00eet Hamon et la \\\"surench\\u00e8re des diviseurs qui n'ont qu'un seul objectif : punir la gauche de gouvernement\\\".Pour Beno\\u00eet Hamon, cette d\\u00e9claration est \\\"une forme de contrition de la part de Manuel Valls\\\". Selon lui, le Premier ministre \\\"a beaucoup contribu\\u00e9 cet \\u00e9t\\u00e9, une fois de plus, \\u00e0 diviser le pays notamment sur la question de l'islam\\\". \\\"Je vois l\\u00e0, [de la part de Manuel Valls], quelque chose d'assez curieux, une diversion un peu ridicule, \\u00e0 vouloir expliquer que ceux qui se sentent mal, quand on ne parle que d'islam, sont les diviseurs\\\", a-t-il ajout\\u00e9 sur France 2, comparant le Premier ministre \\u00e0 \\\"Christian Estrosi, Nicolas Sarkozy et l'armada des Le Pen\\\".\\\"VALLS AURAIT MIEUX FAIT D'EN RESTER \\u00c0 SON DISCOURS \\u00c9CRIT\\\"L'actualit\\u00e9 politique du mois d'ao\\u00fbt a \\u00e9t\\u00e9 domin\\u00e9e par la pol\\u00e9mique sur le burkini, \\u00e0 laquelle Manuel Valls a rappel\\u00e9 son soutien aux maires interdisant le port du costume de bain sur les plages, et confirm\\u00e9 sa posture apr\\u00e8s la suspension de l'arr\\u00eat\\u00e9 par le Conseil d'Etat, ainsi qu'\\u00e0 Colomiers lundi. \\\"Marianne, le symbole de la R\\u00e9publique, elle a le sein nu parce qu'elle nourrit le peuple, elle n'est pas voil\\u00e9e parce qu'elle est libre. C'est \\u00e7a, la R\\u00e9publique\\\", avait r\\u00e9pliqu\\u00e9 lundi le Premier ministre. Une allusion \\u00e0 Marianne raill\\u00e9e par C\\u00e9cile Duflot : sur France inter, la candidate \\u00e9cologiste a estim\\u00e9 ce mardi que Manuel Valls \\\"aurait mieux fait d'en rester \\u00e0 son discours \\u00e9crit parce que quand il se lance dans des digressions il se prend les pieds dans le tapis\\\". Une citation qui selon elle, r\\u00e9v\\u00e8le \\\"deux choses fausses\\\", notamment \\\"le lien entre Marianne et la femme alors que Marianne est une all\\u00e9gorie de la R\\u00e9publique\\\".\\\"Quand on sait que la repr\\u00e9sentation la plus r\\u00e9publicaine de Marianne porte le bonnet phrygien c'est quand m\\u00eame assez cocasse et par ailleurs cette id\\u00e9e que la femme ne serait pas voil\\u00e9e parce que libre, le sein nu parce que nourrici\\u00e8re, l\\u00e0 aussi \\u00e7a donne quand m\\u00eame une petite image de l'id\\u00e9e que certains de ces messieurs de la politique ont des femmes\\\", poursuit-elle.\"\n        ],\n        \"semantic_type\": \"\",\n        \"description\": \"\"\n      }\n    },\n    {\n      \"column\": \"titles\",\n      \"properties\": {\n        \"dtype\": \"string\",\n        \"num_unique_values\": 21401,\n        \"samples\": [\n          \"Quelques tensions ont \\u00e9clat\\u00e9 place Wagram \\u00e0 Paris, lieu de d\\u00e9part d'une des manifestations des \\\"gilets jaunes\\\", o\\u00f9 une partie des manifestants est partie plus t\\u00f4t que pr\\u00e9vu. A la mi-journ\\u00e9e, la pr\\u00e9fecture de police de Paris a annonc\\u00e9 193 interpellations et 54 gardes.\",\n          \"Une dizaine de personnes ont \\u00e9t\\u00e9 bless\\u00e9es vendredi soir \\u00e0 Collioure (Pyr\\u00e9n\\u00e9es-Orientales) par une fus\\u00e9e de feu d'artifice dont la trajectoire a \\u00e9t\\u00e9 d\\u00e9vi\\u00e9e. L'engin a atterri au milieu de la foule, a-t-on appris samedi aupr\\u00e8s des pompiers.\",\n          \"Beno\\u00eet Hamon et C\\u00e9cile Duflot, tous les deux candidats \\u00e0 la primaire de leur parti, ont vivement critiqu\\u00e9 Manuel Valls ce mardi. Pour l'ancien ministre de l'\\u00c9ducation, le Premier ministre a \\\"beaucoup contribu\\u00e9 cet \\u00e9t\\u00e9 \\u00e0 diviser le pays notamment sur l'islam\\\".\"\n        ],\n        \"semantic_type\": \"\",\n        \"description\": \"\"\n      }\n    },\n    {\n      \"column\": \"text_grammar\",\n      \"properties\": {\n        \"dtype\": \"string\",\n        \"num_unique_values\": 21401,\n        \"samples\": [\n          \"Les \\\"gilets jaunes\\\" et leurs col\\u00e8res font leur retour samedi 12 septembre dans les rues pour une s\\u00e9rie d'actions \\u00e0 travers la France. Pr\\u00e8s de deux ans apr\\u00e8s la naissance du mouvement, des rassemblements ont lieu en province (Marseille, Toulouse, Lyon, Lille, Nantes, Nice, Bordeaux ou Strasbourg) et \\u00e0 Paris. Un premier cort\\u00e8ge est parti d\\u00e9filer vers midi depuis place de la Bourse, dans le centre de la capitale, vers la Porte de Champ\\u00eatre, au nord-ouest de la ville. Arriv\\u00e9 peu apr\\u00e8s 10\\u00a0h\\u00a000, l'humoriste Jean-Marie Bigarr\\u00e9 a \\u00e9t\\u00e9 fra\\u00eechement accueilli par des hu\\u00e9es \\\"Bigarr\\u00e9 collabo\\u202f!\\\". Ce soutien m\\u00e9diatique des \\\"gilets jaunes\\\" s'est d\\u00e9solidaris\\u00e9 cette semaine d'une des figures du mouvement, J\\u00e9r\\u00f4me Rodrigue, qui avait assimil\\u00e9 les policiers \\u00e0 \\\"une bande de nazis\\\". Quelques tensions ont \\u00e9clat\\u00e9 place Wagram \\u00e0 Paris, lieu de d\\u00e9part d'une seconde manifestation. Selon BFMTV, une partie des manifestants est parti d\\u00e8s 12\\u00a0h\\u00a015 alors que le cort\\u00e8ge devait s'\\u00e9lancer \\u00e0 partir de 13 heures. Il a aussi emprunt\\u00e9 un autre parcours que celui initialement pr\\u00e9vu, se dirigeant vers l'Arc de triomphe. Ils ont \\u00e9t\\u00e9 rapidement intercept\\u00e9s par les forces de l'ordre qui a utilis\\u00e9 des gaz lacrymog\\u00e8nes.\\u00c0 la mi-journ\\u00e9e, la pr\\u00e9fecture de police de Paris a annonc\\u00e9 193 interpellations et 54 gardes \\u00e0 vue. Manifestations interdites sur les Champs-\\u00c9lys\\u00e9es et \\u00e0 Toulouse Sur les Champs-\\u00c9lys\\u00e9es, o\\u00f9 deux manifestations ont \\u00e9t\\u00e9 interdites par la pr\\u00e9fecture de police, un important dispositif policier a \\u00e9t\\u00e9 d\\u00e9ploy\\u00e9 pour proc\\u00e9der \\u00e0 des contr\\u00f4les d'identit\\u00e9 et des fouilles des sacs sur l'avenue et dans les rues adjacentes, bien en amont. De nombreux commer\\u00e7ants ont \\u00e9galement barricad\\u00e9 leurs vitrines, mais aucun rassemblement de \\\"gilets jaunes\\\" n'\\u00e9tait observ\\u00e9 en milieu de matin\\u00e9e.\\\" Il ne peut pas y avoir de destructions, de chaos sur les Champs-\\u00c9lys\\u00e9es\\\", a pr\\u00e9venu le pr\\u00e9fet de police Didier L'all\\u00e8rent lors d'un point presse en haut de l'avenue en tout d\\u00e9but de matin\\u00e9e. De source polici\\u00e8re, 4.000 \\u00e0 5.000 manifestants sont attendus \\u00e0 Paris, dont 1.000 personnes potentiellement violentes. D\\u00e9j\\u00e0 81 personnes avaient \\u00e9t\\u00e9 interpell\\u00e9es \\u00e0 11\\u00a0h\\u00a015 depuis le d\\u00e9but de la journ\\u00e9e, notamment, car ils se trouvaient en possession d'objet qui \\\"n'ont pas leur place dans une manifestation \\u2014 tournevis, piolet, pince coupante, couteaux \\u2014 a annonc\\u00e9 la pr\\u00e9fecture de police sur Twitter. Sans donner de chiffres globaux sur les effectifs mobilis\\u00e9s, le pr\\u00e9fet a \\u00e9voqu\\u00e9 un dispositif \\\"appropri\\u00e9\\\", \\\"important\\\", avec notamment le d\\u00e9ploiement de 160 motards des brigades de la r\\u00e9pression de l'action violente (BRAS-M). Didier L'all\\u00e8rent a confirm\\u00e9 l'assistance, d\\u00e8s ce samedi, d'un \\\"superviseur\\\" pour chaque porteur de LBD afin d'aider \\\"\\u00e0 la ma\\u00eetrise et au bon usage\\\" de cette arme, et le retrait des anciennes grenades \\u00e0 main de d\\u00e9sencerclement (GMD) remplac\\u00e9es par un nouveau mod\\u00e8le, r\\u00e9put\\u00e9 moins dangereux, conform\\u00e9ment aux annonces du ministre de l'Int\\u00e9rieur G\\u00e9rald Armani vendredi. D'autres rassemblements sont pr\\u00e9vus tout au long de la journ\\u00e9e dans des grandes villes de France (Marseille, Toulouse, Lyon, Lille, Nantes, Nice, Bordeaux ou Strasbourg...). \\u00c0 Toulouse (sud-ouest), qui a \\u00e9t\\u00e9 un des bastions du mouvement dans le pays, la manifestation a \\u00e9t\\u00e9 interdite par les autorit\\u00e9s locales notamment en raison \\\"des taux \\u00e9lev\\u00e9s de propagation de la Covid-19\\\".\",\n          \"Parmi ces bless\\u00e9s, trois ont \\u00e9t\\u00e9 hospitalis\\u00e9s, notamment pour des br\\u00fblures. Toutefois, aucun pronostic vital n'est engag\\u00e9, selon les pompiers. Selon les premiers \\u00e9l\\u00e9ments, une fus\\u00e9e du feu d'artifice serait partie \\u00e0 l'horizontale, d'une barge flottante, en direction de la foule. L'engin pyrotechnique aurait explos\\u00e9 au milieu d'un groupe de personnes mass\\u00e9es sur la plage de la commune, tr\\u00e8s touristique, au sud de Perpignan. Selon le quotidien L'Ind\\u00e9pendant, plusieurs milliers de personnes assistaient \\u00e0 ce feu d'artifice et que des d\\u00e9bris ont \\u00e9t\\u00e9 projet\\u00e9s jusqu'\\u00e0 quarante m\\u00e8tres de distance. Une enqu\\u00eate devrait \\u00eatre ouverte par les services de gendarmerie pour d\\u00e9terminer les causes et circonstances exactes de cet accident.\",\n          \"L'ancienne patronne d'EELV a, elle, raill\\u00e9 son allusion \\u00e0 \\\"la Marianne aux seins nus\\\". La mise en garde de Manuel Valls n'a pas \\u00e9t\\u00e9 entendue. \\\"Si nous partons divis\\u00e9s, nous perdrons \\u00e0 coup s\\u00fbr\\\", a d\\u00e9clar\\u00e9 le Premier ministre lundi soir \\u00e0 Colomiers (Haute-Garonne), critiquant sans les nommer Arnaud Montebourg, Beno\\u00eet Hameau et la \\\"surench\\u00e8re des diviseurs qui n'ont qu'un seul objectif : punir la gauche de gouvernement\\\". Pour Beno\\u00eet Hameau, cette d\\u00e9claration est \\\"une forme de contrition de la part de Manuel Valls\\\". Selon lui, le Premier ministre \\\"a beaucoup contribu\\u00e9 cet \\u00e9t\\u00e9, une fois de plus, \\u00e0 diviser le pays notamment sur la question de l'islam\\\". \\\"Je vois l\\u00e0, [de la part de Manuel Valls], quelque chose d'assez curieux, une diversion un peu ridicule, \\u00e0 vouloir expliquer que ceux qui se sentent mal, quand on ne parle que d'islam, sont les diviseurs\\\", a-t-il ajout\\u00e9 sur France 2, comparant le Premier ministre \\u00e0 \\\"Christian Est rosi, Nicolas Sarkozy et l'armada d\\u00e8s Le Pen\\\".\\\"HALLS AURAIT MIEUX FAIT D'EN RESTER \\u00c0 SON DISCOURS \\u00c9CRIT\\\"L'actualit\\u00e9 politique du mois d'ao\\u00fbt a \\u00e9t\\u00e9 domin\\u00e9e par la pol\\u00e9mique sur le burkini, \\u00e0 laquelle Manuel Valls a rappel\\u00e9 son soutien aux maires interdisant le port du maillot de bain sur les plages, et confirm\\u00e9 sa posture apr\\u00e8s la suspension de l'arr\\u00eat\\u00e9 par le Conseil d'\\u00c9tat, ainsi qu'\\u00e0 Colomiers lundi. \\\"Marianne, le symbole de la R\\u00e9publique, elle a le sein nu parce qu'elle nourrit le peuple, elle n'est pas voil\\u00e9e puisqu'elle est libre. C'est \\u00e7a, la R\\u00e9publique\\\", avait r\\u00e9pliqu\\u00e9 lundi le Premier ministre. Une allusion de Marianne raill\\u00e9e par C\\u00e9cile Du flot : sur France inter, la candidate \\u00e9cologiste a estim\\u00e9 ce mardi que Manuel Valls \\\"aurait mieux fait d'en rester \\u00e0 son discours \\u00e9crit puisque quand il se lance dans des digressions, il se prend les pieds dans le tapis\\\". Une citation qui selon elle, r\\u00e9v\\u00e8le \\\"deux choses fausses\\\", notamment \\\"le lien entre Marianne et la femme alors que Marianne est une all\\u00e9gorie de la R\\u00e9publique\\\".\\\" Quand on sait que la repr\\u00e9sentation la plus r\\u00e9publicaine de Marianne porte le bonnet phrygien, c'est quand m\\u00eame assez cocasse et par ailleurs cette id\\u00e9e que la femme ne serait pas voil\\u00e9e parce que libre, le sein nu puisque nourrici\\u00e8re, l\\u00e0 aussi \\u00e7a donne tout de m\\u00eame une petite image de l'id\\u00e9e que certains de ces messieurs de la politique ont des femmes\\\", poursuit-elle.\"\n        ],\n        \"semantic_type\": \"\",\n        \"description\": \"\"\n      }\n    }\n  ]\n}"
            }
          },
          "metadata": {},
          "execution_count": 7
        }
      ]
    },
    {
      "cell_type": "code",
      "source": [
        "df_train_grammar['length_difference'] = df_train_grammar['text_grammar'].str.len() - df_train_grammar['text'].str.len()"
      ],
      "metadata": {
        "id": "x0pHVBvPCfho"
      },
      "execution_count": null,
      "outputs": []
    },
    {
      "cell_type": "code",
      "source": [
        "df_train_grammar"
      ],
      "metadata": {
        "colab": {
          "base_uri": "https://localhost:8080/",
          "height": 597
        },
        "id": "IaHzWt7rDR5J",
        "outputId": "65a05e56-96cf-40df-dd82-703bf826ac9f"
      },
      "execution_count": null,
      "outputs": [
        {
          "output_type": "execute_result",
          "data": {
            "text/plain": [
              "                                                    text  \\\n",
              "0      Thierry Mariani sur la liste du Rassemblement ...   \n",
              "1      C'est désormais officiel : Alain Juppé n'est p...   \n",
              "2      La mesure est décriée par les avocats et les m...   \n",
              "3      Dans une interview accordée au Figaro mercredi...   \n",
              "4      Le préjudice est estimé à 2 millions d'euros. ...   \n",
              "...                                                  ...   \n",
              "21396  Une \"main tendue\" que refuse de saisir l'eurod...   \n",
              "21397  Venue présenter son dernier spectacle, Elektri...   \n",
              "21398  Mauvaise nouvelle pour les amateurs de chasse ...   \n",
              "21399  \"Ce n'est pas une question de simple voile, c'...   \n",
              "21400  C'est le montant total encaissé par l'État l'a...   \n",
              "\n",
              "                                                  titles  \\\n",
              "0      L'information n'a pas été confirmée par l'inté...   \n",
              "1      Le maire de Bordeaux ne fait plus partie des R...   \n",
              "2      En 2020, les tribunaux d'instance fusionnent a...   \n",
              "3      Les médecins jugés \"gros prescripteurs d'arrêt...   \n",
              "4      Il aura fallu mobiliser 90 gendarmes pour cett...   \n",
              "...                                                  ...   \n",
              "21396  POLITIQUE. La présidente du Front national a s...   \n",
              "21397  Que serait un dimanche matin sans un passage e...   \n",
              "21398  La chasse à la glu sera interdite cette année,...   \n",
              "21399  Bruno Le Maire, candidat à la primaire de la d...   \n",
              "21400  En 2019, les sommes recouvrées par l'État au t...   \n",
              "\n",
              "                                            text_grammar  length_difference  \n",
              "0      Thierry Marianne sur la liste du Rassemblement...                  8  \n",
              "1      C'est désormais officiel : Alain Juppé n'est p...                  0  \n",
              "2      La mesure est décriée par les avocats et les m...                  0  \n",
              "3      Dans une interview accordée au Figaro mercredi...                 -4  \n",
              "4      Le préjudice est estimé à 2 millions d'euros. ...                  4  \n",
              "...                                                  ...                ...  \n",
              "21396  Une \"main tendue\" que refuse de saisir l'eurod...                  9  \n",
              "21397  Venue présenter son dernier spectacle, Électri...                  6  \n",
              "21398  Mauvaise nouvelle pour les amateurs de chasse ...                  0  \n",
              "21399  \"Ce n'est pas une question de simple voile, c'...                  3  \n",
              "21400  C'est le montant total encaissé par l'État l'a...                 -1  \n",
              "\n",
              "[21401 rows x 4 columns]"
            ],
            "text/html": [
              "\n",
              "  <div id=\"df-e40e524f-adad-426a-9688-af66d7a62426\" class=\"colab-df-container\">\n",
              "    <div>\n",
              "<style scoped>\n",
              "    .dataframe tbody tr th:only-of-type {\n",
              "        vertical-align: middle;\n",
              "    }\n",
              "\n",
              "    .dataframe tbody tr th {\n",
              "        vertical-align: top;\n",
              "    }\n",
              "\n",
              "    .dataframe thead th {\n",
              "        text-align: right;\n",
              "    }\n",
              "</style>\n",
              "<table border=\"1\" class=\"dataframe\">\n",
              "  <thead>\n",
              "    <tr style=\"text-align: right;\">\n",
              "      <th></th>\n",
              "      <th>text</th>\n",
              "      <th>titles</th>\n",
              "      <th>text_grammar</th>\n",
              "      <th>length_difference</th>\n",
              "    </tr>\n",
              "  </thead>\n",
              "  <tbody>\n",
              "    <tr>\n",
              "      <th>0</th>\n",
              "      <td>Thierry Mariani sur la liste du Rassemblement ...</td>\n",
              "      <td>L'information n'a pas été confirmée par l'inté...</td>\n",
              "      <td>Thierry Marianne sur la liste du Rassemblement...</td>\n",
              "      <td>8</td>\n",
              "    </tr>\n",
              "    <tr>\n",
              "      <th>1</th>\n",
              "      <td>C'est désormais officiel : Alain Juppé n'est p...</td>\n",
              "      <td>Le maire de Bordeaux ne fait plus partie des R...</td>\n",
              "      <td>C'est désormais officiel : Alain Juppé n'est p...</td>\n",
              "      <td>0</td>\n",
              "    </tr>\n",
              "    <tr>\n",
              "      <th>2</th>\n",
              "      <td>La mesure est décriée par les avocats et les m...</td>\n",
              "      <td>En 2020, les tribunaux d'instance fusionnent a...</td>\n",
              "      <td>La mesure est décriée par les avocats et les m...</td>\n",
              "      <td>0</td>\n",
              "    </tr>\n",
              "    <tr>\n",
              "      <th>3</th>\n",
              "      <td>Dans une interview accordée au Figaro mercredi...</td>\n",
              "      <td>Les médecins jugés \"gros prescripteurs d'arrêt...</td>\n",
              "      <td>Dans une interview accordée au Figaro mercredi...</td>\n",
              "      <td>-4</td>\n",
              "    </tr>\n",
              "    <tr>\n",
              "      <th>4</th>\n",
              "      <td>Le préjudice est estimé à 2 millions d'euros. ...</td>\n",
              "      <td>Il aura fallu mobiliser 90 gendarmes pour cett...</td>\n",
              "      <td>Le préjudice est estimé à 2 millions d'euros. ...</td>\n",
              "      <td>4</td>\n",
              "    </tr>\n",
              "    <tr>\n",
              "      <th>...</th>\n",
              "      <td>...</td>\n",
              "      <td>...</td>\n",
              "      <td>...</td>\n",
              "      <td>...</td>\n",
              "    </tr>\n",
              "    <tr>\n",
              "      <th>21396</th>\n",
              "      <td>Une \"main tendue\" que refuse de saisir l'eurod...</td>\n",
              "      <td>POLITIQUE. La présidente du Front national a s...</td>\n",
              "      <td>Une \"main tendue\" que refuse de saisir l'eurod...</td>\n",
              "      <td>9</td>\n",
              "    </tr>\n",
              "    <tr>\n",
              "      <th>21397</th>\n",
              "      <td>Venue présenter son dernier spectacle, Elektri...</td>\n",
              "      <td>Que serait un dimanche matin sans un passage e...</td>\n",
              "      <td>Venue présenter son dernier spectacle, Électri...</td>\n",
              "      <td>6</td>\n",
              "    </tr>\n",
              "    <tr>\n",
              "      <th>21398</th>\n",
              "      <td>Mauvaise nouvelle pour les amateurs de chasse ...</td>\n",
              "      <td>La chasse à la glu sera interdite cette année,...</td>\n",
              "      <td>Mauvaise nouvelle pour les amateurs de chasse ...</td>\n",
              "      <td>0</td>\n",
              "    </tr>\n",
              "    <tr>\n",
              "      <th>21399</th>\n",
              "      <td>\"Ce n'est pas une question de simple voile, c'...</td>\n",
              "      <td>Bruno Le Maire, candidat à la primaire de la d...</td>\n",
              "      <td>\"Ce n'est pas une question de simple voile, c'...</td>\n",
              "      <td>3</td>\n",
              "    </tr>\n",
              "    <tr>\n",
              "      <th>21400</th>\n",
              "      <td>C'est le montant total encaissé par l'État l'a...</td>\n",
              "      <td>En 2019, les sommes recouvrées par l'État au t...</td>\n",
              "      <td>C'est le montant total encaissé par l'État l'a...</td>\n",
              "      <td>-1</td>\n",
              "    </tr>\n",
              "  </tbody>\n",
              "</table>\n",
              "<p>21401 rows × 4 columns</p>\n",
              "</div>\n",
              "    <div class=\"colab-df-buttons\">\n",
              "\n",
              "  <div class=\"colab-df-container\">\n",
              "    <button class=\"colab-df-convert\" onclick=\"convertToInteractive('df-e40e524f-adad-426a-9688-af66d7a62426')\"\n",
              "            title=\"Convert this dataframe to an interactive table.\"\n",
              "            style=\"display:none;\">\n",
              "\n",
              "  <svg xmlns=\"http://www.w3.org/2000/svg\" height=\"24px\" viewBox=\"0 -960 960 960\">\n",
              "    <path d=\"M120-120v-720h720v720H120Zm60-500h600v-160H180v160Zm220 220h160v-160H400v160Zm0 220h160v-160H400v160ZM180-400h160v-160H180v160Zm440 0h160v-160H620v160ZM180-180h160v-160H180v160Zm440 0h160v-160H620v160Z\"/>\n",
              "  </svg>\n",
              "    </button>\n",
              "\n",
              "  <style>\n",
              "    .colab-df-container {\n",
              "      display:flex;\n",
              "      gap: 12px;\n",
              "    }\n",
              "\n",
              "    .colab-df-convert {\n",
              "      background-color: #E8F0FE;\n",
              "      border: none;\n",
              "      border-radius: 50%;\n",
              "      cursor: pointer;\n",
              "      display: none;\n",
              "      fill: #1967D2;\n",
              "      height: 32px;\n",
              "      padding: 0 0 0 0;\n",
              "      width: 32px;\n",
              "    }\n",
              "\n",
              "    .colab-df-convert:hover {\n",
              "      background-color: #E2EBFA;\n",
              "      box-shadow: 0px 1px 2px rgba(60, 64, 67, 0.3), 0px 1px 3px 1px rgba(60, 64, 67, 0.15);\n",
              "      fill: #174EA6;\n",
              "    }\n",
              "\n",
              "    .colab-df-buttons div {\n",
              "      margin-bottom: 4px;\n",
              "    }\n",
              "\n",
              "    [theme=dark] .colab-df-convert {\n",
              "      background-color: #3B4455;\n",
              "      fill: #D2E3FC;\n",
              "    }\n",
              "\n",
              "    [theme=dark] .colab-df-convert:hover {\n",
              "      background-color: #434B5C;\n",
              "      box-shadow: 0px 1px 3px 1px rgba(0, 0, 0, 0.15);\n",
              "      filter: drop-shadow(0px 1px 2px rgba(0, 0, 0, 0.3));\n",
              "      fill: #FFFFFF;\n",
              "    }\n",
              "  </style>\n",
              "\n",
              "    <script>\n",
              "      const buttonEl =\n",
              "        document.querySelector('#df-e40e524f-adad-426a-9688-af66d7a62426 button.colab-df-convert');\n",
              "      buttonEl.style.display =\n",
              "        google.colab.kernel.accessAllowed ? 'block' : 'none';\n",
              "\n",
              "      async function convertToInteractive(key) {\n",
              "        const element = document.querySelector('#df-e40e524f-adad-426a-9688-af66d7a62426');\n",
              "        const dataTable =\n",
              "          await google.colab.kernel.invokeFunction('convertToInteractive',\n",
              "                                                    [key], {});\n",
              "        if (!dataTable) return;\n",
              "\n",
              "        const docLinkHtml = 'Like what you see? Visit the ' +\n",
              "          '<a target=\"_blank\" href=https://colab.research.google.com/notebooks/data_table.ipynb>data table notebook</a>'\n",
              "          + ' to learn more about interactive tables.';\n",
              "        element.innerHTML = '';\n",
              "        dataTable['output_type'] = 'display_data';\n",
              "        await google.colab.output.renderOutput(dataTable, element);\n",
              "        const docLink = document.createElement('div');\n",
              "        docLink.innerHTML = docLinkHtml;\n",
              "        element.appendChild(docLink);\n",
              "      }\n",
              "    </script>\n",
              "  </div>\n",
              "\n",
              "\n",
              "<div id=\"df-369cbce9-aa88-4baa-a8c1-9b102397cb2b\">\n",
              "  <button class=\"colab-df-quickchart\" onclick=\"quickchart('df-369cbce9-aa88-4baa-a8c1-9b102397cb2b')\"\n",
              "            title=\"Suggest charts\"\n",
              "            style=\"display:none;\">\n",
              "\n",
              "<svg xmlns=\"http://www.w3.org/2000/svg\" height=\"24px\"viewBox=\"0 0 24 24\"\n",
              "     width=\"24px\">\n",
              "    <g>\n",
              "        <path d=\"M19 3H5c-1.1 0-2 .9-2 2v14c0 1.1.9 2 2 2h14c1.1 0 2-.9 2-2V5c0-1.1-.9-2-2-2zM9 17H7v-7h2v7zm4 0h-2V7h2v10zm4 0h-2v-4h2v4z\"/>\n",
              "    </g>\n",
              "</svg>\n",
              "  </button>\n",
              "\n",
              "<style>\n",
              "  .colab-df-quickchart {\n",
              "      --bg-color: #E8F0FE;\n",
              "      --fill-color: #1967D2;\n",
              "      --hover-bg-color: #E2EBFA;\n",
              "      --hover-fill-color: #174EA6;\n",
              "      --disabled-fill-color: #AAA;\n",
              "      --disabled-bg-color: #DDD;\n",
              "  }\n",
              "\n",
              "  [theme=dark] .colab-df-quickchart {\n",
              "      --bg-color: #3B4455;\n",
              "      --fill-color: #D2E3FC;\n",
              "      --hover-bg-color: #434B5C;\n",
              "      --hover-fill-color: #FFFFFF;\n",
              "      --disabled-bg-color: #3B4455;\n",
              "      --disabled-fill-color: #666;\n",
              "  }\n",
              "\n",
              "  .colab-df-quickchart {\n",
              "    background-color: var(--bg-color);\n",
              "    border: none;\n",
              "    border-radius: 50%;\n",
              "    cursor: pointer;\n",
              "    display: none;\n",
              "    fill: var(--fill-color);\n",
              "    height: 32px;\n",
              "    padding: 0;\n",
              "    width: 32px;\n",
              "  }\n",
              "\n",
              "  .colab-df-quickchart:hover {\n",
              "    background-color: var(--hover-bg-color);\n",
              "    box-shadow: 0 1px 2px rgba(60, 64, 67, 0.3), 0 1px 3px 1px rgba(60, 64, 67, 0.15);\n",
              "    fill: var(--button-hover-fill-color);\n",
              "  }\n",
              "\n",
              "  .colab-df-quickchart-complete:disabled,\n",
              "  .colab-df-quickchart-complete:disabled:hover {\n",
              "    background-color: var(--disabled-bg-color);\n",
              "    fill: var(--disabled-fill-color);\n",
              "    box-shadow: none;\n",
              "  }\n",
              "\n",
              "  .colab-df-spinner {\n",
              "    border: 2px solid var(--fill-color);\n",
              "    border-color: transparent;\n",
              "    border-bottom-color: var(--fill-color);\n",
              "    animation:\n",
              "      spin 1s steps(1) infinite;\n",
              "  }\n",
              "\n",
              "  @keyframes spin {\n",
              "    0% {\n",
              "      border-color: transparent;\n",
              "      border-bottom-color: var(--fill-color);\n",
              "      border-left-color: var(--fill-color);\n",
              "    }\n",
              "    20% {\n",
              "      border-color: transparent;\n",
              "      border-left-color: var(--fill-color);\n",
              "      border-top-color: var(--fill-color);\n",
              "    }\n",
              "    30% {\n",
              "      border-color: transparent;\n",
              "      border-left-color: var(--fill-color);\n",
              "      border-top-color: var(--fill-color);\n",
              "      border-right-color: var(--fill-color);\n",
              "    }\n",
              "    40% {\n",
              "      border-color: transparent;\n",
              "      border-right-color: var(--fill-color);\n",
              "      border-top-color: var(--fill-color);\n",
              "    }\n",
              "    60% {\n",
              "      border-color: transparent;\n",
              "      border-right-color: var(--fill-color);\n",
              "    }\n",
              "    80% {\n",
              "      border-color: transparent;\n",
              "      border-right-color: var(--fill-color);\n",
              "      border-bottom-color: var(--fill-color);\n",
              "    }\n",
              "    90% {\n",
              "      border-color: transparent;\n",
              "      border-bottom-color: var(--fill-color);\n",
              "    }\n",
              "  }\n",
              "</style>\n",
              "\n",
              "  <script>\n",
              "    async function quickchart(key) {\n",
              "      const quickchartButtonEl =\n",
              "        document.querySelector('#' + key + ' button');\n",
              "      quickchartButtonEl.disabled = true;  // To prevent multiple clicks.\n",
              "      quickchartButtonEl.classList.add('colab-df-spinner');\n",
              "      try {\n",
              "        const charts = await google.colab.kernel.invokeFunction(\n",
              "            'suggestCharts', [key], {});\n",
              "      } catch (error) {\n",
              "        console.error('Error during call to suggestCharts:', error);\n",
              "      }\n",
              "      quickchartButtonEl.classList.remove('colab-df-spinner');\n",
              "      quickchartButtonEl.classList.add('colab-df-quickchart-complete');\n",
              "    }\n",
              "    (() => {\n",
              "      let quickchartButtonEl =\n",
              "        document.querySelector('#df-369cbce9-aa88-4baa-a8c1-9b102397cb2b button');\n",
              "      quickchartButtonEl.style.display =\n",
              "        google.colab.kernel.accessAllowed ? 'block' : 'none';\n",
              "    })();\n",
              "  </script>\n",
              "</div>\n",
              "    </div>\n",
              "  </div>\n"
            ],
            "application/vnd.google.colaboratory.intrinsic+json": {
              "type": "dataframe",
              "variable_name": "df_train_grammar",
              "summary": "{\n  \"name\": \"df_train_grammar\",\n  \"rows\": 21401,\n  \"fields\": [\n    {\n      \"column\": \"text\",\n      \"properties\": {\n        \"dtype\": \"string\",\n        \"num_unique_values\": 21401,\n        \"samples\": [\n          \"Les \\\"gilets jaunes\\\" et leurs col\\u00e8res font leur retour samedi 12 septembre dans les rues pour une s\\u00e9rie d'actions \\u00e0 travers la France. Pr\\u00e8s de deux ans apr\\u00e8s la naissance du mouvement, des rassemblements ont lieu en province (Marseille, Toulouse, Lyon, Lille, Nantes, Nice, Bordeaux ou Strasbourg) et \\u00e0 Paris. Un premier cort\\u00e8ge est parti d\\u00e9filer vers midi depuis place de la Bourse, dans le centre de la capitale, vers la Porte de Champerret, au nord-ouest de la ville. Arriv\\u00e9 peu apr\\u00e8s 10H00, l'humoriste Jean-Marie Bigard a \\u00e9t\\u00e9 fra\\u00eechement accueilli par des hu\\u00e9es \\\"Bigard collabo!\\\". Ce soutien m\\u00e9diatique des \\\"gilets jaunes\\\" s'est d\\u00e9solidaris\\u00e9 cette semaine d'une des figures du mouvement, J\\u00e9r\\u00f4me Rodrigues, qui avait assimil\\u00e9 les policiers \\u00e0 \\\"une bande de nazis\\\".Quelques tensions ont \\u00e9clat\\u00e9 place Wagram \\u00e0 Paris, lieu de d\\u00e9part d'une seconde manifestation. Selon BFMTV, une partie des manifestants est parti d\\u00e8s 12h15 alors que le cort\\u00e8ge devait s'\\u00e9lancer \\u00e0 partir de 13 heures. Il a aussi emprunt\\u00e9 un autre parcours que celui initialement pr\\u00e9vu, se dirigeant vers l'Arc de triomphe. Ils ont \\u00e9t\\u00e9 rapidement intercept\\u00e9s par les forces de l'ordre qui a utilis\\u00e9 des gaz lacrymog\\u00e8nes.A la mi-journ\\u00e9e, la pr\\u00e9fecture de police de Paris a annonc\\u00e9 193 interpellations et 54 gardes \\u00e0 vue.Manifestations interdites sur les Champs-Elys\\u00e9es et \\u00e0 ToulouseSur les Champs-Elys\\u00e9es, o\\u00f9 deux manifestations ont \\u00e9t\\u00e9 interdites par la pr\\u00e9fecture de police, un important dispositif policier a \\u00e9t\\u00e9 d\\u00e9ploy\\u00e9 pour proc\\u00e9der \\u00e0 des contr\\u00f4les d'identit\\u00e9 et des fouilles des sacs sur l'avenue et dans les rues adjacentes, bien en amont. De nombreux commer\\u00e7ants ont \\u00e9galement barricad\\u00e9 leurs vitrines, mais aucun rassemblement de \\\"gilets jaunes\\\" n'\\u00e9tait observ\\u00e9 en milieu de matin\\u00e9e.\\\"Il ne peut pas y avoir de destructions, de chaos sur les Champs-Elys\\u00e9es\\\", a pr\\u00e9venu le pr\\u00e9fet de police Didier Lallement lors d'un point presse en haut de l'avenue en tout d\\u00e9but de matin\\u00e9e. De source polici\\u00e8re, 4.000 \\u00e0 5.000 manifestants sont attendus \\u00e0 Paris, dont 1.000 personnes potentiellement violentes. D\\u00e9j\\u00e0 81 personnes avaient \\u00e9t\\u00e9 interpell\\u00e9es \\u00e0 11H15 depuis le d\\u00e9but de la journ\\u00e9e, notamment car ils se trouvaient en possession d'objet qui \\\"n'ont pas leur place dans une manifestation - tournevis, piolet, pince coupante, couteaux - a annonc\\u00e9 la pr\\u00e9fecture de police sur Twitter.Sans donner de chiffres globaux sur les effectifs mobilis\\u00e9s, le pr\\u00e9fet a \\u00e9voqu\\u00e9 un dispositif \\\"appropri\\u00e9\\\", \\\"important\\\", avec notamment le d\\u00e9ploiement de 160 motards des brigades de la r\\u00e9pression de l'action violente (BRAV-M).Didier Lallement a confirm\\u00e9 l'assistance, d\\u00e8s ce samedi, d'un \\\"superviseur\\\" pour chaque porteur de LBD afin d'aider \\\"\\u00e0 la ma\\u00eetrise et au bon usage\\\" de cette arme, et le retrait des anciennes grenades \\u00e0 main de d\\u00e9sencerclement (GMD) remplac\\u00e9es par un nouveau mod\\u00e8le, r\\u00e9put\\u00e9 moins dangereux, conform\\u00e9ment aux annonces du ministre de l'Int\\u00e9rieur G\\u00e9rald Darmanin vendredi.D'autres rassemblements sont pr\\u00e9vus tout au long de la journ\\u00e9e dans des grandes villes de France (Marseille, Toulouse, Lyon, Lille, Nantes, Nice, Bordeaux ou Strasbourg...). A Toulouse (sud-ouest), qui a \\u00e9t\\u00e9 un des bastions du mouvement dans le pays, la manifestation a \\u00e9t\\u00e9 interdite par les autorit\\u00e9s locales notamment en raison \\\"des taux \\u00e9lev\\u00e9s de propagation de la Covid-19\\\".\",\n          \"Parmi ces bless\\u00e9s, trois ont \\u00e9t\\u00e9 hospitalis\\u00e9s, notamment pour des br\\u00fblures. Toutefois, aucun pronostic vital n'est engag\\u00e9, selon les pompiers. Selon les premiers \\u00e9l\\u00e9ments, une fus\\u00e9e du feu d'artifice serait partie \\u00e0 l'horizontale, d'une barge flottante, en direction de la foule.L'engin pyrotechnique aurait explos\\u00e9 au milieu d'un groupe de personnes mass\\u00e9es sur la plage de la commune, tr\\u00e8s touristique, au sud de Perpignan. Selon le quotidien L'Ind\\u00e9pendant, plusieurs milliers de personnes assistaient \\u00e0 ce feu d'artifice et que des d\\u00e9bris ont \\u00e9t\\u00e9 projet\\u00e9s jusqu'\\u00e0 quarante m\\u00e8tres de distance.Une enqu\\u00eate devrait \\u00eatre ouverte par les services de gendarmerie pour d\\u00e9terminer les causes et circonstances exactes de cet accident.\",\n          \"L'ancienne patronne d'EELV a, elle, raill\\u00e9 son allusion \\u00e0 \\\"la Marianne aux seins nus\\\".La mise en garde de Manuel Valls n'a pas \\u00e9t\\u00e9 entendue. \\\"Si nous partons divis\\u00e9s, nous perdrons \\u00e0 coup s\\u00fbr\\\", a d\\u00e9clar\\u00e9 le Premier ministre lundi soir \\u00e0 Colomiers (Haute-Garonne), critiquant sans les nommer Arnaud Montebourg, Beno\\u00eet Hamon et la \\\"surench\\u00e8re des diviseurs qui n'ont qu'un seul objectif : punir la gauche de gouvernement\\\".Pour Beno\\u00eet Hamon, cette d\\u00e9claration est \\\"une forme de contrition de la part de Manuel Valls\\\". Selon lui, le Premier ministre \\\"a beaucoup contribu\\u00e9 cet \\u00e9t\\u00e9, une fois de plus, \\u00e0 diviser le pays notamment sur la question de l'islam\\\". \\\"Je vois l\\u00e0, [de la part de Manuel Valls], quelque chose d'assez curieux, une diversion un peu ridicule, \\u00e0 vouloir expliquer que ceux qui se sentent mal, quand on ne parle que d'islam, sont les diviseurs\\\", a-t-il ajout\\u00e9 sur France 2, comparant le Premier ministre \\u00e0 \\\"Christian Estrosi, Nicolas Sarkozy et l'armada des Le Pen\\\".\\\"VALLS AURAIT MIEUX FAIT D'EN RESTER \\u00c0 SON DISCOURS \\u00c9CRIT\\\"L'actualit\\u00e9 politique du mois d'ao\\u00fbt a \\u00e9t\\u00e9 domin\\u00e9e par la pol\\u00e9mique sur le burkini, \\u00e0 laquelle Manuel Valls a rappel\\u00e9 son soutien aux maires interdisant le port du costume de bain sur les plages, et confirm\\u00e9 sa posture apr\\u00e8s la suspension de l'arr\\u00eat\\u00e9 par le Conseil d'Etat, ainsi qu'\\u00e0 Colomiers lundi. \\\"Marianne, le symbole de la R\\u00e9publique, elle a le sein nu parce qu'elle nourrit le peuple, elle n'est pas voil\\u00e9e parce qu'elle est libre. C'est \\u00e7a, la R\\u00e9publique\\\", avait r\\u00e9pliqu\\u00e9 lundi le Premier ministre. Une allusion \\u00e0 Marianne raill\\u00e9e par C\\u00e9cile Duflot : sur France inter, la candidate \\u00e9cologiste a estim\\u00e9 ce mardi que Manuel Valls \\\"aurait mieux fait d'en rester \\u00e0 son discours \\u00e9crit parce que quand il se lance dans des digressions il se prend les pieds dans le tapis\\\". Une citation qui selon elle, r\\u00e9v\\u00e8le \\\"deux choses fausses\\\", notamment \\\"le lien entre Marianne et la femme alors que Marianne est une all\\u00e9gorie de la R\\u00e9publique\\\".\\\"Quand on sait que la repr\\u00e9sentation la plus r\\u00e9publicaine de Marianne porte le bonnet phrygien c'est quand m\\u00eame assez cocasse et par ailleurs cette id\\u00e9e que la femme ne serait pas voil\\u00e9e parce que libre, le sein nu parce que nourrici\\u00e8re, l\\u00e0 aussi \\u00e7a donne quand m\\u00eame une petite image de l'id\\u00e9e que certains de ces messieurs de la politique ont des femmes\\\", poursuit-elle.\"\n        ],\n        \"semantic_type\": \"\",\n        \"description\": \"\"\n      }\n    },\n    {\n      \"column\": \"titles\",\n      \"properties\": {\n        \"dtype\": \"string\",\n        \"num_unique_values\": 21401,\n        \"samples\": [\n          \"Quelques tensions ont \\u00e9clat\\u00e9 place Wagram \\u00e0 Paris, lieu de d\\u00e9part d'une des manifestations des \\\"gilets jaunes\\\", o\\u00f9 une partie des manifestants est partie plus t\\u00f4t que pr\\u00e9vu. A la mi-journ\\u00e9e, la pr\\u00e9fecture de police de Paris a annonc\\u00e9 193 interpellations et 54 gardes.\",\n          \"Une dizaine de personnes ont \\u00e9t\\u00e9 bless\\u00e9es vendredi soir \\u00e0 Collioure (Pyr\\u00e9n\\u00e9es-Orientales) par une fus\\u00e9e de feu d'artifice dont la trajectoire a \\u00e9t\\u00e9 d\\u00e9vi\\u00e9e. L'engin a atterri au milieu de la foule, a-t-on appris samedi aupr\\u00e8s des pompiers.\",\n          \"Beno\\u00eet Hamon et C\\u00e9cile Duflot, tous les deux candidats \\u00e0 la primaire de leur parti, ont vivement critiqu\\u00e9 Manuel Valls ce mardi. Pour l'ancien ministre de l'\\u00c9ducation, le Premier ministre a \\\"beaucoup contribu\\u00e9 cet \\u00e9t\\u00e9 \\u00e0 diviser le pays notamment sur l'islam\\\".\"\n        ],\n        \"semantic_type\": \"\",\n        \"description\": \"\"\n      }\n    },\n    {\n      \"column\": \"text_grammar\",\n      \"properties\": {\n        \"dtype\": \"string\",\n        \"num_unique_values\": 21401,\n        \"samples\": [\n          \"Les \\\"gilets jaunes\\\" et leurs col\\u00e8res font leur retour samedi 12 septembre dans les rues pour une s\\u00e9rie d'actions \\u00e0 travers la France. Pr\\u00e8s de deux ans apr\\u00e8s la naissance du mouvement, des rassemblements ont lieu en province (Marseille, Toulouse, Lyon, Lille, Nantes, Nice, Bordeaux ou Strasbourg) et \\u00e0 Paris. Un premier cort\\u00e8ge est parti d\\u00e9filer vers midi depuis place de la Bourse, dans le centre de la capitale, vers la Porte de Champ\\u00eatre, au nord-ouest de la ville. Arriv\\u00e9 peu apr\\u00e8s 10\\u00a0h\\u00a000, l'humoriste Jean-Marie Bigarr\\u00e9 a \\u00e9t\\u00e9 fra\\u00eechement accueilli par des hu\\u00e9es \\\"Bigarr\\u00e9 collabo\\u202f!\\\". Ce soutien m\\u00e9diatique des \\\"gilets jaunes\\\" s'est d\\u00e9solidaris\\u00e9 cette semaine d'une des figures du mouvement, J\\u00e9r\\u00f4me Rodrigue, qui avait assimil\\u00e9 les policiers \\u00e0 \\\"une bande de nazis\\\". Quelques tensions ont \\u00e9clat\\u00e9 place Wagram \\u00e0 Paris, lieu de d\\u00e9part d'une seconde manifestation. Selon BFMTV, une partie des manifestants est parti d\\u00e8s 12\\u00a0h\\u00a015 alors que le cort\\u00e8ge devait s'\\u00e9lancer \\u00e0 partir de 13 heures. Il a aussi emprunt\\u00e9 un autre parcours que celui initialement pr\\u00e9vu, se dirigeant vers l'Arc de triomphe. Ils ont \\u00e9t\\u00e9 rapidement intercept\\u00e9s par les forces de l'ordre qui a utilis\\u00e9 des gaz lacrymog\\u00e8nes.\\u00c0 la mi-journ\\u00e9e, la pr\\u00e9fecture de police de Paris a annonc\\u00e9 193 interpellations et 54 gardes \\u00e0 vue. Manifestations interdites sur les Champs-\\u00c9lys\\u00e9es et \\u00e0 Toulouse Sur les Champs-\\u00c9lys\\u00e9es, o\\u00f9 deux manifestations ont \\u00e9t\\u00e9 interdites par la pr\\u00e9fecture de police, un important dispositif policier a \\u00e9t\\u00e9 d\\u00e9ploy\\u00e9 pour proc\\u00e9der \\u00e0 des contr\\u00f4les d'identit\\u00e9 et des fouilles des sacs sur l'avenue et dans les rues adjacentes, bien en amont. De nombreux commer\\u00e7ants ont \\u00e9galement barricad\\u00e9 leurs vitrines, mais aucun rassemblement de \\\"gilets jaunes\\\" n'\\u00e9tait observ\\u00e9 en milieu de matin\\u00e9e.\\\" Il ne peut pas y avoir de destructions, de chaos sur les Champs-\\u00c9lys\\u00e9es\\\", a pr\\u00e9venu le pr\\u00e9fet de police Didier L'all\\u00e8rent lors d'un point presse en haut de l'avenue en tout d\\u00e9but de matin\\u00e9e. De source polici\\u00e8re, 4.000 \\u00e0 5.000 manifestants sont attendus \\u00e0 Paris, dont 1.000 personnes potentiellement violentes. D\\u00e9j\\u00e0 81 personnes avaient \\u00e9t\\u00e9 interpell\\u00e9es \\u00e0 11\\u00a0h\\u00a015 depuis le d\\u00e9but de la journ\\u00e9e, notamment, car ils se trouvaient en possession d'objet qui \\\"n'ont pas leur place dans une manifestation \\u2014 tournevis, piolet, pince coupante, couteaux \\u2014 a annonc\\u00e9 la pr\\u00e9fecture de police sur Twitter. Sans donner de chiffres globaux sur les effectifs mobilis\\u00e9s, le pr\\u00e9fet a \\u00e9voqu\\u00e9 un dispositif \\\"appropri\\u00e9\\\", \\\"important\\\", avec notamment le d\\u00e9ploiement de 160 motards des brigades de la r\\u00e9pression de l'action violente (BRAS-M). Didier L'all\\u00e8rent a confirm\\u00e9 l'assistance, d\\u00e8s ce samedi, d'un \\\"superviseur\\\" pour chaque porteur de LBD afin d'aider \\\"\\u00e0 la ma\\u00eetrise et au bon usage\\\" de cette arme, et le retrait des anciennes grenades \\u00e0 main de d\\u00e9sencerclement (GMD) remplac\\u00e9es par un nouveau mod\\u00e8le, r\\u00e9put\\u00e9 moins dangereux, conform\\u00e9ment aux annonces du ministre de l'Int\\u00e9rieur G\\u00e9rald Armani vendredi. D'autres rassemblements sont pr\\u00e9vus tout au long de la journ\\u00e9e dans des grandes villes de France (Marseille, Toulouse, Lyon, Lille, Nantes, Nice, Bordeaux ou Strasbourg...). \\u00c0 Toulouse (sud-ouest), qui a \\u00e9t\\u00e9 un des bastions du mouvement dans le pays, la manifestation a \\u00e9t\\u00e9 interdite par les autorit\\u00e9s locales notamment en raison \\\"des taux \\u00e9lev\\u00e9s de propagation de la Covid-19\\\".\",\n          \"Parmi ces bless\\u00e9s, trois ont \\u00e9t\\u00e9 hospitalis\\u00e9s, notamment pour des br\\u00fblures. Toutefois, aucun pronostic vital n'est engag\\u00e9, selon les pompiers. Selon les premiers \\u00e9l\\u00e9ments, une fus\\u00e9e du feu d'artifice serait partie \\u00e0 l'horizontale, d'une barge flottante, en direction de la foule. L'engin pyrotechnique aurait explos\\u00e9 au milieu d'un groupe de personnes mass\\u00e9es sur la plage de la commune, tr\\u00e8s touristique, au sud de Perpignan. Selon le quotidien L'Ind\\u00e9pendant, plusieurs milliers de personnes assistaient \\u00e0 ce feu d'artifice et que des d\\u00e9bris ont \\u00e9t\\u00e9 projet\\u00e9s jusqu'\\u00e0 quarante m\\u00e8tres de distance. Une enqu\\u00eate devrait \\u00eatre ouverte par les services de gendarmerie pour d\\u00e9terminer les causes et circonstances exactes de cet accident.\",\n          \"L'ancienne patronne d'EELV a, elle, raill\\u00e9 son allusion \\u00e0 \\\"la Marianne aux seins nus\\\". La mise en garde de Manuel Valls n'a pas \\u00e9t\\u00e9 entendue. \\\"Si nous partons divis\\u00e9s, nous perdrons \\u00e0 coup s\\u00fbr\\\", a d\\u00e9clar\\u00e9 le Premier ministre lundi soir \\u00e0 Colomiers (Haute-Garonne), critiquant sans les nommer Arnaud Montebourg, Beno\\u00eet Hameau et la \\\"surench\\u00e8re des diviseurs qui n'ont qu'un seul objectif : punir la gauche de gouvernement\\\". Pour Beno\\u00eet Hameau, cette d\\u00e9claration est \\\"une forme de contrition de la part de Manuel Valls\\\". Selon lui, le Premier ministre \\\"a beaucoup contribu\\u00e9 cet \\u00e9t\\u00e9, une fois de plus, \\u00e0 diviser le pays notamment sur la question de l'islam\\\". \\\"Je vois l\\u00e0, [de la part de Manuel Valls], quelque chose d'assez curieux, une diversion un peu ridicule, \\u00e0 vouloir expliquer que ceux qui se sentent mal, quand on ne parle que d'islam, sont les diviseurs\\\", a-t-il ajout\\u00e9 sur France 2, comparant le Premier ministre \\u00e0 \\\"Christian Est rosi, Nicolas Sarkozy et l'armada d\\u00e8s Le Pen\\\".\\\"HALLS AURAIT MIEUX FAIT D'EN RESTER \\u00c0 SON DISCOURS \\u00c9CRIT\\\"L'actualit\\u00e9 politique du mois d'ao\\u00fbt a \\u00e9t\\u00e9 domin\\u00e9e par la pol\\u00e9mique sur le burkini, \\u00e0 laquelle Manuel Valls a rappel\\u00e9 son soutien aux maires interdisant le port du maillot de bain sur les plages, et confirm\\u00e9 sa posture apr\\u00e8s la suspension de l'arr\\u00eat\\u00e9 par le Conseil d'\\u00c9tat, ainsi qu'\\u00e0 Colomiers lundi. \\\"Marianne, le symbole de la R\\u00e9publique, elle a le sein nu parce qu'elle nourrit le peuple, elle n'est pas voil\\u00e9e puisqu'elle est libre. C'est \\u00e7a, la R\\u00e9publique\\\", avait r\\u00e9pliqu\\u00e9 lundi le Premier ministre. Une allusion de Marianne raill\\u00e9e par C\\u00e9cile Du flot : sur France inter, la candidate \\u00e9cologiste a estim\\u00e9 ce mardi que Manuel Valls \\\"aurait mieux fait d'en rester \\u00e0 son discours \\u00e9crit puisque quand il se lance dans des digressions, il se prend les pieds dans le tapis\\\". Une citation qui selon elle, r\\u00e9v\\u00e8le \\\"deux choses fausses\\\", notamment \\\"le lien entre Marianne et la femme alors que Marianne est une all\\u00e9gorie de la R\\u00e9publique\\\".\\\" Quand on sait que la repr\\u00e9sentation la plus r\\u00e9publicaine de Marianne porte le bonnet phrygien, c'est quand m\\u00eame assez cocasse et par ailleurs cette id\\u00e9e que la femme ne serait pas voil\\u00e9e parce que libre, le sein nu puisque nourrici\\u00e8re, l\\u00e0 aussi \\u00e7a donne tout de m\\u00eame une petite image de l'id\\u00e9e que certains de ces messieurs de la politique ont des femmes\\\", poursuit-elle.\"\n        ],\n        \"semantic_type\": \"\",\n        \"description\": \"\"\n      }\n    },\n    {\n      \"column\": \"length_difference\",\n      \"properties\": {\n        \"dtype\": \"number\",\n        \"std\": 8,\n        \"min\": -51,\n        \"max\": 108,\n        \"num_unique_values\": 98,\n        \"samples\": [\n          55,\n          43,\n          -34\n        ],\n        \"semantic_type\": \"\",\n        \"description\": \"\"\n      }\n    }\n  ]\n}"
            }
          },
          "metadata": {},
          "execution_count": 11
        }
      ]
    },
    {
      "cell_type": "code",
      "source": [
        "df_train_grammar['text_grammar'].str.len()"
      ],
      "metadata": {
        "colab": {
          "base_uri": "https://localhost:8080/"
        },
        "id": "BuxidpiODvSB",
        "outputId": "7cb3495e-e9d2-40c1-f2d1-5463aeb03239"
      },
      "execution_count": null,
      "outputs": [
        {
          "output_type": "execute_result",
          "data": {
            "text/plain": [
              "0        1851\n",
              "1        1368\n",
              "2        4430\n",
              "3        2594\n",
              "4        2116\n",
              "         ... \n",
              "21396    1757\n",
              "21397    1081\n",
              "21398    1560\n",
              "21399    1243\n",
              "21400    3552\n",
              "Name: text_grammar, Length: 21401, dtype: int64"
            ]
          },
          "metadata": {},
          "execution_count": 12
        }
      ]
    },
    {
      "cell_type": "code",
      "source": [
        "import difflib\n",
        "\n",
        "idx = [10, 50, 2580, 10580]\n",
        "\n",
        "for index, row in df_train_grammar.iloc[idx].iterrows():\n",
        "    print(row['text'])\n",
        "    print(row['text_grammar'])\n",
        "    print(\"\\n\")"
      ],
      "metadata": {
        "colab": {
          "base_uri": "https://localhost:8080/"
        },
        "id": "tV7P-Ra3D66Q",
        "outputId": "81899754-2c7a-4075-803b-2bbc52727fd5"
      },
      "execution_count": null,
      "outputs": [
        {
          "output_type": "stream",
          "name": "stdout",
          "text": [
            "Après une septième édition impressionnante, Danse avec les stars a confirmé son statut de programme incontournable dans le paysage audiovisuel français actuel. Avec des chorégraphies millimétrées, une production classieuse, des candidats survoltés et un jury de professionnels passionné, TF1 offre chaque semaine aux fidèles de l'émission une représentation exceptionnelle. Mais si la prochaine année du concours était celle du changement ? En effet, il se pourrait bien qu'un pilier du show ne rempile pas pour la saison 8...Un membre incontournableEt ce n'est autre que l'une des juges qui vient d'émettre des réserves pour noter les futures célébrités qui fouleront le dance-floor de DALS ! Marie-Claude Pietragalla a en effet révélé que son retour était probablement compromis, ce qui ne manque pas de décevoir ses fans. Bien qu'elle ne soit pas un élément historique de cette immense locomotive, elle répond néanmoins présente à l'appel depuis 2012, gratifiant les participants de ses conseils pointus et ses avis sensibles. Mais hélas, cette fois-ci, la danseuse contemporaine pourrait ne pas être en mesure de se libérer...Un planning trop chargéInterviewée par le journal Var Matin, dans le cadre de la promotion de son spectacle \"Je t'ai rencontré par hasard\" et pour évoquer ses ambitions, Pietra pour les intimes a expliqué avec sincérité : \"Ecoutez, là je ne sais pas si je vais continuer parce que j'ai beaucoup de projets pour l'année prochaine.\" Ainsi, du fait d'un calendrier déjà très chargé, elle ne pourrait donc pas effectuer son come-back au côté de ses pétillants acolytes Fauve Hautot, Chris Marques et Jean-Marc Généreux... s'ils resignent. Seriez-vous triste de ce départ ou pensez-vous, au contraire, qu'un changement du jury (à l'instar de The Voice) permettrait à Danse avec les stars de se renouveler ?\n",
            "Après une septième édition impressionnante, Danse avec les stars a confirmé son statut de programme incontournable dans le paysage audiovisuel français actuel. Avec des chorégraphies millimétrées, une production classieuse, des candidats survoltés et un jury de professionnels passionné, TF1 offre chaque semaine aux fidèles de l'émission une représentation exceptionnelle. Mais si la prochaine année du concours était celle du changement ? En effet, il se pourrait bien qu'un pilier du show ne rempile pas pour la saison 8... Un membre incontournable Et ce n'est autre que l'une des juges qui vient d'émettre des réserves pour noter les futures célébrités qui fouleront le dance-fluor de D'ANS ! Marie-Claude Pietragalla a en effet révélé que son retour était probablement compromis, ce qui ne manque pas de décevoir ses fans. Bien qu'elle ne soit pas un élément historique de cette immense locomotive, elle répond néanmoins présente à l'appel depuis 2012, gratifiant les participants de ses conseils pointus et ses avis sensibles. Hélas, cette fois-ci, la danseuse contemporaine pourrait ne pas être en mesure de se libérer... Un planning trop chargé Interviewée par le journal Var Matin, dans le cadre de la promotion de son spectacle \"Je t'ai rencontré par hasard\" et pour évoquer ses ambitions, Pietro pour les intimes a expliqué avec sincérité : \"Écoutez, là, je ne sais pas si je vais continuer parce que j'ai beaucoup de projets pour l'année prochaine.\" Ainsi, du fait d'un calendrier déjà très chargé, elle ne pourrait donc pas effectuer son come-back au côté de ses pétillants acolytes Fauve Août, Chris Marques et Jean-Marc Généreux... s'ils résignent. Seriez-vous triste de ce départ ou pensez-vous, au contraire, qu'un changement du jury (à l'instar de The Voie) permettrait à Danse avec les stars de se renouveler ?\n",
            "\n",
            "\n",
            "\"La reconnaissance faciale ne devrait pas être utilisée dans le cadre de manifestations pacifiques sans la mise en place de garanties essentielles en matière de transparence, de protection des données et de surveillance\", a déclaré Michelle Bachelet, dans un communiqué.Cet appel est au coeur d'un rapport que le Haut-Commissariat a publié jeudi, examinant l'impact des nouvelles technologies sur la promotion et la protection des droits humains dans le contexte des rassemblements, y compris des manifestations pacifiques.Ce rapport avait été demandé il y a deux ans par le Conseil des droits de l'Homme de l'ONU, mais sa publication intervient alors que les manifestations se multiplient dans le monde.Il indique qu'en 2019, des manifestations ont eu lieu dans le monde entier pour des raisons variées, notamment en réponse à la discrimination structurelle et raciale et à l'aggravation des conditions socio-économiques, et que ce mécontentement s'est poursuivi en 2020.Il fournit notamment des informations sur l'utilisation de la technologie de reconnaissance faciale, qui permet l'identification, la surveillance et le suivi automatisés des manifestants. Selon le Haut-Commissariat, de nombreuses personnes n'osent plus manifester dans des lieux publics et exprimer librement leurs opinions, car elles craignent d'être identifiées et d'en pâtir. En outre, relève l'ONU dans le communiqué, \"la technologie de reconnaissance faciale risque de perpétuer et d'amplifier la discrimination, notamment à l'encontre des personnes d'ascendance africaine et d'autres minorités\".\"Alors que les gens se rassemblent dans le monde entier pour protester contre le racisme, y compris de la part des forces de l'ordre, le droit de réunion pacifique n'a jamais été aussi important\", a souligné Mme Bachelet.Aussi, elle estime que la technologie de reconnaissance faciale dans le cadre de manifestations pacifiques devrait faire l'objet d'un moratoire, jusqu'à ce que les Etats remplissent certaines conditions en matière notamment de respect des droits humains.\n",
            "\"La reconnaissance faciale ne devrait pas être utilisée dans le cadre de manifestations pacifiques sans la mise en place de garanties essentielles en matière de transparence, de protection des données et de surveillance\", a déclaré Michelle Bracelet, dans un communiqué. Cet appel est au cœur d'un rapport que le Haut-Commissariat a publié jeudi, examinant l'impact des nouvelles technologies sur la promotion et la protection des droits humains dans le contexte des rassemblements, y compris des manifestations pacifiques. Ce rapport avait été demandé il y a deux ans par le Conseil des droits de l'Homme de l'ONU, mais sa publication intervient alors que les manifestations se multiplient dans le monde. Il indique qu'en 2019, des manifestations ont eu lieu dans le monde entier pour des raisons variées, notamment en réponse à la discrimination structurelle et raciale et à l'aggravation des conditions socio-économiques, et que ce mécontentement s'est poursuivi en 2020. Il fournit notamment des informations sur l'utilisation de la technologie de reconnaissance faciale, qui permet l'identification, la surveillance et le suivi automatisés des manifestants. Selon le Haut-Commissariat, de nombreuses personnes n'osent plus manifester dans des lieux publics et exprimer librement leurs opinions, car elles craignent d'être identifiées et d'en pâtir. En outre, relève l'ONU dans le communiqué, \"la technologie de reconnaissance faciale risque de perpétuer et d'amplifier la discrimination, notamment à l'encontre des personnes d'ascendance africaine et d'autres minorités\".\" Alors que les gens se rassemblent dans le monde entier pour protester contre le racisme, y compris de la part des forces de l'ordre, le droit de réunion pacifique n'a jamais été aussi important\", a souligné Mme Bracelet. Aussi, elle estime que la technologie de reconnaissance faciale dans le cadre de manifestations pacifiques devrait faire l'objet d'un moratoire, jusqu'à ce que les États remplissent certaines conditions en matière particulièrement de respect des droits humains.\n",
            "\n",
            "\n",
            "L'épidémie de coronavirus continue à se propager en France et a atteint la Corse. Jeudi 5 mars, trois premiers cas ont été confirmés sur l'île de beauté, l'une des des deux seules régions de France métropolitaine avec le Centre-Val-de-Loire qui n'avaient pas encore été officiellement touchée par le virus. \"Ces trois cas sont avérés. On avait préparé cette éventualité\", a indiqué le préfet de Corse Franck Robine. \"Les trois personnes atteintes du Covid-19 sont prises en charge au centre hospitalier d'Ajaccio\" où ils ont été \"placés en isolement\" et \"leur état clinique ne présente pas de signe de gravité\", a indiqué l'ARS (Agence régionale de santé) dans un communiqué. Coronavirus: étape par étape, comment se passe le dépistage?par BFMTVLes personnes touchées rentraient de Mulhouse, où plusieurs cas ont été repérés parmi les participants à un rassemblement organisé par une église évangélique en février, a précisé la directrice de l'ARS, Marie-Hélène Lecenne, sans préciser si ces personnes avaient pris part à ce rassemblement.Une cellule de crise a été installée dans la préfecture avec l'ARS. Une \"cellule de suivi des contacts\" a également été mise en place par l'ARS afin \"d'identifier les personnes qui auraient été en contact rapproché et prolongé avec ces patients\". \"Ces personnes sont en cours d'identification et seront informées personnellement de la conduite à tenir\", a précisé l'ARS.Selon le dernier point officiel de Santé publique France datant de mercredi, il ne reste que la région Centre-Val-de-Loire sans cas en France métropolitaine. Mercredi soir, avant l'annonce des trois cas corses, le directeur général de la santé Jérôme Salomon avait fait état de285 cas confirmés sur le territoire français, dont 15 dans un état grave. Quatre personnes sont décédées sur le territoire français depuis le début de l'épidémie.Si le pays reste pour l'heure au stade 2 de l'épidémie, celui où les autorités mettent \"tout en oeuvre pour freiner la diffusion du virus\", le gouvernement se prépare au stade 3, le stade épidémique, qui semble inéluctable.\n",
            "L'épidémie de coronavirus continue à se propager en France et a atteint la Corse. Jeudi 5 mars, trois premiers cas ont été confirmés sur l'île de beauté, l'une des dés deux seules régions de France métropolitaine avec le Centre-Val-de-Loire qui n'avaient pas encore été officiellement touchée par le virus. \"Ces trois cas sont avérés. On avait préparé cette éventualité\", a indiqué le préfet de Corse Franck Robine. \"Les trois personnes atteintes de la Covid-19 sont prises en charge au centre hospitalier d'Ajaccio\" où ils ont été \"placés en isolement\" et \"leur état clinique ne présente pas de signe de gravité\", a indiqué l'ARS (Agence régionale de santé) dans un communiqué. Coronavirus : étape par étape, comment se passe le dépistage? Par Brutales personnes touchées rentraient de Mulhouse, où plusieurs cas ont été repérés parmi les participants à un rassemblement organisé par une église évangélique en février, a précisé la directrice de l'ARS, Marie-Hélène L'Essonne, sans mentionner si ces personnes avaient pris part à ce rassemblement. Une cellule de crise a été installée dans la préfecture avec l'ARS. Une \"cellule de suivi des contacts\" a également été mise en place par l'ARS afin \"d'identifier les personnes qui auraient été en contact rapproché et prolongé avec ces patients\". \"Ces personnes sont en cours d'identification et seront informées personnellement de la conduite à tenir\", a précisé l'ARS. Selon le dernier point officiel de Santé publique France datant de mercredi, il ne reste que la région Centre-Val-de-Loire sans cas en France métropolitaine. Mercredi soir, avant l'annonce des trois cas corses, le directeur général de la santé Jérôme Salomon avait fait état de la cas confirmés sur le territoire français, dont 15 dans un état grave. Quatre personnes sont décédées sur le territoire français depuis le début de l'épidémie. Si le pays reste pour l'heure au stade 2 de l'épidémie, celui où les autorités mettent \"tout en œuvre pour freiner la diffusion du virus\", le gouvernement se prépare au stade 3, le stade épidémique, qui semble inéluctable.\n",
            "\n",
            "\n",
            "Le secrétaire général du parti, cité par le quotidien de droite, souhaite mener \"une réflexion sur nos idées, nos valeurs, notre ligne, sur nos erreurs et sur leurs origines ou sur l'organisation de notre mouvement\". Plusieurs thèmes sont abordés. Les adhérents sont invités à se prononcer sur la coexistence de \"plusieurs sensibilités\" au sein du parti, les priorités qui devraient être celles du parti ou encore ses valeurs. Le parti LR veut également connaître le sentiment de ses adhérents sur l'échec de François Fillon à la présidentielle. Le candidat de la droite a-t-il perdu à cause d'un projet éloigné des \"attentes des Français\", \"du climat des affaires\", \"d'un déficit de pédagogie\", \"d'un manque d'union\" des Républicains ou \"d'un manque d'actions des militants\" ? LES RALLIEMENTS À EMMANUEL MACRON EN CAUSE ? Leur analyse sur l'échec du parti aux élections législatives est également requis : \"logique institutionnelle de la Ve République\", \"appel à voter Emmanuel Macron au soir du premier tour\", \"ralliement de personnalités de droite à Emmanuel Macron\", ou \"changement de projet\" entre les deux élections ? Auprès du Figaro, Bernard Accoyer justifie sa démarche : \"nous ne pouvions pas continuer de faire comme si de rien n'était. Nos adhérents veulent s'exprimer. Ils ont beaucoup de choses à dire sur les épreuves que nous avons traversées et il est absolument nécessaire que nous les entendions\". Le secrétaire général des Républicains redoute déjà les querelles internes alors que le parti devra bientôt se choisir un président. Grâce à ce questionnaire, Bernard Accoyer espère \"faire en sorte que la campagne pour la présidence du parti se fasse sur la base d'un débat d'idées et pas d'une compétition de personnes\".\n",
            "Le secrétaire général du parti, cité par le quotidien de droite, souhaite mener \"une réflexion sur nos idées, nos valeurs, notre ligne, sur nos erreurs et sur leurs origines ou sur l'organisation de notre mouvement\". Plusieurs thèmes sont abordés. Les adhérents sont invités à se prononcer sur la coexistence de \"plusieurs sensibilités\" au sein du parti, les priorités qui devraient être celles du parti ou encore ses valeurs. Le parti LR veut également connaître le sentiment de ses adhérents sur l'échec de François Fillon à la présidentielle. Le candidat de la droite a-t-il perdu à cause d'un projet éloigné des \"attentes des Français\", \"du climat des affaires\", \"d'un déficit de pédagogie\", \"d'un manque d'union\" des Républicains ou \"d'un manque d'actions des militants\" ? LES RALLIEMENTS À EMMANUEL MACRON EN CAUSE ? Leur analyse sur l'échec du parti aux élections législatives est aussi requis : \"logique institutionnelle de la Ve République\", \"appel à voter Emmanuel Macron au soir du premier tour\", \"ralliement de personnalités de droite à Emmanuel Macron\", ou \"changement de projet\" entre les deux élections ? Auprès du Figaro, Bernard Accoler justifie sa démarche : \"nous ne pouvions pas continuer de faire comme si de rien n'était. Nos adhérents veulent s'exprimer. Ils ont beaucoup de choses à dire sur les épreuves que nous avons traversées et il est absolument nécessaire que nous les entendions\". Le secrétaire général des Républicains redoute déjà les querelles internes alors que le parti devra bientôt se choisir un président. Grâce à ce questionnaire, Bernard Accoler espère \"faire en sorte que la campagne pour la présidence du parti se fasse sur la base d'un débat d'idées et pas d'une compétition de personnes\".\n",
            "\n",
            "\n"
          ]
        }
      ]
    },
    {
      "cell_type": "markdown",
      "source": [
        "### `c.3.` Conclusions"
      ],
      "metadata": {
        "id": "QyZGj4NMqFDc"
      }
    },
    {
      "cell_type": "markdown",
      "source": [
        "Using `import language_tool_python` yields effective results in grammar correction for the training set. Notable outcomes include:\n",
        "\n",
        "* data i = 10 - add space<br>\n",
        "  - <i>Before</i>: Un membre incontournableEt ce n'est autre<br>\n",
        "  - <i>After</i>: Un membre incontournable Et ce n'est autre<br>\n",
        "\n",
        "* data i = 50 - change words<br>\n",
        "  - <i>Before</i>: jusqu'à ce que les Etats remplissent certaines conditions en matière notamment de respect des droits humains.<br>\n",
        "  - <i>After</i>: jusqu'à ce que les États remplissent certaines conditions en matière particulièrement de respect des droits humains.<br>\n",
        "\n",
        "* data i = 2580 - a little wrong \"du\" -> \"de la\"<br>\n",
        "  - <i>Before</i>: Les trois personnes atteintes du Covid-19 sont prises en charge au centre hospitalier d'Ajaccio<br>\n",
        "  - <i>After</i>: Les trois personnes atteintes de la Covid-19 sont prises en charge au centre hospitalier d'Ajaccio<br>\n",
        "\n",
        "* data i = 10580 - cange to synonyms<br>\n",
        "  - <i>Before</i>: Leur analyse sur l'échec du parti aux élections législatives est également requis<br>\n",
        "  - <i>After</i>: Leur analyse sur l'échec du parti aux élections législatives est aussi requis<br>"
      ],
      "metadata": {
        "id": "tchJ69WBLVcR"
      }
    },
    {
      "cell_type": "markdown",
      "source": [
        "### `c.4.` Applying the function to both the validation set and the test set."
      ],
      "metadata": {
        "id": "SpDbX8ncrmx2"
      }
    },
    {
      "cell_type": "code",
      "source": [
        "## VALIDATION\n",
        "df_validation = pd.read_csv('/content/drive/My Drive/Colab Notebooks/11_DataAI_INF582_TextMining_NLP/Challenge/data/validation.csv')\n",
        "\n",
        "# Apply grammar correction to all news articles in the DataFrame\n",
        "tqdm.pandas()\n",
        "df_validation['text_grammar'] = df_validation['text'].progress_apply(correct_grammar)\n",
        "file_path = \"/content/drive/My Drive/Colab Notebooks/11_DataAI_INF582_TextMining_NLP/Challenge/data/processed/validation_grammar_correction.csv\"\n",
        "df_validation.to_csv(file_path, index=False)\n",
        "print(\"File saved to Google Drive at:\", file_path)"
      ],
      "metadata": {
        "colab": {
          "base_uri": "https://localhost:8080/"
        },
        "id": "EhhfbSfOAavb",
        "outputId": "39527638-dfba-4135-d61c-5404c0bff848"
      },
      "execution_count": null,
      "outputs": [
        {
          "output_type": "stream",
          "name": "stderr",
          "text": [
            "100%|██████████| 1500/1500 [20:28<00:00,  1.22it/s]\n"
          ]
        },
        {
          "output_type": "stream",
          "name": "stdout",
          "text": [
            "File saved to Google Drive at: /content/drive/My Drive/Colab Notebooks/11_DataAI_INF582_TextMining_NLP/Challenge/data/processed/validation_grammar_correction.csv\n"
          ]
        }
      ]
    },
    {
      "cell_type": "code",
      "source": [
        "## TESTING\n",
        "df_test = pd.read_csv('/content/drive/My Drive/Colab Notebooks/11_DataAI_INF582_TextMining_NLP/Challenge/data/test_text.csv')\n",
        "\n",
        "# Apply grammar correction to all news articles in the DataFrame\n",
        "tqdm.pandas()\n",
        "df_test['text_grammar'] = df_test['text'].progress_apply(correct_grammar)\n",
        "file_path = \"/content/drive/My Drive/Colab Notebooks/11_DataAI_INF582_TextMining_NLP/Challenge/data/processed/text_grammar_correction.csv\"\n",
        "df_test.to_csv(file_path, index=False)\n",
        "print(\"File saved to Google Drive at:\", file_path)"
      ],
      "metadata": {
        "colab": {
          "base_uri": "https://localhost:8080/"
        },
        "id": "7ZGPLQjFAOg1",
        "outputId": "823b9c18-51cc-4522-a97f-d8b08f2a8271"
      },
      "execution_count": null,
      "outputs": [
        {
          "output_type": "stream",
          "name": "stderr",
          "text": [
            "100%|██████████| 1500/1500 [21:11<00:00,  1.18it/s]\n"
          ]
        },
        {
          "output_type": "stream",
          "name": "stdout",
          "text": [
            "File saved to Google Drive at: /content/drive/My Drive/Colab Notebooks/11_DataAI_INF582_TextMining_NLP/Challenge/data/processed/text_grammar_correction.csv\n"
          ]
        }
      ]
    }
  ]
}