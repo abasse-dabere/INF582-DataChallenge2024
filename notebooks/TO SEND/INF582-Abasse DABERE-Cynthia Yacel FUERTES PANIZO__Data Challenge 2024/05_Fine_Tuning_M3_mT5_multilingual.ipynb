{
  "cells": [
    {
      "cell_type": "markdown",
      "source": [
        "<center>\n",
        "<h1><br/></h1>\n",
        "<h1>INF 582: Introduction To Text Mining And NLP</h1>\n",
        "<h2>Challenge: News Articles Title Generation</h2>\n",
        "<h3>Notebook: Fine-Tuning the 3rd model: mT5_multilingual_XLSum</h3>\n",
        "<h4>Students Name: <br>\n",
        "<b>DABERE Abasse<br>\n",
        "FUERTES PANIZO Cynthia Yacel</b> </h4>\n",
        "<br>\n",
        "</center>"
      ],
      "metadata": {
        "id": "XfacybfvT6U7"
      }
    },
    {
      "cell_type": "markdown",
      "metadata": {
        "id": "wQnV9jW3JXWc"
      },
      "source": [
        "# `Fine-Tuning mT5_multilingual_XLSum`\n"
      ]
    },
    {
      "cell_type": "code",
      "execution_count": null,
      "metadata": {
        "id": "6K9dUb9-JXWh"
      },
      "outputs": [],
      "source": [
        "MODEL_NAME = 'csebuetnlp/mT5_multilingual_XLSum'"
      ]
    },
    {
      "cell_type": "code",
      "execution_count": null,
      "metadata": {
        "id": "Frjtv_HOJsNg"
      },
      "outputs": [],
      "source": [
        "%pip install -q -U bitsandbytes\n",
        "%pip install -q -U git+https://github.com/huggingface/transformers.git\n",
        "%pip install -q -U git+https://github.com/huggingface/peft.git\n",
        "%pip install -q -U git+https://github.com/huggingface/accelerate.git\n",
        "%pip install -q datasets"
      ]
    },
    {
      "cell_type": "code",
      "execution_count": null,
      "metadata": {
        "id": "OuOlwtYaJXWi",
        "outputId": "44281efb-759e-45f6-8bb1-5e5989e09182"
      },
      "outputs": [
        {
          "name": "stderr",
          "output_type": "stream",
          "text": [
            "/users/eleves-a/2021/abasse.dabere/.local/lib/python3.9/site-packages/tqdm/auto.py:21: TqdmWarning: IProgress not found. Please update jupyter and ipywidgets. See https://ipywidgets.readthedocs.io/en/stable/user_install.html\n",
            "  from .autonotebook import tqdm as notebook_tqdm\n",
            "2024-03-30 18:19:02.904386: I tensorflow/core/util/port.cc:113] oneDNN custom operations are on. You may see slightly different numerical results due to floating-point round-off errors from different computation orders. To turn them off, set the environment variable `TF_ENABLE_ONEDNN_OPTS=0`.\n",
            "2024-03-30 18:19:02.924441: E external/local_xla/xla/stream_executor/cuda/cuda_dnn.cc:9261] Unable to register cuDNN factory: Attempting to register factory for plugin cuDNN when one has already been registered\n",
            "2024-03-30 18:19:02.924470: E external/local_xla/xla/stream_executor/cuda/cuda_fft.cc:607] Unable to register cuFFT factory: Attempting to register factory for plugin cuFFT when one has already been registered\n",
            "2024-03-30 18:19:02.924997: E external/local_xla/xla/stream_executor/cuda/cuda_blas.cc:1515] Unable to register cuBLAS factory: Attempting to register factory for plugin cuBLAS when one has already been registered\n",
            "2024-03-30 18:19:02.928537: I tensorflow/core/platform/cpu_feature_guard.cc:182] This TensorFlow binary is optimized to use available CPU instructions in performance-critical operations.\n",
            "To enable the following instructions: AVX2 AVX_VNNI FMA, in other operations, rebuild TensorFlow with the appropriate compiler flags.\n",
            "2024-03-30 18:19:04.093244: W tensorflow/compiler/tf2tensorrt/utils/py_utils.cc:38] TF-TRT Warning: Could not find TensorRT\n"
          ]
        }
      ],
      "source": [
        "# Libraries for data analysis and visualization\n",
        "import pandas as pd\n",
        "import matplotlib.pyplot as plt\n",
        "import numpy as np\n",
        "import json\n",
        "\n",
        "# Deep learning and natural language processing\n",
        "import torch\n",
        "torch.cuda.empty_cache()  # Clears CUDA cache\n",
        "from transformers import AutoTokenizer, AutoModelForSeq2SeqLM\n",
        "from transformers import T5Tokenizer, T5ForConditionalGeneration\n",
        "from transformers import TrainingArguments, Trainer\n",
        "import datasets\n",
        "\n",
        "# Utilities and text preprocessing\n",
        "from tqdm import tqdm\n",
        "import re\n",
        "\n",
        "# Model evaluation and custom models\n",
        "from rouge_score import rouge_scorer\n",
        "from peft import LoraConfig, TaskType, get_peft_model"
      ]
    },
    {
      "cell_type": "code",
      "execution_count": null,
      "metadata": {
        "id": "iuQd-5yRShMb",
        "outputId": "9ec56e8c-a50c-4295-99dd-407fae87f76f"
      },
      "outputs": [
        {
          "name": "stdout",
          "output_type": "stream",
          "text": [
            "cuda\n"
          ]
        }
      ],
      "source": [
        "device = torch.device('cuda' if torch.cuda.is_available() else 'cpu')\n",
        "print(device)"
      ]
    },
    {
      "cell_type": "code",
      "execution_count": null,
      "metadata": {
        "colab": {
          "base_uri": "https://localhost:8080/",
          "height": 221
        },
        "id": "CFaaiiOMJXWj",
        "outputId": "f75156d2-6081-4da0-ec06-83a20a2fb735"
      },
      "outputs": [
        {
          "name": "stdout",
          "output_type": "stream",
          "text": [
            "Loaded 21401 samples for training\n",
            "Loaded 1500 samples for validation\n",
            "Loaded 1500 samples for testing\n"
          ]
        }
      ],
      "source": [
        "path = 'data/'\n",
        "\n",
        "with_corrected_text = True # Set to True to use the corrected text for training\n",
        "train_path = path + 'train_grammar_correction.csv' if with_corrected_text else path + 'train.csv'\n",
        "\n",
        "train_df = pd.read_csv(train_path)\n",
        "validation_df = pd.read_csv(path + 'validation.csv')\n",
        "test_df = pd.read_csv(path + 'test_text.csv')\n",
        "\n",
        "print(f'Loaded {len(train_df)} samples for training')\n",
        "print(f'Loaded {len(validation_df)} samples for validation')\n",
        "print(f'Loaded {len(test_df)} samples for testing')"
      ]
    },
    {
      "cell_type": "code",
      "execution_count": null,
      "metadata": {
        "id": "zM5Hx-SGShMc"
      },
      "outputs": [],
      "source": [
        "# rouge score\n",
        "scorer = rouge_scorer.RougeScorer(['rougeL'])\n",
        "\n",
        "def calculate_rouge_score(reference, generated):\n",
        "    rouge_score = scorer.score(generated, reference)['rougeL'][2]\n",
        "    return rouge_score"
      ]
    },
    {
      "cell_type": "markdown",
      "metadata": {
        "id": "5OOtgJobWhrU"
      },
      "source": [
        "## `1 Base Model`\n"
      ]
    },
    {
      "cell_type": "code",
      "execution_count": null,
      "metadata": {
        "colab": {
          "base_uri": "https://localhost:8080/",
          "height": 267,
          "referenced_widgets": [
            "da2963786cd0482daa574f75020d745f",
            "bb8fb72f85704780a078a1efd6f6ccf4",
            "832ba68b2458474eb8332724693fb708",
            "01dcccdcb9e1455aa159cc5fdf1e51d6",
            "a6a86a1f878d446c883265b62b33f6cd",
            "0452ee324fc344d7a2740aae53e2544f",
            "4fcae1039a5041b4b840720b4169a109",
            "6a197971309e44c4be35e34de00f04ee",
            "b332d3e98cb646a19133e0e1bf61e3e0",
            "c79aba8bff724970b55fd537213c1858",
            "314d30ecc78141d68c8c2c9d669779f3",
            "c79b1f9205914357ab3f6b15e679bf4e",
            "4099089177604cf89d414ea96644c509",
            "cd47ea1e55ce4b65be2d2dd685ec5dc6",
            "dcac8d45150541d2ab1188c12d74cc8b",
            "694f5108b2e045df806dfc17a9537707",
            "c251662606be4c8f961c1f5b492bf9b5",
            "a5cb42307ea54e21be854c5ba6db7092",
            "8286abbab26846b28742f5658168ec27",
            "aff1f9479e3544dca944a78866ccc005",
            "0a20ef7828e2492f8b03a85fec0559e1",
            "3c3ad9cb68894f8a9f9e64de2ec1d219",
            "748b9b65e92e44bea75b92aacdc74b23",
            "0d93cfc11d2a4a39806428dc8d88a3ca",
            "2961f3a528414fdfa4fb29521c14c223",
            "dab6de4d94124a60bc42ac40a300e471",
            "0c791c5152f94f239ac7a26746daf21d",
            "0f97d49ed5b64ca586d4e51783829951",
            "aacc309412ed44b092e42ac99f509561",
            "1a3221c4790a49b0bd236e0787b6223c",
            "c1d7c98afdd0459aacf405f4e0adfdd6",
            "55d5ac8e7ab44484a88dd9ad7a730803",
            "32394a0bf1a946299cfc60131ec68e83",
            "af77e63c216c4181ab8a946a7f0de2be",
            "07cfd81e28194b8f9e41ba21643331d0",
            "3a4c6e21bae54b679e3b0edb99e0f6ac",
            "12011b23a89247a59b61a458a843c59b",
            "7465c3c857c44cbfa2aa274bf2140aee",
            "e85fa2dc62a24cd2b370b8e431917e62",
            "4dd516964ebe4081afd9d0365c6538ed",
            "003bbee69f9e4e33a7c02ae6a87af78d",
            "1fbd8282104548a68a4d0584a1e5b1fc",
            "c4cfbfbd5b0343af8c65224633e133a7",
            "1400292592464ae5978bd213b17b51f3"
          ]
        },
        "id": "S2c8RCtLJXWk",
        "outputId": "7160fe63-52ba-4394-f503-7bedc61766fc"
      },
      "outputs": [
        {
          "name": "stderr",
          "output_type": "stream",
          "text": [
            "You are using the default legacy behaviour of the <class 'transformers.models.t5.tokenization_t5.T5Tokenizer'>. This is expected, and simply means that the `legacy` (previous) behavior will be used so nothing changes for you. If you want to use the new behaviour, set `legacy=False`. This should only be set if you understand what it means, and thoroughly read the reason why this was added as explained in https://github.com/huggingface/transformers/pull/24565\n",
            "/users/eleves-a/2021/abasse.dabere/.local/lib/python3.9/site-packages/transformers/convert_slow_tokenizer.py:550: UserWarning: The sentencepiece tokenizer that you are converting to a fast tokenizer uses the byte fallback option which is not implemented in the fast tokenizers. In practice this means that the fast version of the tokenizer can produce unknown tokens whereas the sentencepiece version would have converted these unknown tokens into a sequence of byte tokens matching the original piece of text.\n",
            "  warnings.warn(\n",
            "/users/eleves-a/2021/abasse.dabere/.local/lib/python3.9/site-packages/torch/_utils.py:831: UserWarning: TypedStorage is deprecated. It will be removed in the future and UntypedStorage will be the only storage class. This should only matter to you if you are using storages directly.  To access UntypedStorage directly, use tensor.untyped_storage() instead of tensor.storage()\n",
            "  return self.fget.__get__(instance, owner)()\n"
          ]
        }
      ],
      "source": [
        "WHITESPACE_HANDLER = lambda k: re.sub('\\s+', ' ', re.sub('\\n+', ' ', k.strip()))\n",
        "tokenizer = AutoTokenizer.from_pretrained(MODEL_NAME)\n",
        "base_model = AutoModelForSeq2SeqLM.from_pretrained(MODEL_NAME).to(device)"
      ]
    },
    {
      "cell_type": "markdown",
      "metadata": {
        "id": "Kf6SXUJhShMd"
      },
      "source": [
        "## `2 DATA PREPARATION`\n"
      ]
    },
    {
      "cell_type": "code",
      "execution_count": null,
      "metadata": {
        "id": "abUM5pSrShMe"
      },
      "outputs": [],
      "source": [
        "max_text_length = 512\n",
        "max_title_length = 155"
      ]
    },
    {
      "cell_type": "code",
      "execution_count": null,
      "metadata": {
        "id": "XyB800rOJXWl",
        "outputId": "b7863fca-e48a-4117-d3fa-9a23d6f512b8"
      },
      "outputs": [
        {
          "name": "stderr",
          "output_type": "stream",
          "text": [
            "Map: 100%|██████████| 21401/21401 [00:06<00:00, 3429.69 examples/s]\n",
            "Map: 100%|██████████| 1500/1500 [00:00<00:00, 3478.46 examples/s]\n",
            "Map: 100%|██████████| 1500/1500 [00:00<00:00, 3837.90 examples/s]\n"
          ]
        }
      ],
      "source": [
        "def tokenize_function(examples):\n",
        "    tokenizer_inputs = tokenizer(\n",
        "        [WHITESPACE_HANDLER(text) for text in examples['text']],\n",
        "        return_tensors=\"pt\",\n",
        "        padding=\"max_length\",\n",
        "        truncation=True,\n",
        "        max_length=max_text_length,\n",
        "    )\n",
        "    if 'titles' in examples:\n",
        "        tokenizer_inputs['labels'] = tokenizer(\n",
        "            examples['titles'],\n",
        "            return_tensors=\"pt\",\n",
        "            padding=\"max_length\",\n",
        "            truncation=True,\n",
        "            max_length= max_title_length,\n",
        "        )['input_ids']\n",
        "    return tokenizer_inputs\n",
        "\n",
        "# Tokenize the datasets\n",
        "train_dataset = datasets.Dataset.from_pandas(train_df)\n",
        "validation_dataset = datasets.Dataset.from_pandas(validation_df)\n",
        "test_dataset = datasets.Dataset.from_pandas(test_df)\n",
        "\n",
        "train_dataset = train_dataset.map(tokenize_function, batched=True)\n",
        "validation_dataset = validation_dataset.map(tokenize_function, batched=True)\n",
        "test_dataset = test_dataset.map(tokenize_function, batched=True)"
      ]
    },
    {
      "cell_type": "markdown",
      "metadata": {
        "id": "uDRd1icHShMh"
      },
      "source": [
        "## `3 Test the Base Model`\n"
      ]
    },
    {
      "cell_type": "code",
      "execution_count": null,
      "metadata": {
        "id": "gvWNznCGShMi"
      },
      "outputs": [],
      "source": [
        "def generate_titles(model, tokenizer, N=200, batch_size = 8, max_length=64, num_beams=8, no_repeat_ngram_size=4):\n",
        "    # generate titles for train\n",
        "    generated_train_titles = []\n",
        "    for i in tqdm(range(0, N, batch_size)):\n",
        "        batch = train_dataset[i:i+batch_size]\n",
        "        output_ids = model.generate(\n",
        "            input_ids = torch.tensor(batch['input_ids']).to(device),\n",
        "            num_beams= num_beams,\n",
        "            max_length= max_length,\n",
        "            no_repeat_ngram_size= no_repeat_ngram_size,\n",
        "        )\n",
        "        generated_titles = tokenizer.batch_decode(output_ids, skip_special_tokens=True)\n",
        "        generated_train_titles.extend(generated_titles)\n",
        "\n",
        "    # generate titles for validation\n",
        "    generated_validation_titles = []\n",
        "    for i in tqdm(range(0, N, batch_size)):\n",
        "        batch = validation_dataset[i:i+batch_size]\n",
        "        output_ids = model.generate(\n",
        "            input_ids = torch.tensor(batch['input_ids']).to(device),\n",
        "            num_beams= num_beams,\n",
        "            max_length= max_length,\n",
        "            no_repeat_ngram_size= no_repeat_ngram_size,\n",
        "        )\n",
        "        generated_titles = tokenizer.batch_decode(output_ids, skip_special_tokens=True)\n",
        "        generated_validation_titles.extend(generated_titles)\n",
        "\n",
        "    return generated_train_titles, generated_validation_titles\n",
        "\n",
        "def generate_test_titles(model, tokenizer, N=len(test_dataset), batch_size = 8, max_length=64, num_beams=8, no_repeat_ngram_size=4):\n",
        "    # generate titles for test\n",
        "    generated_test_titles = []\n",
        "    for i in tqdm(range(0, N, batch_size)):\n",
        "        batch = test_dataset[i:i+batch_size]\n",
        "        output_ids = model.generate(\n",
        "            input_ids = torch.tensor(batch['input_ids']).to(device),\n",
        "            num_beams= num_beams,\n",
        "            max_length= max_length,\n",
        "            no_repeat_ngram_size= no_repeat_ngram_size,\n",
        "        )\n",
        "        generated_titles = tokenizer.batch_decode(output_ids, skip_special_tokens=True)\n",
        "        generated_test_titles.extend(generated_titles)\n",
        "\n",
        "    return generated_test_titles\n",
        "\n",
        "def calculate_rouge(generated_train_titles, generated_validation_titles):\n",
        "    # rouge score for train\n",
        "    train_rouge_scores = []\n",
        "    N = len(generated_train_titles)\n",
        "    for i in tqdm(range(N)):\n",
        "        rouge_score = calculate_rouge_score(train_df['titles'][i], generated_train_titles[i])\n",
        "        train_rouge_scores.append(rouge_score)\n",
        "    avg_train_rouge_score = sum(train_rouge_scores) / len(train_rouge_scores)\n",
        "\n",
        "    # rouge score for validation\n",
        "    validation_rouge_scores = []\n",
        "    N = len(generated_validation_titles)\n",
        "    for i in tqdm(range(N)):\n",
        "        rouge_score = calculate_rouge_score(validation_df['titles'][i], generated_validation_titles[i])\n",
        "        validation_rouge_scores.append(rouge_score)\n",
        "    avg_validation_rouge_score = sum(validation_rouge_scores) / len(validation_rouge_scores)\n",
        "\n",
        "    return avg_train_rouge_score, avg_validation_rouge_score\n",
        "\n",
        "# Store the generated summaries in the Kaggle-accepted format\n",
        "def generate_submission_df(generated_test_titles):\n",
        "    submission_df = pd.DataFrame({\n",
        "        'ID': test_df['ID'],\n",
        "        'titles': generated_test_titles,\n",
        "    })\n",
        "    submission_df.to_csv('results/' + path.split('/')[0] + '#' + path.split('/')[1] + '#' + path.split('/')[2] + '.csv', index=False)\n",
        "    return submission_df"
      ]
    },
    {
      "cell_type": "code",
      "execution_count": null,
      "metadata": {
        "id": "Wl1a37lTShMj",
        "outputId": "c0a44df5-d1b6-4601-ac6e-b419823e8d22"
      },
      "outputs": [
        {
          "name": "stderr",
          "output_type": "stream",
          "text": [
            "100%|██████████| 25/25 [00:40<00:00,  1.62s/it]\n",
            "100%|██████████| 25/25 [00:42<00:00,  1.69s/it]\n"
          ]
        }
      ],
      "source": [
        "# generate titles for train and validation\n",
        "generated_train_titles, generated_validation_titles = generate_titles(\n",
        "    base_model,\n",
        "    tokenizer,\n",
        "    N=200,\n",
        "    batch_size=8,\n",
        "    max_length=155,\n",
        "    num_beams=4,\n",
        "    no_repeat_ngram_size=4\n",
        ")"
      ]
    },
    {
      "cell_type": "code",
      "execution_count": null,
      "metadata": {
        "id": "7DhRwLAYShMj",
        "outputId": "2ebfa396-4314-44a1-e55f-57ee0747d3d6"
      },
      "outputs": [
        {
          "name": "stderr",
          "output_type": "stream",
          "text": [
            "100%|██████████| 200/200 [00:00<00:00, 6471.39it/s]\n",
            "100%|██████████| 200/200 [00:00<00:00, 6608.33it/s]"
          ]
        },
        {
          "name": "stdout",
          "output_type": "stream",
          "text": [
            "Average Rouge Score for Train: 0.18991898489158873\n",
            "Average Rouge Score for Validation: 0.21462337174256463\n"
          ]
        },
        {
          "name": "stderr",
          "output_type": "stream",
          "text": [
            "\n"
          ]
        }
      ],
      "source": [
        "# calculate rouge score for train and validation\n",
        "avg_train_rouge_score, avg_validation_rouge_score = calculate_rouge(generated_train_titles, generated_validation_titles)\n",
        "\n",
        "print('Average Rouge Score for Train:', avg_train_rouge_score)\n",
        "print('Average Rouge Score for Validation:', avg_validation_rouge_score)"
      ]
    },
    {
      "cell_type": "markdown",
      "metadata": {
        "id": "0sNL92ihJXWm"
      },
      "source": [
        "## `2 PEFT with LORA`\n"
      ]
    },
    {
      "cell_type": "code",
      "execution_count": null,
      "metadata": {
        "id": "AJFE2Q-yShMk"
      },
      "outputs": [],
      "source": [
        "task_type = TaskType.SEQ_2_SEQ_LM\n",
        "lora_rank = 64\n",
        "learning_rate = 1e-3\n",
        "weight_decay = 0.01\n",
        "lora_alpha = 32\n",
        "lora_dropout = 0.1\n",
        "target_modules = ['q', 'k', 'v', 'o']\n",
        "\n",
        "num_epochs = 50\n",
        "batch_size = 8\n",
        "\n",
        "output_dir = f'mT5_multilingual_XLSum/mt{max_text_length}-ms{max_title_length}-lora{lora_rank}' + ('-tgc/' if with_corrected_text else '/')"
      ]
    },
    {
      "cell_type": "code",
      "execution_count": null,
      "metadata": {
        "colab": {
          "base_uri": "https://localhost:8080/"
        },
        "id": "XB40Jh0UJXWn",
        "outputId": "4e853d2e-d42a-4992-ccc1-caab70de5d06"
      },
      "outputs": [
        {
          "name": "stderr",
          "output_type": "stream",
          "text": [
            "huggingface/tokenizers: The current process just got forked, after parallelism has already been used. Disabling parallelism to avoid deadlocks...\n",
            "To disable this warning, you can either:\n",
            "\t- Avoid using `tokenizers` before the fork if possible\n",
            "\t- Explicitly set the environment variable TOKENIZERS_PARALLELISM=(true | false)\n",
            "huggingface/tokenizers: The current process just got forked, after parallelism has already been used. Disabling parallelism to avoid deadlocks...\n",
            "To disable this warning, you can either:\n",
            "\t- Avoid using `tokenizers` before the fork if possible\n",
            "\t- Explicitly set the environment variable TOKENIZERS_PARALLELISM=(true | false)\n"
          ]
        },
        {
          "name": "stdout",
          "output_type": "stream",
          "text": [
            "trainable params: 14,155,776 || all params: 596,557,056 || trainable%: 2.372912340508801\n"
          ]
        }
      ],
      "source": [
        "peft_config = LoraConfig(\n",
        "    task_type=task_type,\n",
        "    inference_mode=False,\n",
        "    target_modules= target_modules,\n",
        "    r= lora_rank,\n",
        "    lora_alpha= lora_alpha,\n",
        "    lora_dropout= lora_dropout,\n",
        "    )\n",
        "\n",
        "peft_model = get_peft_model(base_model, peft_config).to(device)\n",
        "peft_model.print_trainable_parameters()"
      ]
    },
    {
      "cell_type": "code",
      "execution_count": null,
      "metadata": {
        "colab": {
          "base_uri": "https://localhost:8080/"
        },
        "id": "Ez3toQRMJXWn",
        "outputId": "ee36d88d-9800-4a7c-e26f-3681a460483c"
      },
      "outputs": [
        {
          "name": "stderr",
          "output_type": "stream",
          "text": [
            "/users/eleves-a/2021/abasse.dabere/.local/lib/python3.9/site-packages/accelerate/accelerator.py:432: FutureWarning: Passing the following arguments to `Accelerator` is deprecated and will be removed in version 1.0 of Accelerate: dict_keys(['dispatch_batches', 'split_batches', 'even_batches', 'use_seedable_sampler']). Please pass an `accelerate.DataLoaderConfiguration` instead: \n",
            "dataloader_config = DataLoaderConfiguration(dispatch_batches=None, split_batches=False, even_batches=True, use_seedable_sampler=True)\n",
            "  warnings.warn(\n"
          ]
        }
      ],
      "source": [
        "training_args = TrainingArguments(\n",
        "    output_dir=output_dir,\n",
        "    learning_rate=learning_rate,\n",
        "    per_device_train_batch_size=batch_size,\n",
        "    per_device_eval_batch_size=batch_size,\n",
        "    num_train_epochs=num_epochs,\n",
        "    weight_decay=weight_decay,\n",
        "    evaluation_strategy=\"epoch\",\n",
        "    save_strategy=\"epoch\",\n",
        "    load_best_model_at_end=True,\n",
        ")\n",
        "\n",
        "trainer = Trainer(\n",
        "    model=peft_model,\n",
        "    args=training_args,\n",
        "    train_dataset=train_dataset,\n",
        "    eval_dataset=validation_dataset,\n",
        "    tokenizer=tokenizer,\n",
        ")"
      ]
    },
    {
      "cell_type": "markdown",
      "metadata": {
        "id": "yE4T-A4aWhrX"
      },
      "source": [
        "- fine-tune the model\n"
      ]
    },
    {
      "cell_type": "code",
      "execution_count": null,
      "metadata": {
        "id": "2xURoD1UJXWn"
      },
      "outputs": [],
      "source": [
        "# trainer.train()"
      ]
    },
    {
      "cell_type": "code",
      "execution_count": null,
      "metadata": {
        "id": "7ppE6-tDShMl",
        "outputId": "8d95d2cc-d8d6-4c5f-b43d-70ebc2057c5e"
      },
      "outputs": [
        {
          "data": {
            "image/png": "[encoded data removed]",
            "text/plain": [
              "<Figure size 640x480 with 1 Axes>"
            ]
          },
          "metadata": {},
          "output_type": "display_data"
        }
      ],
      "source": [
        "last_checkpoint = # TODO: Set the last checkpoint manually\n",
        "\n",
        "with open(f'{output_dir}checkpoint-{last_checkpoint}/trainer_state.json') as f:\n",
        "    training_state = json.load(f)\n",
        "\n",
        "log_history = training_state['log_history']\n",
        "# plot the training loss and validation loss over the epochs\n",
        "epochs_loss = [(log['epoch'], log['loss']) for log in log_history if 'loss' in log]\n",
        "epochs_val_loss = [(log['epoch'], log['eval_loss']) for log in log_history if 'eval_loss' in log]\n",
        "\n",
        "plt.plot(*zip(*epochs_loss), label='Training Loss')\n",
        "plt.plot(*zip(*epochs_val_loss), label='Validation Loss')\n",
        "plt.xlabel('Epochs')\n",
        "plt.ylabel('Loss')\n",
        "plt.legend()\n",
        "plt.show()"
      ]
    },
    {
      "cell_type": "markdown",
      "metadata": {
        "id": "JJBg7WClWhrX"
      },
      "source": [
        "## `3 Test Fine-Tuned Model`\n"
      ]
    },
    {
      "cell_type": "code",
      "execution_count": null,
      "metadata": {
        "id": "gdFuksWGWhrY"
      },
      "outputs": [],
      "source": [
        "# checkpoint\n",
        "# TODO: Choose a checkpoint manually\n",
        "checkpoint = 21410\n",
        "\n",
        "path_checkpoint = f'{output_dir}checkpoint-{checkpoint}'"
      ]
    },
    {
      "cell_type": "code",
      "execution_count": null,
      "metadata": {
        "id": "uDAQNrQrShMm"
      },
      "outputs": [],
      "source": [
        "checkpoint_model = AutoModelForSeq2SeqLM.from_pretrained(path_checkpoint).to(device)"
      ]
    },
    {
      "cell_type": "code",
      "execution_count": null,
      "metadata": {
        "id": "Etz1HUhcWhrY",
        "outputId": "01d5a42b-0b02-4b75-ca92-3f5e8584c685"
      },
      "outputs": [
        {
          "name": "stderr",
          "output_type": "stream",
          "text": [
            "100%|██████████| 63/63 [02:13<00:00,  2.12s/it]\n",
            "100%|██████████| 63/63 [02:12<00:00,  2.11s/it]\n",
            "100%|██████████| 504/504 [00:00<00:00, 4917.29it/s]\n",
            "100%|██████████| 504/504 [00:00<00:00, 5378.37it/s]"
          ]
        },
        {
          "name": "stdout",
          "output_type": "stream",
          "text": [
            "Average Rouge Score for Train: 0.30885794528728966\n",
            "Average Rouge Score for Validation: 0.2371748842216963\n"
          ]
        },
        {
          "name": "stderr",
          "output_type": "stream",
          "text": [
            "\n"
          ]
        }
      ],
      "source": [
        "# generate titles for train and validation\n",
        "generated_train_titles, generated_validation_titles = generate_titles(\n",
        "    checkpoint_model,\n",
        "    tokenizer,\n",
        "    N=500,\n",
        "    batch_size=8,\n",
        "    max_length=max_title_length,\n",
        "    num_beams=4,\n",
        "    no_repeat_ngram_size=4\n",
        ")\n",
        "\n",
        "# calculate rouge score for train and validation\n",
        "avg_train_rouge_score, avg_validation_rouge_score = calculate_rouge(generated_train_titles, generated_validation_titles)\n",
        "\n",
        "print('Average Rouge Score for Train:', avg_train_rouge_score)\n",
        "print('Average Rouge Score for Validation:', avg_validation_rouge_score)"
      ]
    },
    {
      "cell_type": "code",
      "execution_count": null,
      "metadata": {
        "id": "QQm3wzr1ShMo"
      },
      "outputs": [],
      "source": [
        "# generate titles for test\n",
        "generated_test_titles = generate_test_titles(\n",
        "    checkpoint_model,\n",
        "    tokenizer,\n",
        "    N=len(test_dataset),\n",
        "    batch_size=8,\n",
        "    max_length=max_title_length,\n",
        "    num_beams=4,\n",
        "    no_repeat_ngram_size=4\n",
        ")\n",
        "\n",
        "submission_df = generate_submission_df(generated_test_titles)"
      ]
    },
    {
      "cell_type": "markdown",
      "metadata": {
        "id": "cnIy1HoLShMo"
      },
      "source": [
        "## `4` Continue to fine-tune\n"
      ]
    },
    {
      "cell_type": "code",
      "execution_count": null,
      "metadata": {
        "id": "Jn4oa4ajShMo"
      },
      "outputs": [],
      "source": [
        "# training_args = TrainingArguments(\n",
        "#     output_dir=output_dir,\n",
        "#     learning_rate=learning_rate,\n",
        "#     per_device_train_batch_size=batch_size,\n",
        "#     per_device_eval_batch_size=batch_size,\n",
        "#     num_train_epochs=num_epochs,\n",
        "#     weight_decay=weight_decay,\n",
        "#     evaluation_strategy=\"epoch\",\n",
        "#     save_strategy=\"epoch\",\n",
        "#     load_best_model_at_end=True,\n",
        "#     resume_from_checkpoint= # TODO: resume training from the last checkpoint\n",
        "# )\n",
        "\n",
        "# trainer = Trainer(\n",
        "#     model=peft_model,\n",
        "#     args=training_args,\n",
        "#     train_dataset=train_dataset,\n",
        "#     eval_dataset=validation_dataset,\n",
        "#     tokenizer=tokenizer,\n",
        "# )"
      ]
    },
    {
      "cell_type": "code",
      "execution_count": null,
      "metadata": {
        "id": "Wc1BEAGYShMp"
      },
      "outputs": [],
      "source": [
        "# continue training\n",
        "# trainer.train()"
      ]
    }
  ],
  "metadata": {
    "accelerator": "GPU",
    "colab": {
      "gpuType": "T4",
      "provenance": []
    },
    "kernelspec": {
      "display_name": "Python 3",
      "name": "python3"
    },
    "language_info": {
      "codemirror_mode": {
        "name": "ipython",
        "version": 3
      },
      "file_extension": ".py",
      "mimetype": "text/x-python",
      "name": "python",
      "nbconvert_exporter": "python",
      "pygments_lexer": "ipython3",
      "version": "3.9.18"
    },
    "widgets": {
      "application/vnd.jupyter.widget-state+json": {
        "003bbee69f9e4e33a7c02ae6a87af78d": {
          "model_module": "@jupyter-widgets/base",
          "model_module_version": "1.2.0",
          "model_name": "LayoutModel",
          "state": {
            "_model_module": "@jupyter-widgets/base",
            "_model_module_version": "1.2.0",
            "_model_name": "LayoutModel",
            "_view_count": null,
            "_view_module": "@jupyter-widgets/base",
            "_view_module_version": "1.2.0",
            "_view_name": "LayoutView",
            "align_content": null,
            "align_items": null,
            "align_self": null,
            "border": null,
            "bottom": null,
            "display": null,
            "flex": null,
            "flex_flow": null,
            "grid_area": null,
            "grid_auto_columns": null,
            "grid_auto_flow": null,
            "grid_auto_rows": null,
            "grid_column": null,
            "grid_gap": null,
            "grid_row": null,
            "grid_template_areas": null,
            "grid_template_columns": null,
            "grid_template_rows": null,
            "height": null,
            "justify_content": null,
            "justify_items": null,
            "left": null,
            "margin": null,
            "max_height": null,
            "max_width": null,
            "min_height": null,
            "min_width": null,
            "object_fit": null,
            "object_position": null,
            "order": null,
            "overflow": null,
            "overflow_x": null,
            "overflow_y": null,
            "padding": null,
            "right": null,
            "top": null,
            "visibility": null,
            "width": null
          }
        },
        "01dcccdcb9e1455aa159cc5fdf1e51d6": {
          "model_module": "@jupyter-widgets/controls",
          "model_module_version": "1.5.0",
          "model_name": "HTMLModel",
          "state": {
            "_dom_classes": [],
            "_model_module": "@jupyter-widgets/controls",
            "_model_module_version": "1.5.0",
            "_model_name": "HTMLModel",
            "_view_count": null,
            "_view_module": "@jupyter-widgets/controls",
            "_view_module_version": "1.5.0",
            "_view_name": "HTMLView",
            "description": "",
            "description_tooltip": null,
            "layout": "IPY_MODEL_c79aba8bff724970b55fd537213c1858",
            "placeholder": "​",
            "style": "IPY_MODEL_314d30ecc78141d68c8c2c9d669779f3",
            "value": " 503/503 [00:00&lt;00:00, 32.6kB/s]"
          }
        },
        "0452ee324fc344d7a2740aae53e2544f": {
          "model_module": "@jupyter-widgets/base",
          "model_module_version": "1.2.0",
          "model_name": "LayoutModel",
          "state": {
            "_model_module": "@jupyter-widgets/base",
            "_model_module_version": "1.2.0",
            "_model_name": "LayoutModel",
            "_view_count": null,
            "_view_module": "@jupyter-widgets/base",
            "_view_module_version": "1.2.0",
            "_view_name": "LayoutView",
            "align_content": null,
            "align_items": null,
            "align_self": null,
            "border": null,
            "bottom": null,
            "display": null,
            "flex": null,
            "flex_flow": null,
            "grid_area": null,
            "grid_auto_columns": null,
            "grid_auto_flow": null,
            "grid_auto_rows": null,
            "grid_column": null,
            "grid_gap": null,
            "grid_row": null,
            "grid_template_areas": null,
            "grid_template_columns": null,
            "grid_template_rows": null,
            "height": null,
            "justify_content": null,
            "justify_items": null,
            "left": null,
            "margin": null,
            "max_height": null,
            "max_width": null,
            "min_height": null,
            "min_width": null,
            "object_fit": null,
            "object_position": null,
            "order": null,
            "overflow": null,
            "overflow_x": null,
            "overflow_y": null,
            "padding": null,
            "right": null,
            "top": null,
            "visibility": null,
            "width": null
          }
        },
        "07cfd81e28194b8f9e41ba21643331d0": {
          "model_module": "@jupyter-widgets/controls",
          "model_module_version": "1.5.0",
          "model_name": "HTMLModel",
          "state": {
            "_dom_classes": [],
            "_model_module": "@jupyter-widgets/controls",
            "_model_module_version": "1.5.0",
            "_model_name": "HTMLModel",
            "_view_count": null,
            "_view_module": "@jupyter-widgets/controls",
            "_view_module_version": "1.5.0",
            "_view_name": "HTMLView",
            "description": "",
            "description_tooltip": null,
            "layout": "IPY_MODEL_e85fa2dc62a24cd2b370b8e431917e62",
            "placeholder": "​",
            "style": "IPY_MODEL_4dd516964ebe4081afd9d0365c6538ed",
            "value": "special_tokens_map.json: 100%"
          }
        },
        "0a20ef7828e2492f8b03a85fec0559e1": {
          "model_module": "@jupyter-widgets/base",
          "model_module_version": "1.2.0",
          "model_name": "LayoutModel",
          "state": {
            "_model_module": "@jupyter-widgets/base",
            "_model_module_version": "1.2.0",
            "_model_name": "LayoutModel",
            "_view_count": null,
            "_view_module": "@jupyter-widgets/base",
            "_view_module_version": "1.2.0",
            "_view_name": "LayoutView",
            "align_content": null,
            "align_items": null,
            "align_self": null,
            "border": null,
            "bottom": null,
            "display": null,
            "flex": null,
            "flex_flow": null,
            "grid_area": null,
            "grid_auto_columns": null,
            "grid_auto_flow": null,
            "grid_auto_rows": null,
            "grid_column": null,
            "grid_gap": null,
            "grid_row": null,
            "grid_template_areas": null,
            "grid_template_columns": null,
            "grid_template_rows": null,
            "height": null,
            "justify_content": null,
            "justify_items": null,
            "left": null,
            "margin": null,
            "max_height": null,
            "max_width": null,
            "min_height": null,
            "min_width": null,
            "object_fit": null,
            "object_position": null,
            "order": null,
            "overflow": null,
            "overflow_x": null,
            "overflow_y": null,
            "padding": null,
            "right": null,
            "top": null,
            "visibility": null,
            "width": null
          }
        },
        "0c791c5152f94f239ac7a26746daf21d": {
          "model_module": "@jupyter-widgets/base",
          "model_module_version": "1.2.0",
          "model_name": "LayoutModel",
          "state": {
            "_model_module": "@jupyter-widgets/base",
            "_model_module_version": "1.2.0",
            "_model_name": "LayoutModel",
            "_view_count": null,
            "_view_module": "@jupyter-widgets/base",
            "_view_module_version": "1.2.0",
            "_view_name": "LayoutView",
            "align_content": null,
            "align_items": null,
            "align_self": null,
            "border": null,
            "bottom": null,
            "display": null,
            "flex": null,
            "flex_flow": null,
            "grid_area": null,
            "grid_auto_columns": null,
            "grid_auto_flow": null,
            "grid_auto_rows": null,
            "grid_column": null,
            "grid_gap": null,
            "grid_row": null,
            "grid_template_areas": null,
            "grid_template_columns": null,
            "grid_template_rows": null,
            "height": null,
            "justify_content": null,
            "justify_items": null,
            "left": null,
            "margin": null,
            "max_height": null,
            "max_width": null,
            "min_height": null,
            "min_width": null,
            "object_fit": null,
            "object_position": null,
            "order": null,
            "overflow": null,
            "overflow_x": null,
            "overflow_y": null,
            "padding": null,
            "right": null,
            "top": null,
            "visibility": null,
            "width": null
          }
        },
        "0d93cfc11d2a4a39806428dc8d88a3ca": {
          "model_module": "@jupyter-widgets/controls",
          "model_module_version": "1.5.0",
          "model_name": "HTMLModel",
          "state": {
            "_dom_classes": [],
            "_model_module": "@jupyter-widgets/controls",
            "_model_module_version": "1.5.0",
            "_model_name": "HTMLModel",
            "_view_count": null,
            "_view_module": "@jupyter-widgets/controls",
            "_view_module_version": "1.5.0",
            "_view_name": "HTMLView",
            "description": "",
            "description_tooltip": null,
            "layout": "IPY_MODEL_0f97d49ed5b64ca586d4e51783829951",
            "placeholder": "​",
            "style": "IPY_MODEL_aacc309412ed44b092e42ac99f509561",
            "value": "sentencepiece.bpe.model: 100%"
          }
        },
        "0f97d49ed5b64ca586d4e51783829951": {
          "model_module": "@jupyter-widgets/base",
          "model_module_version": "1.2.0",
          "model_name": "LayoutModel",
          "state": {
            "_model_module": "@jupyter-widgets/base",
            "_model_module_version": "1.2.0",
            "_model_name": "LayoutModel",
            "_view_count": null,
            "_view_module": "@jupyter-widgets/base",
            "_view_module_version": "1.2.0",
            "_view_name": "LayoutView",
            "align_content": null,
            "align_items": null,
            "align_self": null,
            "border": null,
            "bottom": null,
            "display": null,
            "flex": null,
            "flex_flow": null,
            "grid_area": null,
            "grid_auto_columns": null,
            "grid_auto_flow": null,
            "grid_auto_rows": null,
            "grid_column": null,
            "grid_gap": null,
            "grid_row": null,
            "grid_template_areas": null,
            "grid_template_columns": null,
            "grid_template_rows": null,
            "height": null,
            "justify_content": null,
            "justify_items": null,
            "left": null,
            "margin": null,
            "max_height": null,
            "max_width": null,
            "min_height": null,
            "min_width": null,
            "object_fit": null,
            "object_position": null,
            "order": null,
            "overflow": null,
            "overflow_x": null,
            "overflow_y": null,
            "padding": null,
            "right": null,
            "top": null,
            "visibility": null,
            "width": null
          }
        },
        "12011b23a89247a59b61a458a843c59b": {
          "model_module": "@jupyter-widgets/controls",
          "model_module_version": "1.5.0",
          "model_name": "HTMLModel",
          "state": {
            "_dom_classes": [],
            "_model_module": "@jupyter-widgets/controls",
            "_model_module_version": "1.5.0",
            "_model_name": "HTMLModel",
            "_view_count": null,
            "_view_module": "@jupyter-widgets/controls",
            "_view_module_version": "1.5.0",
            "_view_name": "HTMLView",
            "description": "",
            "description_tooltip": null,
            "layout": "IPY_MODEL_c4cfbfbd5b0343af8c65224633e133a7",
            "placeholder": "​",
            "style": "IPY_MODEL_1400292592464ae5978bd213b17b51f3",
            "value": " 649/649 [00:00&lt;00:00, 48.2kB/s]"
          }
        },
        "1400292592464ae5978bd213b17b51f3": {
          "model_module": "@jupyter-widgets/controls",
          "model_module_version": "1.5.0",
          "model_name": "DescriptionStyleModel",
          "state": {
            "_model_module": "@jupyter-widgets/controls",
            "_model_module_version": "1.5.0",
            "_model_name": "DescriptionStyleModel",
            "_view_count": null,
            "_view_module": "@jupyter-widgets/base",
            "_view_module_version": "1.2.0",
            "_view_name": "StyleView",
            "description_width": ""
          }
        },
        "1a3221c4790a49b0bd236e0787b6223c": {
          "model_module": "@jupyter-widgets/base",
          "model_module_version": "1.2.0",
          "model_name": "LayoutModel",
          "state": {
            "_model_module": "@jupyter-widgets/base",
            "_model_module_version": "1.2.0",
            "_model_name": "LayoutModel",
            "_view_count": null,
            "_view_module": "@jupyter-widgets/base",
            "_view_module_version": "1.2.0",
            "_view_name": "LayoutView",
            "align_content": null,
            "align_items": null,
            "align_self": null,
            "border": null,
            "bottom": null,
            "display": null,
            "flex": null,
            "flex_flow": null,
            "grid_area": null,
            "grid_auto_columns": null,
            "grid_auto_flow": null,
            "grid_auto_rows": null,
            "grid_column": null,
            "grid_gap": null,
            "grid_row": null,
            "grid_template_areas": null,
            "grid_template_columns": null,
            "grid_template_rows": null,
            "height": null,
            "justify_content": null,
            "justify_items": null,
            "left": null,
            "margin": null,
            "max_height": null,
            "max_width": null,
            "min_height": null,
            "min_width": null,
            "object_fit": null,
            "object_position": null,
            "order": null,
            "overflow": null,
            "overflow_x": null,
            "overflow_y": null,
            "padding": null,
            "right": null,
            "top": null,
            "visibility": null,
            "width": null
          }
        },
        "1fbd8282104548a68a4d0584a1e5b1fc": {
          "model_module": "@jupyter-widgets/controls",
          "model_module_version": "1.5.0",
          "model_name": "ProgressStyleModel",
          "state": {
            "_model_module": "@jupyter-widgets/controls",
            "_model_module_version": "1.5.0",
            "_model_name": "ProgressStyleModel",
            "_view_count": null,
            "_view_module": "@jupyter-widgets/base",
            "_view_module_version": "1.2.0",
            "_view_name": "StyleView",
            "bar_color": null,
            "description_width": ""
          }
        },
        "2961f3a528414fdfa4fb29521c14c223": {
          "model_module": "@jupyter-widgets/controls",
          "model_module_version": "1.5.0",
          "model_name": "FloatProgressModel",
          "state": {
            "_dom_classes": [],
            "_model_module": "@jupyter-widgets/controls",
            "_model_module_version": "1.5.0",
            "_model_name": "FloatProgressModel",
            "_view_count": null,
            "_view_module": "@jupyter-widgets/controls",
            "_view_module_version": "1.5.0",
            "_view_name": "ProgressView",
            "bar_style": "success",
            "description": "",
            "description_tooltip": null,
            "layout": "IPY_MODEL_1a3221c4790a49b0bd236e0787b6223c",
            "max": 5069051,
            "min": 0,
            "orientation": "horizontal",
            "style": "IPY_MODEL_c1d7c98afdd0459aacf405f4e0adfdd6",
            "value": 5069051
          }
        },
        "314d30ecc78141d68c8c2c9d669779f3": {
          "model_module": "@jupyter-widgets/controls",
          "model_module_version": "1.5.0",
          "model_name": "DescriptionStyleModel",
          "state": {
            "_model_module": "@jupyter-widgets/controls",
            "_model_module_version": "1.5.0",
            "_model_name": "DescriptionStyleModel",
            "_view_count": null,
            "_view_module": "@jupyter-widgets/base",
            "_view_module_version": "1.2.0",
            "_view_name": "StyleView",
            "description_width": ""
          }
        },
        "32394a0bf1a946299cfc60131ec68e83": {
          "model_module": "@jupyter-widgets/controls",
          "model_module_version": "1.5.0",
          "model_name": "DescriptionStyleModel",
          "state": {
            "_model_module": "@jupyter-widgets/controls",
            "_model_module_version": "1.5.0",
            "_model_name": "DescriptionStyleModel",
            "_view_count": null,
            "_view_module": "@jupyter-widgets/base",
            "_view_module_version": "1.2.0",
            "_view_name": "StyleView",
            "description_width": ""
          }
        },
        "3a4c6e21bae54b679e3b0edb99e0f6ac": {
          "model_module": "@jupyter-widgets/controls",
          "model_module_version": "1.5.0",
          "model_name": "FloatProgressModel",
          "state": {
            "_dom_classes": [],
            "_model_module": "@jupyter-widgets/controls",
            "_model_module_version": "1.5.0",
            "_model_name": "FloatProgressModel",
            "_view_count": null,
            "_view_module": "@jupyter-widgets/controls",
            "_view_module_version": "1.5.0",
            "_view_name": "ProgressView",
            "bar_style": "success",
            "description": "",
            "description_tooltip": null,
            "layout": "IPY_MODEL_003bbee69f9e4e33a7c02ae6a87af78d",
            "max": 649,
            "min": 0,
            "orientation": "horizontal",
            "style": "IPY_MODEL_1fbd8282104548a68a4d0584a1e5b1fc",
            "value": 649
          }
        },
        "3c3ad9cb68894f8a9f9e64de2ec1d219": {
          "model_module": "@jupyter-widgets/controls",
          "model_module_version": "1.5.0",
          "model_name": "DescriptionStyleModel",
          "state": {
            "_model_module": "@jupyter-widgets/controls",
            "_model_module_version": "1.5.0",
            "_model_name": "DescriptionStyleModel",
            "_view_count": null,
            "_view_module": "@jupyter-widgets/base",
            "_view_module_version": "1.2.0",
            "_view_name": "StyleView",
            "description_width": ""
          }
        },
        "4099089177604cf89d414ea96644c509": {
          "model_module": "@jupyter-widgets/controls",
          "model_module_version": "1.5.0",
          "model_name": "HTMLModel",
          "state": {
            "_dom_classes": [],
            "_model_module": "@jupyter-widgets/controls",
            "_model_module_version": "1.5.0",
            "_model_name": "HTMLModel",
            "_view_count": null,
            "_view_module": "@jupyter-widgets/controls",
            "_view_module_version": "1.5.0",
            "_view_name": "HTMLView",
            "description": "",
            "description_tooltip": null,
            "layout": "IPY_MODEL_c251662606be4c8f961c1f5b492bf9b5",
            "placeholder": "​",
            "style": "IPY_MODEL_a5cb42307ea54e21be854c5ba6db7092",
            "value": "config.json: 100%"
          }
        },
        "4dd516964ebe4081afd9d0365c6538ed": {
          "model_module": "@jupyter-widgets/controls",
          "model_module_version": "1.5.0",
          "model_name": "DescriptionStyleModel",
          "state": {
            "_model_module": "@jupyter-widgets/controls",
            "_model_module_version": "1.5.0",
            "_model_name": "DescriptionStyleModel",
            "_view_count": null,
            "_view_module": "@jupyter-widgets/base",
            "_view_module_version": "1.2.0",
            "_view_name": "StyleView",
            "description_width": ""
          }
        },
        "4fcae1039a5041b4b840720b4169a109": {
          "model_module": "@jupyter-widgets/controls",
          "model_module_version": "1.5.0",
          "model_name": "DescriptionStyleModel",
          "state": {
            "_model_module": "@jupyter-widgets/controls",
            "_model_module_version": "1.5.0",
            "_model_name": "DescriptionStyleModel",
            "_view_count": null,
            "_view_module": "@jupyter-widgets/base",
            "_view_module_version": "1.2.0",
            "_view_name": "StyleView",
            "description_width": ""
          }
        },
        "55d5ac8e7ab44484a88dd9ad7a730803": {
          "model_module": "@jupyter-widgets/base",
          "model_module_version": "1.2.0",
          "model_name": "LayoutModel",
          "state": {
            "_model_module": "@jupyter-widgets/base",
            "_model_module_version": "1.2.0",
            "_model_name": "LayoutModel",
            "_view_count": null,
            "_view_module": "@jupyter-widgets/base",
            "_view_module_version": "1.2.0",
            "_view_name": "LayoutView",
            "align_content": null,
            "align_items": null,
            "align_self": null,
            "border": null,
            "bottom": null,
            "display": null,
            "flex": null,
            "flex_flow": null,
            "grid_area": null,
            "grid_auto_columns": null,
            "grid_auto_flow": null,
            "grid_auto_rows": null,
            "grid_column": null,
            "grid_gap": null,
            "grid_row": null,
            "grid_template_areas": null,
            "grid_template_columns": null,
            "grid_template_rows": null,
            "height": null,
            "justify_content": null,
            "justify_items": null,
            "left": null,
            "margin": null,
            "max_height": null,
            "max_width": null,
            "min_height": null,
            "min_width": null,
            "object_fit": null,
            "object_position": null,
            "order": null,
            "overflow": null,
            "overflow_x": null,
            "overflow_y": null,
            "padding": null,
            "right": null,
            "top": null,
            "visibility": null,
            "width": null
          }
        },
        "694f5108b2e045df806dfc17a9537707": {
          "model_module": "@jupyter-widgets/base",
          "model_module_version": "1.2.0",
          "model_name": "LayoutModel",
          "state": {
            "_model_module": "@jupyter-widgets/base",
            "_model_module_version": "1.2.0",
            "_model_name": "LayoutModel",
            "_view_count": null,
            "_view_module": "@jupyter-widgets/base",
            "_view_module_version": "1.2.0",
            "_view_name": "LayoutView",
            "align_content": null,
            "align_items": null,
            "align_self": null,
            "border": null,
            "bottom": null,
            "display": null,
            "flex": null,
            "flex_flow": null,
            "grid_area": null,
            "grid_auto_columns": null,
            "grid_auto_flow": null,
            "grid_auto_rows": null,
            "grid_column": null,
            "grid_gap": null,
            "grid_row": null,
            "grid_template_areas": null,
            "grid_template_columns": null,
            "grid_template_rows": null,
            "height": null,
            "justify_content": null,
            "justify_items": null,
            "left": null,
            "margin": null,
            "max_height": null,
            "max_width": null,
            "min_height": null,
            "min_width": null,
            "object_fit": null,
            "object_position": null,
            "order": null,
            "overflow": null,
            "overflow_x": null,
            "overflow_y": null,
            "padding": null,
            "right": null,
            "top": null,
            "visibility": null,
            "width": null
          }
        },
        "6a197971309e44c4be35e34de00f04ee": {
          "model_module": "@jupyter-widgets/base",
          "model_module_version": "1.2.0",
          "model_name": "LayoutModel",
          "state": {
            "_model_module": "@jupyter-widgets/base",
            "_model_module_version": "1.2.0",
            "_model_name": "LayoutModel",
            "_view_count": null,
            "_view_module": "@jupyter-widgets/base",
            "_view_module_version": "1.2.0",
            "_view_name": "LayoutView",
            "align_content": null,
            "align_items": null,
            "align_self": null,
            "border": null,
            "bottom": null,
            "display": null,
            "flex": null,
            "flex_flow": null,
            "grid_area": null,
            "grid_auto_columns": null,
            "grid_auto_flow": null,
            "grid_auto_rows": null,
            "grid_column": null,
            "grid_gap": null,
            "grid_row": null,
            "grid_template_areas": null,
            "grid_template_columns": null,
            "grid_template_rows": null,
            "height": null,
            "justify_content": null,
            "justify_items": null,
            "left": null,
            "margin": null,
            "max_height": null,
            "max_width": null,
            "min_height": null,
            "min_width": null,
            "object_fit": null,
            "object_position": null,
            "order": null,
            "overflow": null,
            "overflow_x": null,
            "overflow_y": null,
            "padding": null,
            "right": null,
            "top": null,
            "visibility": null,
            "width": null
          }
        },
        "7465c3c857c44cbfa2aa274bf2140aee": {
          "model_module": "@jupyter-widgets/base",
          "model_module_version": "1.2.0",
          "model_name": "LayoutModel",
          "state": {
            "_model_module": "@jupyter-widgets/base",
            "_model_module_version": "1.2.0",
            "_model_name": "LayoutModel",
            "_view_count": null,
            "_view_module": "@jupyter-widgets/base",
            "_view_module_version": "1.2.0",
            "_view_name": "LayoutView",
            "align_content": null,
            "align_items": null,
            "align_self": null,
            "border": null,
            "bottom": null,
            "display": null,
            "flex": null,
            "flex_flow": null,
            "grid_area": null,
            "grid_auto_columns": null,
            "grid_auto_flow": null,
            "grid_auto_rows": null,
            "grid_column": null,
            "grid_gap": null,
            "grid_row": null,
            "grid_template_areas": null,
            "grid_template_columns": null,
            "grid_template_rows": null,
            "height": null,
            "justify_content": null,
            "justify_items": null,
            "left": null,
            "margin": null,
            "max_height": null,
            "max_width": null,
            "min_height": null,
            "min_width": null,
            "object_fit": null,
            "object_position": null,
            "order": null,
            "overflow": null,
            "overflow_x": null,
            "overflow_y": null,
            "padding": null,
            "right": null,
            "top": null,
            "visibility": null,
            "width": null
          }
        },
        "748b9b65e92e44bea75b92aacdc74b23": {
          "model_module": "@jupyter-widgets/controls",
          "model_module_version": "1.5.0",
          "model_name": "HBoxModel",
          "state": {
            "_dom_classes": [],
            "_model_module": "@jupyter-widgets/controls",
            "_model_module_version": "1.5.0",
            "_model_name": "HBoxModel",
            "_view_count": null,
            "_view_module": "@jupyter-widgets/controls",
            "_view_module_version": "1.5.0",
            "_view_name": "HBoxView",
            "box_style": "",
            "children": [
              "IPY_MODEL_0d93cfc11d2a4a39806428dc8d88a3ca",
              "IPY_MODEL_2961f3a528414fdfa4fb29521c14c223",
              "IPY_MODEL_dab6de4d94124a60bc42ac40a300e471"
            ],
            "layout": "IPY_MODEL_0c791c5152f94f239ac7a26746daf21d"
          }
        },
        "8286abbab26846b28742f5658168ec27": {
          "model_module": "@jupyter-widgets/base",
          "model_module_version": "1.2.0",
          "model_name": "LayoutModel",
          "state": {
            "_model_module": "@jupyter-widgets/base",
            "_model_module_version": "1.2.0",
            "_model_name": "LayoutModel",
            "_view_count": null,
            "_view_module": "@jupyter-widgets/base",
            "_view_module_version": "1.2.0",
            "_view_name": "LayoutView",
            "align_content": null,
            "align_items": null,
            "align_self": null,
            "border": null,
            "bottom": null,
            "display": null,
            "flex": null,
            "flex_flow": null,
            "grid_area": null,
            "grid_auto_columns": null,
            "grid_auto_flow": null,
            "grid_auto_rows": null,
            "grid_column": null,
            "grid_gap": null,
            "grid_row": null,
            "grid_template_areas": null,
            "grid_template_columns": null,
            "grid_template_rows": null,
            "height": null,
            "justify_content": null,
            "justify_items": null,
            "left": null,
            "margin": null,
            "max_height": null,
            "max_width": null,
            "min_height": null,
            "min_width": null,
            "object_fit": null,
            "object_position": null,
            "order": null,
            "overflow": null,
            "overflow_x": null,
            "overflow_y": null,
            "padding": null,
            "right": null,
            "top": null,
            "visibility": null,
            "width": null
          }
        },
        "832ba68b2458474eb8332724693fb708": {
          "model_module": "@jupyter-widgets/controls",
          "model_module_version": "1.5.0",
          "model_name": "FloatProgressModel",
          "state": {
            "_dom_classes": [],
            "_model_module": "@jupyter-widgets/controls",
            "_model_module_version": "1.5.0",
            "_model_name": "FloatProgressModel",
            "_view_count": null,
            "_view_module": "@jupyter-widgets/controls",
            "_view_module_version": "1.5.0",
            "_view_name": "ProgressView",
            "bar_style": "success",
            "description": "",
            "description_tooltip": null,
            "layout": "IPY_MODEL_6a197971309e44c4be35e34de00f04ee",
            "max": 503,
            "min": 0,
            "orientation": "horizontal",
            "style": "IPY_MODEL_b332d3e98cb646a19133e0e1bf61e3e0",
            "value": 503
          }
        },
        "a5cb42307ea54e21be854c5ba6db7092": {
          "model_module": "@jupyter-widgets/controls",
          "model_module_version": "1.5.0",
          "model_name": "DescriptionStyleModel",
          "state": {
            "_model_module": "@jupyter-widgets/controls",
            "_model_module_version": "1.5.0",
            "_model_name": "DescriptionStyleModel",
            "_view_count": null,
            "_view_module": "@jupyter-widgets/base",
            "_view_module_version": "1.2.0",
            "_view_name": "StyleView",
            "description_width": ""
          }
        },
        "a6a86a1f878d446c883265b62b33f6cd": {
          "model_module": "@jupyter-widgets/base",
          "model_module_version": "1.2.0",
          "model_name": "LayoutModel",
          "state": {
            "_model_module": "@jupyter-widgets/base",
            "_model_module_version": "1.2.0",
            "_model_name": "LayoutModel",
            "_view_count": null,
            "_view_module": "@jupyter-widgets/base",
            "_view_module_version": "1.2.0",
            "_view_name": "LayoutView",
            "align_content": null,
            "align_items": null,
            "align_self": null,
            "border": null,
            "bottom": null,
            "display": null,
            "flex": null,
            "flex_flow": null,
            "grid_area": null,
            "grid_auto_columns": null,
            "grid_auto_flow": null,
            "grid_auto_rows": null,
            "grid_column": null,
            "grid_gap": null,
            "grid_row": null,
            "grid_template_areas": null,
            "grid_template_columns": null,
            "grid_template_rows": null,
            "height": null,
            "justify_content": null,
            "justify_items": null,
            "left": null,
            "margin": null,
            "max_height": null,
            "max_width": null,
            "min_height": null,
            "min_width": null,
            "object_fit": null,
            "object_position": null,
            "order": null,
            "overflow": null,
            "overflow_x": null,
            "overflow_y": null,
            "padding": null,
            "right": null,
            "top": null,
            "visibility": null,
            "width": null
          }
        },
        "aacc309412ed44b092e42ac99f509561": {
          "model_module": "@jupyter-widgets/controls",
          "model_module_version": "1.5.0",
          "model_name": "DescriptionStyleModel",
          "state": {
            "_model_module": "@jupyter-widgets/controls",
            "_model_module_version": "1.5.0",
            "_model_name": "DescriptionStyleModel",
            "_view_count": null,
            "_view_module": "@jupyter-widgets/base",
            "_view_module_version": "1.2.0",
            "_view_name": "StyleView",
            "description_width": ""
          }
        },
        "af77e63c216c4181ab8a946a7f0de2be": {
          "model_module": "@jupyter-widgets/controls",
          "model_module_version": "1.5.0",
          "model_name": "HBoxModel",
          "state": {
            "_dom_classes": [],
            "_model_module": "@jupyter-widgets/controls",
            "_model_module_version": "1.5.0",
            "_model_name": "HBoxModel",
            "_view_count": null,
            "_view_module": "@jupyter-widgets/controls",
            "_view_module_version": "1.5.0",
            "_view_name": "HBoxView",
            "box_style": "",
            "children": [
              "IPY_MODEL_07cfd81e28194b8f9e41ba21643331d0",
              "IPY_MODEL_3a4c6e21bae54b679e3b0edb99e0f6ac",
              "IPY_MODEL_12011b23a89247a59b61a458a843c59b"
            ],
            "layout": "IPY_MODEL_7465c3c857c44cbfa2aa274bf2140aee"
          }
        },
        "aff1f9479e3544dca944a78866ccc005": {
          "model_module": "@jupyter-widgets/controls",
          "model_module_version": "1.5.0",
          "model_name": "ProgressStyleModel",
          "state": {
            "_model_module": "@jupyter-widgets/controls",
            "_model_module_version": "1.5.0",
            "_model_name": "ProgressStyleModel",
            "_view_count": null,
            "_view_module": "@jupyter-widgets/base",
            "_view_module_version": "1.2.0",
            "_view_name": "StyleView",
            "bar_color": null,
            "description_width": ""
          }
        },
        "b332d3e98cb646a19133e0e1bf61e3e0": {
          "model_module": "@jupyter-widgets/controls",
          "model_module_version": "1.5.0",
          "model_name": "ProgressStyleModel",
          "state": {
            "_model_module": "@jupyter-widgets/controls",
            "_model_module_version": "1.5.0",
            "_model_name": "ProgressStyleModel",
            "_view_count": null,
            "_view_module": "@jupyter-widgets/base",
            "_view_module_version": "1.2.0",
            "_view_name": "StyleView",
            "bar_color": null,
            "description_width": ""
          }
        },
        "bb8fb72f85704780a078a1efd6f6ccf4": {
          "model_module": "@jupyter-widgets/controls",
          "model_module_version": "1.5.0",
          "model_name": "HTMLModel",
          "state": {
            "_dom_classes": [],
            "_model_module": "@jupyter-widgets/controls",
            "_model_module_version": "1.5.0",
            "_model_name": "HTMLModel",
            "_view_count": null,
            "_view_module": "@jupyter-widgets/controls",
            "_view_module_version": "1.5.0",
            "_view_name": "HTMLView",
            "description": "",
            "description_tooltip": null,
            "layout": "IPY_MODEL_0452ee324fc344d7a2740aae53e2544f",
            "placeholder": "​",
            "style": "IPY_MODEL_4fcae1039a5041b4b840720b4169a109",
            "value": "tokenizer_config.json: 100%"
          }
        },
        "c1d7c98afdd0459aacf405f4e0adfdd6": {
          "model_module": "@jupyter-widgets/controls",
          "model_module_version": "1.5.0",
          "model_name": "ProgressStyleModel",
          "state": {
            "_model_module": "@jupyter-widgets/controls",
            "_model_module_version": "1.5.0",
            "_model_name": "ProgressStyleModel",
            "_view_count": null,
            "_view_module": "@jupyter-widgets/base",
            "_view_module_version": "1.2.0",
            "_view_name": "StyleView",
            "bar_color": null,
            "description_width": ""
          }
        },
        "c251662606be4c8f961c1f5b492bf9b5": {
          "model_module": "@jupyter-widgets/base",
          "model_module_version": "1.2.0",
          "model_name": "LayoutModel",
          "state": {
            "_model_module": "@jupyter-widgets/base",
            "_model_module_version": "1.2.0",
            "_model_name": "LayoutModel",
            "_view_count": null,
            "_view_module": "@jupyter-widgets/base",
            "_view_module_version": "1.2.0",
            "_view_name": "LayoutView",
            "align_content": null,
            "align_items": null,
            "align_self": null,
            "border": null,
            "bottom": null,
            "display": null,
            "flex": null,
            "flex_flow": null,
            "grid_area": null,
            "grid_auto_columns": null,
            "grid_auto_flow": null,
            "grid_auto_rows": null,
            "grid_column": null,
            "grid_gap": null,
            "grid_row": null,
            "grid_template_areas": null,
            "grid_template_columns": null,
            "grid_template_rows": null,
            "height": null,
            "justify_content": null,
            "justify_items": null,
            "left": null,
            "margin": null,
            "max_height": null,
            "max_width": null,
            "min_height": null,
            "min_width": null,
            "object_fit": null,
            "object_position": null,
            "order": null,
            "overflow": null,
            "overflow_x": null,
            "overflow_y": null,
            "padding": null,
            "right": null,
            "top": null,
            "visibility": null,
            "width": null
          }
        },
        "c4cfbfbd5b0343af8c65224633e133a7": {
          "model_module": "@jupyter-widgets/base",
          "model_module_version": "1.2.0",
          "model_name": "LayoutModel",
          "state": {
            "_model_module": "@jupyter-widgets/base",
            "_model_module_version": "1.2.0",
            "_model_name": "LayoutModel",
            "_view_count": null,
            "_view_module": "@jupyter-widgets/base",
            "_view_module_version": "1.2.0",
            "_view_name": "LayoutView",
            "align_content": null,
            "align_items": null,
            "align_self": null,
            "border": null,
            "bottom": null,
            "display": null,
            "flex": null,
            "flex_flow": null,
            "grid_area": null,
            "grid_auto_columns": null,
            "grid_auto_flow": null,
            "grid_auto_rows": null,
            "grid_column": null,
            "grid_gap": null,
            "grid_row": null,
            "grid_template_areas": null,
            "grid_template_columns": null,
            "grid_template_rows": null,
            "height": null,
            "justify_content": null,
            "justify_items": null,
            "left": null,
            "margin": null,
            "max_height": null,
            "max_width": null,
            "min_height": null,
            "min_width": null,
            "object_fit": null,
            "object_position": null,
            "order": null,
            "overflow": null,
            "overflow_x": null,
            "overflow_y": null,
            "padding": null,
            "right": null,
            "top": null,
            "visibility": null,
            "width": null
          }
        },
        "c79aba8bff724970b55fd537213c1858": {
          "model_module": "@jupyter-widgets/base",
          "model_module_version": "1.2.0",
          "model_name": "LayoutModel",
          "state": {
            "_model_module": "@jupyter-widgets/base",
            "_model_module_version": "1.2.0",
            "_model_name": "LayoutModel",
            "_view_count": null,
            "_view_module": "@jupyter-widgets/base",
            "_view_module_version": "1.2.0",
            "_view_name": "LayoutView",
            "align_content": null,
            "align_items": null,
            "align_self": null,
            "border": null,
            "bottom": null,
            "display": null,
            "flex": null,
            "flex_flow": null,
            "grid_area": null,
            "grid_auto_columns": null,
            "grid_auto_flow": null,
            "grid_auto_rows": null,
            "grid_column": null,
            "grid_gap": null,
            "grid_row": null,
            "grid_template_areas": null,
            "grid_template_columns": null,
            "grid_template_rows": null,
            "height": null,
            "justify_content": null,
            "justify_items": null,
            "left": null,
            "margin": null,
            "max_height": null,
            "max_width": null,
            "min_height": null,
            "min_width": null,
            "object_fit": null,
            "object_position": null,
            "order": null,
            "overflow": null,
            "overflow_x": null,
            "overflow_y": null,
            "padding": null,
            "right": null,
            "top": null,
            "visibility": null,
            "width": null
          }
        },
        "c79b1f9205914357ab3f6b15e679bf4e": {
          "model_module": "@jupyter-widgets/controls",
          "model_module_version": "1.5.0",
          "model_name": "HBoxModel",
          "state": {
            "_dom_classes": [],
            "_model_module": "@jupyter-widgets/controls",
            "_model_module_version": "1.5.0",
            "_model_name": "HBoxModel",
            "_view_count": null,
            "_view_module": "@jupyter-widgets/controls",
            "_view_module_version": "1.5.0",
            "_view_name": "HBoxView",
            "box_style": "",
            "children": [
              "IPY_MODEL_4099089177604cf89d414ea96644c509",
              "IPY_MODEL_cd47ea1e55ce4b65be2d2dd685ec5dc6",
              "IPY_MODEL_dcac8d45150541d2ab1188c12d74cc8b"
            ],
            "layout": "IPY_MODEL_694f5108b2e045df806dfc17a9537707"
          }
        },
        "cd47ea1e55ce4b65be2d2dd685ec5dc6": {
          "model_module": "@jupyter-widgets/controls",
          "model_module_version": "1.5.0",
          "model_name": "FloatProgressModel",
          "state": {
            "_dom_classes": [],
            "_model_module": "@jupyter-widgets/controls",
            "_model_module_version": "1.5.0",
            "_model_name": "FloatProgressModel",
            "_view_count": null,
            "_view_module": "@jupyter-widgets/controls",
            "_view_module_version": "1.5.0",
            "_view_name": "ProgressView",
            "bar_style": "success",
            "description": "",
            "description_tooltip": null,
            "layout": "IPY_MODEL_8286abbab26846b28742f5658168ec27",
            "max": 1357,
            "min": 0,
            "orientation": "horizontal",
            "style": "IPY_MODEL_aff1f9479e3544dca944a78866ccc005",
            "value": 1357
          }
        },
        "da2963786cd0482daa574f75020d745f": {
          "model_module": "@jupyter-widgets/controls",
          "model_module_version": "1.5.0",
          "model_name": "HBoxModel",
          "state": {
            "_dom_classes": [],
            "_model_module": "@jupyter-widgets/controls",
            "_model_module_version": "1.5.0",
            "_model_name": "HBoxModel",
            "_view_count": null,
            "_view_module": "@jupyter-widgets/controls",
            "_view_module_version": "1.5.0",
            "_view_name": "HBoxView",
            "box_style": "",
            "children": [
              "IPY_MODEL_bb8fb72f85704780a078a1efd6f6ccf4",
              "IPY_MODEL_832ba68b2458474eb8332724693fb708",
              "IPY_MODEL_01dcccdcb9e1455aa159cc5fdf1e51d6"
            ],
            "layout": "IPY_MODEL_a6a86a1f878d446c883265b62b33f6cd"
          }
        },
        "dab6de4d94124a60bc42ac40a300e471": {
          "model_module": "@jupyter-widgets/controls",
          "model_module_version": "1.5.0",
          "model_name": "HTMLModel",
          "state": {
            "_dom_classes": [],
            "_model_module": "@jupyter-widgets/controls",
            "_model_module_version": "1.5.0",
            "_model_name": "HTMLModel",
            "_view_count": null,
            "_view_module": "@jupyter-widgets/controls",
            "_view_module_version": "1.5.0",
            "_view_name": "HTMLView",
            "description": "",
            "description_tooltip": null,
            "layout": "IPY_MODEL_55d5ac8e7ab44484a88dd9ad7a730803",
            "placeholder": "​",
            "style": "IPY_MODEL_32394a0bf1a946299cfc60131ec68e83",
            "value": " 5.07M/5.07M [00:00&lt;00:00, 30.7MB/s]"
          }
        },
        "dcac8d45150541d2ab1188c12d74cc8b": {
          "model_module": "@jupyter-widgets/controls",
          "model_module_version": "1.5.0",
          "model_name": "HTMLModel",
          "state": {
            "_dom_classes": [],
            "_model_module": "@jupyter-widgets/controls",
            "_model_module_version": "1.5.0",
            "_model_name": "HTMLModel",
            "_view_count": null,
            "_view_module": "@jupyter-widgets/controls",
            "_view_module_version": "1.5.0",
            "_view_name": "HTMLView",
            "description": "",
            "description_tooltip": null,
            "layout": "IPY_MODEL_0a20ef7828e2492f8b03a85fec0559e1",
            "placeholder": "​",
            "style": "IPY_MODEL_3c3ad9cb68894f8a9f9e64de2ec1d219",
            "value": " 1.36k/1.36k [00:00&lt;00:00, 78.6kB/s]"
          }
        },
        "e85fa2dc62a24cd2b370b8e431917e62": {
          "model_module": "@jupyter-widgets/base",
          "model_module_version": "1.2.0",
          "model_name": "LayoutModel",
          "state": {
            "_model_module": "@jupyter-widgets/base",
            "_model_module_version": "1.2.0",
            "_model_name": "LayoutModel",
            "_view_count": null,
            "_view_module": "@jupyter-widgets/base",
            "_view_module_version": "1.2.0",
            "_view_name": "LayoutView",
            "align_content": null,
            "align_items": null,
            "align_self": null,
            "border": null,
            "bottom": null,
            "display": null,
            "flex": null,
            "flex_flow": null,
            "grid_area": null,
            "grid_auto_columns": null,
            "grid_auto_flow": null,
            "grid_auto_rows": null,
            "grid_column": null,
            "grid_gap": null,
            "grid_row": null,
            "grid_template_areas": null,
            "grid_template_columns": null,
            "grid_template_rows": null,
            "height": null,
            "justify_content": null,
            "justify_items": null,
            "left": null,
            "margin": null,
            "max_height": null,
            "max_width": null,
            "min_height": null,
            "min_width": null,
            "object_fit": null,
            "object_position": null,
            "order": null,
            "overflow": null,
            "overflow_x": null,
            "overflow_y": null,
            "padding": null,
            "right": null,
            "top": null,
            "visibility": null,
            "width": null
          }
        }
      }
    }
  },
  "nbformat": 4,
  "nbformat_minor": 0
}